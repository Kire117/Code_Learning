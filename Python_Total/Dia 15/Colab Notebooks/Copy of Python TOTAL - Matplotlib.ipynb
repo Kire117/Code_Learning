{
 "nbformat": 4,
 "nbformat_minor": 0,
 "metadata": {
  "colab": {
   "provenance": [
    {
     "file_id": "1MX9ee5h_TTEc0HqZA6f6Ns6J4rwReHOH",
     "timestamp": 1713895797258
    }
   ]
  },
  "kernelspec": {
   "name": "python3",
   "display_name": "Python 3"
  },
  "language_info": {
   "name": "python"
  }
 },
 "cells": [
  {
   "cell_type": "markdown",
   "metadata": {
    "id": "qr31M5nlP3co"
   },
   "source": [
    "# Práctica de la librería Matplotlib\n",
    "\n",
    "En este notebook, se desarrollarán una serie de tareas utilizando la librería Matplotlib, empleada para la visualización de datos mediante gráficos.\n",
    "\n",
    "Se proponen y documentan posibles formas de resolver los ejercicios, pero pueden existir varias formas de lograr los mismos resultados.\n",
    "\n",
    "Siempre es una buena idea verificar la [Documentación Oficial de Matplotlib](https://matplotlib.org/stable/index.html), donde es posible encontrar todo tipo de información referida a esta librería. Y si te quedas trabado, busca en Google \"como hacer [algo] con Matplotlib\". Hay enormes probabilidades de que esa pregunta ya haya sido respondida!\n",
    "\n",
    "Por ejemplo, si quieres crear un gráfico con `plt.subplots()`, puedes buscar directamente en Google [`plt.subplots()`](https://www.google.com/search?q=plt.subplots())"
   ]
  },
  {
   "cell_type": "code",
   "metadata": {
    "id": "mDcHbWUdP3ct",
    "executionInfo": {
     "status": "ok",
     "timestamp": 1713896163675,
     "user_tz": 240,
     "elapsed": 317,
     "user": {
      "displayName": "Ovando Perez Erick Alejandro (Alejanlol)",
      "userId": "08614559584126165928"
     }
    }
   },
   "source": [
    "# Importamos el módulo de Matplotlib como plt\n",
    "import matplotlib.pyplot as  plt\n",
    "\n",
    "# La siguiente linea nos permite ver los gráficos directamente al ejecutarlos en el notebook\n",
    "%matplotlib inline"
   ],
   "execution_count": 9,
   "outputs": []
  },
  {
   "cell_type": "code",
   "metadata": {
    "id": "XLDwACHuP3cu",
    "colab": {
     "base_uri": "https://localhost:8080/",
     "height": 448
    },
    "executionInfo": {
     "status": "ok",
     "timestamp": 1713895936976,
     "user_tz": 240,
     "elapsed": 1317,
     "user": {
      "displayName": "Ovando Perez Erick Alejandro (Alejanlol)",
      "userId": "08614559584126165928"
     }
    },
    "outputId": "e9e8f9f0-cb7e-4f1b-ad8b-7a1c0f184779"
   },
   "source": [
    "# Creamos un gráfico utilizando plt.plot()\n",
    "plt.plot()"
   ],
   "execution_count": 3,
   "outputs": []
  },
  {
   "cell_type": "code",
   "metadata": {
    "id": "16RIwCGhP3cv",
    "colab": {
     "base_uri": "https://localhost:8080/",
     "height": 448
    },
    "executionInfo": {
     "status": "ok",
     "timestamp": 1713895976447,
     "user_tz": 240,
     "elapsed": 623,
     "user": {
      "displayName": "Ovando Perez Erick Alejandro (Alejanlol)",
      "userId": "08614559584126165928"
     }
    },
    "outputId": "34e3f4f4-38c8-4462-e006-9d83569c0796"
   },
   "source": [
    "# Graficamos una lista de números\n",
    "a = [1,5,3,8,7,15]\n",
    "plt.plot(a)"
   ],
   "execution_count": 4,
   "outputs": []
  },
  {
   "cell_type": "code",
   "metadata": {
    "id": "ZUjj1-9HP3cw",
    "executionInfo": {
     "status": "ok",
     "timestamp": 1713896064129,
     "user_tz": 240,
     "elapsed": 7,
     "user": {
      "displayName": "Ovando Perez Erick Alejandro (Alejanlol)",
      "userId": "08614559584126165928"
     }
    }
   },
   "source": [
    "# Creamos dos listas, x e y. Llenamos a la lista x de valores del 1 al 100.\n",
    "x = list(range(101))\n",
    "\n",
    "# Los valores de y van a equivaler al cuadrado del respectivo valor en x con el mísmo índice\n",
    "y = []\n",
    "for numero in x:\n",
    "  y.append(numero**2)"
   ],
   "execution_count": 6,
   "outputs": []
  },
  {
   "cell_type": "code",
   "metadata": {
    "id": "iNFj4yz4P3cw",
    "colab": {
     "base_uri": "https://localhost:8080/",
     "height": 448
    },
    "executionInfo": {
     "status": "ok",
     "timestamp": 1713896087066,
     "user_tz": 240,
     "elapsed": 619,
     "user": {
      "displayName": "Ovando Perez Erick Alejandro (Alejanlol)",
      "userId": "08614559584126165928"
     }
    },
    "outputId": "965fcacd-0265-4852-eab1-342db0ad31f7"
   },
   "source": [
    "# Graficamos ambas listas creadas\n",
    "plt.plot(x, y)"
   ],
   "execution_count": 7,
   "outputs": []
  },
  {
   "cell_type": "markdown",
   "metadata": {
    "id": "vLpG8TCeP3cx"
   },
   "source": [
    "Hay otra manera de crear gráficos en Matplotlib, utilizando el método orientado a objetos (OO)."
   ]
  },
  {
   "cell_type": "code",
   "metadata": {
    "id": "TTIxO43NP3cy",
    "colab": {
     "base_uri": "https://localhost:8080/",
     "height": 448
    },
    "executionInfo": {
     "status": "ok",
     "timestamp": 1713896185435,
     "user_tz": 240,
     "elapsed": 556,
     "user": {
      "displayName": "Ovando Perez Erick Alejandro (Alejanlol)",
      "userId": "08614559584126165928"
     }
    },
    "outputId": "08724ba3-2826-431a-e851-ce60ce7f617d"
   },
   "source": [
    "# Creamos el gráfico utilizando plt.subplots()\n",
    "fig, ax = plt.subplots()\n",
    "\n",
    "ax.plot(x,y)"
   ],
   "execution_count": 10,
   "outputs": []
  },
  {
   "cell_type": "markdown",
   "metadata": {
    "id": "lc-1Lx3GP3cz"
   },
   "source": [
    "Veamos cómo sería un flujo de trabajo en Matplotlib"
   ]
  },
  {
   "cell_type": "code",
   "metadata": {
    "id": "IvpWnOISP3c0",
    "colab": {
     "base_uri": "https://localhost:8080/",
     "height": 472
    },
    "executionInfo": {
     "status": "ok",
     "timestamp": 1713896416503,
     "user_tz": 240,
     "elapsed": 1100,
     "user": {
      "displayName": "Ovando Perez Erick Alejandro (Alejanlol)",
      "userId": "08614559584126165928"
     }
    },
    "outputId": "e32b7e59-3ced-4c89-c464-142f7730d6e2"
   },
   "source": [
    "# Importar y preparar la librería\n",
    "import matplotlib.pyplot as plt\n",
    "%matplotlib inline\n",
    "\n",
    "# Preparar los datos\n",
    "x= list(range(101))\n",
    "y=[]\n",
    "for numero in x:\n",
    "  y.append(numero**2)\n",
    "# Preparamos el área del gráfico (fig) y el gráfico en sí (ax) utilizando plt.subplots()\n",
    "fig, ax = plt.subplots()\n",
    "# Añadimos los datos al gráfico\n",
    "ax.plot(x, y)\n",
    "# Personalizamos el gráfico añadiendo título al gráfico y a los ejes x e y\n",
    "ax.set(title='Grafico de casos de covid 2019 en Latam', xlabel='dias', ylabel='casos confirmados')\n",
    "# Guardamos nuestro gráfico empleando fig.savefig()\n",
    "fig.savefig('/ejemplo-grafico-covid.png')"
   ],
   "execution_count": 11,
   "outputs": []
  },
  {
   "cell_type": "markdown",
   "metadata": {
    "id": "mkpcYhLfP3c2"
   },
   "source": [
    "Veamos ahora un gráfico de dispersión:"
   ]
  },
  {
   "cell_type": "code",
   "metadata": {
    "id": "Tlqks01qP3c2",
    "colab": {
     "base_uri": "https://localhost:8080/",
     "height": 448
    },
    "executionInfo": {
     "status": "ok",
     "timestamp": 1713896536013,
     "user_tz": 240,
     "elapsed": 696,
     "user": {
      "displayName": "Ovando Perez Erick Alejandro (Alejanlol)",
      "userId": "08614559584126165928"
     }
    },
    "outputId": "c2086baf-2ff0-46e3-ab3f-4388f2b4ad56"
   },
   "source": [
    "#creamos un nuveo set de datos utilizando la librería Numpy\n",
    "import numpy as np\n",
    "\n",
    "x_1= np.linspace(0,100,20)\n",
    "y_1= x_1**2\n",
    "\n",
    "# Creamos el gráfico de dispersión de x vs y\n",
    "fig, ax = plt.subplots()\n",
    "ax.scatter(x_1, y_1)"
   ],
   "execution_count": 12,
   "outputs": []
  },
  {
   "cell_type": "code",
   "metadata": {
    "id": "SH5ninn9P3c2",
    "colab": {
     "base_uri": "https://localhost:8080/",
     "height": 448
    },
    "executionInfo": {
     "status": "ok",
     "timestamp": 1713896616478,
     "user_tz": 240,
     "elapsed": 931,
     "user": {
      "displayName": "Ovando Perez Erick Alejandro (Alejanlol)",
      "userId": "08614559584126165928"
     }
    },
    "outputId": "92c189db-40d8-4de2-f94e-a99528025145"
   },
   "source": [
    "# Visualizamos ahora la función seno, utilizando np.sin(X)\n",
    "fig, ax =plt.subplots()\n",
    "x_2 = np.linspace(-10, 10, 100)\n",
    "y_2 = np.sin(x_2)\n",
    "ax.scatter(x_2, y_2)"
   ],
   "execution_count": 13,
   "outputs": []
  },
  {
   "cell_type": "markdown",
   "metadata": {
    "id": "fLLEulmbP3c3"
   },
   "source": [
    "Veamos ahora otro tipo de gráfico. Por ejemplo, un gráfico de barras, que por lo general asocia resultados numéricos a variables categóricas (categorías)"
   ]
  },
  {
   "cell_type": "code",
   "metadata": {
    "id": "dNcqaJfBP3c3",
    "executionInfo": {
     "status": "ok",
     "timestamp": 1713897020475,
     "user_tz": 240,
     "elapsed": 309,
     "user": {
      "displayName": "Ovando Perez Erick Alejandro (Alejanlol)",
      "userId": "08614559584126165928"
     }
    }
   },
   "source": [
    "# Creemos un diccionario con tres platos y su respectivo precio\n",
    "# Las claves del diccionario serán los nombres de las comidas, y los valores asociados, su precio\n",
    "comidas = {'lasagna':350, 'sopa':150, 'roast beef':650}"
   ],
   "execution_count": 14,
   "outputs": []
  },
  {
   "cell_type": "code",
   "metadata": {
    "id": "XJDpropyP3c4",
    "colab": {
     "base_uri": "https://localhost:8080/",
     "height": 526
    },
    "executionInfo": {
     "status": "ok",
     "timestamp": 1713897023121,
     "user_tz": 240,
     "elapsed": 605,
     "user": {
      "displayName": "Ovando Perez Erick Alejandro (Alejanlol)",
      "userId": "08614559584126165928"
     }
    },
    "outputId": "e3df1e15-9f81-41aa-ab36-e0c7989d35af"
   },
   "source": [
    "# Crearemos un gráfico de barras donde el eje x está formado por las claves del diccionario,\n",
    "# y el eje y contiene los valores.\n",
    "fig, ax = plt.subplots()\n",
    "ax.bar(comidas.keys(), comidas.values())\n",
    "\n",
    "# Añadimos los títulos correspondientes\n",
    "ax.set(title='Precios de comidas', xlabel= 'Comidas', ylabel='Precios')"
   ],
   "execution_count": 15,
   "outputs": []
  },
  {
   "cell_type": "code",
   "metadata": {
    "id": "b0z5J85yP3c4",
    "colab": {
     "base_uri": "https://localhost:8080/",
     "height": 526
    },
    "executionInfo": {
     "status": "ok",
     "timestamp": 1713897127269,
     "user_tz": 240,
     "elapsed": 523,
     "user": {
      "displayName": "Ovando Perez Erick Alejandro (Alejanlol)",
      "userId": "08614559584126165928"
     }
    },
    "outputId": "7cae4341-4436-4820-f7a7-493e29d60acf"
   },
   "source": [
    "# Probemos a continuación con un gráfico de barras horizontales\n",
    "fig, ax = plt.subplots()\n",
    "ax.barh(list(comidas.keys()), list(comidas.values()))\n",
    "ax.set(title='Precios de comidas', xlabel= 'Precios', ylabel='Comidas')"
   ],
   "execution_count": 16,
   "outputs": []
  },
  {
   "cell_type": "markdown",
   "metadata": {
    "id": "CVZQOB5JP3c4"
   },
   "source": [
    "Un gráfico semejante es un histograma. Podemos generar números aleatorios que siguen una distribución normal (que se acumulan en torno a un valor central), con la función randn:"
   ]
  },
  {
   "cell_type": "code",
   "metadata": {
    "id": "abklUUImP3c4",
    "colab": {
     "base_uri": "https://localhost:8080/",
     "height": 521
    },
    "executionInfo": {
     "status": "ok",
     "timestamp": 1713897186577,
     "user_tz": 240,
     "elapsed": 593,
     "user": {
      "displayName": "Ovando Perez Erick Alejandro (Alejanlol)",
      "userId": "08614559584126165928"
     }
    },
    "outputId": "23189fbd-428c-4dcb-ace0-b16769ab43cb"
   },
   "source": [
    "# Creamos una distribución de 1000 valores aleatorios distribuidos normalmente\n",
    "x = np.random.randn(1000)\n",
    "\n",
    "# Creamos el histograma\n",
    "fig, ax = plt.subplots()\n",
    "ax.hist(x)"
   ],
   "execution_count": 17,
   "outputs": []
  },
  {
   "cell_type": "markdown",
   "metadata": {
    "id": "5fp3x7o-P3c5"
   },
   "source": [
    "Veamos ahora un caso más complejo, trabajando con subplots, o figuras que cotienen varios gráficos:"
   ]
  },
  {
   "cell_type": "code",
   "metadata": {
    "id": "dh8GBQ3SP3c5",
    "colab": {
     "base_uri": "https://localhost:8080/",
     "height": 451
    },
    "executionInfo": {
     "status": "ok",
     "timestamp": 1713897324642,
     "user_tz": 240,
     "elapsed": 1504,
     "user": {
      "displayName": "Ovando Perez Erick Alejandro (Alejanlol)",
      "userId": "08614559584126165928"
     }
    },
    "outputId": "6099c669-3331-49f5-bee9-9f0ab0f3639c"
   },
   "source": [
    "# Creamos una figura con 4 subgráficos (2 por fila)\n",
    "fig, ((ax1,ax2), (ax3,ax4)) = plt.subplots(nrows=2, ncols=2, figsize=(10,5))"
   ],
   "execution_count": 20,
   "outputs": []
  },
  {
   "cell_type": "markdown",
   "metadata": {
    "id": "PcLw421HP3c5"
   },
   "source": [
    "Añadimos datos a cada uno de los gráficos (axes)"
   ]
  },
  {
   "cell_type": "code",
   "metadata": {
    "id": "t6BcjDjkP3c6",
    "colab": {
     "base_uri": "https://localhost:8080/",
     "height": 536
    },
    "executionInfo": {
     "status": "ok",
     "timestamp": 1713897535728,
     "user_tz": 240,
     "elapsed": 1303,
     "user": {
      "displayName": "Ovando Perez Erick Alejandro (Alejanlol)",
      "userId": "08614559584126165928"
     }
    },
    "outputId": "9b5a15be-b0c1-4db4-d3cf-34e6efc4ed05"
   },
   "source": [
    "# Creamos la misma disposición de gráficos, con un tamaño de figura de 10x5\n",
    "\n",
    "fig, ((ax1,ax2), (ax3,ax4)) = plt.subplots(nrows=2, ncols=2, figsize=(10,5))\n",
    "# Para nuestro primer gráfico, tomamos el conjunto x_1, y_1, y generamos un gráfico de líneas\n",
    "ax1.plot(x_1, y_1)\n",
    "\n",
    "# Para nuestro segundo gráfico, tomamos el conjunto x_2, y_2, y generamos un gráfico de dispersión\n",
    "ax2.scatter(x_2, y_2)\n",
    "\n",
    "\n",
    "# Creamos un gráfico con los precios de tres comidas en la esquina inferior izquierda\n",
    "ax3.bar(comidas.keys(), comidas.values())\n",
    "\n",
    "# El gráfico de la esquina inferior derecha será un histograma de valores aleatorios con distribución normal\n",
    "ax4.hist(np.random.randn(1000))\n"
   ],
   "execution_count": 22,
   "outputs": []
  },
  {
   "cell_type": "markdown",
   "metadata": {
    "id": "tufkvgPFP3c-"
   },
   "source": [
    "Matplotlib tiene un conjunto de varios estilos disponibles, podemos verificarlos de la siguiente manera:"
   ]
  },
  {
   "cell_type": "code",
   "metadata": {
    "id": "kjHarWuXP3c-",
    "colab": {
     "base_uri": "https://localhost:8080/"
    },
    "executionInfo": {
     "status": "ok",
     "timestamp": 1713897834116,
     "user_tz": 240,
     "elapsed": 313,
     "user": {
      "displayName": "Ovando Perez Erick Alejandro (Alejanlol)",
      "userId": "08614559584126165928"
     }
    },
    "outputId": "730c94c3-c608-428c-eeb1-cd88778d6540"
   },
   "source": [
    "# Verificamos estilos disponibles\n",
    "plt.style.available"
   ],
   "execution_count": 23,
   "outputs": []
  },
  {
   "cell_type": "code",
   "metadata": {
    "id": "M4YuEuXNP3c_",
    "executionInfo": {
     "status": "ok",
     "timestamp": 1713897899800,
     "user_tz": 240,
     "elapsed": 260,
     "user": {
      "displayName": "Ovando Perez Erick Alejandro (Alejanlol)",
      "userId": "08614559584126165928"
     }
    }
   },
   "source": [
    "# Cambiamos el estilo predeterminado por \"seaborn-whitegrid\"\n",
    "plt.style.use( 'seaborn-v0_8-whitegrid')"
   ],
   "execution_count": 24,
   "outputs": []
  },
  {
   "cell_type": "markdown",
   "metadata": {
    "id": "NHvvSyA3P3c_"
   },
   "source": [
    "Habiendo cambiado el estilo (el cambio más evidente que veremos será una grilla en el fondo de cada gráfico), cambiaremos también los colores de las líneas, puntos y barras en cada uno de los gráficos por códigos hex a nuestra preferencia:\n"
   ]
  },
  {
   "cell_type": "code",
   "metadata": {
    "id": "rOULYF3ajVAn",
    "colab": {
     "base_uri": "https://localhost:8080/",
     "height": 531
    },
    "executionInfo": {
     "status": "ok",
     "timestamp": 1713898088594,
     "user_tz": 240,
     "elapsed": 837,
     "user": {
      "displayName": "Ovando Perez Erick Alejandro (Alejanlol)",
      "userId": "08614559584126165928"
     }
    },
    "outputId": "dac06ac4-609c-405c-dceb-ed4a5489484b"
   },
   "source": [
    "# Copiamos los valores de los gráficos anteriores\n",
    "# Creamos la misma disposición de gráficos, con un tamaño de figura de 10x5\n",
    "fig, ((ax1,ax2), (ax3,ax4)) = plt.subplots(nrows=2, ncols=2, figsize=(10,5))\n",
    "\n",
    "# Para nuestro primer gráfico, tomamos el conjunto x_1, y_1, y generamos un gráfico de líneas\n",
    "ax1.plot(x_1, y_1,color='#fcba03')\n",
    "\n",
    "# Para nuestro segundo gráfico, tomamos el conjunto x_2, y_2, y generamos un gráfico de dispersión\n",
    "ax2.scatter(x_2, y_2,color='#fcba03')\n",
    "\n",
    "# Creamos un gráfico con los precios de tres comidas en la esquina inferior izquierda\n",
    "ax3.bar(comidas.keys(), comidas.values(), color='#03c6fc')\n",
    "\n",
    "# El gráfico de la esquina inferior derecha será un histograma de valores aleatorios con distribución normal\n",
    "ax4.hist(np.random.randn(1000), color='#fc036b')\n"
   ],
   "execution_count": 26,
   "outputs": []
  }
 ]
}

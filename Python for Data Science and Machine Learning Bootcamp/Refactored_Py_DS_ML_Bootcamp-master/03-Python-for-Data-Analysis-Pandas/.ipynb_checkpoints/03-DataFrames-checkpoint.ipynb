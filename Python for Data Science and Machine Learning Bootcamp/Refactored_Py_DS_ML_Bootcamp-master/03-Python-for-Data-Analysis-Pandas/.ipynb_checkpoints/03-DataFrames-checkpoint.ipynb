{
 "cells": [
  {
   "cell_type": "markdown",
   "metadata": {},
   "source": [
    "___\n",
    "\n",
    "<a href='http://www.pieriandata.com'> <img src='../Pierian_Data_Logo.png' /></a>\n",
    "___"
   ]
  },
  {
   "cell_type": "markdown",
   "metadata": {
    "collapsed": true
   },
   "source": [
    "# DataFrames\n",
    "\n",
    "DataFrames are the workhorse of pandas and are directly inspired by the R programming language. We can think of a DataFrame as a bunch of Series objects put together to share the same index. Let's use pandas to explore this topic!"
   ]
  },
  {
   "cell_type": "code",
   "execution_count": 1,
   "metadata": {},
   "source": [
    "import pandas as pd\n",
    "import numpy as np"
   ],
   "outputs": []
  },
  {
   "cell_type": "code",
   "execution_count": 2,
   "metadata": {},
   "source": [
    "from numpy.random import randn\n",
    "np.random.seed(101)"
   ],
   "outputs": []
  },
  {
   "cell_type": "code",
   "execution_count": 3,
   "metadata": {},
   "source": [
    "df = pd.DataFrame(randn(5,4),index='A B C D E'.split(),columns='W X Y Z'.split())"
   ],
   "outputs": []
  },
  {
   "cell_type": "code",
   "execution_count": 4,
   "metadata": {},
   "source": [
    "df"
   ],
   "outputs": []
  },
  {
   "cell_type": "markdown",
   "metadata": {},
   "source": [
    "## Selection and Indexing\n",
    "\n",
    "Let's learn the various methods to grab data from a DataFrame"
   ]
  },
  {
   "cell_type": "code",
   "execution_count": 187,
   "metadata": {},
   "source": [
    "df['W']"
   ],
   "outputs": []
  },
  {
   "cell_type": "code",
   "execution_count": 188,
   "metadata": {},
   "source": [
    "# Pass a list of column names\n",
    "df[['W','Z']]"
   ],
   "outputs": []
  },
  {
   "cell_type": "code",
   "execution_count": 189,
   "metadata": {},
   "source": [
    "# SQL Syntax (NOT RECOMMENDED!)\n",
    "df.W"
   ],
   "outputs": []
  },
  {
   "cell_type": "markdown",
   "metadata": {},
   "source": [
    "DataFrame Columns are just Series"
   ]
  },
  {
   "cell_type": "code",
   "execution_count": 190,
   "metadata": {},
   "source": [
    "type(df['W'])"
   ],
   "outputs": []
  },
  {
   "cell_type": "markdown",
   "metadata": {},
   "source": [
    "**Creating a new column:**"
   ]
  },
  {
   "cell_type": "code",
   "execution_count": 191,
   "metadata": {
    "collapsed": true
   },
   "source": [
    "df['new'] = df['W'] + df['Y']"
   ],
   "outputs": []
  },
  {
   "cell_type": "code",
   "execution_count": 192,
   "metadata": {},
   "source": [
    "df"
   ],
   "outputs": []
  },
  {
   "cell_type": "markdown",
   "metadata": {},
   "source": [
    "** Removing Columns**"
   ]
  },
  {
   "cell_type": "code",
   "execution_count": 193,
   "metadata": {},
   "source": [
    "df.drop('new',axis=1)"
   ],
   "outputs": []
  },
  {
   "cell_type": "code",
   "execution_count": 194,
   "metadata": {},
   "source": [
    "# Not inplace unless specified!\n",
    "df"
   ],
   "outputs": []
  },
  {
   "cell_type": "code",
   "execution_count": 195,
   "metadata": {
    "collapsed": true
   },
   "source": [
    "df.drop('new',axis=1,inplace=True)"
   ],
   "outputs": []
  },
  {
   "cell_type": "code",
   "execution_count": 196,
   "metadata": {},
   "source": [
    "df"
   ],
   "outputs": []
  },
  {
   "cell_type": "markdown",
   "metadata": {},
   "source": [
    "Can also drop rows this way:"
   ]
  },
  {
   "cell_type": "code",
   "execution_count": 197,
   "metadata": {},
   "source": [
    "df.drop('E',axis=0)"
   ],
   "outputs": []
  },
  {
   "cell_type": "markdown",
   "metadata": {},
   "source": [
    "** Selecting Rows**"
   ]
  },
  {
   "cell_type": "code",
   "execution_count": 198,
   "metadata": {},
   "source": [
    "df.loc['A']"
   ],
   "outputs": []
  },
  {
   "cell_type": "markdown",
   "metadata": {},
   "source": [
    "Or select based off of position instead of label "
   ]
  },
  {
   "cell_type": "code",
   "execution_count": 199,
   "metadata": {},
   "source": [
    "df.iloc[2]"
   ],
   "outputs": []
  },
  {
   "cell_type": "markdown",
   "metadata": {},
   "source": [
    "** Selecting subset of rows and columns **"
   ]
  },
  {
   "cell_type": "code",
   "execution_count": 200,
   "metadata": {},
   "source": [
    "df.loc['B','Y']"
   ],
   "outputs": []
  },
  {
   "cell_type": "code",
   "execution_count": 201,
   "metadata": {},
   "source": [
    "df.loc[['A','B'],['W','Y']]"
   ],
   "outputs": []
  },
  {
   "cell_type": "markdown",
   "metadata": {},
   "source": [
    "### Conditional Selection\n",
    "\n",
    "An important feature of pandas is conditional selection using bracket notation, very similar to numpy:"
   ]
  },
  {
   "cell_type": "code",
   "execution_count": 202,
   "metadata": {},
   "source": [
    "df"
   ],
   "outputs": []
  },
  {
   "cell_type": "code",
   "execution_count": 203,
   "metadata": {},
   "source": [
    "df>0"
   ],
   "outputs": []
  },
  {
   "cell_type": "code",
   "execution_count": 204,
   "metadata": {},
   "source": [
    "df[df>0]"
   ],
   "outputs": []
  },
  {
   "cell_type": "code",
   "execution_count": 205,
   "metadata": {},
   "source": [
    "df[df['W']>0]"
   ],
   "outputs": []
  },
  {
   "cell_type": "code",
   "execution_count": 206,
   "metadata": {},
   "source": [
    "df[df['W']>0]['Y']"
   ],
   "outputs": []
  },
  {
   "cell_type": "code",
   "execution_count": 207,
   "metadata": {},
   "source": [
    "df[df['W']>0][['Y','X']]"
   ],
   "outputs": []
  },
  {
   "cell_type": "markdown",
   "metadata": {},
   "source": [
    "For two conditions you can use | and & with parenthesis:"
   ]
  },
  {
   "cell_type": "code",
   "execution_count": 208,
   "metadata": {},
   "source": [
    "df[(df['W']>0) & (df['Y'] > 1)]"
   ],
   "outputs": []
  },
  {
   "cell_type": "markdown",
   "metadata": {},
   "source": [
    "## More Index Details\n",
    "\n",
    "Let's discuss some more features of indexing, including resetting the index or setting it something else. We'll also talk about index hierarchy!"
   ]
  },
  {
   "cell_type": "code",
   "execution_count": 209,
   "metadata": {},
   "source": [
    "df"
   ],
   "outputs": []
  },
  {
   "cell_type": "code",
   "execution_count": 210,
   "metadata": {},
   "source": [
    "# Reset to default 0,1...n index\n",
    "df.reset_index()"
   ],
   "outputs": []
  },
  {
   "cell_type": "code",
   "execution_count": 211,
   "metadata": {
    "collapsed": true
   },
   "source": [
    "newind = 'CA NY WY OR CO'.split()"
   ],
   "outputs": []
  },
  {
   "cell_type": "code",
   "execution_count": 212,
   "metadata": {
    "collapsed": true
   },
   "source": [
    "df['States'] = newind"
   ],
   "outputs": []
  },
  {
   "cell_type": "code",
   "execution_count": 213,
   "metadata": {},
   "source": [
    "df"
   ],
   "outputs": []
  },
  {
   "cell_type": "code",
   "execution_count": 214,
   "metadata": {},
   "source": [
    "df.set_index('States')"
   ],
   "outputs": []
  },
  {
   "cell_type": "code",
   "execution_count": 215,
   "metadata": {},
   "source": [
    "df"
   ],
   "outputs": []
  },
  {
   "cell_type": "code",
   "execution_count": 216,
   "metadata": {
    "collapsed": true
   },
   "source": [
    "df.set_index('States',inplace=True)"
   ],
   "outputs": []
  },
  {
   "cell_type": "code",
   "execution_count": 218,
   "metadata": {},
   "source": [
    "df"
   ],
   "outputs": []
  },
  {
   "cell_type": "markdown",
   "metadata": {},
   "source": [
    "## Multi-Index and Index Hierarchy\n",
    "\n",
    "Let us go over how to work with Multi-Index, first we'll create a quick example of what a Multi-Indexed DataFrame would look like:"
   ]
  },
  {
   "cell_type": "code",
   "execution_count": 253,
   "metadata": {},
   "source": [
    "# Index Levels\n",
    "outside = ['G1','G1','G1','G2','G2','G2']\n",
    "inside = [1,2,3,1,2,3]\n",
    "hier_index = list(zip(outside,inside))\n",
    "hier_index = pd.MultiIndex.from_tuples(hier_index)"
   ],
   "outputs": []
  },
  {
   "cell_type": "code",
   "execution_count": 254,
   "metadata": {},
   "source": [
    "hier_index"
   ],
   "outputs": []
  },
  {
   "cell_type": "code",
   "execution_count": 257,
   "metadata": {},
   "source": [
    "df = pd.DataFrame(np.random.randn(6,2),index=hier_index,columns=['A','B'])\n",
    "df"
   ],
   "outputs": []
  },
  {
   "cell_type": "markdown",
   "metadata": {},
   "source": [
    "Now let's show how to index this! For index hierarchy we use df.loc[], if this was on the columns axis, you would just use normal bracket notation df[]. Calling one level of the index returns the sub-dataframe:"
   ]
  },
  {
   "cell_type": "code",
   "execution_count": 260,
   "metadata": {},
   "source": [
    "df.loc['G1']"
   ],
   "outputs": []
  },
  {
   "cell_type": "code",
   "execution_count": 263,
   "metadata": {},
   "source": [
    "df.loc['G1'].loc[1]"
   ],
   "outputs": []
  },
  {
   "cell_type": "code",
   "execution_count": 265,
   "metadata": {},
   "source": [
    "df.index.names"
   ],
   "outputs": []
  },
  {
   "cell_type": "code",
   "execution_count": 266,
   "metadata": {
    "collapsed": true
   },
   "source": [
    "df.index.names = ['Group','Num']"
   ],
   "outputs": []
  },
  {
   "cell_type": "code",
   "execution_count": 267,
   "metadata": {},
   "source": [
    "df"
   ],
   "outputs": []
  },
  {
   "cell_type": "code",
   "execution_count": 270,
   "metadata": {},
   "source": [
    "df.xs('G1')"
   ],
   "outputs": []
  },
  {
   "cell_type": "code",
   "execution_count": 271,
   "metadata": {},
   "source": [
    "df.xs(['G1',1])"
   ],
   "outputs": []
  },
  {
   "cell_type": "code",
   "execution_count": 273,
   "metadata": {},
   "source": [
    "df.xs(1,level='Num')"
   ],
   "outputs": []
  },
  {
   "cell_type": "markdown",
   "metadata": {},
   "source": [
    "# Great Job!"
   ]
  }
 ],
 "metadata": {
  "kernelspec": {
   "display_name": "Python 3 (ipykernel)",
   "language": "python",
   "name": "python3"
  },
  "language_info": {
   "codemirror_mode": {
    "name": "ipython",
    "version": 3
   },
   "file_extension": ".py",
   "mimetype": "text/x-python",
   "name": "python",
   "nbconvert_exporter": "python",
   "pygments_lexer": "ipython3",
   "version": "3.11.7"
  }
 },
 "nbformat": 4,
 "nbformat_minor": 1
}

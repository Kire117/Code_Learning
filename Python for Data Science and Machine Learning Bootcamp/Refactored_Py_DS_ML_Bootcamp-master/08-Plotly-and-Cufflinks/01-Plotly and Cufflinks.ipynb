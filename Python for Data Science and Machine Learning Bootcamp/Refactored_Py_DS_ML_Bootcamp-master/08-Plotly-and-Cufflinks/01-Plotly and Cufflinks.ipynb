{
 "cells": [
  {
   "cell_type": "markdown",
   "metadata": {},
   "source": [
    "___\n",
    "\n",
    "<a href='http://www.pieriandata.com'> <img src='../Pierian_Data_Logo.png' /></a>\n",
    "___\n",
    "# Plotly and Cufflinks"
   ]
  },
  {
   "cell_type": "markdown",
   "metadata": {},
   "source": [
    "Plotly is a library that allows you to create interactive plots that you can use in dashboards or websites (you can save them as html files or static images).\n",
    "\n",
    "## Installation\n",
    "\n",
    "In order for this all to work, you'll need to install plotly and cufflinks to call plots directly off of a pandas dataframe. These libraries are not currently available through **conda** but are available through **pip**. Install the libraries at your command line/terminal using:\n",
    "\n",
    "    pip install plotly\n",
    "    pip install cufflinks\n",
    "\n",
    "** NOTE: Make sure you only have one installation of Python on your computer when you do this, otherwise the installation may not work. **\n",
    "\n",
    "## Imports and Set-up"
   ]
  },
  {
   "cell_type": "code",
   "execution_count": 15,
   "metadata": {},
   "outputs": [],
   "source": [
    "import pandas as pd\n",
    "import numpy as np\n",
    "%matplotlib inline"
   ]
  },
  {
   "cell_type": "code",
   "execution_count": 16,
   "metadata": {
    "collapsed": false,
    "jupyter": {
     "outputs_hidden": false
    }
   },
   "outputs": [
    {
     "name": "stdout",
     "output_type": "stream",
     "text": [
      "5.9.0\n"
     ]
    }
   ],
   "source": [
    "from plotly import __version__\n",
    "from plotly.offline import download_plotlyjs, init_notebook_mode, plot, iplot\n",
    "\n",
    "print(__version__) # requires version >= 1.9.0"
   ]
  },
  {
   "cell_type": "code",
   "execution_count": 17,
   "metadata": {},
   "outputs": [],
   "source": [
    "import cufflinks as cf"
   ]
  },
  {
   "cell_type": "code",
   "execution_count": 18,
   "metadata": {
    "collapsed": false,
    "jupyter": {
     "outputs_hidden": false
    }
   },
   "outputs": [
    {
     "data": {
      "text/html": [
       "        <script type=\"text/javascript\">\n",
       "        window.PlotlyConfig = {MathJaxConfig: 'local'};\n",
       "        if (window.MathJax && window.MathJax.Hub && window.MathJax.Hub.Config) {window.MathJax.Hub.Config({SVG: {font: \"STIX-Web\"}});}\n",
       "        if (typeof require !== 'undefined') {\n",
       "        require.undef(\"plotly\");\n",
       "        requirejs.config({\n",
       "            paths: {\n",
       "                'plotly': ['https://cdn.plot.ly/plotly-2.12.1.min']\n",
       "            }\n",
       "        });\n",
       "        require(['plotly'], function(Plotly) {\n",
       "            window._Plotly = Plotly;\n",
       "        });\n",
       "        }\n",
       "        </script>\n",
       "        "
      ]
     },
     "metadata": {},
     "output_type": "display_data"
    }
   ],
   "source": [
    "# For Notebooks\n",
    "init_notebook_mode(connected=True)"
   ]
  },
  {
   "cell_type": "code",
   "execution_count": 19,
   "metadata": {
    "collapsed": false,
    "jupyter": {
     "outputs_hidden": false
    }
   },
   "outputs": [
    {
     "data": {
      "text/html": [
       "        <script type=\"text/javascript\">\n",
       "        window.PlotlyConfig = {MathJaxConfig: 'local'};\n",
       "        if (window.MathJax && window.MathJax.Hub && window.MathJax.Hub.Config) {window.MathJax.Hub.Config({SVG: {font: \"STIX-Web\"}});}\n",
       "        if (typeof require !== 'undefined') {\n",
       "        require.undef(\"plotly\");\n",
       "        requirejs.config({\n",
       "            paths: {\n",
       "                'plotly': ['https://cdn.plot.ly/plotly-2.12.1.min']\n",
       "            }\n",
       "        });\n",
       "        require(['plotly'], function(Plotly) {\n",
       "            window._Plotly = Plotly;\n",
       "        });\n",
       "        }\n",
       "        </script>\n",
       "        "
      ]
     },
     "metadata": {},
     "output_type": "display_data"
    }
   ],
   "source": [
    "# For offline use\n",
    "cf.go_offline()"
   ]
  },
  {
   "cell_type": "markdown",
   "metadata": {},
   "source": [
    "### Fake Data"
   ]
  },
  {
   "cell_type": "code",
   "execution_count": 21,
   "metadata": {
    "collapsed": false,
    "jupyter": {
     "outputs_hidden": false
    }
   },
   "outputs": [],
   "source": [
    "df = pd.DataFrame(np.random.randn(100,4),columns='A B C D'.split())"
   ]
  },
  {
   "cell_type": "code",
   "execution_count": 22,
   "metadata": {
    "collapsed": false,
    "jupyter": {
     "outputs_hidden": false
    }
   },
   "outputs": [
    {
     "data": {
      "text/html": [
       "<div>\n",
       "<style scoped>\n",
       "    .dataframe tbody tr th:only-of-type {\n",
       "        vertical-align: middle;\n",
       "    }\n",
       "\n",
       "    .dataframe tbody tr th {\n",
       "        vertical-align: top;\n",
       "    }\n",
       "\n",
       "    .dataframe thead th {\n",
       "        text-align: right;\n",
       "    }\n",
       "</style>\n",
       "<table border=\"1\" class=\"dataframe\">\n",
       "  <thead>\n",
       "    <tr style=\"text-align: right;\">\n",
       "      <th></th>\n",
       "      <th>A</th>\n",
       "      <th>B</th>\n",
       "      <th>C</th>\n",
       "      <th>D</th>\n",
       "    </tr>\n",
       "  </thead>\n",
       "  <tbody>\n",
       "    <tr>\n",
       "      <th>0</th>\n",
       "      <td>0.810278</td>\n",
       "      <td>-0.586783</td>\n",
       "      <td>0.283519</td>\n",
       "      <td>1.099922</td>\n",
       "    </tr>\n",
       "    <tr>\n",
       "      <th>1</th>\n",
       "      <td>-0.625350</td>\n",
       "      <td>-0.076527</td>\n",
       "      <td>1.046079</td>\n",
       "      <td>0.262657</td>\n",
       "    </tr>\n",
       "    <tr>\n",
       "      <th>2</th>\n",
       "      <td>-2.124397</td>\n",
       "      <td>0.236429</td>\n",
       "      <td>2.083545</td>\n",
       "      <td>0.680992</td>\n",
       "    </tr>\n",
       "    <tr>\n",
       "      <th>3</th>\n",
       "      <td>0.720744</td>\n",
       "      <td>-0.614482</td>\n",
       "      <td>-0.295984</td>\n",
       "      <td>0.375684</td>\n",
       "    </tr>\n",
       "    <tr>\n",
       "      <th>4</th>\n",
       "      <td>-0.360648</td>\n",
       "      <td>0.012973</td>\n",
       "      <td>1.604649</td>\n",
       "      <td>-0.048649</td>\n",
       "    </tr>\n",
       "  </tbody>\n",
       "</table>\n",
       "</div>"
      ],
      "text/plain": [
       "          A         B         C         D\n",
       "0  0.810278 -0.586783  0.283519  1.099922\n",
       "1 -0.625350 -0.076527  1.046079  0.262657\n",
       "2 -2.124397  0.236429  2.083545  0.680992\n",
       "3  0.720744 -0.614482 -0.295984  0.375684\n",
       "4 -0.360648  0.012973  1.604649 -0.048649"
      ]
     },
     "execution_count": 22,
     "metadata": {},
     "output_type": "execute_result"
    }
   ],
   "source": [
    "df.head()"
   ]
  },
  {
   "cell_type": "code",
   "execution_count": 23,
   "metadata": {},
   "outputs": [],
   "source": [
    "df2 = pd.DataFrame({'Category':['A','B','C'],'Values':[32,43,50]})"
   ]
  },
  {
   "cell_type": "code",
   "execution_count": 24,
   "metadata": {
    "collapsed": false,
    "jupyter": {
     "outputs_hidden": false
    }
   },
   "outputs": [
    {
     "data": {
      "text/html": [
       "<div>\n",
       "<style scoped>\n",
       "    .dataframe tbody tr th:only-of-type {\n",
       "        vertical-align: middle;\n",
       "    }\n",
       "\n",
       "    .dataframe tbody tr th {\n",
       "        vertical-align: top;\n",
       "    }\n",
       "\n",
       "    .dataframe thead th {\n",
       "        text-align: right;\n",
       "    }\n",
       "</style>\n",
       "<table border=\"1\" class=\"dataframe\">\n",
       "  <thead>\n",
       "    <tr style=\"text-align: right;\">\n",
       "      <th></th>\n",
       "      <th>Category</th>\n",
       "      <th>Values</th>\n",
       "    </tr>\n",
       "  </thead>\n",
       "  <tbody>\n",
       "    <tr>\n",
       "      <th>0</th>\n",
       "      <td>A</td>\n",
       "      <td>32</td>\n",
       "    </tr>\n",
       "    <tr>\n",
       "      <th>1</th>\n",
       "      <td>B</td>\n",
       "      <td>43</td>\n",
       "    </tr>\n",
       "    <tr>\n",
       "      <th>2</th>\n",
       "      <td>C</td>\n",
       "      <td>50</td>\n",
       "    </tr>\n",
       "  </tbody>\n",
       "</table>\n",
       "</div>"
      ],
      "text/plain": [
       "  Category  Values\n",
       "0        A      32\n",
       "1        B      43\n",
       "2        C      50"
      ]
     },
     "execution_count": 24,
     "metadata": {},
     "output_type": "execute_result"
    }
   ],
   "source": [
    "df2.head()"
   ]
  },
  {
   "cell_type": "markdown",
   "metadata": {},
   "source": [
    "## Using Cufflinks and iplot()\n",
    "\n",
    "* scatter\n",
    "* bar\n",
    "* box\n",
    "* spread\n",
    "* ratio\n",
    "* heatmap\n",
    "* surface\n",
    "* histogram\n",
    "* bubble"
   ]
  },
  {
   "cell_type": "markdown",
   "metadata": {},
   "source": [
    "## Scatter"
   ]
  },
  {
   "cell_type": "code",
   "execution_count": 27,
   "metadata": {
    "collapsed": false,
    "jupyter": {
     "outputs_hidden": false
    }
   },
   "outputs": [
    {
     "data": {
      "application/vnd.plotly.v1+json": {
       "config": {
        "linkText": "Export to plot.ly",
        "plotlyServerURL": "https://plot.ly",
        "showLink": true
       },
       "data": [
        {
         "line": {
          "color": "rgba(255, 153, 51, 1.0)",
          "dash": "solid",
          "shape": "linear",
          "width": 1.3
         },
         "marker": {
          "size": 10,
          "symbol": "circle"
         },
         "mode": "markers",
         "name": "B",
         "text": "",
         "type": "scatter",
         "x": [
          0.8102783342500975,
          -0.6253496339817639,
          -2.1243974907659204,
          0.720743963340369,
          -0.36064835386640587,
          0.5759738002613626,
          -0.5408838512778968,
          0.9063815011325167,
          0.14367225921632368,
          0.00026148660293838066,
          0.8467757610440696,
          1.0618325092089878,
          0.6601824163443513,
          -0.48520520012482693,
          0.16871597616384307,
          1.9223052368503024,
          0.9388082883234752,
          0.5088942209079874,
          -0.04230165123367031,
          -0.7526132624711495,
          -0.415041342875489,
          -0.793150586675246,
          -1.3157120016215045,
          -0.3129688528150545,
          -0.33178453177328393,
          0.6738932217934391,
          -0.20852567734951294,
          -0.5355302645486091,
          0.31758960828690674,
          -1.0782016494131208,
          -0.4943059018241482,
          2.3595732177828745,
          -0.8784700471766782,
          -1.566200134991812,
          2.371764508822633,
          0.4656996839084545,
          -0.5979722939647736,
          1.2026987046903905,
          -0.5774282822965877,
          -1.1912118849000355,
          1.1985479855522592,
          0.2620589711638922,
          -0.13955147837889778,
          2.006276192685832,
          -3.0593131305730212,
          -0.3135204450592635,
          0.49172621192557314,
          0.05953014894188452,
          0.5365399611316989,
          0.4195142732653403,
          -0.6770591662178267,
          -0.2436721827521768,
          1.6485546212968694,
          1.0777191974521207,
          -0.8235713648686525,
          1.1428728019017498,
          -1.0679338620343783,
          0.24667409787800906,
          -1.7012725976148813,
          0.3900854386786318,
          -0.0690631840386189,
          2.4425043139920115,
          -1.1018934707019725,
          -1.0725826387263075,
          0.5906422575776665,
          0.9317450123551313,
          -1.1094945245226584,
          -0.13924398333838528,
          0.6423994151056848,
          0.9343018357089617,
          -0.12462754521955423,
          -0.4534461912534964,
          0.3736980081177701,
          0.17323250427614217,
          0.1366559450676414,
          -1.5033057674814936,
          -1.5672884375220335,
          -0.6571575852753471,
          -0.6395666738075189,
          -0.048474604736042155,
          -0.8283140638768075,
          0.5051085347510471,
          -0.07435138461353441,
          0.7054559130856934,
          -0.4452511251612592,
          -1.7403303648604576,
          -0.8504417681382134,
          0.10098301367735862,
          2.9622665316121757,
          1.0923483440863093,
          1.7927479468119651,
          -1.311470384073283,
          0.22374389200951048,
          -0.530987810356002,
          0.11747030791334216,
          -1.6590230098865948,
          0.5041533225812629,
          -0.12948004730523324,
          0.658166074407969,
          -1.0808986418415536
         ],
         "y": [
          -0.5867832721021545,
          -0.07652741634221236,
          0.2364293046163907,
          -0.6144816203385531,
          0.012973345926433438,
          0.140602345064779,
          -1.0030025953938253,
          -1.502643397426585,
          0.5896630453075187,
          -0.21859864301934573,
          2.5606146076852134,
          -0.18445397195904925,
          0.14404944732764993,
          -0.176190196082285,
          -0.1814650597022292,
          -0.6035618716856341,
          -0.2698398063907249,
          -1.3758116421192002,
          -0.2515990561051834,
          -0.1699255313315551,
          1.105332227997531,
          -0.2414537899145735,
          -0.43690638271891863,
          -0.5565581304346296,
          0.6843491271174079,
          1.1144617107002537,
          -0.06617478605366806,
          0.6171150057998764,
          0.161975916590861,
          -0.8025708642901519,
          -1.5703565393095944,
          0.0263166711734827,
          -1.3396342312495948,
          0.31922014067344723,
          0.26769759042412405,
          0.8362426707322204,
          -0.16595514184267424,
          -1.5533523988763758,
          0.9483515326864449,
          0.10852470942154041,
          0.32906720227944375,
          -1.3325573708112333,
          -1.9645959663511439,
          -0.16802540689860643,
          0.13804899488468952,
          0.7199032526152568,
          -0.21241232879081512,
          0.07330227748986475,
          1.0630669830149864,
          -0.3197084203991881,
          -1.1359500413622619,
          -0.9940157702582891,
          0.12171307375231409,
          0.4592175010615597,
          -1.6271043605590056,
          0.09926530472378069,
          -0.8497057898196344,
          -0.096366003868344,
          -0.29323986028178434,
          -1.018009352091211,
          -1.5515627050638126,
          -0.31734504259472124,
          -0.4122652479440936,
          -0.3275919864238932,
          1.8995716489365664,
          -1.150485762145562,
          0.8844241629491068,
          -0.2976620794221025,
          0.4561009509196521,
          2.0577189539348164,
          -1.702448142151754,
          2.341170674518494,
          0.21098368350967794,
          1.2154631421327593,
          -1.9577382001306542,
          0.17362248923315385,
          -0.003360407917770353,
          -0.1523412451921134,
          -0.2530497749244438,
          0.16256186797090352,
          1.9642697933484992,
          0.018391126687528722,
          0.46386388030333103,
          0.7217231778212309,
          -0.17967146823749583,
          -0.6188632969910778,
          0.49843235794522917,
          -2.2834075497398354,
          0.5075191162307787,
          -0.3979350596840527,
          1.808595380141962,
          1.4478435911085978,
          1.9847189806152126,
          -0.6006060868037226,
          -0.11305146669809568,
          -1.9931225359407287,
          1.1157025234863016,
          -1.4374819486724126,
          -0.5043842729131363,
          1.037573710316617
         ]
        }
       ],
       "layout": {
        "autosize": true,
        "legend": {
         "bgcolor": "#F5F6F9",
         "font": {
          "color": "#4D5663"
         }
        },
        "paper_bgcolor": "#F5F6F9",
        "plot_bgcolor": "#F5F6F9",
        "template": {
         "data": {
          "bar": [
           {
            "error_x": {
             "color": "#2a3f5f"
            },
            "error_y": {
             "color": "#2a3f5f"
            },
            "marker": {
             "line": {
              "color": "#E5ECF6",
              "width": 0.5
             },
             "pattern": {
              "fillmode": "overlay",
              "size": 10,
              "solidity": 0.2
             }
            },
            "type": "bar"
           }
          ],
          "barpolar": [
           {
            "marker": {
             "line": {
              "color": "#E5ECF6",
              "width": 0.5
             },
             "pattern": {
              "fillmode": "overlay",
              "size": 10,
              "solidity": 0.2
             }
            },
            "type": "barpolar"
           }
          ],
          "carpet": [
           {
            "aaxis": {
             "endlinecolor": "#2a3f5f",
             "gridcolor": "white",
             "linecolor": "white",
             "minorgridcolor": "white",
             "startlinecolor": "#2a3f5f"
            },
            "baxis": {
             "endlinecolor": "#2a3f5f",
             "gridcolor": "white",
             "linecolor": "white",
             "minorgridcolor": "white",
             "startlinecolor": "#2a3f5f"
            },
            "type": "carpet"
           }
          ],
          "choropleth": [
           {
            "colorbar": {
             "outlinewidth": 0,
             "ticks": ""
            },
            "type": "choropleth"
           }
          ],
          "contour": [
           {
            "colorbar": {
             "outlinewidth": 0,
             "ticks": ""
            },
            "colorscale": [
             [
              0,
              "#0d0887"
             ],
             [
              0.1111111111111111,
              "#46039f"
             ],
             [
              0.2222222222222222,
              "#7201a8"
             ],
             [
              0.3333333333333333,
              "#9c179e"
             ],
             [
              0.4444444444444444,
              "#bd3786"
             ],
             [
              0.5555555555555556,
              "#d8576b"
             ],
             [
              0.6666666666666666,
              "#ed7953"
             ],
             [
              0.7777777777777778,
              "#fb9f3a"
             ],
             [
              0.8888888888888888,
              "#fdca26"
             ],
             [
              1,
              "#f0f921"
             ]
            ],
            "type": "contour"
           }
          ],
          "contourcarpet": [
           {
            "colorbar": {
             "outlinewidth": 0,
             "ticks": ""
            },
            "type": "contourcarpet"
           }
          ],
          "heatmap": [
           {
            "colorbar": {
             "outlinewidth": 0,
             "ticks": ""
            },
            "colorscale": [
             [
              0,
              "#0d0887"
             ],
             [
              0.1111111111111111,
              "#46039f"
             ],
             [
              0.2222222222222222,
              "#7201a8"
             ],
             [
              0.3333333333333333,
              "#9c179e"
             ],
             [
              0.4444444444444444,
              "#bd3786"
             ],
             [
              0.5555555555555556,
              "#d8576b"
             ],
             [
              0.6666666666666666,
              "#ed7953"
             ],
             [
              0.7777777777777778,
              "#fb9f3a"
             ],
             [
              0.8888888888888888,
              "#fdca26"
             ],
             [
              1,
              "#f0f921"
             ]
            ],
            "type": "heatmap"
           }
          ],
          "heatmapgl": [
           {
            "colorbar": {
             "outlinewidth": 0,
             "ticks": ""
            },
            "colorscale": [
             [
              0,
              "#0d0887"
             ],
             [
              0.1111111111111111,
              "#46039f"
             ],
             [
              0.2222222222222222,
              "#7201a8"
             ],
             [
              0.3333333333333333,
              "#9c179e"
             ],
             [
              0.4444444444444444,
              "#bd3786"
             ],
             [
              0.5555555555555556,
              "#d8576b"
             ],
             [
              0.6666666666666666,
              "#ed7953"
             ],
             [
              0.7777777777777778,
              "#fb9f3a"
             ],
             [
              0.8888888888888888,
              "#fdca26"
             ],
             [
              1,
              "#f0f921"
             ]
            ],
            "type": "heatmapgl"
           }
          ],
          "histogram": [
           {
            "marker": {
             "pattern": {
              "fillmode": "overlay",
              "size": 10,
              "solidity": 0.2
             }
            },
            "type": "histogram"
           }
          ],
          "histogram2d": [
           {
            "colorbar": {
             "outlinewidth": 0,
             "ticks": ""
            },
            "colorscale": [
             [
              0,
              "#0d0887"
             ],
             [
              0.1111111111111111,
              "#46039f"
             ],
             [
              0.2222222222222222,
              "#7201a8"
             ],
             [
              0.3333333333333333,
              "#9c179e"
             ],
             [
              0.4444444444444444,
              "#bd3786"
             ],
             [
              0.5555555555555556,
              "#d8576b"
             ],
             [
              0.6666666666666666,
              "#ed7953"
             ],
             [
              0.7777777777777778,
              "#fb9f3a"
             ],
             [
              0.8888888888888888,
              "#fdca26"
             ],
             [
              1,
              "#f0f921"
             ]
            ],
            "type": "histogram2d"
           }
          ],
          "histogram2dcontour": [
           {
            "colorbar": {
             "outlinewidth": 0,
             "ticks": ""
            },
            "colorscale": [
             [
              0,
              "#0d0887"
             ],
             [
              0.1111111111111111,
              "#46039f"
             ],
             [
              0.2222222222222222,
              "#7201a8"
             ],
             [
              0.3333333333333333,
              "#9c179e"
             ],
             [
              0.4444444444444444,
              "#bd3786"
             ],
             [
              0.5555555555555556,
              "#d8576b"
             ],
             [
              0.6666666666666666,
              "#ed7953"
             ],
             [
              0.7777777777777778,
              "#fb9f3a"
             ],
             [
              0.8888888888888888,
              "#fdca26"
             ],
             [
              1,
              "#f0f921"
             ]
            ],
            "type": "histogram2dcontour"
           }
          ],
          "mesh3d": [
           {
            "colorbar": {
             "outlinewidth": 0,
             "ticks": ""
            },
            "type": "mesh3d"
           }
          ],
          "parcoords": [
           {
            "line": {
             "colorbar": {
              "outlinewidth": 0,
              "ticks": ""
             }
            },
            "type": "parcoords"
           }
          ],
          "pie": [
           {
            "automargin": true,
            "type": "pie"
           }
          ],
          "scatter": [
           {
            "fillpattern": {
             "fillmode": "overlay",
             "size": 10,
             "solidity": 0.2
            },
            "type": "scatter"
           }
          ],
          "scatter3d": [
           {
            "line": {
             "colorbar": {
              "outlinewidth": 0,
              "ticks": ""
             }
            },
            "marker": {
             "colorbar": {
              "outlinewidth": 0,
              "ticks": ""
             }
            },
            "type": "scatter3d"
           }
          ],
          "scattercarpet": [
           {
            "marker": {
             "colorbar": {
              "outlinewidth": 0,
              "ticks": ""
             }
            },
            "type": "scattercarpet"
           }
          ],
          "scattergeo": [
           {
            "marker": {
             "colorbar": {
              "outlinewidth": 0,
              "ticks": ""
             }
            },
            "type": "scattergeo"
           }
          ],
          "scattergl": [
           {
            "marker": {
             "colorbar": {
              "outlinewidth": 0,
              "ticks": ""
             }
            },
            "type": "scattergl"
           }
          ],
          "scattermapbox": [
           {
            "marker": {
             "colorbar": {
              "outlinewidth": 0,
              "ticks": ""
             }
            },
            "type": "scattermapbox"
           }
          ],
          "scatterpolar": [
           {
            "marker": {
             "colorbar": {
              "outlinewidth": 0,
              "ticks": ""
             }
            },
            "type": "scatterpolar"
           }
          ],
          "scatterpolargl": [
           {
            "marker": {
             "colorbar": {
              "outlinewidth": 0,
              "ticks": ""
             }
            },
            "type": "scatterpolargl"
           }
          ],
          "scatterternary": [
           {
            "marker": {
             "colorbar": {
              "outlinewidth": 0,
              "ticks": ""
             }
            },
            "type": "scatterternary"
           }
          ],
          "surface": [
           {
            "colorbar": {
             "outlinewidth": 0,
             "ticks": ""
            },
            "colorscale": [
             [
              0,
              "#0d0887"
             ],
             [
              0.1111111111111111,
              "#46039f"
             ],
             [
              0.2222222222222222,
              "#7201a8"
             ],
             [
              0.3333333333333333,
              "#9c179e"
             ],
             [
              0.4444444444444444,
              "#bd3786"
             ],
             [
              0.5555555555555556,
              "#d8576b"
             ],
             [
              0.6666666666666666,
              "#ed7953"
             ],
             [
              0.7777777777777778,
              "#fb9f3a"
             ],
             [
              0.8888888888888888,
              "#fdca26"
             ],
             [
              1,
              "#f0f921"
             ]
            ],
            "type": "surface"
           }
          ],
          "table": [
           {
            "cells": {
             "fill": {
              "color": "#EBF0F8"
             },
             "line": {
              "color": "white"
             }
            },
            "header": {
             "fill": {
              "color": "#C8D4E3"
             },
             "line": {
              "color": "white"
             }
            },
            "type": "table"
           }
          ]
         },
         "layout": {
          "annotationdefaults": {
           "arrowcolor": "#2a3f5f",
           "arrowhead": 0,
           "arrowwidth": 1
          },
          "autotypenumbers": "strict",
          "coloraxis": {
           "colorbar": {
            "outlinewidth": 0,
            "ticks": ""
           }
          },
          "colorscale": {
           "diverging": [
            [
             0,
             "#8e0152"
            ],
            [
             0.1,
             "#c51b7d"
            ],
            [
             0.2,
             "#de77ae"
            ],
            [
             0.3,
             "#f1b6da"
            ],
            [
             0.4,
             "#fde0ef"
            ],
            [
             0.5,
             "#f7f7f7"
            ],
            [
             0.6,
             "#e6f5d0"
            ],
            [
             0.7,
             "#b8e186"
            ],
            [
             0.8,
             "#7fbc41"
            ],
            [
             0.9,
             "#4d9221"
            ],
            [
             1,
             "#276419"
            ]
           ],
           "sequential": [
            [
             0,
             "#0d0887"
            ],
            [
             0.1111111111111111,
             "#46039f"
            ],
            [
             0.2222222222222222,
             "#7201a8"
            ],
            [
             0.3333333333333333,
             "#9c179e"
            ],
            [
             0.4444444444444444,
             "#bd3786"
            ],
            [
             0.5555555555555556,
             "#d8576b"
            ],
            [
             0.6666666666666666,
             "#ed7953"
            ],
            [
             0.7777777777777778,
             "#fb9f3a"
            ],
            [
             0.8888888888888888,
             "#fdca26"
            ],
            [
             1,
             "#f0f921"
            ]
           ],
           "sequentialminus": [
            [
             0,
             "#0d0887"
            ],
            [
             0.1111111111111111,
             "#46039f"
            ],
            [
             0.2222222222222222,
             "#7201a8"
            ],
            [
             0.3333333333333333,
             "#9c179e"
            ],
            [
             0.4444444444444444,
             "#bd3786"
            ],
            [
             0.5555555555555556,
             "#d8576b"
            ],
            [
             0.6666666666666666,
             "#ed7953"
            ],
            [
             0.7777777777777778,
             "#fb9f3a"
            ],
            [
             0.8888888888888888,
             "#fdca26"
            ],
            [
             1,
             "#f0f921"
            ]
           ]
          },
          "colorway": [
           "#636efa",
           "#EF553B",
           "#00cc96",
           "#ab63fa",
           "#FFA15A",
           "#19d3f3",
           "#FF6692",
           "#B6E880",
           "#FF97FF",
           "#FECB52"
          ],
          "font": {
           "color": "#2a3f5f"
          },
          "geo": {
           "bgcolor": "white",
           "lakecolor": "white",
           "landcolor": "#E5ECF6",
           "showlakes": true,
           "showland": true,
           "subunitcolor": "white"
          },
          "hoverlabel": {
           "align": "left"
          },
          "hovermode": "closest",
          "mapbox": {
           "style": "light"
          },
          "paper_bgcolor": "white",
          "plot_bgcolor": "#E5ECF6",
          "polar": {
           "angularaxis": {
            "gridcolor": "white",
            "linecolor": "white",
            "ticks": ""
           },
           "bgcolor": "#E5ECF6",
           "radialaxis": {
            "gridcolor": "white",
            "linecolor": "white",
            "ticks": ""
           }
          },
          "scene": {
           "xaxis": {
            "backgroundcolor": "#E5ECF6",
            "gridcolor": "white",
            "gridwidth": 2,
            "linecolor": "white",
            "showbackground": true,
            "ticks": "",
            "zerolinecolor": "white"
           },
           "yaxis": {
            "backgroundcolor": "#E5ECF6",
            "gridcolor": "white",
            "gridwidth": 2,
            "linecolor": "white",
            "showbackground": true,
            "ticks": "",
            "zerolinecolor": "white"
           },
           "zaxis": {
            "backgroundcolor": "#E5ECF6",
            "gridcolor": "white",
            "gridwidth": 2,
            "linecolor": "white",
            "showbackground": true,
            "ticks": "",
            "zerolinecolor": "white"
           }
          },
          "shapedefaults": {
           "line": {
            "color": "#2a3f5f"
           }
          },
          "ternary": {
           "aaxis": {
            "gridcolor": "white",
            "linecolor": "white",
            "ticks": ""
           },
           "baxis": {
            "gridcolor": "white",
            "linecolor": "white",
            "ticks": ""
           },
           "bgcolor": "#E5ECF6",
           "caxis": {
            "gridcolor": "white",
            "linecolor": "white",
            "ticks": ""
           }
          },
          "title": {
           "x": 0.05
          },
          "xaxis": {
           "automargin": true,
           "gridcolor": "white",
           "linecolor": "white",
           "ticks": "",
           "title": {
            "standoff": 15
           },
           "zerolinecolor": "white",
           "zerolinewidth": 2
          },
          "yaxis": {
           "automargin": true,
           "gridcolor": "white",
           "linecolor": "white",
           "ticks": "",
           "title": {
            "standoff": 15
           },
           "zerolinecolor": "white",
           "zerolinewidth": 2
          }
         }
        },
        "title": {
         "font": {
          "color": "#4D5663"
         }
        },
        "xaxis": {
         "autorange": true,
         "gridcolor": "#E1E5ED",
         "range": [
          -3.4438531377013275,
          3.3468065387404815
         ],
         "showgrid": true,
         "tickfont": {
          "color": "#4D5663"
         },
         "title": {
          "font": {
           "color": "#4D5663"
          },
          "text": ""
         },
         "type": "linear",
         "zerolinecolor": "#E1E5ED"
        },
        "yaxis": {
         "autorange": true,
         "gridcolor": "#E1E5ED",
         "range": [
          -2.777530211283193,
          3.0547372692285713
         ],
         "showgrid": true,
         "tickfont": {
          "color": "#4D5663"
         },
         "title": {
          "font": {
           "color": "#4D5663"
          },
          "text": ""
         },
         "type": "linear",
         "zerolinecolor": "#E1E5ED"
        }
       }
      },
      "image/png": "[encoded data removed]",
      "text/html": [
       "<div>                            <div id=\"860670e2-5658-42f2-ac55-f4ca54a3494f\" class=\"plotly-graph-div\" style=\"height:525px; width:100%;\"></div>            <script type=\"text/javascript\">                require([\"plotly\"], function(Plotly) {                    window.PLOTLYENV=window.PLOTLYENV || {};\n",
       "                    window.PLOTLYENV.BASE_URL='https://plot.ly';                                    if (document.getElementById(\"860670e2-5658-42f2-ac55-f4ca54a3494f\")) {                    Plotly.newPlot(                        \"860670e2-5658-42f2-ac55-f4ca54a3494f\",                        [{\"line\":{\"color\":\"rgba(255, 153, 51, 1.0)\",\"dash\":\"solid\",\"shape\":\"linear\",\"width\":1.3},\"marker\":{\"size\":10,\"symbol\":\"circle\"},\"mode\":\"markers\",\"name\":\"B\",\"text\":\"\",\"x\":[0.8102783342500975,-0.6253496339817639,-2.1243974907659204,0.720743963340369,-0.36064835386640587,0.5759738002613626,-0.5408838512778968,0.9063815011325167,0.14367225921632368,0.00026148660293838066,0.8467757610440696,1.0618325092089878,0.6601824163443513,-0.48520520012482693,0.16871597616384307,1.9223052368503024,0.9388082883234752,0.5088942209079874,-0.04230165123367031,-0.7526132624711495,-0.415041342875489,-0.793150586675246,-1.3157120016215045,-0.3129688528150545,-0.33178453177328393,0.6738932217934391,-0.20852567734951294,-0.5355302645486091,0.31758960828690674,-1.0782016494131208,-0.4943059018241482,2.3595732177828745,-0.8784700471766782,-1.566200134991812,2.371764508822633,0.4656996839084545,-0.5979722939647736,1.2026987046903905,-0.5774282822965877,-1.1912118849000355,1.1985479855522592,0.2620589711638922,-0.13955147837889778,2.006276192685832,-3.0593131305730212,-0.3135204450592635,0.49172621192557314,0.05953014894188452,0.5365399611316989,0.4195142732653403,-0.6770591662178267,-0.2436721827521768,1.6485546212968694,1.0777191974521207,-0.8235713648686525,1.1428728019017498,-1.0679338620343783,0.24667409787800906,-1.7012725976148813,0.3900854386786318,-0.0690631840386189,2.4425043139920115,-1.1018934707019725,-1.0725826387263075,0.5906422575776665,0.9317450123551313,-1.1094945245226584,-0.13924398333838528,0.6423994151056848,0.9343018357089617,-0.12462754521955423,-0.4534461912534964,0.3736980081177701,0.17323250427614217,0.1366559450676414,-1.5033057674814936,-1.5672884375220335,-0.6571575852753471,-0.6395666738075189,-0.048474604736042155,-0.8283140638768075,0.5051085347510471,-0.07435138461353441,0.7054559130856934,-0.4452511251612592,-1.7403303648604576,-0.8504417681382134,0.10098301367735862,2.9622665316121757,1.0923483440863093,1.7927479468119651,-1.311470384073283,0.22374389200951048,-0.530987810356002,0.11747030791334216,-1.6590230098865948,0.5041533225812629,-0.12948004730523324,0.658166074407969,-1.0808986418415536],\"y\":[-0.5867832721021545,-0.07652741634221236,0.2364293046163907,-0.6144816203385531,0.012973345926433438,0.140602345064779,-1.0030025953938253,-1.502643397426585,0.5896630453075187,-0.21859864301934573,2.5606146076852134,-0.18445397195904925,0.14404944732764993,-0.176190196082285,-0.1814650597022292,-0.6035618716856341,-0.2698398063907249,-1.3758116421192002,-0.2515990561051834,-0.1699255313315551,1.105332227997531,-0.2414537899145735,-0.43690638271891863,-0.5565581304346296,0.6843491271174079,1.1144617107002537,-0.06617478605366806,0.6171150057998764,0.161975916590861,-0.8025708642901519,-1.5703565393095944,0.0263166711734827,-1.3396342312495948,0.31922014067344723,0.26769759042412405,0.8362426707322204,-0.16595514184267424,-1.5533523988763758,0.9483515326864449,0.10852470942154041,0.32906720227944375,-1.3325573708112333,-1.9645959663511439,-0.16802540689860643,0.13804899488468952,0.7199032526152568,-0.21241232879081512,0.07330227748986475,1.0630669830149864,-0.3197084203991881,-1.1359500413622619,-0.9940157702582891,0.12171307375231409,0.4592175010615597,-1.6271043605590056,0.09926530472378069,-0.8497057898196344,-0.096366003868344,-0.29323986028178434,-1.018009352091211,-1.5515627050638126,-0.31734504259472124,-0.4122652479440936,-0.3275919864238932,1.8995716489365664,-1.150485762145562,0.8844241629491068,-0.2976620794221025,0.4561009509196521,2.0577189539348164,-1.702448142151754,2.341170674518494,0.21098368350967794,1.2154631421327593,-1.9577382001306542,0.17362248923315385,-0.003360407917770353,-0.1523412451921134,-0.2530497749244438,0.16256186797090352,1.9642697933484992,0.018391126687528722,0.46386388030333103,0.7217231778212309,-0.17967146823749583,-0.6188632969910778,0.49843235794522917,-2.2834075497398354,0.5075191162307787,-0.3979350596840527,1.808595380141962,1.4478435911085978,1.9847189806152126,-0.6006060868037226,-0.11305146669809568,-1.9931225359407287,1.1157025234863016,-1.4374819486724126,-0.5043842729131363,1.037573710316617],\"type\":\"scatter\"}],                        {\"legend\":{\"bgcolor\":\"#F5F6F9\",\"font\":{\"color\":\"#4D5663\"}},\"paper_bgcolor\":\"#F5F6F9\",\"plot_bgcolor\":\"#F5F6F9\",\"template\":{\"data\":{\"barpolar\":[{\"marker\":{\"line\":{\"color\":\"#E5ECF6\",\"width\":0.5},\"pattern\":{\"fillmode\":\"overlay\",\"size\":10,\"solidity\":0.2}},\"type\":\"barpolar\"}],\"bar\":[{\"error_x\":{\"color\":\"#2a3f5f\"},\"error_y\":{\"color\":\"#2a3f5f\"},\"marker\":{\"line\":{\"color\":\"#E5ECF6\",\"width\":0.5},\"pattern\":{\"fillmode\":\"overlay\",\"size\":10,\"solidity\":0.2}},\"type\":\"bar\"}],\"carpet\":[{\"aaxis\":{\"endlinecolor\":\"#2a3f5f\",\"gridcolor\":\"white\",\"linecolor\":\"white\",\"minorgridcolor\":\"white\",\"startlinecolor\":\"#2a3f5f\"},\"baxis\":{\"endlinecolor\":\"#2a3f5f\",\"gridcolor\":\"white\",\"linecolor\":\"white\",\"minorgridcolor\":\"white\",\"startlinecolor\":\"#2a3f5f\"},\"type\":\"carpet\"}],\"choropleth\":[{\"colorbar\":{\"outlinewidth\":0,\"ticks\":\"\"},\"type\":\"choropleth\"}],\"contourcarpet\":[{\"colorbar\":{\"outlinewidth\":0,\"ticks\":\"\"},\"type\":\"contourcarpet\"}],\"contour\":[{\"colorbar\":{\"outlinewidth\":0,\"ticks\":\"\"},\"colorscale\":[[0.0,\"#0d0887\"],[0.1111111111111111,\"#46039f\"],[0.2222222222222222,\"#7201a8\"],[0.3333333333333333,\"#9c179e\"],[0.4444444444444444,\"#bd3786\"],[0.5555555555555556,\"#d8576b\"],[0.6666666666666666,\"#ed7953\"],[0.7777777777777778,\"#fb9f3a\"],[0.8888888888888888,\"#fdca26\"],[1.0,\"#f0f921\"]],\"type\":\"contour\"}],\"heatmapgl\":[{\"colorbar\":{\"outlinewidth\":0,\"ticks\":\"\"},\"colorscale\":[[0.0,\"#0d0887\"],[0.1111111111111111,\"#46039f\"],[0.2222222222222222,\"#7201a8\"],[0.3333333333333333,\"#9c179e\"],[0.4444444444444444,\"#bd3786\"],[0.5555555555555556,\"#d8576b\"],[0.6666666666666666,\"#ed7953\"],[0.7777777777777778,\"#fb9f3a\"],[0.8888888888888888,\"#fdca26\"],[1.0,\"#f0f921\"]],\"type\":\"heatmapgl\"}],\"heatmap\":[{\"colorbar\":{\"outlinewidth\":0,\"ticks\":\"\"},\"colorscale\":[[0.0,\"#0d0887\"],[0.1111111111111111,\"#46039f\"],[0.2222222222222222,\"#7201a8\"],[0.3333333333333333,\"#9c179e\"],[0.4444444444444444,\"#bd3786\"],[0.5555555555555556,\"#d8576b\"],[0.6666666666666666,\"#ed7953\"],[0.7777777777777778,\"#fb9f3a\"],[0.8888888888888888,\"#fdca26\"],[1.0,\"#f0f921\"]],\"type\":\"heatmap\"}],\"histogram2dcontour\":[{\"colorbar\":{\"outlinewidth\":0,\"ticks\":\"\"},\"colorscale\":[[0.0,\"#0d0887\"],[0.1111111111111111,\"#46039f\"],[0.2222222222222222,\"#7201a8\"],[0.3333333333333333,\"#9c179e\"],[0.4444444444444444,\"#bd3786\"],[0.5555555555555556,\"#d8576b\"],[0.6666666666666666,\"#ed7953\"],[0.7777777777777778,\"#fb9f3a\"],[0.8888888888888888,\"#fdca26\"],[1.0,\"#f0f921\"]],\"type\":\"histogram2dcontour\"}],\"histogram2d\":[{\"colorbar\":{\"outlinewidth\":0,\"ticks\":\"\"},\"colorscale\":[[0.0,\"#0d0887\"],[0.1111111111111111,\"#46039f\"],[0.2222222222222222,\"#7201a8\"],[0.3333333333333333,\"#9c179e\"],[0.4444444444444444,\"#bd3786\"],[0.5555555555555556,\"#d8576b\"],[0.6666666666666666,\"#ed7953\"],[0.7777777777777778,\"#fb9f3a\"],[0.8888888888888888,\"#fdca26\"],[1.0,\"#f0f921\"]],\"type\":\"histogram2d\"}],\"histogram\":[{\"marker\":{\"pattern\":{\"fillmode\":\"overlay\",\"size\":10,\"solidity\":0.2}},\"type\":\"histogram\"}],\"mesh3d\":[{\"colorbar\":{\"outlinewidth\":0,\"ticks\":\"\"},\"type\":\"mesh3d\"}],\"parcoords\":[{\"line\":{\"colorbar\":{\"outlinewidth\":0,\"ticks\":\"\"}},\"type\":\"parcoords\"}],\"pie\":[{\"automargin\":true,\"type\":\"pie\"}],\"scatter3d\":[{\"line\":{\"colorbar\":{\"outlinewidth\":0,\"ticks\":\"\"}},\"marker\":{\"colorbar\":{\"outlinewidth\":0,\"ticks\":\"\"}},\"type\":\"scatter3d\"}],\"scattercarpet\":[{\"marker\":{\"colorbar\":{\"outlinewidth\":0,\"ticks\":\"\"}},\"type\":\"scattercarpet\"}],\"scattergeo\":[{\"marker\":{\"colorbar\":{\"outlinewidth\":0,\"ticks\":\"\"}},\"type\":\"scattergeo\"}],\"scattergl\":[{\"marker\":{\"colorbar\":{\"outlinewidth\":0,\"ticks\":\"\"}},\"type\":\"scattergl\"}],\"scattermapbox\":[{\"marker\":{\"colorbar\":{\"outlinewidth\":0,\"ticks\":\"\"}},\"type\":\"scattermapbox\"}],\"scatterpolargl\":[{\"marker\":{\"colorbar\":{\"outlinewidth\":0,\"ticks\":\"\"}},\"type\":\"scatterpolargl\"}],\"scatterpolar\":[{\"marker\":{\"colorbar\":{\"outlinewidth\":0,\"ticks\":\"\"}},\"type\":\"scatterpolar\"}],\"scatter\":[{\"fillpattern\":{\"fillmode\":\"overlay\",\"size\":10,\"solidity\":0.2},\"type\":\"scatter\"}],\"scatterternary\":[{\"marker\":{\"colorbar\":{\"outlinewidth\":0,\"ticks\":\"\"}},\"type\":\"scatterternary\"}],\"surface\":[{\"colorbar\":{\"outlinewidth\":0,\"ticks\":\"\"},\"colorscale\":[[0.0,\"#0d0887\"],[0.1111111111111111,\"#46039f\"],[0.2222222222222222,\"#7201a8\"],[0.3333333333333333,\"#9c179e\"],[0.4444444444444444,\"#bd3786\"],[0.5555555555555556,\"#d8576b\"],[0.6666666666666666,\"#ed7953\"],[0.7777777777777778,\"#fb9f3a\"],[0.8888888888888888,\"#fdca26\"],[1.0,\"#f0f921\"]],\"type\":\"surface\"}],\"table\":[{\"cells\":{\"fill\":{\"color\":\"#EBF0F8\"},\"line\":{\"color\":\"white\"}},\"header\":{\"fill\":{\"color\":\"#C8D4E3\"},\"line\":{\"color\":\"white\"}},\"type\":\"table\"}]},\"layout\":{\"annotationdefaults\":{\"arrowcolor\":\"#2a3f5f\",\"arrowhead\":0,\"arrowwidth\":1},\"autotypenumbers\":\"strict\",\"coloraxis\":{\"colorbar\":{\"outlinewidth\":0,\"ticks\":\"\"}},\"colorscale\":{\"diverging\":[[0,\"#8e0152\"],[0.1,\"#c51b7d\"],[0.2,\"#de77ae\"],[0.3,\"#f1b6da\"],[0.4,\"#fde0ef\"],[0.5,\"#f7f7f7\"],[0.6,\"#e6f5d0\"],[0.7,\"#b8e186\"],[0.8,\"#7fbc41\"],[0.9,\"#4d9221\"],[1,\"#276419\"]],\"sequential\":[[0.0,\"#0d0887\"],[0.1111111111111111,\"#46039f\"],[0.2222222222222222,\"#7201a8\"],[0.3333333333333333,\"#9c179e\"],[0.4444444444444444,\"#bd3786\"],[0.5555555555555556,\"#d8576b\"],[0.6666666666666666,\"#ed7953\"],[0.7777777777777778,\"#fb9f3a\"],[0.8888888888888888,\"#fdca26\"],[1.0,\"#f0f921\"]],\"sequentialminus\":[[0.0,\"#0d0887\"],[0.1111111111111111,\"#46039f\"],[0.2222222222222222,\"#7201a8\"],[0.3333333333333333,\"#9c179e\"],[0.4444444444444444,\"#bd3786\"],[0.5555555555555556,\"#d8576b\"],[0.6666666666666666,\"#ed7953\"],[0.7777777777777778,\"#fb9f3a\"],[0.8888888888888888,\"#fdca26\"],[1.0,\"#f0f921\"]]},\"colorway\":[\"#636efa\",\"#EF553B\",\"#00cc96\",\"#ab63fa\",\"#FFA15A\",\"#19d3f3\",\"#FF6692\",\"#B6E880\",\"#FF97FF\",\"#FECB52\"],\"font\":{\"color\":\"#2a3f5f\"},\"geo\":{\"bgcolor\":\"white\",\"lakecolor\":\"white\",\"landcolor\":\"#E5ECF6\",\"showlakes\":true,\"showland\":true,\"subunitcolor\":\"white\"},\"hoverlabel\":{\"align\":\"left\"},\"hovermode\":\"closest\",\"mapbox\":{\"style\":\"light\"},\"paper_bgcolor\":\"white\",\"plot_bgcolor\":\"#E5ECF6\",\"polar\":{\"angularaxis\":{\"gridcolor\":\"white\",\"linecolor\":\"white\",\"ticks\":\"\"},\"bgcolor\":\"#E5ECF6\",\"radialaxis\":{\"gridcolor\":\"white\",\"linecolor\":\"white\",\"ticks\":\"\"}},\"scene\":{\"xaxis\":{\"backgroundcolor\":\"#E5ECF6\",\"gridcolor\":\"white\",\"gridwidth\":2,\"linecolor\":\"white\",\"showbackground\":true,\"ticks\":\"\",\"zerolinecolor\":\"white\"},\"yaxis\":{\"backgroundcolor\":\"#E5ECF6\",\"gridcolor\":\"white\",\"gridwidth\":2,\"linecolor\":\"white\",\"showbackground\":true,\"ticks\":\"\",\"zerolinecolor\":\"white\"},\"zaxis\":{\"backgroundcolor\":\"#E5ECF6\",\"gridcolor\":\"white\",\"gridwidth\":2,\"linecolor\":\"white\",\"showbackground\":true,\"ticks\":\"\",\"zerolinecolor\":\"white\"}},\"shapedefaults\":{\"line\":{\"color\":\"#2a3f5f\"}},\"ternary\":{\"aaxis\":{\"gridcolor\":\"white\",\"linecolor\":\"white\",\"ticks\":\"\"},\"baxis\":{\"gridcolor\":\"white\",\"linecolor\":\"white\",\"ticks\":\"\"},\"bgcolor\":\"#E5ECF6\",\"caxis\":{\"gridcolor\":\"white\",\"linecolor\":\"white\",\"ticks\":\"\"}},\"title\":{\"x\":0.05},\"xaxis\":{\"automargin\":true,\"gridcolor\":\"white\",\"linecolor\":\"white\",\"ticks\":\"\",\"title\":{\"standoff\":15},\"zerolinecolor\":\"white\",\"zerolinewidth\":2},\"yaxis\":{\"automargin\":true,\"gridcolor\":\"white\",\"linecolor\":\"white\",\"ticks\":\"\",\"title\":{\"standoff\":15},\"zerolinecolor\":\"white\",\"zerolinewidth\":2}}},\"title\":{\"font\":{\"color\":\"#4D5663\"}},\"xaxis\":{\"gridcolor\":\"#E1E5ED\",\"showgrid\":true,\"tickfont\":{\"color\":\"#4D5663\"},\"title\":{\"font\":{\"color\":\"#4D5663\"},\"text\":\"\"},\"zerolinecolor\":\"#E1E5ED\"},\"yaxis\":{\"gridcolor\":\"#E1E5ED\",\"showgrid\":true,\"tickfont\":{\"color\":\"#4D5663\"},\"title\":{\"font\":{\"color\":\"#4D5663\"},\"text\":\"\"},\"zerolinecolor\":\"#E1E5ED\"}},                        {\"showLink\": true, \"linkText\": \"Export to plot.ly\", \"plotlyServerURL\": \"https://plot.ly\", \"responsive\": true}                    ).then(function(){\n",
       "                            \n",
       "var gd = document.getElementById('860670e2-5658-42f2-ac55-f4ca54a3494f');\n",
       "var x = new MutationObserver(function (mutations, observer) {{\n",
       "        var display = window.getComputedStyle(gd).display;\n",
       "        if (!display || display === 'none') {{\n",
       "            console.log([gd, 'removed!']);\n",
       "            Plotly.purge(gd);\n",
       "            observer.disconnect();\n",
       "        }}\n",
       "}});\n",
       "\n",
       "// Listen for the removal of the full notebook cells\n",
       "var notebookContainer = gd.closest('#notebook-container');\n",
       "if (notebookContainer) {{\n",
       "    x.observe(notebookContainer, {childList: true});\n",
       "}}\n",
       "\n",
       "// Listen for the clearing of the current output cell\n",
       "var outputEl = gd.closest('.output');\n",
       "if (outputEl) {{\n",
       "    x.observe(outputEl, {childList: true});\n",
       "}}\n",
       "\n",
       "                        })                };                });            </script>        </div>"
      ]
     },
     "metadata": {},
     "output_type": "display_data"
    }
   ],
   "source": [
    "df.iplot(kind='scatter',x='A',y='B',mode='markers',size=10)"
   ]
  },
  {
   "cell_type": "markdown",
   "metadata": {},
   "source": [
    "## Bar Plots"
   ]
  },
  {
   "cell_type": "code",
   "execution_count": 29,
   "metadata": {
    "collapsed": false,
    "jupyter": {
     "outputs_hidden": false
    }
   },
   "outputs": [
    {
     "data": {
      "application/vnd.plotly.v1+json": {
       "config": {
        "linkText": "Export to plot.ly",
        "plotlyServerURL": "https://plot.ly",
        "showLink": true
       },
       "data": [
        {
         "marker": {
          "color": "rgba(255, 153, 51, 0.6)",
          "line": {
           "color": "rgba(255, 153, 51, 1.0)",
           "width": 1
          }
         },
         "name": "Values",
         "orientation": "v",
         "text": "",
         "type": "bar",
         "x": [
          "A",
          "B",
          "C"
         ],
         "y": [
          32,
          43,
          50
         ]
        }
       ],
       "layout": {
        "autosize": true,
        "legend": {
         "bgcolor": "#F5F6F9",
         "font": {
          "color": "#4D5663"
         }
        },
        "paper_bgcolor": "#F5F6F9",
        "plot_bgcolor": "#F5F6F9",
        "template": {
         "data": {
          "bar": [
           {
            "error_x": {
             "color": "#2a3f5f"
            },
            "error_y": {
             "color": "#2a3f5f"
            },
            "marker": {
             "line": {
              "color": "#E5ECF6",
              "width": 0.5
             },
             "pattern": {
              "fillmode": "overlay",
              "size": 10,
              "solidity": 0.2
             }
            },
            "type": "bar"
           }
          ],
          "barpolar": [
           {
            "marker": {
             "line": {
              "color": "#E5ECF6",
              "width": 0.5
             },
             "pattern": {
              "fillmode": "overlay",
              "size": 10,
              "solidity": 0.2
             }
            },
            "type": "barpolar"
           }
          ],
          "carpet": [
           {
            "aaxis": {
             "endlinecolor": "#2a3f5f",
             "gridcolor": "white",
             "linecolor": "white",
             "minorgridcolor": "white",
             "startlinecolor": "#2a3f5f"
            },
            "baxis": {
             "endlinecolor": "#2a3f5f",
             "gridcolor": "white",
             "linecolor": "white",
             "minorgridcolor": "white",
             "startlinecolor": "#2a3f5f"
            },
            "type": "carpet"
           }
          ],
          "choropleth": [
           {
            "colorbar": {
             "outlinewidth": 0,
             "ticks": ""
            },
            "type": "choropleth"
           }
          ],
          "contour": [
           {
            "colorbar": {
             "outlinewidth": 0,
             "ticks": ""
            },
            "colorscale": [
             [
              0,
              "#0d0887"
             ],
             [
              0.1111111111111111,
              "#46039f"
             ],
             [
              0.2222222222222222,
              "#7201a8"
             ],
             [
              0.3333333333333333,
              "#9c179e"
             ],
             [
              0.4444444444444444,
              "#bd3786"
             ],
             [
              0.5555555555555556,
              "#d8576b"
             ],
             [
              0.6666666666666666,
              "#ed7953"
             ],
             [
              0.7777777777777778,
              "#fb9f3a"
             ],
             [
              0.8888888888888888,
              "#fdca26"
             ],
             [
              1,
              "#f0f921"
             ]
            ],
            "type": "contour"
           }
          ],
          "contourcarpet": [
           {
            "colorbar": {
             "outlinewidth": 0,
             "ticks": ""
            },
            "type": "contourcarpet"
           }
          ],
          "heatmap": [
           {
            "colorbar": {
             "outlinewidth": 0,
             "ticks": ""
            },
            "colorscale": [
             [
              0,
              "#0d0887"
             ],
             [
              0.1111111111111111,
              "#46039f"
             ],
             [
              0.2222222222222222,
              "#7201a8"
             ],
             [
              0.3333333333333333,
              "#9c179e"
             ],
             [
              0.4444444444444444,
              "#bd3786"
             ],
             [
              0.5555555555555556,
              "#d8576b"
             ],
             [
              0.6666666666666666,
              "#ed7953"
             ],
             [
              0.7777777777777778,
              "#fb9f3a"
             ],
             [
              0.8888888888888888,
              "#fdca26"
             ],
             [
              1,
              "#f0f921"
             ]
            ],
            "type": "heatmap"
           }
          ],
          "heatmapgl": [
           {
            "colorbar": {
             "outlinewidth": 0,
             "ticks": ""
            },
            "colorscale": [
             [
              0,
              "#0d0887"
             ],
             [
              0.1111111111111111,
              "#46039f"
             ],
             [
              0.2222222222222222,
              "#7201a8"
             ],
             [
              0.3333333333333333,
              "#9c179e"
             ],
             [
              0.4444444444444444,
              "#bd3786"
             ],
             [
              0.5555555555555556,
              "#d8576b"
             ],
             [
              0.6666666666666666,
              "#ed7953"
             ],
             [
              0.7777777777777778,
              "#fb9f3a"
             ],
             [
              0.8888888888888888,
              "#fdca26"
             ],
             [
              1,
              "#f0f921"
             ]
            ],
            "type": "heatmapgl"
           }
          ],
          "histogram": [
           {
            "marker": {
             "pattern": {
              "fillmode": "overlay",
              "size": 10,
              "solidity": 0.2
             }
            },
            "type": "histogram"
           }
          ],
          "histogram2d": [
           {
            "colorbar": {
             "outlinewidth": 0,
             "ticks": ""
            },
            "colorscale": [
             [
              0,
              "#0d0887"
             ],
             [
              0.1111111111111111,
              "#46039f"
             ],
             [
              0.2222222222222222,
              "#7201a8"
             ],
             [
              0.3333333333333333,
              "#9c179e"
             ],
             [
              0.4444444444444444,
              "#bd3786"
             ],
             [
              0.5555555555555556,
              "#d8576b"
             ],
             [
              0.6666666666666666,
              "#ed7953"
             ],
             [
              0.7777777777777778,
              "#fb9f3a"
             ],
             [
              0.8888888888888888,
              "#fdca26"
             ],
             [
              1,
              "#f0f921"
             ]
            ],
            "type": "histogram2d"
           }
          ],
          "histogram2dcontour": [
           {
            "colorbar": {
             "outlinewidth": 0,
             "ticks": ""
            },
            "colorscale": [
             [
              0,
              "#0d0887"
             ],
             [
              0.1111111111111111,
              "#46039f"
             ],
             [
              0.2222222222222222,
              "#7201a8"
             ],
             [
              0.3333333333333333,
              "#9c179e"
             ],
             [
              0.4444444444444444,
              "#bd3786"
             ],
             [
              0.5555555555555556,
              "#d8576b"
             ],
             [
              0.6666666666666666,
              "#ed7953"
             ],
             [
              0.7777777777777778,
              "#fb9f3a"
             ],
             [
              0.8888888888888888,
              "#fdca26"
             ],
             [
              1,
              "#f0f921"
             ]
            ],
            "type": "histogram2dcontour"
           }
          ],
          "mesh3d": [
           {
            "colorbar": {
             "outlinewidth": 0,
             "ticks": ""
            },
            "type": "mesh3d"
           }
          ],
          "parcoords": [
           {
            "line": {
             "colorbar": {
              "outlinewidth": 0,
              "ticks": ""
             }
            },
            "type": "parcoords"
           }
          ],
          "pie": [
           {
            "automargin": true,
            "type": "pie"
           }
          ],
          "scatter": [
           {
            "fillpattern": {
             "fillmode": "overlay",
             "size": 10,
             "solidity": 0.2
            },
            "type": "scatter"
           }
          ],
          "scatter3d": [
           {
            "line": {
             "colorbar": {
              "outlinewidth": 0,
              "ticks": ""
             }
            },
            "marker": {
             "colorbar": {
              "outlinewidth": 0,
              "ticks": ""
             }
            },
            "type": "scatter3d"
           }
          ],
          "scattercarpet": [
           {
            "marker": {
             "colorbar": {
              "outlinewidth": 0,
              "ticks": ""
             }
            },
            "type": "scattercarpet"
           }
          ],
          "scattergeo": [
           {
            "marker": {
             "colorbar": {
              "outlinewidth": 0,
              "ticks": ""
             }
            },
            "type": "scattergeo"
           }
          ],
          "scattergl": [
           {
            "marker": {
             "colorbar": {
              "outlinewidth": 0,
              "ticks": ""
             }
            },
            "type": "scattergl"
           }
          ],
          "scattermapbox": [
           {
            "marker": {
             "colorbar": {
              "outlinewidth": 0,
              "ticks": ""
             }
            },
            "type": "scattermapbox"
           }
          ],
          "scatterpolar": [
           {
            "marker": {
             "colorbar": {
              "outlinewidth": 0,
              "ticks": ""
             }
            },
            "type": "scatterpolar"
           }
          ],
          "scatterpolargl": [
           {
            "marker": {
             "colorbar": {
              "outlinewidth": 0,
              "ticks": ""
             }
            },
            "type": "scatterpolargl"
           }
          ],
          "scatterternary": [
           {
            "marker": {
             "colorbar": {
              "outlinewidth": 0,
              "ticks": ""
             }
            },
            "type": "scatterternary"
           }
          ],
          "surface": [
           {
            "colorbar": {
             "outlinewidth": 0,
             "ticks": ""
            },
            "colorscale": [
             [
              0,
              "#0d0887"
             ],
             [
              0.1111111111111111,
              "#46039f"
             ],
             [
              0.2222222222222222,
              "#7201a8"
             ],
             [
              0.3333333333333333,
              "#9c179e"
             ],
             [
              0.4444444444444444,
              "#bd3786"
             ],
             [
              0.5555555555555556,
              "#d8576b"
             ],
             [
              0.6666666666666666,
              "#ed7953"
             ],
             [
              0.7777777777777778,
              "#fb9f3a"
             ],
             [
              0.8888888888888888,
              "#fdca26"
             ],
             [
              1,
              "#f0f921"
             ]
            ],
            "type": "surface"
           }
          ],
          "table": [
           {
            "cells": {
             "fill": {
              "color": "#EBF0F8"
             },
             "line": {
              "color": "white"
             }
            },
            "header": {
             "fill": {
              "color": "#C8D4E3"
             },
             "line": {
              "color": "white"
             }
            },
            "type": "table"
           }
          ]
         },
         "layout": {
          "annotationdefaults": {
           "arrowcolor": "#2a3f5f",
           "arrowhead": 0,
           "arrowwidth": 1
          },
          "autotypenumbers": "strict",
          "coloraxis": {
           "colorbar": {
            "outlinewidth": 0,
            "ticks": ""
           }
          },
          "colorscale": {
           "diverging": [
            [
             0,
             "#8e0152"
            ],
            [
             0.1,
             "#c51b7d"
            ],
            [
             0.2,
             "#de77ae"
            ],
            [
             0.3,
             "#f1b6da"
            ],
            [
             0.4,
             "#fde0ef"
            ],
            [
             0.5,
             "#f7f7f7"
            ],
            [
             0.6,
             "#e6f5d0"
            ],
            [
             0.7,
             "#b8e186"
            ],
            [
             0.8,
             "#7fbc41"
            ],
            [
             0.9,
             "#4d9221"
            ],
            [
             1,
             "#276419"
            ]
           ],
           "sequential": [
            [
             0,
             "#0d0887"
            ],
            [
             0.1111111111111111,
             "#46039f"
            ],
            [
             0.2222222222222222,
             "#7201a8"
            ],
            [
             0.3333333333333333,
             "#9c179e"
            ],
            [
             0.4444444444444444,
             "#bd3786"
            ],
            [
             0.5555555555555556,
             "#d8576b"
            ],
            [
             0.6666666666666666,
             "#ed7953"
            ],
            [
             0.7777777777777778,
             "#fb9f3a"
            ],
            [
             0.8888888888888888,
             "#fdca26"
            ],
            [
             1,
             "#f0f921"
            ]
           ],
           "sequentialminus": [
            [
             0,
             "#0d0887"
            ],
            [
             0.1111111111111111,
             "#46039f"
            ],
            [
             0.2222222222222222,
             "#7201a8"
            ],
            [
             0.3333333333333333,
             "#9c179e"
            ],
            [
             0.4444444444444444,
             "#bd3786"
            ],
            [
             0.5555555555555556,
             "#d8576b"
            ],
            [
             0.6666666666666666,
             "#ed7953"
            ],
            [
             0.7777777777777778,
             "#fb9f3a"
            ],
            [
             0.8888888888888888,
             "#fdca26"
            ],
            [
             1,
             "#f0f921"
            ]
           ]
          },
          "colorway": [
           "#636efa",
           "#EF553B",
           "#00cc96",
           "#ab63fa",
           "#FFA15A",
           "#19d3f3",
           "#FF6692",
           "#B6E880",
           "#FF97FF",
           "#FECB52"
          ],
          "font": {
           "color": "#2a3f5f"
          },
          "geo": {
           "bgcolor": "white",
           "lakecolor": "white",
           "landcolor": "#E5ECF6",
           "showlakes": true,
           "showland": true,
           "subunitcolor": "white"
          },
          "hoverlabel": {
           "align": "left"
          },
          "hovermode": "closest",
          "mapbox": {
           "style": "light"
          },
          "paper_bgcolor": "white",
          "plot_bgcolor": "#E5ECF6",
          "polar": {
           "angularaxis": {
            "gridcolor": "white",
            "linecolor": "white",
            "ticks": ""
           },
           "bgcolor": "#E5ECF6",
           "radialaxis": {
            "gridcolor": "white",
            "linecolor": "white",
            "ticks": ""
           }
          },
          "scene": {
           "xaxis": {
            "backgroundcolor": "#E5ECF6",
            "gridcolor": "white",
            "gridwidth": 2,
            "linecolor": "white",
            "showbackground": true,
            "ticks": "",
            "zerolinecolor": "white"
           },
           "yaxis": {
            "backgroundcolor": "#E5ECF6",
            "gridcolor": "white",
            "gridwidth": 2,
            "linecolor": "white",
            "showbackground": true,
            "ticks": "",
            "zerolinecolor": "white"
           },
           "zaxis": {
            "backgroundcolor": "#E5ECF6",
            "gridcolor": "white",
            "gridwidth": 2,
            "linecolor": "white",
            "showbackground": true,
            "ticks": "",
            "zerolinecolor": "white"
           }
          },
          "shapedefaults": {
           "line": {
            "color": "#2a3f5f"
           }
          },
          "ternary": {
           "aaxis": {
            "gridcolor": "white",
            "linecolor": "white",
            "ticks": ""
           },
           "baxis": {
            "gridcolor": "white",
            "linecolor": "white",
            "ticks": ""
           },
           "bgcolor": "#E5ECF6",
           "caxis": {
            "gridcolor": "white",
            "linecolor": "white",
            "ticks": ""
           }
          },
          "title": {
           "x": 0.05
          },
          "xaxis": {
           "automargin": true,
           "gridcolor": "white",
           "linecolor": "white",
           "ticks": "",
           "title": {
            "standoff": 15
           },
           "zerolinecolor": "white",
           "zerolinewidth": 2
          },
          "yaxis": {
           "automargin": true,
           "gridcolor": "white",
           "linecolor": "white",
           "ticks": "",
           "title": {
            "standoff": 15
           },
           "zerolinecolor": "white",
           "zerolinewidth": 2
          }
         }
        },
        "title": {
         "font": {
          "color": "#4D5663"
         }
        },
        "xaxis": {
         "autorange": true,
         "gridcolor": "#E1E5ED",
         "range": [
          -0.5,
          2.5
         ],
         "showgrid": true,
         "tickfont": {
          "color": "#4D5663"
         },
         "title": {
          "font": {
           "color": "#4D5663"
          },
          "text": ""
         },
         "type": "category",
         "zerolinecolor": "#E1E5ED"
        },
        "yaxis": {
         "autorange": true,
         "gridcolor": "#E1E5ED",
         "range": [
          0,
          52.63157894736842
         ],
         "showgrid": true,
         "tickfont": {
          "color": "#4D5663"
         },
         "title": {
          "font": {
           "color": "#4D5663"
          },
          "text": ""
         },
         "type": "linear",
         "zerolinecolor": "#E1E5ED"
        }
       }
      },
      "image/png": "[encoded data removed]",
      "text/html": [
       "<div>                            <div id=\"3b7c72c6-9fae-4f05-a18d-707776aae6e6\" class=\"plotly-graph-div\" style=\"height:525px; width:100%;\"></div>            <script type=\"text/javascript\">                require([\"plotly\"], function(Plotly) {                    window.PLOTLYENV=window.PLOTLYENV || {};\n",
       "                    window.PLOTLYENV.BASE_URL='https://plot.ly';                                    if (document.getElementById(\"3b7c72c6-9fae-4f05-a18d-707776aae6e6\")) {                    Plotly.newPlot(                        \"3b7c72c6-9fae-4f05-a18d-707776aae6e6\",                        [{\"marker\":{\"color\":\"rgba(255, 153, 51, 0.6)\",\"line\":{\"color\":\"rgba(255, 153, 51, 1.0)\",\"width\":1}},\"name\":\"Values\",\"orientation\":\"v\",\"text\":\"\",\"x\":[\"A\",\"B\",\"C\"],\"y\":[32,43,50],\"type\":\"bar\"}],                        {\"legend\":{\"bgcolor\":\"#F5F6F9\",\"font\":{\"color\":\"#4D5663\"}},\"paper_bgcolor\":\"#F5F6F9\",\"plot_bgcolor\":\"#F5F6F9\",\"template\":{\"data\":{\"barpolar\":[{\"marker\":{\"line\":{\"color\":\"#E5ECF6\",\"width\":0.5},\"pattern\":{\"fillmode\":\"overlay\",\"size\":10,\"solidity\":0.2}},\"type\":\"barpolar\"}],\"bar\":[{\"error_x\":{\"color\":\"#2a3f5f\"},\"error_y\":{\"color\":\"#2a3f5f\"},\"marker\":{\"line\":{\"color\":\"#E5ECF6\",\"width\":0.5},\"pattern\":{\"fillmode\":\"overlay\",\"size\":10,\"solidity\":0.2}},\"type\":\"bar\"}],\"carpet\":[{\"aaxis\":{\"endlinecolor\":\"#2a3f5f\",\"gridcolor\":\"white\",\"linecolor\":\"white\",\"minorgridcolor\":\"white\",\"startlinecolor\":\"#2a3f5f\"},\"baxis\":{\"endlinecolor\":\"#2a3f5f\",\"gridcolor\":\"white\",\"linecolor\":\"white\",\"minorgridcolor\":\"white\",\"startlinecolor\":\"#2a3f5f\"},\"type\":\"carpet\"}],\"choropleth\":[{\"colorbar\":{\"outlinewidth\":0,\"ticks\":\"\"},\"type\":\"choropleth\"}],\"contourcarpet\":[{\"colorbar\":{\"outlinewidth\":0,\"ticks\":\"\"},\"type\":\"contourcarpet\"}],\"contour\":[{\"colorbar\":{\"outlinewidth\":0,\"ticks\":\"\"},\"colorscale\":[[0.0,\"#0d0887\"],[0.1111111111111111,\"#46039f\"],[0.2222222222222222,\"#7201a8\"],[0.3333333333333333,\"#9c179e\"],[0.4444444444444444,\"#bd3786\"],[0.5555555555555556,\"#d8576b\"],[0.6666666666666666,\"#ed7953\"],[0.7777777777777778,\"#fb9f3a\"],[0.8888888888888888,\"#fdca26\"],[1.0,\"#f0f921\"]],\"type\":\"contour\"}],\"heatmapgl\":[{\"colorbar\":{\"outlinewidth\":0,\"ticks\":\"\"},\"colorscale\":[[0.0,\"#0d0887\"],[0.1111111111111111,\"#46039f\"],[0.2222222222222222,\"#7201a8\"],[0.3333333333333333,\"#9c179e\"],[0.4444444444444444,\"#bd3786\"],[0.5555555555555556,\"#d8576b\"],[0.6666666666666666,\"#ed7953\"],[0.7777777777777778,\"#fb9f3a\"],[0.8888888888888888,\"#fdca26\"],[1.0,\"#f0f921\"]],\"type\":\"heatmapgl\"}],\"heatmap\":[{\"colorbar\":{\"outlinewidth\":0,\"ticks\":\"\"},\"colorscale\":[[0.0,\"#0d0887\"],[0.1111111111111111,\"#46039f\"],[0.2222222222222222,\"#7201a8\"],[0.3333333333333333,\"#9c179e\"],[0.4444444444444444,\"#bd3786\"],[0.5555555555555556,\"#d8576b\"],[0.6666666666666666,\"#ed7953\"],[0.7777777777777778,\"#fb9f3a\"],[0.8888888888888888,\"#fdca26\"],[1.0,\"#f0f921\"]],\"type\":\"heatmap\"}],\"histogram2dcontour\":[{\"colorbar\":{\"outlinewidth\":0,\"ticks\":\"\"},\"colorscale\":[[0.0,\"#0d0887\"],[0.1111111111111111,\"#46039f\"],[0.2222222222222222,\"#7201a8\"],[0.3333333333333333,\"#9c179e\"],[0.4444444444444444,\"#bd3786\"],[0.5555555555555556,\"#d8576b\"],[0.6666666666666666,\"#ed7953\"],[0.7777777777777778,\"#fb9f3a\"],[0.8888888888888888,\"#fdca26\"],[1.0,\"#f0f921\"]],\"type\":\"histogram2dcontour\"}],\"histogram2d\":[{\"colorbar\":{\"outlinewidth\":0,\"ticks\":\"\"},\"colorscale\":[[0.0,\"#0d0887\"],[0.1111111111111111,\"#46039f\"],[0.2222222222222222,\"#7201a8\"],[0.3333333333333333,\"#9c179e\"],[0.4444444444444444,\"#bd3786\"],[0.5555555555555556,\"#d8576b\"],[0.6666666666666666,\"#ed7953\"],[0.7777777777777778,\"#fb9f3a\"],[0.8888888888888888,\"#fdca26\"],[1.0,\"#f0f921\"]],\"type\":\"histogram2d\"}],\"histogram\":[{\"marker\":{\"pattern\":{\"fillmode\":\"overlay\",\"size\":10,\"solidity\":0.2}},\"type\":\"histogram\"}],\"mesh3d\":[{\"colorbar\":{\"outlinewidth\":0,\"ticks\":\"\"},\"type\":\"mesh3d\"}],\"parcoords\":[{\"line\":{\"colorbar\":{\"outlinewidth\":0,\"ticks\":\"\"}},\"type\":\"parcoords\"}],\"pie\":[{\"automargin\":true,\"type\":\"pie\"}],\"scatter3d\":[{\"line\":{\"colorbar\":{\"outlinewidth\":0,\"ticks\":\"\"}},\"marker\":{\"colorbar\":{\"outlinewidth\":0,\"ticks\":\"\"}},\"type\":\"scatter3d\"}],\"scattercarpet\":[{\"marker\":{\"colorbar\":{\"outlinewidth\":0,\"ticks\":\"\"}},\"type\":\"scattercarpet\"}],\"scattergeo\":[{\"marker\":{\"colorbar\":{\"outlinewidth\":0,\"ticks\":\"\"}},\"type\":\"scattergeo\"}],\"scattergl\":[{\"marker\":{\"colorbar\":{\"outlinewidth\":0,\"ticks\":\"\"}},\"type\":\"scattergl\"}],\"scattermapbox\":[{\"marker\":{\"colorbar\":{\"outlinewidth\":0,\"ticks\":\"\"}},\"type\":\"scattermapbox\"}],\"scatterpolargl\":[{\"marker\":{\"colorbar\":{\"outlinewidth\":0,\"ticks\":\"\"}},\"type\":\"scatterpolargl\"}],\"scatterpolar\":[{\"marker\":{\"colorbar\":{\"outlinewidth\":0,\"ticks\":\"\"}},\"type\":\"scatterpolar\"}],\"scatter\":[{\"fillpattern\":{\"fillmode\":\"overlay\",\"size\":10,\"solidity\":0.2},\"type\":\"scatter\"}],\"scatterternary\":[{\"marker\":{\"colorbar\":{\"outlinewidth\":0,\"ticks\":\"\"}},\"type\":\"scatterternary\"}],\"surface\":[{\"colorbar\":{\"outlinewidth\":0,\"ticks\":\"\"},\"colorscale\":[[0.0,\"#0d0887\"],[0.1111111111111111,\"#46039f\"],[0.2222222222222222,\"#7201a8\"],[0.3333333333333333,\"#9c179e\"],[0.4444444444444444,\"#bd3786\"],[0.5555555555555556,\"#d8576b\"],[0.6666666666666666,\"#ed7953\"],[0.7777777777777778,\"#fb9f3a\"],[0.8888888888888888,\"#fdca26\"],[1.0,\"#f0f921\"]],\"type\":\"surface\"}],\"table\":[{\"cells\":{\"fill\":{\"color\":\"#EBF0F8\"},\"line\":{\"color\":\"white\"}},\"header\":{\"fill\":{\"color\":\"#C8D4E3\"},\"line\":{\"color\":\"white\"}},\"type\":\"table\"}]},\"layout\":{\"annotationdefaults\":{\"arrowcolor\":\"#2a3f5f\",\"arrowhead\":0,\"arrowwidth\":1},\"autotypenumbers\":\"strict\",\"coloraxis\":{\"colorbar\":{\"outlinewidth\":0,\"ticks\":\"\"}},\"colorscale\":{\"diverging\":[[0,\"#8e0152\"],[0.1,\"#c51b7d\"],[0.2,\"#de77ae\"],[0.3,\"#f1b6da\"],[0.4,\"#fde0ef\"],[0.5,\"#f7f7f7\"],[0.6,\"#e6f5d0\"],[0.7,\"#b8e186\"],[0.8,\"#7fbc41\"],[0.9,\"#4d9221\"],[1,\"#276419\"]],\"sequential\":[[0.0,\"#0d0887\"],[0.1111111111111111,\"#46039f\"],[0.2222222222222222,\"#7201a8\"],[0.3333333333333333,\"#9c179e\"],[0.4444444444444444,\"#bd3786\"],[0.5555555555555556,\"#d8576b\"],[0.6666666666666666,\"#ed7953\"],[0.7777777777777778,\"#fb9f3a\"],[0.8888888888888888,\"#fdca26\"],[1.0,\"#f0f921\"]],\"sequentialminus\":[[0.0,\"#0d0887\"],[0.1111111111111111,\"#46039f\"],[0.2222222222222222,\"#7201a8\"],[0.3333333333333333,\"#9c179e\"],[0.4444444444444444,\"#bd3786\"],[0.5555555555555556,\"#d8576b\"],[0.6666666666666666,\"#ed7953\"],[0.7777777777777778,\"#fb9f3a\"],[0.8888888888888888,\"#fdca26\"],[1.0,\"#f0f921\"]]},\"colorway\":[\"#636efa\",\"#EF553B\",\"#00cc96\",\"#ab63fa\",\"#FFA15A\",\"#19d3f3\",\"#FF6692\",\"#B6E880\",\"#FF97FF\",\"#FECB52\"],\"font\":{\"color\":\"#2a3f5f\"},\"geo\":{\"bgcolor\":\"white\",\"lakecolor\":\"white\",\"landcolor\":\"#E5ECF6\",\"showlakes\":true,\"showland\":true,\"subunitcolor\":\"white\"},\"hoverlabel\":{\"align\":\"left\"},\"hovermode\":\"closest\",\"mapbox\":{\"style\":\"light\"},\"paper_bgcolor\":\"white\",\"plot_bgcolor\":\"#E5ECF6\",\"polar\":{\"angularaxis\":{\"gridcolor\":\"white\",\"linecolor\":\"white\",\"ticks\":\"\"},\"bgcolor\":\"#E5ECF6\",\"radialaxis\":{\"gridcolor\":\"white\",\"linecolor\":\"white\",\"ticks\":\"\"}},\"scene\":{\"xaxis\":{\"backgroundcolor\":\"#E5ECF6\",\"gridcolor\":\"white\",\"gridwidth\":2,\"linecolor\":\"white\",\"showbackground\":true,\"ticks\":\"\",\"zerolinecolor\":\"white\"},\"yaxis\":{\"backgroundcolor\":\"#E5ECF6\",\"gridcolor\":\"white\",\"gridwidth\":2,\"linecolor\":\"white\",\"showbackground\":true,\"ticks\":\"\",\"zerolinecolor\":\"white\"},\"zaxis\":{\"backgroundcolor\":\"#E5ECF6\",\"gridcolor\":\"white\",\"gridwidth\":2,\"linecolor\":\"white\",\"showbackground\":true,\"ticks\":\"\",\"zerolinecolor\":\"white\"}},\"shapedefaults\":{\"line\":{\"color\":\"#2a3f5f\"}},\"ternary\":{\"aaxis\":{\"gridcolor\":\"white\",\"linecolor\":\"white\",\"ticks\":\"\"},\"baxis\":{\"gridcolor\":\"white\",\"linecolor\":\"white\",\"ticks\":\"\"},\"bgcolor\":\"#E5ECF6\",\"caxis\":{\"gridcolor\":\"white\",\"linecolor\":\"white\",\"ticks\":\"\"}},\"title\":{\"x\":0.05},\"xaxis\":{\"automargin\":true,\"gridcolor\":\"white\",\"linecolor\":\"white\",\"ticks\":\"\",\"title\":{\"standoff\":15},\"zerolinecolor\":\"white\",\"zerolinewidth\":2},\"yaxis\":{\"automargin\":true,\"gridcolor\":\"white\",\"linecolor\":\"white\",\"ticks\":\"\",\"title\":{\"standoff\":15},\"zerolinecolor\":\"white\",\"zerolinewidth\":2}}},\"title\":{\"font\":{\"color\":\"#4D5663\"}},\"xaxis\":{\"gridcolor\":\"#E1E5ED\",\"showgrid\":true,\"tickfont\":{\"color\":\"#4D5663\"},\"title\":{\"font\":{\"color\":\"#4D5663\"},\"text\":\"\"},\"zerolinecolor\":\"#E1E5ED\"},\"yaxis\":{\"gridcolor\":\"#E1E5ED\",\"showgrid\":true,\"tickfont\":{\"color\":\"#4D5663\"},\"title\":{\"font\":{\"color\":\"#4D5663\"},\"text\":\"\"},\"zerolinecolor\":\"#E1E5ED\"}},                        {\"showLink\": true, \"linkText\": \"Export to plot.ly\", \"plotlyServerURL\": \"https://plot.ly\", \"responsive\": true}                    ).then(function(){\n",
       "                            \n",
       "var gd = document.getElementById('3b7c72c6-9fae-4f05-a18d-707776aae6e6');\n",
       "var x = new MutationObserver(function (mutations, observer) {{\n",
       "        var display = window.getComputedStyle(gd).display;\n",
       "        if (!display || display === 'none') {{\n",
       "            console.log([gd, 'removed!']);\n",
       "            Plotly.purge(gd);\n",
       "            observer.disconnect();\n",
       "        }}\n",
       "}});\n",
       "\n",
       "// Listen for the removal of the full notebook cells\n",
       "var notebookContainer = gd.closest('#notebook-container');\n",
       "if (notebookContainer) {{\n",
       "    x.observe(notebookContainer, {childList: true});\n",
       "}}\n",
       "\n",
       "// Listen for the clearing of the current output cell\n",
       "var outputEl = gd.closest('.output');\n",
       "if (outputEl) {{\n",
       "    x.observe(outputEl, {childList: true});\n",
       "}}\n",
       "\n",
       "                        })                };                });            </script>        </div>"
      ]
     },
     "metadata": {},
     "output_type": "display_data"
    }
   ],
   "source": [
    "df2.iplot(kind='bar',x='Category',y='Values')"
   ]
  },
  {
   "cell_type": "code",
   "execution_count": 30,
   "metadata": {
    "collapsed": false,
    "jupyter": {
     "outputs_hidden": false
    }
   },
   "outputs": [
    {
     "data": {
      "application/vnd.plotly.v1+json": {
       "config": {
        "linkText": "Export to plot.ly",
        "plotlyServerURL": "https://plot.ly",
        "showLink": true
       },
       "data": [
        {
         "marker": {
          "color": "rgba(255, 153, 51, 0.6)",
          "line": {
           "color": "rgba(255, 153, 51, 1.0)",
           "width": 1
          }
         },
         "name": "None",
         "orientation": "v",
         "text": "",
         "type": "bar",
         "x": [
          "A",
          "B",
          "C",
          "D"
         ],
         "y": [
          100,
          100,
          100,
          100
         ]
        }
       ],
       "layout": {
        "autosize": true,
        "legend": {
         "bgcolor": "#F5F6F9",
         "font": {
          "color": "#4D5663"
         }
        },
        "paper_bgcolor": "#F5F6F9",
        "plot_bgcolor": "#F5F6F9",
        "template": {
         "data": {
          "bar": [
           {
            "error_x": {
             "color": "#2a3f5f"
            },
            "error_y": {
             "color": "#2a3f5f"
            },
            "marker": {
             "line": {
              "color": "#E5ECF6",
              "width": 0.5
             },
             "pattern": {
              "fillmode": "overlay",
              "size": 10,
              "solidity": 0.2
             }
            },
            "type": "bar"
           }
          ],
          "barpolar": [
           {
            "marker": {
             "line": {
              "color": "#E5ECF6",
              "width": 0.5
             },
             "pattern": {
              "fillmode": "overlay",
              "size": 10,
              "solidity": 0.2
             }
            },
            "type": "barpolar"
           }
          ],
          "carpet": [
           {
            "aaxis": {
             "endlinecolor": "#2a3f5f",
             "gridcolor": "white",
             "linecolor": "white",
             "minorgridcolor": "white",
             "startlinecolor": "#2a3f5f"
            },
            "baxis": {
             "endlinecolor": "#2a3f5f",
             "gridcolor": "white",
             "linecolor": "white",
             "minorgridcolor": "white",
             "startlinecolor": "#2a3f5f"
            },
            "type": "carpet"
           }
          ],
          "choropleth": [
           {
            "colorbar": {
             "outlinewidth": 0,
             "ticks": ""
            },
            "type": "choropleth"
           }
          ],
          "contour": [
           {
            "colorbar": {
             "outlinewidth": 0,
             "ticks": ""
            },
            "colorscale": [
             [
              0,
              "#0d0887"
             ],
             [
              0.1111111111111111,
              "#46039f"
             ],
             [
              0.2222222222222222,
              "#7201a8"
             ],
             [
              0.3333333333333333,
              "#9c179e"
             ],
             [
              0.4444444444444444,
              "#bd3786"
             ],
             [
              0.5555555555555556,
              "#d8576b"
             ],
             [
              0.6666666666666666,
              "#ed7953"
             ],
             [
              0.7777777777777778,
              "#fb9f3a"
             ],
             [
              0.8888888888888888,
              "#fdca26"
             ],
             [
              1,
              "#f0f921"
             ]
            ],
            "type": "contour"
           }
          ],
          "contourcarpet": [
           {
            "colorbar": {
             "outlinewidth": 0,
             "ticks": ""
            },
            "type": "contourcarpet"
           }
          ],
          "heatmap": [
           {
            "colorbar": {
             "outlinewidth": 0,
             "ticks": ""
            },
            "colorscale": [
             [
              0,
              "#0d0887"
             ],
             [
              0.1111111111111111,
              "#46039f"
             ],
             [
              0.2222222222222222,
              "#7201a8"
             ],
             [
              0.3333333333333333,
              "#9c179e"
             ],
             [
              0.4444444444444444,
              "#bd3786"
             ],
             [
              0.5555555555555556,
              "#d8576b"
             ],
             [
              0.6666666666666666,
              "#ed7953"
             ],
             [
              0.7777777777777778,
              "#fb9f3a"
             ],
             [
              0.8888888888888888,
              "#fdca26"
             ],
             [
              1,
              "#f0f921"
             ]
            ],
            "type": "heatmap"
           }
          ],
          "heatmapgl": [
           {
            "colorbar": {
             "outlinewidth": 0,
             "ticks": ""
            },
            "colorscale": [
             [
              0,
              "#0d0887"
             ],
             [
              0.1111111111111111,
              "#46039f"
             ],
             [
              0.2222222222222222,
              "#7201a8"
             ],
             [
              0.3333333333333333,
              "#9c179e"
             ],
             [
              0.4444444444444444,
              "#bd3786"
             ],
             [
              0.5555555555555556,
              "#d8576b"
             ],
             [
              0.6666666666666666,
              "#ed7953"
             ],
             [
              0.7777777777777778,
              "#fb9f3a"
             ],
             [
              0.8888888888888888,
              "#fdca26"
             ],
             [
              1,
              "#f0f921"
             ]
            ],
            "type": "heatmapgl"
           }
          ],
          "histogram": [
           {
            "marker": {
             "pattern": {
              "fillmode": "overlay",
              "size": 10,
              "solidity": 0.2
             }
            },
            "type": "histogram"
           }
          ],
          "histogram2d": [
           {
            "colorbar": {
             "outlinewidth": 0,
             "ticks": ""
            },
            "colorscale": [
             [
              0,
              "#0d0887"
             ],
             [
              0.1111111111111111,
              "#46039f"
             ],
             [
              0.2222222222222222,
              "#7201a8"
             ],
             [
              0.3333333333333333,
              "#9c179e"
             ],
             [
              0.4444444444444444,
              "#bd3786"
             ],
             [
              0.5555555555555556,
              "#d8576b"
             ],
             [
              0.6666666666666666,
              "#ed7953"
             ],
             [
              0.7777777777777778,
              "#fb9f3a"
             ],
             [
              0.8888888888888888,
              "#fdca26"
             ],
             [
              1,
              "#f0f921"
             ]
            ],
            "type": "histogram2d"
           }
          ],
          "histogram2dcontour": [
           {
            "colorbar": {
             "outlinewidth": 0,
             "ticks": ""
            },
            "colorscale": [
             [
              0,
              "#0d0887"
             ],
             [
              0.1111111111111111,
              "#46039f"
             ],
             [
              0.2222222222222222,
              "#7201a8"
             ],
             [
              0.3333333333333333,
              "#9c179e"
             ],
             [
              0.4444444444444444,
              "#bd3786"
             ],
             [
              0.5555555555555556,
              "#d8576b"
             ],
             [
              0.6666666666666666,
              "#ed7953"
             ],
             [
              0.7777777777777778,
              "#fb9f3a"
             ],
             [
              0.8888888888888888,
              "#fdca26"
             ],
             [
              1,
              "#f0f921"
             ]
            ],
            "type": "histogram2dcontour"
           }
          ],
          "mesh3d": [
           {
            "colorbar": {
             "outlinewidth": 0,
             "ticks": ""
            },
            "type": "mesh3d"
           }
          ],
          "parcoords": [
           {
            "line": {
             "colorbar": {
              "outlinewidth": 0,
              "ticks": ""
             }
            },
            "type": "parcoords"
           }
          ],
          "pie": [
           {
            "automargin": true,
            "type": "pie"
           }
          ],
          "scatter": [
           {
            "fillpattern": {
             "fillmode": "overlay",
             "size": 10,
             "solidity": 0.2
            },
            "type": "scatter"
           }
          ],
          "scatter3d": [
           {
            "line": {
             "colorbar": {
              "outlinewidth": 0,
              "ticks": ""
             }
            },
            "marker": {
             "colorbar": {
              "outlinewidth": 0,
              "ticks": ""
             }
            },
            "type": "scatter3d"
           }
          ],
          "scattercarpet": [
           {
            "marker": {
             "colorbar": {
              "outlinewidth": 0,
              "ticks": ""
             }
            },
            "type": "scattercarpet"
           }
          ],
          "scattergeo": [
           {
            "marker": {
             "colorbar": {
              "outlinewidth": 0,
              "ticks": ""
             }
            },
            "type": "scattergeo"
           }
          ],
          "scattergl": [
           {
            "marker": {
             "colorbar": {
              "outlinewidth": 0,
              "ticks": ""
             }
            },
            "type": "scattergl"
           }
          ],
          "scattermapbox": [
           {
            "marker": {
             "colorbar": {
              "outlinewidth": 0,
              "ticks": ""
             }
            },
            "type": "scattermapbox"
           }
          ],
          "scatterpolar": [
           {
            "marker": {
             "colorbar": {
              "outlinewidth": 0,
              "ticks": ""
             }
            },
            "type": "scatterpolar"
           }
          ],
          "scatterpolargl": [
           {
            "marker": {
             "colorbar": {
              "outlinewidth": 0,
              "ticks": ""
             }
            },
            "type": "scatterpolargl"
           }
          ],
          "scatterternary": [
           {
            "marker": {
             "colorbar": {
              "outlinewidth": 0,
              "ticks": ""
             }
            },
            "type": "scatterternary"
           }
          ],
          "surface": [
           {
            "colorbar": {
             "outlinewidth": 0,
             "ticks": ""
            },
            "colorscale": [
             [
              0,
              "#0d0887"
             ],
             [
              0.1111111111111111,
              "#46039f"
             ],
             [
              0.2222222222222222,
              "#7201a8"
             ],
             [
              0.3333333333333333,
              "#9c179e"
             ],
             [
              0.4444444444444444,
              "#bd3786"
             ],
             [
              0.5555555555555556,
              "#d8576b"
             ],
             [
              0.6666666666666666,
              "#ed7953"
             ],
             [
              0.7777777777777778,
              "#fb9f3a"
             ],
             [
              0.8888888888888888,
              "#fdca26"
             ],
             [
              1,
              "#f0f921"
             ]
            ],
            "type": "surface"
           }
          ],
          "table": [
           {
            "cells": {
             "fill": {
              "color": "#EBF0F8"
             },
             "line": {
              "color": "white"
             }
            },
            "header": {
             "fill": {
              "color": "#C8D4E3"
             },
             "line": {
              "color": "white"
             }
            },
            "type": "table"
           }
          ]
         },
         "layout": {
          "annotationdefaults": {
           "arrowcolor": "#2a3f5f",
           "arrowhead": 0,
           "arrowwidth": 1
          },
          "autotypenumbers": "strict",
          "coloraxis": {
           "colorbar": {
            "outlinewidth": 0,
            "ticks": ""
           }
          },
          "colorscale": {
           "diverging": [
            [
             0,
             "#8e0152"
            ],
            [
             0.1,
             "#c51b7d"
            ],
            [
             0.2,
             "#de77ae"
            ],
            [
             0.3,
             "#f1b6da"
            ],
            [
             0.4,
             "#fde0ef"
            ],
            [
             0.5,
             "#f7f7f7"
            ],
            [
             0.6,
             "#e6f5d0"
            ],
            [
             0.7,
             "#b8e186"
            ],
            [
             0.8,
             "#7fbc41"
            ],
            [
             0.9,
             "#4d9221"
            ],
            [
             1,
             "#276419"
            ]
           ],
           "sequential": [
            [
             0,
             "#0d0887"
            ],
            [
             0.1111111111111111,
             "#46039f"
            ],
            [
             0.2222222222222222,
             "#7201a8"
            ],
            [
             0.3333333333333333,
             "#9c179e"
            ],
            [
             0.4444444444444444,
             "#bd3786"
            ],
            [
             0.5555555555555556,
             "#d8576b"
            ],
            [
             0.6666666666666666,
             "#ed7953"
            ],
            [
             0.7777777777777778,
             "#fb9f3a"
            ],
            [
             0.8888888888888888,
             "#fdca26"
            ],
            [
             1,
             "#f0f921"
            ]
           ],
           "sequentialminus": [
            [
             0,
             "#0d0887"
            ],
            [
             0.1111111111111111,
             "#46039f"
            ],
            [
             0.2222222222222222,
             "#7201a8"
            ],
            [
             0.3333333333333333,
             "#9c179e"
            ],
            [
             0.4444444444444444,
             "#bd3786"
            ],
            [
             0.5555555555555556,
             "#d8576b"
            ],
            [
             0.6666666666666666,
             "#ed7953"
            ],
            [
             0.7777777777777778,
             "#fb9f3a"
            ],
            [
             0.8888888888888888,
             "#fdca26"
            ],
            [
             1,
             "#f0f921"
            ]
           ]
          },
          "colorway": [
           "#636efa",
           "#EF553B",
           "#00cc96",
           "#ab63fa",
           "#FFA15A",
           "#19d3f3",
           "#FF6692",
           "#B6E880",
           "#FF97FF",
           "#FECB52"
          ],
          "font": {
           "color": "#2a3f5f"
          },
          "geo": {
           "bgcolor": "white",
           "lakecolor": "white",
           "landcolor": "#E5ECF6",
           "showlakes": true,
           "showland": true,
           "subunitcolor": "white"
          },
          "hoverlabel": {
           "align": "left"
          },
          "hovermode": "closest",
          "mapbox": {
           "style": "light"
          },
          "paper_bgcolor": "white",
          "plot_bgcolor": "#E5ECF6",
          "polar": {
           "angularaxis": {
            "gridcolor": "white",
            "linecolor": "white",
            "ticks": ""
           },
           "bgcolor": "#E5ECF6",
           "radialaxis": {
            "gridcolor": "white",
            "linecolor": "white",
            "ticks": ""
           }
          },
          "scene": {
           "xaxis": {
            "backgroundcolor": "#E5ECF6",
            "gridcolor": "white",
            "gridwidth": 2,
            "linecolor": "white",
            "showbackground": true,
            "ticks": "",
            "zerolinecolor": "white"
           },
           "yaxis": {
            "backgroundcolor": "#E5ECF6",
            "gridcolor": "white",
            "gridwidth": 2,
            "linecolor": "white",
            "showbackground": true,
            "ticks": "",
            "zerolinecolor": "white"
           },
           "zaxis": {
            "backgroundcolor": "#E5ECF6",
            "gridcolor": "white",
            "gridwidth": 2,
            "linecolor": "white",
            "showbackground": true,
            "ticks": "",
            "zerolinecolor": "white"
           }
          },
          "shapedefaults": {
           "line": {
            "color": "#2a3f5f"
           }
          },
          "ternary": {
           "aaxis": {
            "gridcolor": "white",
            "linecolor": "white",
            "ticks": ""
           },
           "baxis": {
            "gridcolor": "white",
            "linecolor": "white",
            "ticks": ""
           },
           "bgcolor": "#E5ECF6",
           "caxis": {
            "gridcolor": "white",
            "linecolor": "white",
            "ticks": ""
           }
          },
          "title": {
           "x": 0.05
          },
          "xaxis": {
           "automargin": true,
           "gridcolor": "white",
           "linecolor": "white",
           "ticks": "",
           "title": {
            "standoff": 15
           },
           "zerolinecolor": "white",
           "zerolinewidth": 2
          },
          "yaxis": {
           "automargin": true,
           "gridcolor": "white",
           "linecolor": "white",
           "ticks": "",
           "title": {
            "standoff": 15
           },
           "zerolinecolor": "white",
           "zerolinewidth": 2
          }
         }
        },
        "title": {
         "font": {
          "color": "#4D5663"
         }
        },
        "xaxis": {
         "autorange": true,
         "gridcolor": "#E1E5ED",
         "range": [
          -0.5,
          3.5
         ],
         "showgrid": true,
         "tickfont": {
          "color": "#4D5663"
         },
         "title": {
          "font": {
           "color": "#4D5663"
          },
          "text": ""
         },
         "type": "category",
         "zerolinecolor": "#E1E5ED"
        },
        "yaxis": {
         "autorange": true,
         "gridcolor": "#E1E5ED",
         "range": [
          0,
          105.26315789473684
         ],
         "showgrid": true,
         "tickfont": {
          "color": "#4D5663"
         },
         "title": {
          "font": {
           "color": "#4D5663"
          },
          "text": ""
         },
         "type": "linear",
         "zerolinecolor": "#E1E5ED"
        }
       }
      },
      "image/png": "[encoded data removed]",
      "text/html": [
       "<div>                            <div id=\"1cfd768f-c638-4aa7-95d1-a13c2ec0d0e6\" class=\"plotly-graph-div\" style=\"height:525px; width:100%;\"></div>            <script type=\"text/javascript\">                require([\"plotly\"], function(Plotly) {                    window.PLOTLYENV=window.PLOTLYENV || {};\n",
       "                    window.PLOTLYENV.BASE_URL='https://plot.ly';                                    if (document.getElementById(\"1cfd768f-c638-4aa7-95d1-a13c2ec0d0e6\")) {                    Plotly.newPlot(                        \"1cfd768f-c638-4aa7-95d1-a13c2ec0d0e6\",                        [{\"marker\":{\"color\":\"rgba(255, 153, 51, 0.6)\",\"line\":{\"color\":\"rgba(255, 153, 51, 1.0)\",\"width\":1}},\"name\":\"None\",\"orientation\":\"v\",\"text\":\"\",\"x\":[\"A\",\"B\",\"C\",\"D\"],\"y\":[100,100,100,100],\"type\":\"bar\"}],                        {\"legend\":{\"bgcolor\":\"#F5F6F9\",\"font\":{\"color\":\"#4D5663\"}},\"paper_bgcolor\":\"#F5F6F9\",\"plot_bgcolor\":\"#F5F6F9\",\"template\":{\"data\":{\"barpolar\":[{\"marker\":{\"line\":{\"color\":\"#E5ECF6\",\"width\":0.5},\"pattern\":{\"fillmode\":\"overlay\",\"size\":10,\"solidity\":0.2}},\"type\":\"barpolar\"}],\"bar\":[{\"error_x\":{\"color\":\"#2a3f5f\"},\"error_y\":{\"color\":\"#2a3f5f\"},\"marker\":{\"line\":{\"color\":\"#E5ECF6\",\"width\":0.5},\"pattern\":{\"fillmode\":\"overlay\",\"size\":10,\"solidity\":0.2}},\"type\":\"bar\"}],\"carpet\":[{\"aaxis\":{\"endlinecolor\":\"#2a3f5f\",\"gridcolor\":\"white\",\"linecolor\":\"white\",\"minorgridcolor\":\"white\",\"startlinecolor\":\"#2a3f5f\"},\"baxis\":{\"endlinecolor\":\"#2a3f5f\",\"gridcolor\":\"white\",\"linecolor\":\"white\",\"minorgridcolor\":\"white\",\"startlinecolor\":\"#2a3f5f\"},\"type\":\"carpet\"}],\"choropleth\":[{\"colorbar\":{\"outlinewidth\":0,\"ticks\":\"\"},\"type\":\"choropleth\"}],\"contourcarpet\":[{\"colorbar\":{\"outlinewidth\":0,\"ticks\":\"\"},\"type\":\"contourcarpet\"}],\"contour\":[{\"colorbar\":{\"outlinewidth\":0,\"ticks\":\"\"},\"colorscale\":[[0.0,\"#0d0887\"],[0.1111111111111111,\"#46039f\"],[0.2222222222222222,\"#7201a8\"],[0.3333333333333333,\"#9c179e\"],[0.4444444444444444,\"#bd3786\"],[0.5555555555555556,\"#d8576b\"],[0.6666666666666666,\"#ed7953\"],[0.7777777777777778,\"#fb9f3a\"],[0.8888888888888888,\"#fdca26\"],[1.0,\"#f0f921\"]],\"type\":\"contour\"}],\"heatmapgl\":[{\"colorbar\":{\"outlinewidth\":0,\"ticks\":\"\"},\"colorscale\":[[0.0,\"#0d0887\"],[0.1111111111111111,\"#46039f\"],[0.2222222222222222,\"#7201a8\"],[0.3333333333333333,\"#9c179e\"],[0.4444444444444444,\"#bd3786\"],[0.5555555555555556,\"#d8576b\"],[0.6666666666666666,\"#ed7953\"],[0.7777777777777778,\"#fb9f3a\"],[0.8888888888888888,\"#fdca26\"],[1.0,\"#f0f921\"]],\"type\":\"heatmapgl\"}],\"heatmap\":[{\"colorbar\":{\"outlinewidth\":0,\"ticks\":\"\"},\"colorscale\":[[0.0,\"#0d0887\"],[0.1111111111111111,\"#46039f\"],[0.2222222222222222,\"#7201a8\"],[0.3333333333333333,\"#9c179e\"],[0.4444444444444444,\"#bd3786\"],[0.5555555555555556,\"#d8576b\"],[0.6666666666666666,\"#ed7953\"],[0.7777777777777778,\"#fb9f3a\"],[0.8888888888888888,\"#fdca26\"],[1.0,\"#f0f921\"]],\"type\":\"heatmap\"}],\"histogram2dcontour\":[{\"colorbar\":{\"outlinewidth\":0,\"ticks\":\"\"},\"colorscale\":[[0.0,\"#0d0887\"],[0.1111111111111111,\"#46039f\"],[0.2222222222222222,\"#7201a8\"],[0.3333333333333333,\"#9c179e\"],[0.4444444444444444,\"#bd3786\"],[0.5555555555555556,\"#d8576b\"],[0.6666666666666666,\"#ed7953\"],[0.7777777777777778,\"#fb9f3a\"],[0.8888888888888888,\"#fdca26\"],[1.0,\"#f0f921\"]],\"type\":\"histogram2dcontour\"}],\"histogram2d\":[{\"colorbar\":{\"outlinewidth\":0,\"ticks\":\"\"},\"colorscale\":[[0.0,\"#0d0887\"],[0.1111111111111111,\"#46039f\"],[0.2222222222222222,\"#7201a8\"],[0.3333333333333333,\"#9c179e\"],[0.4444444444444444,\"#bd3786\"],[0.5555555555555556,\"#d8576b\"],[0.6666666666666666,\"#ed7953\"],[0.7777777777777778,\"#fb9f3a\"],[0.8888888888888888,\"#fdca26\"],[1.0,\"#f0f921\"]],\"type\":\"histogram2d\"}],\"histogram\":[{\"marker\":{\"pattern\":{\"fillmode\":\"overlay\",\"size\":10,\"solidity\":0.2}},\"type\":\"histogram\"}],\"mesh3d\":[{\"colorbar\":{\"outlinewidth\":0,\"ticks\":\"\"},\"type\":\"mesh3d\"}],\"parcoords\":[{\"line\":{\"colorbar\":{\"outlinewidth\":0,\"ticks\":\"\"}},\"type\":\"parcoords\"}],\"pie\":[{\"automargin\":true,\"type\":\"pie\"}],\"scatter3d\":[{\"line\":{\"colorbar\":{\"outlinewidth\":0,\"ticks\":\"\"}},\"marker\":{\"colorbar\":{\"outlinewidth\":0,\"ticks\":\"\"}},\"type\":\"scatter3d\"}],\"scattercarpet\":[{\"marker\":{\"colorbar\":{\"outlinewidth\":0,\"ticks\":\"\"}},\"type\":\"scattercarpet\"}],\"scattergeo\":[{\"marker\":{\"colorbar\":{\"outlinewidth\":0,\"ticks\":\"\"}},\"type\":\"scattergeo\"}],\"scattergl\":[{\"marker\":{\"colorbar\":{\"outlinewidth\":0,\"ticks\":\"\"}},\"type\":\"scattergl\"}],\"scattermapbox\":[{\"marker\":{\"colorbar\":{\"outlinewidth\":0,\"ticks\":\"\"}},\"type\":\"scattermapbox\"}],\"scatterpolargl\":[{\"marker\":{\"colorbar\":{\"outlinewidth\":0,\"ticks\":\"\"}},\"type\":\"scatterpolargl\"}],\"scatterpolar\":[{\"marker\":{\"colorbar\":{\"outlinewidth\":0,\"ticks\":\"\"}},\"type\":\"scatterpolar\"}],\"scatter\":[{\"fillpattern\":{\"fillmode\":\"overlay\",\"size\":10,\"solidity\":0.2},\"type\":\"scatter\"}],\"scatterternary\":[{\"marker\":{\"colorbar\":{\"outlinewidth\":0,\"ticks\":\"\"}},\"type\":\"scatterternary\"}],\"surface\":[{\"colorbar\":{\"outlinewidth\":0,\"ticks\":\"\"},\"colorscale\":[[0.0,\"#0d0887\"],[0.1111111111111111,\"#46039f\"],[0.2222222222222222,\"#7201a8\"],[0.3333333333333333,\"#9c179e\"],[0.4444444444444444,\"#bd3786\"],[0.5555555555555556,\"#d8576b\"],[0.6666666666666666,\"#ed7953\"],[0.7777777777777778,\"#fb9f3a\"],[0.8888888888888888,\"#fdca26\"],[1.0,\"#f0f921\"]],\"type\":\"surface\"}],\"table\":[{\"cells\":{\"fill\":{\"color\":\"#EBF0F8\"},\"line\":{\"color\":\"white\"}},\"header\":{\"fill\":{\"color\":\"#C8D4E3\"},\"line\":{\"color\":\"white\"}},\"type\":\"table\"}]},\"layout\":{\"annotationdefaults\":{\"arrowcolor\":\"#2a3f5f\",\"arrowhead\":0,\"arrowwidth\":1},\"autotypenumbers\":\"strict\",\"coloraxis\":{\"colorbar\":{\"outlinewidth\":0,\"ticks\":\"\"}},\"colorscale\":{\"diverging\":[[0,\"#8e0152\"],[0.1,\"#c51b7d\"],[0.2,\"#de77ae\"],[0.3,\"#f1b6da\"],[0.4,\"#fde0ef\"],[0.5,\"#f7f7f7\"],[0.6,\"#e6f5d0\"],[0.7,\"#b8e186\"],[0.8,\"#7fbc41\"],[0.9,\"#4d9221\"],[1,\"#276419\"]],\"sequential\":[[0.0,\"#0d0887\"],[0.1111111111111111,\"#46039f\"],[0.2222222222222222,\"#7201a8\"],[0.3333333333333333,\"#9c179e\"],[0.4444444444444444,\"#bd3786\"],[0.5555555555555556,\"#d8576b\"],[0.6666666666666666,\"#ed7953\"],[0.7777777777777778,\"#fb9f3a\"],[0.8888888888888888,\"#fdca26\"],[1.0,\"#f0f921\"]],\"sequentialminus\":[[0.0,\"#0d0887\"],[0.1111111111111111,\"#46039f\"],[0.2222222222222222,\"#7201a8\"],[0.3333333333333333,\"#9c179e\"],[0.4444444444444444,\"#bd3786\"],[0.5555555555555556,\"#d8576b\"],[0.6666666666666666,\"#ed7953\"],[0.7777777777777778,\"#fb9f3a\"],[0.8888888888888888,\"#fdca26\"],[1.0,\"#f0f921\"]]},\"colorway\":[\"#636efa\",\"#EF553B\",\"#00cc96\",\"#ab63fa\",\"#FFA15A\",\"#19d3f3\",\"#FF6692\",\"#B6E880\",\"#FF97FF\",\"#FECB52\"],\"font\":{\"color\":\"#2a3f5f\"},\"geo\":{\"bgcolor\":\"white\",\"lakecolor\":\"white\",\"landcolor\":\"#E5ECF6\",\"showlakes\":true,\"showland\":true,\"subunitcolor\":\"white\"},\"hoverlabel\":{\"align\":\"left\"},\"hovermode\":\"closest\",\"mapbox\":{\"style\":\"light\"},\"paper_bgcolor\":\"white\",\"plot_bgcolor\":\"#E5ECF6\",\"polar\":{\"angularaxis\":{\"gridcolor\":\"white\",\"linecolor\":\"white\",\"ticks\":\"\"},\"bgcolor\":\"#E5ECF6\",\"radialaxis\":{\"gridcolor\":\"white\",\"linecolor\":\"white\",\"ticks\":\"\"}},\"scene\":{\"xaxis\":{\"backgroundcolor\":\"#E5ECF6\",\"gridcolor\":\"white\",\"gridwidth\":2,\"linecolor\":\"white\",\"showbackground\":true,\"ticks\":\"\",\"zerolinecolor\":\"white\"},\"yaxis\":{\"backgroundcolor\":\"#E5ECF6\",\"gridcolor\":\"white\",\"gridwidth\":2,\"linecolor\":\"white\",\"showbackground\":true,\"ticks\":\"\",\"zerolinecolor\":\"white\"},\"zaxis\":{\"backgroundcolor\":\"#E5ECF6\",\"gridcolor\":\"white\",\"gridwidth\":2,\"linecolor\":\"white\",\"showbackground\":true,\"ticks\":\"\",\"zerolinecolor\":\"white\"}},\"shapedefaults\":{\"line\":{\"color\":\"#2a3f5f\"}},\"ternary\":{\"aaxis\":{\"gridcolor\":\"white\",\"linecolor\":\"white\",\"ticks\":\"\"},\"baxis\":{\"gridcolor\":\"white\",\"linecolor\":\"white\",\"ticks\":\"\"},\"bgcolor\":\"#E5ECF6\",\"caxis\":{\"gridcolor\":\"white\",\"linecolor\":\"white\",\"ticks\":\"\"}},\"title\":{\"x\":0.05},\"xaxis\":{\"automargin\":true,\"gridcolor\":\"white\",\"linecolor\":\"white\",\"ticks\":\"\",\"title\":{\"standoff\":15},\"zerolinecolor\":\"white\",\"zerolinewidth\":2},\"yaxis\":{\"automargin\":true,\"gridcolor\":\"white\",\"linecolor\":\"white\",\"ticks\":\"\",\"title\":{\"standoff\":15},\"zerolinecolor\":\"white\",\"zerolinewidth\":2}}},\"title\":{\"font\":{\"color\":\"#4D5663\"}},\"xaxis\":{\"gridcolor\":\"#E1E5ED\",\"showgrid\":true,\"tickfont\":{\"color\":\"#4D5663\"},\"title\":{\"font\":{\"color\":\"#4D5663\"},\"text\":\"\"},\"zerolinecolor\":\"#E1E5ED\"},\"yaxis\":{\"gridcolor\":\"#E1E5ED\",\"showgrid\":true,\"tickfont\":{\"color\":\"#4D5663\"},\"title\":{\"font\":{\"color\":\"#4D5663\"},\"text\":\"\"},\"zerolinecolor\":\"#E1E5ED\"}},                        {\"showLink\": true, \"linkText\": \"Export to plot.ly\", \"plotlyServerURL\": \"https://plot.ly\", \"responsive\": true}                    ).then(function(){\n",
       "                            \n",
       "var gd = document.getElementById('1cfd768f-c638-4aa7-95d1-a13c2ec0d0e6');\n",
       "var x = new MutationObserver(function (mutations, observer) {{\n",
       "        var display = window.getComputedStyle(gd).display;\n",
       "        if (!display || display === 'none') {{\n",
       "            console.log([gd, 'removed!']);\n",
       "            Plotly.purge(gd);\n",
       "            observer.disconnect();\n",
       "        }}\n",
       "}});\n",
       "\n",
       "// Listen for the removal of the full notebook cells\n",
       "var notebookContainer = gd.closest('#notebook-container');\n",
       "if (notebookContainer) {{\n",
       "    x.observe(notebookContainer, {childList: true});\n",
       "}}\n",
       "\n",
       "// Listen for the clearing of the current output cell\n",
       "var outputEl = gd.closest('.output');\n",
       "if (outputEl) {{\n",
       "    x.observe(outputEl, {childList: true});\n",
       "}}\n",
       "\n",
       "                        })                };                });            </script>        </div>"
      ]
     },
     "metadata": {},
     "output_type": "display_data"
    }
   ],
   "source": [
    "df.count().iplot(kind='bar')"
   ]
  },
  {
   "cell_type": "markdown",
   "metadata": {},
   "source": [
    "## Boxplots"
   ]
  },
  {
   "cell_type": "code",
   "execution_count": 32,
   "metadata": {
    "collapsed": false,
    "jupyter": {
     "outputs_hidden": false
    }
   },
   "outputs": [
    {
     "data": {
      "application/vnd.plotly.v1+json": {
       "config": {
        "linkText": "Export to plot.ly",
        "plotlyServerURL": "https://plot.ly",
        "showLink": true
       },
       "data": [
        {
         "boxpoints": false,
         "line": {
          "width": 1.3
         },
         "marker": {
          "color": "rgba(255, 153, 51, 1.0)"
         },
         "name": "A",
         "orientation": "v",
         "type": "box",
         "y": [
          0.8102783342500975,
          -0.6253496339817639,
          -2.1243974907659204,
          0.720743963340369,
          -0.36064835386640587,
          0.5759738002613626,
          -0.5408838512778968,
          0.9063815011325167,
          0.14367225921632368,
          0.00026148660293838066,
          0.8467757610440696,
          1.0618325092089878,
          0.6601824163443513,
          -0.48520520012482693,
          0.16871597616384307,
          1.9223052368503024,
          0.9388082883234752,
          0.5088942209079874,
          -0.04230165123367031,
          -0.7526132624711495,
          -0.415041342875489,
          -0.793150586675246,
          -1.3157120016215045,
          -0.3129688528150545,
          -0.33178453177328393,
          0.6738932217934391,
          -0.20852567734951294,
          -0.5355302645486091,
          0.31758960828690674,
          -1.0782016494131208,
          -0.4943059018241482,
          2.3595732177828745,
          -0.8784700471766782,
          -1.566200134991812,
          2.371764508822633,
          0.4656996839084545,
          -0.5979722939647736,
          1.2026987046903905,
          -0.5774282822965877,
          -1.1912118849000355,
          1.1985479855522592,
          0.2620589711638922,
          -0.13955147837889778,
          2.006276192685832,
          -3.0593131305730212,
          -0.3135204450592635,
          0.49172621192557314,
          0.05953014894188452,
          0.5365399611316989,
          0.4195142732653403,
          -0.6770591662178267,
          -0.2436721827521768,
          1.6485546212968694,
          1.0777191974521207,
          -0.8235713648686525,
          1.1428728019017498,
          -1.0679338620343783,
          0.24667409787800906,
          -1.7012725976148813,
          0.3900854386786318,
          -0.0690631840386189,
          2.4425043139920115,
          -1.1018934707019725,
          -1.0725826387263075,
          0.5906422575776665,
          0.9317450123551313,
          -1.1094945245226584,
          -0.13924398333838528,
          0.6423994151056848,
          0.9343018357089617,
          -0.12462754521955423,
          -0.4534461912534964,
          0.3736980081177701,
          0.17323250427614217,
          0.1366559450676414,
          -1.5033057674814936,
          -1.5672884375220335,
          -0.6571575852753471,
          -0.6395666738075189,
          -0.048474604736042155,
          -0.8283140638768075,
          0.5051085347510471,
          -0.07435138461353441,
          0.7054559130856934,
          -0.4452511251612592,
          -1.7403303648604576,
          -0.8504417681382134,
          0.10098301367735862,
          2.9622665316121757,
          1.0923483440863093,
          1.7927479468119651,
          -1.311470384073283,
          0.22374389200951048,
          -0.530987810356002,
          0.11747030791334216,
          -1.6590230098865948,
          0.5041533225812629,
          -0.12948004730523324,
          0.658166074407969,
          -1.0808986418415536
         ]
        },
        {
         "boxpoints": false,
         "line": {
          "width": 1.3
         },
         "marker": {
          "color": "rgba(55, 128, 191, 1.0)"
         },
         "name": "B",
         "orientation": "v",
         "type": "box",
         "y": [
          -0.5867832721021545,
          -0.07652741634221236,
          0.2364293046163907,
          -0.6144816203385531,
          0.012973345926433438,
          0.140602345064779,
          -1.0030025953938253,
          -1.502643397426585,
          0.5896630453075187,
          -0.21859864301934573,
          2.5606146076852134,
          -0.18445397195904925,
          0.14404944732764993,
          -0.176190196082285,
          -0.1814650597022292,
          -0.6035618716856341,
          -0.2698398063907249,
          -1.3758116421192002,
          -0.2515990561051834,
          -0.1699255313315551,
          1.105332227997531,
          -0.2414537899145735,
          -0.43690638271891863,
          -0.5565581304346296,
          0.6843491271174079,
          1.1144617107002537,
          -0.06617478605366806,
          0.6171150057998764,
          0.161975916590861,
          -0.8025708642901519,
          -1.5703565393095944,
          0.0263166711734827,
          -1.3396342312495948,
          0.31922014067344723,
          0.26769759042412405,
          0.8362426707322204,
          -0.16595514184267424,
          -1.5533523988763758,
          0.9483515326864449,
          0.10852470942154041,
          0.32906720227944375,
          -1.3325573708112333,
          -1.9645959663511439,
          -0.16802540689860643,
          0.13804899488468952,
          0.7199032526152568,
          -0.21241232879081512,
          0.07330227748986475,
          1.0630669830149864,
          -0.3197084203991881,
          -1.1359500413622619,
          -0.9940157702582891,
          0.12171307375231409,
          0.4592175010615597,
          -1.6271043605590056,
          0.09926530472378069,
          -0.8497057898196344,
          -0.096366003868344,
          -0.29323986028178434,
          -1.018009352091211,
          -1.5515627050638126,
          -0.31734504259472124,
          -0.4122652479440936,
          -0.3275919864238932,
          1.8995716489365664,
          -1.150485762145562,
          0.8844241629491068,
          -0.2976620794221025,
          0.4561009509196521,
          2.0577189539348164,
          -1.702448142151754,
          2.341170674518494,
          0.21098368350967794,
          1.2154631421327593,
          -1.9577382001306542,
          0.17362248923315385,
          -0.003360407917770353,
          -0.1523412451921134,
          -0.2530497749244438,
          0.16256186797090352,
          1.9642697933484992,
          0.018391126687528722,
          0.46386388030333103,
          0.7217231778212309,
          -0.17967146823749583,
          -0.6188632969910778,
          0.49843235794522917,
          -2.2834075497398354,
          0.5075191162307787,
          -0.3979350596840527,
          1.808595380141962,
          1.4478435911085978,
          1.9847189806152126,
          -0.6006060868037226,
          -0.11305146669809568,
          -1.9931225359407287,
          1.1157025234863016,
          -1.4374819486724126,
          -0.5043842729131363,
          1.037573710316617
         ]
        },
        {
         "boxpoints": false,
         "line": {
          "width": 1.3
         },
         "marker": {
          "color": "rgba(50, 171, 96, 1.0)"
         },
         "name": "C",
         "orientation": "v",
         "type": "box",
         "y": [
          0.28351922773921484,
          1.046079338886153,
          2.0835449174959577,
          -0.2959837142159095,
          1.6046489938849664,
          2.195836604642892,
          0.8476703120127796,
          -2.547634863137372,
          -0.054712216396222174,
          2.1329888225258657,
          -0.059495471584225815,
          1.0027270533746517,
          0.46300835233025445,
          0.6187532585825445,
          -0.2570609512119834,
          1.4147212529008464,
          -0.062449210845311465,
          -1.510290511600925,
          0.7915514510460175,
          0.23950238405602578,
          -0.5557361756236054,
          0.8098609998351721,
          -0.0642606348908341,
          -0.3615179242381196,
          0.5436390375193604,
          0.3037806166888286,
          -0.40599365076255306,
          -0.23959034673875698,
          -0.4371248110233738,
          -1.0371496615510956,
          -1.623515091941615,
          1.8605635822483575,
          -1.5979290018774897,
          0.42438996847438776,
          0.807606192078492,
          0.7409034648080791,
          0.20019373318150901,
          -0.11429639960635761,
          1.8490774305091582,
          1.5763772367578217,
          0.6748751476562145,
          -1.518245752560392,
          0.6315619024258422,
          0.2611749777840262,
          0.28096625105031553,
          0.31577453740170214,
          0.05330631332221621,
          0.5170065923129699,
          0.21998424674059666,
          -0.48562509150146704,
          -0.04152686380702287,
          0.35336271123789803,
          0.43791241215896154,
          0.4634386398511038,
          0.4557592036672411,
          -0.8686612907647687,
          1.8954925814928667,
          1.6666710998220187,
          -0.19855340511356662,
          -0.6244916540652142,
          0.11233984574108362,
          0.6573799337069568,
          -0.27734125406271254,
          1.1970696482493897,
          -0.005662538042132438,
          1.5307851341353675,
          0.6149973143148547,
          -0.33701918074932347,
          -0.3108753143191812,
          0.289697682560031,
          1.3484456553144994,
          0.1298085780557541,
          -0.06992415209331283,
          -1.4199493782632415,
          0.815984765622038,
          0.327747728667979,
          -0.5902645821663245,
          -0.018765691119965087,
          -0.9683062677574454,
          -0.7425838324089256,
          0.14431852678860446,
          1.6422290164330002,
          0.01198419697002567,
          -2.0889120664528815,
          0.4131738258812024,
          -0.6361816130078658,
          -0.2571632252233618,
          0.3168497679233199,
          -0.6404558672207877,
          0.8338503060179236,
          0.4959482400434411,
          0.9037280611012579,
          0.8038194261550938,
          -1.0692955593268663,
          -0.5481924534934708,
          1.415618063415662,
          2.4096561073428333,
          -1.1275883694024578,
          -0.5422482986699697,
          1.019019392943807
         ]
        },
        {
         "boxpoints": false,
         "line": {
          "width": 1.3
         },
         "marker": {
          "color": "rgba(128, 0, 128, 1.0)"
         },
         "name": "D",
         "orientation": "v",
         "type": "box",
         "y": [
          1.099922373835138,
          0.2626572007696351,
          0.6809920120680077,
          0.37568407155213374,
          -0.04864881787822194,
          -0.15963142619448523,
          1.8173178561527665,
          1.5041195694376848,
          2.05487800502223,
          -0.12444346809989125,
          -1.6307883976081554,
          -1.6464784995276835,
          1.4171575806942058,
          0.5639289745490836,
          1.7095359980145544,
          1.3602531934702955,
          0.3269527230867582,
          0.0962032854064902,
          -0.45256047949482786,
          -0.5281708916340596,
          0.4227948741861683,
          0.9280536909798838,
          -0.09479959883794437,
          -1.6608330524519894,
          -0.6502396062774366,
          1.6849774649383609,
          -0.23244221019765693,
          0.2412117981760023,
          0.26308115933206583,
          -0.05934572352369715,
          -0.9279862996400814,
          -0.45450798761106453,
          2.2239840681385092,
          -1.0204245595011332,
          -0.44008415350396585,
          -1.7332884312994834,
          1.2330866954107442,
          -1.755421872197194,
          2.3383790326210687,
          0.22412552553348905,
          0.7426698507509121,
          0.7991221908818573,
          -0.26933653499043236,
          0.42254507732436375,
          1.231213801855879,
          -1.627001480328027,
          -0.021531903646123327,
          -0.8089248875165332,
          0.048405150235370814,
          -1.4954076911569576,
          1.0611565413171433,
          0.9307030406188339,
          0.12610174945894356,
          0.19156395186408465,
          0.3259755708201364,
          1.9806336100085007,
          -0.31701502517410435,
          0.09801311213732218,
          -0.8820221079518904,
          -0.30193543751284246,
          0.12639965464310587,
          0.5823710345422258,
          1.2061216199301237,
          0.7745830379588147,
          1.331827185818298,
          1.5509431753167309,
          -0.568727003681773,
          -0.7256118493722932,
          1.7945026676551865,
          -0.7741373899581679,
          0.9454067577115647,
          1.451698489595251,
          -0.7641265768049319,
          -1.2493657381872179,
          1.39305373407263,
          0.8803628302029253,
          -0.11303504106680408,
          -0.12660893520742172,
          -0.27249779574034855,
          -0.10297221383786716,
          -0.02062883317220425,
          0.7200439778651814,
          0.13938792514308868,
          -1.2325145192835052,
          0.953490759422294,
          -2.0122315617481092,
          -0.4895342823299396,
          -1.3909466622535194,
          0.7380253108900534,
          0.6338021472951514,
          0.5938533715232079,
          0.24744804199013162,
          -0.23707522924646277,
          -0.3102068463632845,
          0.6565122117080727,
          2.4719111386502304,
          0.9428754947558217,
          0.36462123436155686,
          0.4890263356037747,
          0.4608907840779743
         ]
        }
       ],
       "layout": {
        "autosize": true,
        "legend": {
         "bgcolor": "#F5F6F9",
         "font": {
          "color": "#4D5663"
         }
        },
        "paper_bgcolor": "#F5F6F9",
        "plot_bgcolor": "#F5F6F9",
        "template": {
         "data": {
          "bar": [
           {
            "error_x": {
             "color": "#2a3f5f"
            },
            "error_y": {
             "color": "#2a3f5f"
            },
            "marker": {
             "line": {
              "color": "#E5ECF6",
              "width": 0.5
             },
             "pattern": {
              "fillmode": "overlay",
              "size": 10,
              "solidity": 0.2
             }
            },
            "type": "bar"
           }
          ],
          "barpolar": [
           {
            "marker": {
             "line": {
              "color": "#E5ECF6",
              "width": 0.5
             },
             "pattern": {
              "fillmode": "overlay",
              "size": 10,
              "solidity": 0.2
             }
            },
            "type": "barpolar"
           }
          ],
          "carpet": [
           {
            "aaxis": {
             "endlinecolor": "#2a3f5f",
             "gridcolor": "white",
             "linecolor": "white",
             "minorgridcolor": "white",
             "startlinecolor": "#2a3f5f"
            },
            "baxis": {
             "endlinecolor": "#2a3f5f",
             "gridcolor": "white",
             "linecolor": "white",
             "minorgridcolor": "white",
             "startlinecolor": "#2a3f5f"
            },
            "type": "carpet"
           }
          ],
          "choropleth": [
           {
            "colorbar": {
             "outlinewidth": 0,
             "ticks": ""
            },
            "type": "choropleth"
           }
          ],
          "contour": [
           {
            "colorbar": {
             "outlinewidth": 0,
             "ticks": ""
            },
            "colorscale": [
             [
              0,
              "#0d0887"
             ],
             [
              0.1111111111111111,
              "#46039f"
             ],
             [
              0.2222222222222222,
              "#7201a8"
             ],
             [
              0.3333333333333333,
              "#9c179e"
             ],
             [
              0.4444444444444444,
              "#bd3786"
             ],
             [
              0.5555555555555556,
              "#d8576b"
             ],
             [
              0.6666666666666666,
              "#ed7953"
             ],
             [
              0.7777777777777778,
              "#fb9f3a"
             ],
             [
              0.8888888888888888,
              "#fdca26"
             ],
             [
              1,
              "#f0f921"
             ]
            ],
            "type": "contour"
           }
          ],
          "contourcarpet": [
           {
            "colorbar": {
             "outlinewidth": 0,
             "ticks": ""
            },
            "type": "contourcarpet"
           }
          ],
          "heatmap": [
           {
            "colorbar": {
             "outlinewidth": 0,
             "ticks": ""
            },
            "colorscale": [
             [
              0,
              "#0d0887"
             ],
             [
              0.1111111111111111,
              "#46039f"
             ],
             [
              0.2222222222222222,
              "#7201a8"
             ],
             [
              0.3333333333333333,
              "#9c179e"
             ],
             [
              0.4444444444444444,
              "#bd3786"
             ],
             [
              0.5555555555555556,
              "#d8576b"
             ],
             [
              0.6666666666666666,
              "#ed7953"
             ],
             [
              0.7777777777777778,
              "#fb9f3a"
             ],
             [
              0.8888888888888888,
              "#fdca26"
             ],
             [
              1,
              "#f0f921"
             ]
            ],
            "type": "heatmap"
           }
          ],
          "heatmapgl": [
           {
            "colorbar": {
             "outlinewidth": 0,
             "ticks": ""
            },
            "colorscale": [
             [
              0,
              "#0d0887"
             ],
             [
              0.1111111111111111,
              "#46039f"
             ],
             [
              0.2222222222222222,
              "#7201a8"
             ],
             [
              0.3333333333333333,
              "#9c179e"
             ],
             [
              0.4444444444444444,
              "#bd3786"
             ],
             [
              0.5555555555555556,
              "#d8576b"
             ],
             [
              0.6666666666666666,
              "#ed7953"
             ],
             [
              0.7777777777777778,
              "#fb9f3a"
             ],
             [
              0.8888888888888888,
              "#fdca26"
             ],
             [
              1,
              "#f0f921"
             ]
            ],
            "type": "heatmapgl"
           }
          ],
          "histogram": [
           {
            "marker": {
             "pattern": {
              "fillmode": "overlay",
              "size": 10,
              "solidity": 0.2
             }
            },
            "type": "histogram"
           }
          ],
          "histogram2d": [
           {
            "colorbar": {
             "outlinewidth": 0,
             "ticks": ""
            },
            "colorscale": [
             [
              0,
              "#0d0887"
             ],
             [
              0.1111111111111111,
              "#46039f"
             ],
             [
              0.2222222222222222,
              "#7201a8"
             ],
             [
              0.3333333333333333,
              "#9c179e"
             ],
             [
              0.4444444444444444,
              "#bd3786"
             ],
             [
              0.5555555555555556,
              "#d8576b"
             ],
             [
              0.6666666666666666,
              "#ed7953"
             ],
             [
              0.7777777777777778,
              "#fb9f3a"
             ],
             [
              0.8888888888888888,
              "#fdca26"
             ],
             [
              1,
              "#f0f921"
             ]
            ],
            "type": "histogram2d"
           }
          ],
          "histogram2dcontour": [
           {
            "colorbar": {
             "outlinewidth": 0,
             "ticks": ""
            },
            "colorscale": [
             [
              0,
              "#0d0887"
             ],
             [
              0.1111111111111111,
              "#46039f"
             ],
             [
              0.2222222222222222,
              "#7201a8"
             ],
             [
              0.3333333333333333,
              "#9c179e"
             ],
             [
              0.4444444444444444,
              "#bd3786"
             ],
             [
              0.5555555555555556,
              "#d8576b"
             ],
             [
              0.6666666666666666,
              "#ed7953"
             ],
             [
              0.7777777777777778,
              "#fb9f3a"
             ],
             [
              0.8888888888888888,
              "#fdca26"
             ],
             [
              1,
              "#f0f921"
             ]
            ],
            "type": "histogram2dcontour"
           }
          ],
          "mesh3d": [
           {
            "colorbar": {
             "outlinewidth": 0,
             "ticks": ""
            },
            "type": "mesh3d"
           }
          ],
          "parcoords": [
           {
            "line": {
             "colorbar": {
              "outlinewidth": 0,
              "ticks": ""
             }
            },
            "type": "parcoords"
           }
          ],
          "pie": [
           {
            "automargin": true,
            "type": "pie"
           }
          ],
          "scatter": [
           {
            "fillpattern": {
             "fillmode": "overlay",
             "size": 10,
             "solidity": 0.2
            },
            "type": "scatter"
           }
          ],
          "scatter3d": [
           {
            "line": {
             "colorbar": {
              "outlinewidth": 0,
              "ticks": ""
             }
            },
            "marker": {
             "colorbar": {
              "outlinewidth": 0,
              "ticks": ""
             }
            },
            "type": "scatter3d"
           }
          ],
          "scattercarpet": [
           {
            "marker": {
             "colorbar": {
              "outlinewidth": 0,
              "ticks": ""
             }
            },
            "type": "scattercarpet"
           }
          ],
          "scattergeo": [
           {
            "marker": {
             "colorbar": {
              "outlinewidth": 0,
              "ticks": ""
             }
            },
            "type": "scattergeo"
           }
          ],
          "scattergl": [
           {
            "marker": {
             "colorbar": {
              "outlinewidth": 0,
              "ticks": ""
             }
            },
            "type": "scattergl"
           }
          ],
          "scattermapbox": [
           {
            "marker": {
             "colorbar": {
              "outlinewidth": 0,
              "ticks": ""
             }
            },
            "type": "scattermapbox"
           }
          ],
          "scatterpolar": [
           {
            "marker": {
             "colorbar": {
              "outlinewidth": 0,
              "ticks": ""
             }
            },
            "type": "scatterpolar"
           }
          ],
          "scatterpolargl": [
           {
            "marker": {
             "colorbar": {
              "outlinewidth": 0,
              "ticks": ""
             }
            },
            "type": "scatterpolargl"
           }
          ],
          "scatterternary": [
           {
            "marker": {
             "colorbar": {
              "outlinewidth": 0,
              "ticks": ""
             }
            },
            "type": "scatterternary"
           }
          ],
          "surface": [
           {
            "colorbar": {
             "outlinewidth": 0,
             "ticks": ""
            },
            "colorscale": [
             [
              0,
              "#0d0887"
             ],
             [
              0.1111111111111111,
              "#46039f"
             ],
             [
              0.2222222222222222,
              "#7201a8"
             ],
             [
              0.3333333333333333,
              "#9c179e"
             ],
             [
              0.4444444444444444,
              "#bd3786"
             ],
             [
              0.5555555555555556,
              "#d8576b"
             ],
             [
              0.6666666666666666,
              "#ed7953"
             ],
             [
              0.7777777777777778,
              "#fb9f3a"
             ],
             [
              0.8888888888888888,
              "#fdca26"
             ],
             [
              1,
              "#f0f921"
             ]
            ],
            "type": "surface"
           }
          ],
          "table": [
           {
            "cells": {
             "fill": {
              "color": "#EBF0F8"
             },
             "line": {
              "color": "white"
             }
            },
            "header": {
             "fill": {
              "color": "#C8D4E3"
             },
             "line": {
              "color": "white"
             }
            },
            "type": "table"
           }
          ]
         },
         "layout": {
          "annotationdefaults": {
           "arrowcolor": "#2a3f5f",
           "arrowhead": 0,
           "arrowwidth": 1
          },
          "autotypenumbers": "strict",
          "coloraxis": {
           "colorbar": {
            "outlinewidth": 0,
            "ticks": ""
           }
          },
          "colorscale": {
           "diverging": [
            [
             0,
             "#8e0152"
            ],
            [
             0.1,
             "#c51b7d"
            ],
            [
             0.2,
             "#de77ae"
            ],
            [
             0.3,
             "#f1b6da"
            ],
            [
             0.4,
             "#fde0ef"
            ],
            [
             0.5,
             "#f7f7f7"
            ],
            [
             0.6,
             "#e6f5d0"
            ],
            [
             0.7,
             "#b8e186"
            ],
            [
             0.8,
             "#7fbc41"
            ],
            [
             0.9,
             "#4d9221"
            ],
            [
             1,
             "#276419"
            ]
           ],
           "sequential": [
            [
             0,
             "#0d0887"
            ],
            [
             0.1111111111111111,
             "#46039f"
            ],
            [
             0.2222222222222222,
             "#7201a8"
            ],
            [
             0.3333333333333333,
             "#9c179e"
            ],
            [
             0.4444444444444444,
             "#bd3786"
            ],
            [
             0.5555555555555556,
             "#d8576b"
            ],
            [
             0.6666666666666666,
             "#ed7953"
            ],
            [
             0.7777777777777778,
             "#fb9f3a"
            ],
            [
             0.8888888888888888,
             "#fdca26"
            ],
            [
             1,
             "#f0f921"
            ]
           ],
           "sequentialminus": [
            [
             0,
             "#0d0887"
            ],
            [
             0.1111111111111111,
             "#46039f"
            ],
            [
             0.2222222222222222,
             "#7201a8"
            ],
            [
             0.3333333333333333,
             "#9c179e"
            ],
            [
             0.4444444444444444,
             "#bd3786"
            ],
            [
             0.5555555555555556,
             "#d8576b"
            ],
            [
             0.6666666666666666,
             "#ed7953"
            ],
            [
             0.7777777777777778,
             "#fb9f3a"
            ],
            [
             0.8888888888888888,
             "#fdca26"
            ],
            [
             1,
             "#f0f921"
            ]
           ]
          },
          "colorway": [
           "#636efa",
           "#EF553B",
           "#00cc96",
           "#ab63fa",
           "#FFA15A",
           "#19d3f3",
           "#FF6692",
           "#B6E880",
           "#FF97FF",
           "#FECB52"
          ],
          "font": {
           "color": "#2a3f5f"
          },
          "geo": {
           "bgcolor": "white",
           "lakecolor": "white",
           "landcolor": "#E5ECF6",
           "showlakes": true,
           "showland": true,
           "subunitcolor": "white"
          },
          "hoverlabel": {
           "align": "left"
          },
          "hovermode": "closest",
          "mapbox": {
           "style": "light"
          },
          "paper_bgcolor": "white",
          "plot_bgcolor": "#E5ECF6",
          "polar": {
           "angularaxis": {
            "gridcolor": "white",
            "linecolor": "white",
            "ticks": ""
           },
           "bgcolor": "#E5ECF6",
           "radialaxis": {
            "gridcolor": "white",
            "linecolor": "white",
            "ticks": ""
           }
          },
          "scene": {
           "xaxis": {
            "backgroundcolor": "#E5ECF6",
            "gridcolor": "white",
            "gridwidth": 2,
            "linecolor": "white",
            "showbackground": true,
            "ticks": "",
            "zerolinecolor": "white"
           },
           "yaxis": {
            "backgroundcolor": "#E5ECF6",
            "gridcolor": "white",
            "gridwidth": 2,
            "linecolor": "white",
            "showbackground": true,
            "ticks": "",
            "zerolinecolor": "white"
           },
           "zaxis": {
            "backgroundcolor": "#E5ECF6",
            "gridcolor": "white",
            "gridwidth": 2,
            "linecolor": "white",
            "showbackground": true,
            "ticks": "",
            "zerolinecolor": "white"
           }
          },
          "shapedefaults": {
           "line": {
            "color": "#2a3f5f"
           }
          },
          "ternary": {
           "aaxis": {
            "gridcolor": "white",
            "linecolor": "white",
            "ticks": ""
           },
           "baxis": {
            "gridcolor": "white",
            "linecolor": "white",
            "ticks": ""
           },
           "bgcolor": "#E5ECF6",
           "caxis": {
            "gridcolor": "white",
            "linecolor": "white",
            "ticks": ""
           }
          },
          "title": {
           "x": 0.05
          },
          "xaxis": {
           "automargin": true,
           "gridcolor": "white",
           "linecolor": "white",
           "ticks": "",
           "title": {
            "standoff": 15
           },
           "zerolinecolor": "white",
           "zerolinewidth": 2
          },
          "yaxis": {
           "automargin": true,
           "gridcolor": "white",
           "linecolor": "white",
           "ticks": "",
           "title": {
            "standoff": 15
           },
           "zerolinecolor": "white",
           "zerolinewidth": 2
          }
         }
        },
        "title": {
         "font": {
          "color": "#4D5663"
         }
        },
        "xaxis": {
         "autorange": true,
         "gridcolor": "#E1E5ED",
         "range": [
          -0.5,
          3.5
         ],
         "showgrid": true,
         "tickfont": {
          "color": "#4D5663"
         },
         "title": {
          "font": {
           "color": "#4D5663"
          },
          "text": ""
         },
         "type": "category",
         "zerolinecolor": "#E1E5ED"
        },
        "yaxis": {
         "autorange": true,
         "gridcolor": "#E1E5ED",
         "range": [
          -3.3938453340277546,
          3.2967987350669086
         ],
         "showgrid": true,
         "tickfont": {
          "color": "#4D5663"
         },
         "title": {
          "font": {
           "color": "#4D5663"
          },
          "text": ""
         },
         "type": "linear",
         "zerolinecolor": "#E1E5ED"
        }
       }
      },
      "image/png": "[encoded data removed]",
      "text/html": [
       "<div>                            <div id=\"651ce4ef-bba2-475a-b9e8-51530ec07ad2\" class=\"plotly-graph-div\" style=\"height:525px; width:100%;\"></div>            <script type=\"text/javascript\">                require([\"plotly\"], function(Plotly) {                    window.PLOTLYENV=window.PLOTLYENV || {};\n",
       "                    window.PLOTLYENV.BASE_URL='https://plot.ly';                                    if (document.getElementById(\"651ce4ef-bba2-475a-b9e8-51530ec07ad2\")) {                    Plotly.newPlot(                        \"651ce4ef-bba2-475a-b9e8-51530ec07ad2\",                        [{\"boxpoints\":false,\"line\":{\"width\":1.3},\"marker\":{\"color\":\"rgba(255, 153, 51, 1.0)\"},\"name\":\"A\",\"orientation\":\"v\",\"y\":[0.8102783342500975,-0.6253496339817639,-2.1243974907659204,0.720743963340369,-0.36064835386640587,0.5759738002613626,-0.5408838512778968,0.9063815011325167,0.14367225921632368,0.00026148660293838066,0.8467757610440696,1.0618325092089878,0.6601824163443513,-0.48520520012482693,0.16871597616384307,1.9223052368503024,0.9388082883234752,0.5088942209079874,-0.04230165123367031,-0.7526132624711495,-0.415041342875489,-0.793150586675246,-1.3157120016215045,-0.3129688528150545,-0.33178453177328393,0.6738932217934391,-0.20852567734951294,-0.5355302645486091,0.31758960828690674,-1.0782016494131208,-0.4943059018241482,2.3595732177828745,-0.8784700471766782,-1.566200134991812,2.371764508822633,0.4656996839084545,-0.5979722939647736,1.2026987046903905,-0.5774282822965877,-1.1912118849000355,1.1985479855522592,0.2620589711638922,-0.13955147837889778,2.006276192685832,-3.0593131305730212,-0.3135204450592635,0.49172621192557314,0.05953014894188452,0.5365399611316989,0.4195142732653403,-0.6770591662178267,-0.2436721827521768,1.6485546212968694,1.0777191974521207,-0.8235713648686525,1.1428728019017498,-1.0679338620343783,0.24667409787800906,-1.7012725976148813,0.3900854386786318,-0.0690631840386189,2.4425043139920115,-1.1018934707019725,-1.0725826387263075,0.5906422575776665,0.9317450123551313,-1.1094945245226584,-0.13924398333838528,0.6423994151056848,0.9343018357089617,-0.12462754521955423,-0.4534461912534964,0.3736980081177701,0.17323250427614217,0.1366559450676414,-1.5033057674814936,-1.5672884375220335,-0.6571575852753471,-0.6395666738075189,-0.048474604736042155,-0.8283140638768075,0.5051085347510471,-0.07435138461353441,0.7054559130856934,-0.4452511251612592,-1.7403303648604576,-0.8504417681382134,0.10098301367735862,2.9622665316121757,1.0923483440863093,1.7927479468119651,-1.311470384073283,0.22374389200951048,-0.530987810356002,0.11747030791334216,-1.6590230098865948,0.5041533225812629,-0.12948004730523324,0.658166074407969,-1.0808986418415536],\"type\":\"box\"},{\"boxpoints\":false,\"line\":{\"width\":1.3},\"marker\":{\"color\":\"rgba(55, 128, 191, 1.0)\"},\"name\":\"B\",\"orientation\":\"v\",\"y\":[-0.5867832721021545,-0.07652741634221236,0.2364293046163907,-0.6144816203385531,0.012973345926433438,0.140602345064779,-1.0030025953938253,-1.502643397426585,0.5896630453075187,-0.21859864301934573,2.5606146076852134,-0.18445397195904925,0.14404944732764993,-0.176190196082285,-0.1814650597022292,-0.6035618716856341,-0.2698398063907249,-1.3758116421192002,-0.2515990561051834,-0.1699255313315551,1.105332227997531,-0.2414537899145735,-0.43690638271891863,-0.5565581304346296,0.6843491271174079,1.1144617107002537,-0.06617478605366806,0.6171150057998764,0.161975916590861,-0.8025708642901519,-1.5703565393095944,0.0263166711734827,-1.3396342312495948,0.31922014067344723,0.26769759042412405,0.8362426707322204,-0.16595514184267424,-1.5533523988763758,0.9483515326864449,0.10852470942154041,0.32906720227944375,-1.3325573708112333,-1.9645959663511439,-0.16802540689860643,0.13804899488468952,0.7199032526152568,-0.21241232879081512,0.07330227748986475,1.0630669830149864,-0.3197084203991881,-1.1359500413622619,-0.9940157702582891,0.12171307375231409,0.4592175010615597,-1.6271043605590056,0.09926530472378069,-0.8497057898196344,-0.096366003868344,-0.29323986028178434,-1.018009352091211,-1.5515627050638126,-0.31734504259472124,-0.4122652479440936,-0.3275919864238932,1.8995716489365664,-1.150485762145562,0.8844241629491068,-0.2976620794221025,0.4561009509196521,2.0577189539348164,-1.702448142151754,2.341170674518494,0.21098368350967794,1.2154631421327593,-1.9577382001306542,0.17362248923315385,-0.003360407917770353,-0.1523412451921134,-0.2530497749244438,0.16256186797090352,1.9642697933484992,0.018391126687528722,0.46386388030333103,0.7217231778212309,-0.17967146823749583,-0.6188632969910778,0.49843235794522917,-2.2834075497398354,0.5075191162307787,-0.3979350596840527,1.808595380141962,1.4478435911085978,1.9847189806152126,-0.6006060868037226,-0.11305146669809568,-1.9931225359407287,1.1157025234863016,-1.4374819486724126,-0.5043842729131363,1.037573710316617],\"type\":\"box\"},{\"boxpoints\":false,\"line\":{\"width\":1.3},\"marker\":{\"color\":\"rgba(50, 171, 96, 1.0)\"},\"name\":\"C\",\"orientation\":\"v\",\"y\":[0.28351922773921484,1.046079338886153,2.0835449174959577,-0.2959837142159095,1.6046489938849664,2.195836604642892,0.8476703120127796,-2.547634863137372,-0.054712216396222174,2.1329888225258657,-0.059495471584225815,1.0027270533746517,0.46300835233025445,0.6187532585825445,-0.2570609512119834,1.4147212529008464,-0.062449210845311465,-1.510290511600925,0.7915514510460175,0.23950238405602578,-0.5557361756236054,0.8098609998351721,-0.0642606348908341,-0.3615179242381196,0.5436390375193604,0.3037806166888286,-0.40599365076255306,-0.23959034673875698,-0.4371248110233738,-1.0371496615510956,-1.623515091941615,1.8605635822483575,-1.5979290018774897,0.42438996847438776,0.807606192078492,0.7409034648080791,0.20019373318150901,-0.11429639960635761,1.8490774305091582,1.5763772367578217,0.6748751476562145,-1.518245752560392,0.6315619024258422,0.2611749777840262,0.28096625105031553,0.31577453740170214,0.05330631332221621,0.5170065923129699,0.21998424674059666,-0.48562509150146704,-0.04152686380702287,0.35336271123789803,0.43791241215896154,0.4634386398511038,0.4557592036672411,-0.8686612907647687,1.8954925814928667,1.6666710998220187,-0.19855340511356662,-0.6244916540652142,0.11233984574108362,0.6573799337069568,-0.27734125406271254,1.1970696482493897,-0.005662538042132438,1.5307851341353675,0.6149973143148547,-0.33701918074932347,-0.3108753143191812,0.289697682560031,1.3484456553144994,0.1298085780557541,-0.06992415209331283,-1.4199493782632415,0.815984765622038,0.327747728667979,-0.5902645821663245,-0.018765691119965087,-0.9683062677574454,-0.7425838324089256,0.14431852678860446,1.6422290164330002,0.01198419697002567,-2.0889120664528815,0.4131738258812024,-0.6361816130078658,-0.2571632252233618,0.3168497679233199,-0.6404558672207877,0.8338503060179236,0.4959482400434411,0.9037280611012579,0.8038194261550938,-1.0692955593268663,-0.5481924534934708,1.415618063415662,2.4096561073428333,-1.1275883694024578,-0.5422482986699697,1.019019392943807],\"type\":\"box\"},{\"boxpoints\":false,\"line\":{\"width\":1.3},\"marker\":{\"color\":\"rgba(128, 0, 128, 1.0)\"},\"name\":\"D\",\"orientation\":\"v\",\"y\":[1.099922373835138,0.2626572007696351,0.6809920120680077,0.37568407155213374,-0.04864881787822194,-0.15963142619448523,1.8173178561527665,1.5041195694376848,2.05487800502223,-0.12444346809989125,-1.6307883976081554,-1.6464784995276835,1.4171575806942058,0.5639289745490836,1.7095359980145544,1.3602531934702955,0.3269527230867582,0.0962032854064902,-0.45256047949482786,-0.5281708916340596,0.4227948741861683,0.9280536909798838,-0.09479959883794437,-1.6608330524519894,-0.6502396062774366,1.6849774649383609,-0.23244221019765693,0.2412117981760023,0.26308115933206583,-0.05934572352369715,-0.9279862996400814,-0.45450798761106453,2.2239840681385092,-1.0204245595011332,-0.44008415350396585,-1.7332884312994834,1.2330866954107442,-1.755421872197194,2.3383790326210687,0.22412552553348905,0.7426698507509121,0.7991221908818573,-0.26933653499043236,0.42254507732436375,1.231213801855879,-1.627001480328027,-0.021531903646123327,-0.8089248875165332,0.048405150235370814,-1.4954076911569576,1.0611565413171433,0.9307030406188339,0.12610174945894356,0.19156395186408465,0.3259755708201364,1.9806336100085007,-0.31701502517410435,0.09801311213732218,-0.8820221079518904,-0.30193543751284246,0.12639965464310587,0.5823710345422258,1.2061216199301237,0.7745830379588147,1.331827185818298,1.5509431753167309,-0.568727003681773,-0.7256118493722932,1.7945026676551865,-0.7741373899581679,0.9454067577115647,1.451698489595251,-0.7641265768049319,-1.2493657381872179,1.39305373407263,0.8803628302029253,-0.11303504106680408,-0.12660893520742172,-0.27249779574034855,-0.10297221383786716,-0.02062883317220425,0.7200439778651814,0.13938792514308868,-1.2325145192835052,0.953490759422294,-2.0122315617481092,-0.4895342823299396,-1.3909466622535194,0.7380253108900534,0.6338021472951514,0.5938533715232079,0.24744804199013162,-0.23707522924646277,-0.3102068463632845,0.6565122117080727,2.4719111386502304,0.9428754947558217,0.36462123436155686,0.4890263356037747,0.4608907840779743],\"type\":\"box\"}],                        {\"legend\":{\"bgcolor\":\"#F5F6F9\",\"font\":{\"color\":\"#4D5663\"}},\"paper_bgcolor\":\"#F5F6F9\",\"plot_bgcolor\":\"#F5F6F9\",\"template\":{\"data\":{\"barpolar\":[{\"marker\":{\"line\":{\"color\":\"#E5ECF6\",\"width\":0.5},\"pattern\":{\"fillmode\":\"overlay\",\"size\":10,\"solidity\":0.2}},\"type\":\"barpolar\"}],\"bar\":[{\"error_x\":{\"color\":\"#2a3f5f\"},\"error_y\":{\"color\":\"#2a3f5f\"},\"marker\":{\"line\":{\"color\":\"#E5ECF6\",\"width\":0.5},\"pattern\":{\"fillmode\":\"overlay\",\"size\":10,\"solidity\":0.2}},\"type\":\"bar\"}],\"carpet\":[{\"aaxis\":{\"endlinecolor\":\"#2a3f5f\",\"gridcolor\":\"white\",\"linecolor\":\"white\",\"minorgridcolor\":\"white\",\"startlinecolor\":\"#2a3f5f\"},\"baxis\":{\"endlinecolor\":\"#2a3f5f\",\"gridcolor\":\"white\",\"linecolor\":\"white\",\"minorgridcolor\":\"white\",\"startlinecolor\":\"#2a3f5f\"},\"type\":\"carpet\"}],\"choropleth\":[{\"colorbar\":{\"outlinewidth\":0,\"ticks\":\"\"},\"type\":\"choropleth\"}],\"contourcarpet\":[{\"colorbar\":{\"outlinewidth\":0,\"ticks\":\"\"},\"type\":\"contourcarpet\"}],\"contour\":[{\"colorbar\":{\"outlinewidth\":0,\"ticks\":\"\"},\"colorscale\":[[0.0,\"#0d0887\"],[0.1111111111111111,\"#46039f\"],[0.2222222222222222,\"#7201a8\"],[0.3333333333333333,\"#9c179e\"],[0.4444444444444444,\"#bd3786\"],[0.5555555555555556,\"#d8576b\"],[0.6666666666666666,\"#ed7953\"],[0.7777777777777778,\"#fb9f3a\"],[0.8888888888888888,\"#fdca26\"],[1.0,\"#f0f921\"]],\"type\":\"contour\"}],\"heatmapgl\":[{\"colorbar\":{\"outlinewidth\":0,\"ticks\":\"\"},\"colorscale\":[[0.0,\"#0d0887\"],[0.1111111111111111,\"#46039f\"],[0.2222222222222222,\"#7201a8\"],[0.3333333333333333,\"#9c179e\"],[0.4444444444444444,\"#bd3786\"],[0.5555555555555556,\"#d8576b\"],[0.6666666666666666,\"#ed7953\"],[0.7777777777777778,\"#fb9f3a\"],[0.8888888888888888,\"#fdca26\"],[1.0,\"#f0f921\"]],\"type\":\"heatmapgl\"}],\"heatmap\":[{\"colorbar\":{\"outlinewidth\":0,\"ticks\":\"\"},\"colorscale\":[[0.0,\"#0d0887\"],[0.1111111111111111,\"#46039f\"],[0.2222222222222222,\"#7201a8\"],[0.3333333333333333,\"#9c179e\"],[0.4444444444444444,\"#bd3786\"],[0.5555555555555556,\"#d8576b\"],[0.6666666666666666,\"#ed7953\"],[0.7777777777777778,\"#fb9f3a\"],[0.8888888888888888,\"#fdca26\"],[1.0,\"#f0f921\"]],\"type\":\"heatmap\"}],\"histogram2dcontour\":[{\"colorbar\":{\"outlinewidth\":0,\"ticks\":\"\"},\"colorscale\":[[0.0,\"#0d0887\"],[0.1111111111111111,\"#46039f\"],[0.2222222222222222,\"#7201a8\"],[0.3333333333333333,\"#9c179e\"],[0.4444444444444444,\"#bd3786\"],[0.5555555555555556,\"#d8576b\"],[0.6666666666666666,\"#ed7953\"],[0.7777777777777778,\"#fb9f3a\"],[0.8888888888888888,\"#fdca26\"],[1.0,\"#f0f921\"]],\"type\":\"histogram2dcontour\"}],\"histogram2d\":[{\"colorbar\":{\"outlinewidth\":0,\"ticks\":\"\"},\"colorscale\":[[0.0,\"#0d0887\"],[0.1111111111111111,\"#46039f\"],[0.2222222222222222,\"#7201a8\"],[0.3333333333333333,\"#9c179e\"],[0.4444444444444444,\"#bd3786\"],[0.5555555555555556,\"#d8576b\"],[0.6666666666666666,\"#ed7953\"],[0.7777777777777778,\"#fb9f3a\"],[0.8888888888888888,\"#fdca26\"],[1.0,\"#f0f921\"]],\"type\":\"histogram2d\"}],\"histogram\":[{\"marker\":{\"pattern\":{\"fillmode\":\"overlay\",\"size\":10,\"solidity\":0.2}},\"type\":\"histogram\"}],\"mesh3d\":[{\"colorbar\":{\"outlinewidth\":0,\"ticks\":\"\"},\"type\":\"mesh3d\"}],\"parcoords\":[{\"line\":{\"colorbar\":{\"outlinewidth\":0,\"ticks\":\"\"}},\"type\":\"parcoords\"}],\"pie\":[{\"automargin\":true,\"type\":\"pie\"}],\"scatter3d\":[{\"line\":{\"colorbar\":{\"outlinewidth\":0,\"ticks\":\"\"}},\"marker\":{\"colorbar\":{\"outlinewidth\":0,\"ticks\":\"\"}},\"type\":\"scatter3d\"}],\"scattercarpet\":[{\"marker\":{\"colorbar\":{\"outlinewidth\":0,\"ticks\":\"\"}},\"type\":\"scattercarpet\"}],\"scattergeo\":[{\"marker\":{\"colorbar\":{\"outlinewidth\":0,\"ticks\":\"\"}},\"type\":\"scattergeo\"}],\"scattergl\":[{\"marker\":{\"colorbar\":{\"outlinewidth\":0,\"ticks\":\"\"}},\"type\":\"scattergl\"}],\"scattermapbox\":[{\"marker\":{\"colorbar\":{\"outlinewidth\":0,\"ticks\":\"\"}},\"type\":\"scattermapbox\"}],\"scatterpolargl\":[{\"marker\":{\"colorbar\":{\"outlinewidth\":0,\"ticks\":\"\"}},\"type\":\"scatterpolargl\"}],\"scatterpolar\":[{\"marker\":{\"colorbar\":{\"outlinewidth\":0,\"ticks\":\"\"}},\"type\":\"scatterpolar\"}],\"scatter\":[{\"fillpattern\":{\"fillmode\":\"overlay\",\"size\":10,\"solidity\":0.2},\"type\":\"scatter\"}],\"scatterternary\":[{\"marker\":{\"colorbar\":{\"outlinewidth\":0,\"ticks\":\"\"}},\"type\":\"scatterternary\"}],\"surface\":[{\"colorbar\":{\"outlinewidth\":0,\"ticks\":\"\"},\"colorscale\":[[0.0,\"#0d0887\"],[0.1111111111111111,\"#46039f\"],[0.2222222222222222,\"#7201a8\"],[0.3333333333333333,\"#9c179e\"],[0.4444444444444444,\"#bd3786\"],[0.5555555555555556,\"#d8576b\"],[0.6666666666666666,\"#ed7953\"],[0.7777777777777778,\"#fb9f3a\"],[0.8888888888888888,\"#fdca26\"],[1.0,\"#f0f921\"]],\"type\":\"surface\"}],\"table\":[{\"cells\":{\"fill\":{\"color\":\"#EBF0F8\"},\"line\":{\"color\":\"white\"}},\"header\":{\"fill\":{\"color\":\"#C8D4E3\"},\"line\":{\"color\":\"white\"}},\"type\":\"table\"}]},\"layout\":{\"annotationdefaults\":{\"arrowcolor\":\"#2a3f5f\",\"arrowhead\":0,\"arrowwidth\":1},\"autotypenumbers\":\"strict\",\"coloraxis\":{\"colorbar\":{\"outlinewidth\":0,\"ticks\":\"\"}},\"colorscale\":{\"diverging\":[[0,\"#8e0152\"],[0.1,\"#c51b7d\"],[0.2,\"#de77ae\"],[0.3,\"#f1b6da\"],[0.4,\"#fde0ef\"],[0.5,\"#f7f7f7\"],[0.6,\"#e6f5d0\"],[0.7,\"#b8e186\"],[0.8,\"#7fbc41\"],[0.9,\"#4d9221\"],[1,\"#276419\"]],\"sequential\":[[0.0,\"#0d0887\"],[0.1111111111111111,\"#46039f\"],[0.2222222222222222,\"#7201a8\"],[0.3333333333333333,\"#9c179e\"],[0.4444444444444444,\"#bd3786\"],[0.5555555555555556,\"#d8576b\"],[0.6666666666666666,\"#ed7953\"],[0.7777777777777778,\"#fb9f3a\"],[0.8888888888888888,\"#fdca26\"],[1.0,\"#f0f921\"]],\"sequentialminus\":[[0.0,\"#0d0887\"],[0.1111111111111111,\"#46039f\"],[0.2222222222222222,\"#7201a8\"],[0.3333333333333333,\"#9c179e\"],[0.4444444444444444,\"#bd3786\"],[0.5555555555555556,\"#d8576b\"],[0.6666666666666666,\"#ed7953\"],[0.7777777777777778,\"#fb9f3a\"],[0.8888888888888888,\"#fdca26\"],[1.0,\"#f0f921\"]]},\"colorway\":[\"#636efa\",\"#EF553B\",\"#00cc96\",\"#ab63fa\",\"#FFA15A\",\"#19d3f3\",\"#FF6692\",\"#B6E880\",\"#FF97FF\",\"#FECB52\"],\"font\":{\"color\":\"#2a3f5f\"},\"geo\":{\"bgcolor\":\"white\",\"lakecolor\":\"white\",\"landcolor\":\"#E5ECF6\",\"showlakes\":true,\"showland\":true,\"subunitcolor\":\"white\"},\"hoverlabel\":{\"align\":\"left\"},\"hovermode\":\"closest\",\"mapbox\":{\"style\":\"light\"},\"paper_bgcolor\":\"white\",\"plot_bgcolor\":\"#E5ECF6\",\"polar\":{\"angularaxis\":{\"gridcolor\":\"white\",\"linecolor\":\"white\",\"ticks\":\"\"},\"bgcolor\":\"#E5ECF6\",\"radialaxis\":{\"gridcolor\":\"white\",\"linecolor\":\"white\",\"ticks\":\"\"}},\"scene\":{\"xaxis\":{\"backgroundcolor\":\"#E5ECF6\",\"gridcolor\":\"white\",\"gridwidth\":2,\"linecolor\":\"white\",\"showbackground\":true,\"ticks\":\"\",\"zerolinecolor\":\"white\"},\"yaxis\":{\"backgroundcolor\":\"#E5ECF6\",\"gridcolor\":\"white\",\"gridwidth\":2,\"linecolor\":\"white\",\"showbackground\":true,\"ticks\":\"\",\"zerolinecolor\":\"white\"},\"zaxis\":{\"backgroundcolor\":\"#E5ECF6\",\"gridcolor\":\"white\",\"gridwidth\":2,\"linecolor\":\"white\",\"showbackground\":true,\"ticks\":\"\",\"zerolinecolor\":\"white\"}},\"shapedefaults\":{\"line\":{\"color\":\"#2a3f5f\"}},\"ternary\":{\"aaxis\":{\"gridcolor\":\"white\",\"linecolor\":\"white\",\"ticks\":\"\"},\"baxis\":{\"gridcolor\":\"white\",\"linecolor\":\"white\",\"ticks\":\"\"},\"bgcolor\":\"#E5ECF6\",\"caxis\":{\"gridcolor\":\"white\",\"linecolor\":\"white\",\"ticks\":\"\"}},\"title\":{\"x\":0.05},\"xaxis\":{\"automargin\":true,\"gridcolor\":\"white\",\"linecolor\":\"white\",\"ticks\":\"\",\"title\":{\"standoff\":15},\"zerolinecolor\":\"white\",\"zerolinewidth\":2},\"yaxis\":{\"automargin\":true,\"gridcolor\":\"white\",\"linecolor\":\"white\",\"ticks\":\"\",\"title\":{\"standoff\":15},\"zerolinecolor\":\"white\",\"zerolinewidth\":2}}},\"title\":{\"font\":{\"color\":\"#4D5663\"}},\"xaxis\":{\"gridcolor\":\"#E1E5ED\",\"showgrid\":true,\"tickfont\":{\"color\":\"#4D5663\"},\"title\":{\"font\":{\"color\":\"#4D5663\"},\"text\":\"\"},\"zerolinecolor\":\"#E1E5ED\"},\"yaxis\":{\"gridcolor\":\"#E1E5ED\",\"showgrid\":true,\"tickfont\":{\"color\":\"#4D5663\"},\"title\":{\"font\":{\"color\":\"#4D5663\"},\"text\":\"\"},\"zerolinecolor\":\"#E1E5ED\"}},                        {\"showLink\": true, \"linkText\": \"Export to plot.ly\", \"plotlyServerURL\": \"https://plot.ly\", \"responsive\": true}                    ).then(function(){\n",
       "                            \n",
       "var gd = document.getElementById('651ce4ef-bba2-475a-b9e8-51530ec07ad2');\n",
       "var x = new MutationObserver(function (mutations, observer) {{\n",
       "        var display = window.getComputedStyle(gd).display;\n",
       "        if (!display || display === 'none') {{\n",
       "            console.log([gd, 'removed!']);\n",
       "            Plotly.purge(gd);\n",
       "            observer.disconnect();\n",
       "        }}\n",
       "}});\n",
       "\n",
       "// Listen for the removal of the full notebook cells\n",
       "var notebookContainer = gd.closest('#notebook-container');\n",
       "if (notebookContainer) {{\n",
       "    x.observe(notebookContainer, {childList: true});\n",
       "}}\n",
       "\n",
       "// Listen for the clearing of the current output cell\n",
       "var outputEl = gd.closest('.output');\n",
       "if (outputEl) {{\n",
       "    x.observe(outputEl, {childList: true});\n",
       "}}\n",
       "\n",
       "                        })                };                });            </script>        </div>"
      ]
     },
     "metadata": {},
     "output_type": "display_data"
    }
   ],
   "source": [
    "df.iplot(kind='box')"
   ]
  },
  {
   "cell_type": "markdown",
   "metadata": {},
   "source": [
    "## 3d Surface"
   ]
  },
  {
   "cell_type": "code",
   "execution_count": 34,
   "metadata": {
    "collapsed": false,
    "jupyter": {
     "outputs_hidden": false
    }
   },
   "outputs": [
    {
     "data": {
      "application/vnd.plotly.v1+json": {
       "config": {
        "linkText": "Export to plot.ly",
        "plotlyServerURL": "https://plot.ly",
        "showLink": true
       },
       "data": [
        {
         "colorscale": [
          [
           0,
           "rgb(165,0,38)"
          ],
          [
           0.1,
           "rgb(215,48,39)"
          ],
          [
           0.2,
           "rgb(244,109,67)"
          ],
          [
           0.3,
           "rgb(253,174,97)"
          ],
          [
           0.4,
           "rgb(254,224,144)"
          ],
          [
           0.5,
           "rgb(255,255,191)"
          ],
          [
           0.6,
           "rgb(224,243,248)"
          ],
          [
           0.7,
           "rgb(171,217,233)"
          ],
          [
           0.8,
           "rgb(116,173,209)"
          ],
          [
           0.9,
           "rgb(69,117,180)"
          ],
          [
           1,
           "rgb(49,54,149)"
          ]
         ],
         "type": "surface",
         "x": [
          0,
          1,
          2,
          3,
          4
         ],
         "y": [
          "x",
          "y",
          "z"
         ],
         "z": [
          [
           1,
           2,
           3,
           4,
           5
          ],
          [
           10,
           20,
           30,
           20,
           10
          ],
          [
           5,
           4,
           3,
           2,
           1
          ]
         ]
        }
       ],
       "layout": {
        "autosize": true,
        "legend": {
         "bgcolor": "#F5F6F9",
         "font": {
          "color": "#4D5663"
         }
        },
        "paper_bgcolor": "#F5F6F9",
        "plot_bgcolor": "#F5F6F9",
        "scene": {
         "aspectmode": "auto",
         "aspectratio": {
          "x": 1,
          "y": 1,
          "z": 1
         },
         "camera": {
          "center": {
           "x": 0,
           "y": 0,
           "z": 0
          },
          "eye": {
           "x": 1.9820979673457209,
           "y": 1.9820979673457206,
           "z": 1.9820979673457209
          },
          "projection": {
           "type": "perspective"
          },
          "up": {
           "x": 0,
           "y": 0,
           "z": 1
          }
         }
        },
        "template": {
         "data": {
          "bar": [
           {
            "error_x": {
             "color": "#2a3f5f"
            },
            "error_y": {
             "color": "#2a3f5f"
            },
            "marker": {
             "line": {
              "color": "#E5ECF6",
              "width": 0.5
             },
             "pattern": {
              "fillmode": "overlay",
              "size": 10,
              "solidity": 0.2
             }
            },
            "type": "bar"
           }
          ],
          "barpolar": [
           {
            "marker": {
             "line": {
              "color": "#E5ECF6",
              "width": 0.5
             },
             "pattern": {
              "fillmode": "overlay",
              "size": 10,
              "solidity": 0.2
             }
            },
            "type": "barpolar"
           }
          ],
          "carpet": [
           {
            "aaxis": {
             "endlinecolor": "#2a3f5f",
             "gridcolor": "white",
             "linecolor": "white",
             "minorgridcolor": "white",
             "startlinecolor": "#2a3f5f"
            },
            "baxis": {
             "endlinecolor": "#2a3f5f",
             "gridcolor": "white",
             "linecolor": "white",
             "minorgridcolor": "white",
             "startlinecolor": "#2a3f5f"
            },
            "type": "carpet"
           }
          ],
          "choropleth": [
           {
            "colorbar": {
             "outlinewidth": 0,
             "ticks": ""
            },
            "type": "choropleth"
           }
          ],
          "contour": [
           {
            "colorbar": {
             "outlinewidth": 0,
             "ticks": ""
            },
            "colorscale": [
             [
              0,
              "#0d0887"
             ],
             [
              0.1111111111111111,
              "#46039f"
             ],
             [
              0.2222222222222222,
              "#7201a8"
             ],
             [
              0.3333333333333333,
              "#9c179e"
             ],
             [
              0.4444444444444444,
              "#bd3786"
             ],
             [
              0.5555555555555556,
              "#d8576b"
             ],
             [
              0.6666666666666666,
              "#ed7953"
             ],
             [
              0.7777777777777778,
              "#fb9f3a"
             ],
             [
              0.8888888888888888,
              "#fdca26"
             ],
             [
              1,
              "#f0f921"
             ]
            ],
            "type": "contour"
           }
          ],
          "contourcarpet": [
           {
            "colorbar": {
             "outlinewidth": 0,
             "ticks": ""
            },
            "type": "contourcarpet"
           }
          ],
          "heatmap": [
           {
            "colorbar": {
             "outlinewidth": 0,
             "ticks": ""
            },
            "colorscale": [
             [
              0,
              "#0d0887"
             ],
             [
              0.1111111111111111,
              "#46039f"
             ],
             [
              0.2222222222222222,
              "#7201a8"
             ],
             [
              0.3333333333333333,
              "#9c179e"
             ],
             [
              0.4444444444444444,
              "#bd3786"
             ],
             [
              0.5555555555555556,
              "#d8576b"
             ],
             [
              0.6666666666666666,
              "#ed7953"
             ],
             [
              0.7777777777777778,
              "#fb9f3a"
             ],
             [
              0.8888888888888888,
              "#fdca26"
             ],
             [
              1,
              "#f0f921"
             ]
            ],
            "type": "heatmap"
           }
          ],
          "heatmapgl": [
           {
            "colorbar": {
             "outlinewidth": 0,
             "ticks": ""
            },
            "colorscale": [
             [
              0,
              "#0d0887"
             ],
             [
              0.1111111111111111,
              "#46039f"
             ],
             [
              0.2222222222222222,
              "#7201a8"
             ],
             [
              0.3333333333333333,
              "#9c179e"
             ],
             [
              0.4444444444444444,
              "#bd3786"
             ],
             [
              0.5555555555555556,
              "#d8576b"
             ],
             [
              0.6666666666666666,
              "#ed7953"
             ],
             [
              0.7777777777777778,
              "#fb9f3a"
             ],
             [
              0.8888888888888888,
              "#fdca26"
             ],
             [
              1,
              "#f0f921"
             ]
            ],
            "type": "heatmapgl"
           }
          ],
          "histogram": [
           {
            "marker": {
             "pattern": {
              "fillmode": "overlay",
              "size": 10,
              "solidity": 0.2
             }
            },
            "type": "histogram"
           }
          ],
          "histogram2d": [
           {
            "colorbar": {
             "outlinewidth": 0,
             "ticks": ""
            },
            "colorscale": [
             [
              0,
              "#0d0887"
             ],
             [
              0.1111111111111111,
              "#46039f"
             ],
             [
              0.2222222222222222,
              "#7201a8"
             ],
             [
              0.3333333333333333,
              "#9c179e"
             ],
             [
              0.4444444444444444,
              "#bd3786"
             ],
             [
              0.5555555555555556,
              "#d8576b"
             ],
             [
              0.6666666666666666,
              "#ed7953"
             ],
             [
              0.7777777777777778,
              "#fb9f3a"
             ],
             [
              0.8888888888888888,
              "#fdca26"
             ],
             [
              1,
              "#f0f921"
             ]
            ],
            "type": "histogram2d"
           }
          ],
          "histogram2dcontour": [
           {
            "colorbar": {
             "outlinewidth": 0,
             "ticks": ""
            },
            "colorscale": [
             [
              0,
              "#0d0887"
             ],
             [
              0.1111111111111111,
              "#46039f"
             ],
             [
              0.2222222222222222,
              "#7201a8"
             ],
             [
              0.3333333333333333,
              "#9c179e"
             ],
             [
              0.4444444444444444,
              "#bd3786"
             ],
             [
              0.5555555555555556,
              "#d8576b"
             ],
             [
              0.6666666666666666,
              "#ed7953"
             ],
             [
              0.7777777777777778,
              "#fb9f3a"
             ],
             [
              0.8888888888888888,
              "#fdca26"
             ],
             [
              1,
              "#f0f921"
             ]
            ],
            "type": "histogram2dcontour"
           }
          ],
          "mesh3d": [
           {
            "colorbar": {
             "outlinewidth": 0,
             "ticks": ""
            },
            "type": "mesh3d"
           }
          ],
          "parcoords": [
           {
            "line": {
             "colorbar": {
              "outlinewidth": 0,
              "ticks": ""
             }
            },
            "type": "parcoords"
           }
          ],
          "pie": [
           {
            "automargin": true,
            "type": "pie"
           }
          ],
          "scatter": [
           {
            "fillpattern": {
             "fillmode": "overlay",
             "size": 10,
             "solidity": 0.2
            },
            "type": "scatter"
           }
          ],
          "scatter3d": [
           {
            "line": {
             "colorbar": {
              "outlinewidth": 0,
              "ticks": ""
             }
            },
            "marker": {
             "colorbar": {
              "outlinewidth": 0,
              "ticks": ""
             }
            },
            "type": "scatter3d"
           }
          ],
          "scattercarpet": [
           {
            "marker": {
             "colorbar": {
              "outlinewidth": 0,
              "ticks": ""
             }
            },
            "type": "scattercarpet"
           }
          ],
          "scattergeo": [
           {
            "marker": {
             "colorbar": {
              "outlinewidth": 0,
              "ticks": ""
             }
            },
            "type": "scattergeo"
           }
          ],
          "scattergl": [
           {
            "marker": {
             "colorbar": {
              "outlinewidth": 0,
              "ticks": ""
             }
            },
            "type": "scattergl"
           }
          ],
          "scattermapbox": [
           {
            "marker": {
             "colorbar": {
              "outlinewidth": 0,
              "ticks": ""
             }
            },
            "type": "scattermapbox"
           }
          ],
          "scatterpolar": [
           {
            "marker": {
             "colorbar": {
              "outlinewidth": 0,
              "ticks": ""
             }
            },
            "type": "scatterpolar"
           }
          ],
          "scatterpolargl": [
           {
            "marker": {
             "colorbar": {
              "outlinewidth": 0,
              "ticks": ""
             }
            },
            "type": "scatterpolargl"
           }
          ],
          "scatterternary": [
           {
            "marker": {
             "colorbar": {
              "outlinewidth": 0,
              "ticks": ""
             }
            },
            "type": "scatterternary"
           }
          ],
          "surface": [
           {
            "colorbar": {
             "outlinewidth": 0,
             "ticks": ""
            },
            "colorscale": [
             [
              0,
              "#0d0887"
             ],
             [
              0.1111111111111111,
              "#46039f"
             ],
             [
              0.2222222222222222,
              "#7201a8"
             ],
             [
              0.3333333333333333,
              "#9c179e"
             ],
             [
              0.4444444444444444,
              "#bd3786"
             ],
             [
              0.5555555555555556,
              "#d8576b"
             ],
             [
              0.6666666666666666,
              "#ed7953"
             ],
             [
              0.7777777777777778,
              "#fb9f3a"
             ],
             [
              0.8888888888888888,
              "#fdca26"
             ],
             [
              1,
              "#f0f921"
             ]
            ],
            "type": "surface"
           }
          ],
          "table": [
           {
            "cells": {
             "fill": {
              "color": "#EBF0F8"
             },
             "line": {
              "color": "white"
             }
            },
            "header": {
             "fill": {
              "color": "#C8D4E3"
             },
             "line": {
              "color": "white"
             }
            },
            "type": "table"
           }
          ]
         },
         "layout": {
          "annotationdefaults": {
           "arrowcolor": "#2a3f5f",
           "arrowhead": 0,
           "arrowwidth": 1
          },
          "autotypenumbers": "strict",
          "coloraxis": {
           "colorbar": {
            "outlinewidth": 0,
            "ticks": ""
           }
          },
          "colorscale": {
           "diverging": [
            [
             0,
             "#8e0152"
            ],
            [
             0.1,
             "#c51b7d"
            ],
            [
             0.2,
             "#de77ae"
            ],
            [
             0.3,
             "#f1b6da"
            ],
            [
             0.4,
             "#fde0ef"
            ],
            [
             0.5,
             "#f7f7f7"
            ],
            [
             0.6,
             "#e6f5d0"
            ],
            [
             0.7,
             "#b8e186"
            ],
            [
             0.8,
             "#7fbc41"
            ],
            [
             0.9,
             "#4d9221"
            ],
            [
             1,
             "#276419"
            ]
           ],
           "sequential": [
            [
             0,
             "#0d0887"
            ],
            [
             0.1111111111111111,
             "#46039f"
            ],
            [
             0.2222222222222222,
             "#7201a8"
            ],
            [
             0.3333333333333333,
             "#9c179e"
            ],
            [
             0.4444444444444444,
             "#bd3786"
            ],
            [
             0.5555555555555556,
             "#d8576b"
            ],
            [
             0.6666666666666666,
             "#ed7953"
            ],
            [
             0.7777777777777778,
             "#fb9f3a"
            ],
            [
             0.8888888888888888,
             "#fdca26"
            ],
            [
             1,
             "#f0f921"
            ]
           ],
           "sequentialminus": [
            [
             0,
             "#0d0887"
            ],
            [
             0.1111111111111111,
             "#46039f"
            ],
            [
             0.2222222222222222,
             "#7201a8"
            ],
            [
             0.3333333333333333,
             "#9c179e"
            ],
            [
             0.4444444444444444,
             "#bd3786"
            ],
            [
             0.5555555555555556,
             "#d8576b"
            ],
            [
             0.6666666666666666,
             "#ed7953"
            ],
            [
             0.7777777777777778,
             "#fb9f3a"
            ],
            [
             0.8888888888888888,
             "#fdca26"
            ],
            [
             1,
             "#f0f921"
            ]
           ]
          },
          "colorway": [
           "#636efa",
           "#EF553B",
           "#00cc96",
           "#ab63fa",
           "#FFA15A",
           "#19d3f3",
           "#FF6692",
           "#B6E880",
           "#FF97FF",
           "#FECB52"
          ],
          "font": {
           "color": "#2a3f5f"
          },
          "geo": {
           "bgcolor": "white",
           "lakecolor": "white",
           "landcolor": "#E5ECF6",
           "showlakes": true,
           "showland": true,
           "subunitcolor": "white"
          },
          "hoverlabel": {
           "align": "left"
          },
          "hovermode": "closest",
          "mapbox": {
           "style": "light"
          },
          "paper_bgcolor": "white",
          "plot_bgcolor": "#E5ECF6",
          "polar": {
           "angularaxis": {
            "gridcolor": "white",
            "linecolor": "white",
            "ticks": ""
           },
           "bgcolor": "#E5ECF6",
           "radialaxis": {
            "gridcolor": "white",
            "linecolor": "white",
            "ticks": ""
           }
          },
          "scene": {
           "xaxis": {
            "backgroundcolor": "#E5ECF6",
            "gridcolor": "white",
            "gridwidth": 2,
            "linecolor": "white",
            "showbackground": true,
            "ticks": "",
            "zerolinecolor": "white"
           },
           "yaxis": {
            "backgroundcolor": "#E5ECF6",
            "gridcolor": "white",
            "gridwidth": 2,
            "linecolor": "white",
            "showbackground": true,
            "ticks": "",
            "zerolinecolor": "white"
           },
           "zaxis": {
            "backgroundcolor": "#E5ECF6",
            "gridcolor": "white",
            "gridwidth": 2,
            "linecolor": "white",
            "showbackground": true,
            "ticks": "",
            "zerolinecolor": "white"
           }
          },
          "shapedefaults": {
           "line": {
            "color": "#2a3f5f"
           }
          },
          "ternary": {
           "aaxis": {
            "gridcolor": "white",
            "linecolor": "white",
            "ticks": ""
           },
           "baxis": {
            "gridcolor": "white",
            "linecolor": "white",
            "ticks": ""
           },
           "bgcolor": "#E5ECF6",
           "caxis": {
            "gridcolor": "white",
            "linecolor": "white",
            "ticks": ""
           }
          },
          "title": {
           "x": 0.05
          },
          "xaxis": {
           "automargin": true,
           "gridcolor": "white",
           "linecolor": "white",
           "ticks": "",
           "title": {
            "standoff": 15
           },
           "zerolinecolor": "white",
           "zerolinewidth": 2
          },
          "yaxis": {
           "automargin": true,
           "gridcolor": "white",
           "linecolor": "white",
           "ticks": "",
           "title": {
            "standoff": 15
           },
           "zerolinecolor": "white",
           "zerolinewidth": 2
          }
         }
        },
        "title": {
         "font": {
          "color": "#4D5663"
         }
        },
        "xaxis": {
         "gridcolor": "#E1E5ED",
         "showgrid": true,
         "tickfont": {
          "color": "#4D5663"
         },
         "title": {
          "font": {
           "color": "#4D5663"
          },
          "text": ""
         },
         "zerolinecolor": "#E1E5ED"
        },
        "yaxis": {
         "gridcolor": "#E1E5ED",
         "showgrid": true,
         "tickfont": {
          "color": "#4D5663"
         },
         "title": {
          "font": {
           "color": "#4D5663"
          },
          "text": ""
         },
         "zerolinecolor": "#E1E5ED"
        }
       }
      },
      "image/png": "[encoded data removed]",
      "text/html": [
       "<div>                            <div id=\"53931a3f-f1c4-426f-935d-477679901580\" class=\"plotly-graph-div\" style=\"height:525px; width:100%;\"></div>            <script type=\"text/javascript\">                require([\"plotly\"], function(Plotly) {                    window.PLOTLYENV=window.PLOTLYENV || {};\n",
       "                    window.PLOTLYENV.BASE_URL='https://plot.ly';                                    if (document.getElementById(\"53931a3f-f1c4-426f-935d-477679901580\")) {                    Plotly.newPlot(                        \"53931a3f-f1c4-426f-935d-477679901580\",                        [{\"colorscale\":[[0.0,\"rgb(165,0,38)\"],[0.1,\"rgb(215,48,39)\"],[0.2,\"rgb(244,109,67)\"],[0.3,\"rgb(253,174,97)\"],[0.4,\"rgb(254,224,144)\"],[0.5,\"rgb(255,255,191)\"],[0.6,\"rgb(224,243,248)\"],[0.7,\"rgb(171,217,233)\"],[0.8,\"rgb(116,173,209)\"],[0.9,\"rgb(69,117,180)\"],[1.0,\"rgb(49,54,149)\"]],\"x\":[0,1,2,3,4],\"y\":[\"x\",\"y\",\"z\"],\"z\":[[1,2,3,4,5],[10,20,30,20,10],[5,4,3,2,1]],\"type\":\"surface\"}],                        {\"legend\":{\"bgcolor\":\"#F5F6F9\",\"font\":{\"color\":\"#4D5663\"}},\"paper_bgcolor\":\"#F5F6F9\",\"plot_bgcolor\":\"#F5F6F9\",\"template\":{\"data\":{\"barpolar\":[{\"marker\":{\"line\":{\"color\":\"#E5ECF6\",\"width\":0.5},\"pattern\":{\"fillmode\":\"overlay\",\"size\":10,\"solidity\":0.2}},\"type\":\"barpolar\"}],\"bar\":[{\"error_x\":{\"color\":\"#2a3f5f\"},\"error_y\":{\"color\":\"#2a3f5f\"},\"marker\":{\"line\":{\"color\":\"#E5ECF6\",\"width\":0.5},\"pattern\":{\"fillmode\":\"overlay\",\"size\":10,\"solidity\":0.2}},\"type\":\"bar\"}],\"carpet\":[{\"aaxis\":{\"endlinecolor\":\"#2a3f5f\",\"gridcolor\":\"white\",\"linecolor\":\"white\",\"minorgridcolor\":\"white\",\"startlinecolor\":\"#2a3f5f\"},\"baxis\":{\"endlinecolor\":\"#2a3f5f\",\"gridcolor\":\"white\",\"linecolor\":\"white\",\"minorgridcolor\":\"white\",\"startlinecolor\":\"#2a3f5f\"},\"type\":\"carpet\"}],\"choropleth\":[{\"colorbar\":{\"outlinewidth\":0,\"ticks\":\"\"},\"type\":\"choropleth\"}],\"contourcarpet\":[{\"colorbar\":{\"outlinewidth\":0,\"ticks\":\"\"},\"type\":\"contourcarpet\"}],\"contour\":[{\"colorbar\":{\"outlinewidth\":0,\"ticks\":\"\"},\"colorscale\":[[0.0,\"#0d0887\"],[0.1111111111111111,\"#46039f\"],[0.2222222222222222,\"#7201a8\"],[0.3333333333333333,\"#9c179e\"],[0.4444444444444444,\"#bd3786\"],[0.5555555555555556,\"#d8576b\"],[0.6666666666666666,\"#ed7953\"],[0.7777777777777778,\"#fb9f3a\"],[0.8888888888888888,\"#fdca26\"],[1.0,\"#f0f921\"]],\"type\":\"contour\"}],\"heatmapgl\":[{\"colorbar\":{\"outlinewidth\":0,\"ticks\":\"\"},\"colorscale\":[[0.0,\"#0d0887\"],[0.1111111111111111,\"#46039f\"],[0.2222222222222222,\"#7201a8\"],[0.3333333333333333,\"#9c179e\"],[0.4444444444444444,\"#bd3786\"],[0.5555555555555556,\"#d8576b\"],[0.6666666666666666,\"#ed7953\"],[0.7777777777777778,\"#fb9f3a\"],[0.8888888888888888,\"#fdca26\"],[1.0,\"#f0f921\"]],\"type\":\"heatmapgl\"}],\"heatmap\":[{\"colorbar\":{\"outlinewidth\":0,\"ticks\":\"\"},\"colorscale\":[[0.0,\"#0d0887\"],[0.1111111111111111,\"#46039f\"],[0.2222222222222222,\"#7201a8\"],[0.3333333333333333,\"#9c179e\"],[0.4444444444444444,\"#bd3786\"],[0.5555555555555556,\"#d8576b\"],[0.6666666666666666,\"#ed7953\"],[0.7777777777777778,\"#fb9f3a\"],[0.8888888888888888,\"#fdca26\"],[1.0,\"#f0f921\"]],\"type\":\"heatmap\"}],\"histogram2dcontour\":[{\"colorbar\":{\"outlinewidth\":0,\"ticks\":\"\"},\"colorscale\":[[0.0,\"#0d0887\"],[0.1111111111111111,\"#46039f\"],[0.2222222222222222,\"#7201a8\"],[0.3333333333333333,\"#9c179e\"],[0.4444444444444444,\"#bd3786\"],[0.5555555555555556,\"#d8576b\"],[0.6666666666666666,\"#ed7953\"],[0.7777777777777778,\"#fb9f3a\"],[0.8888888888888888,\"#fdca26\"],[1.0,\"#f0f921\"]],\"type\":\"histogram2dcontour\"}],\"histogram2d\":[{\"colorbar\":{\"outlinewidth\":0,\"ticks\":\"\"},\"colorscale\":[[0.0,\"#0d0887\"],[0.1111111111111111,\"#46039f\"],[0.2222222222222222,\"#7201a8\"],[0.3333333333333333,\"#9c179e\"],[0.4444444444444444,\"#bd3786\"],[0.5555555555555556,\"#d8576b\"],[0.6666666666666666,\"#ed7953\"],[0.7777777777777778,\"#fb9f3a\"],[0.8888888888888888,\"#fdca26\"],[1.0,\"#f0f921\"]],\"type\":\"histogram2d\"}],\"histogram\":[{\"marker\":{\"pattern\":{\"fillmode\":\"overlay\",\"size\":10,\"solidity\":0.2}},\"type\":\"histogram\"}],\"mesh3d\":[{\"colorbar\":{\"outlinewidth\":0,\"ticks\":\"\"},\"type\":\"mesh3d\"}],\"parcoords\":[{\"line\":{\"colorbar\":{\"outlinewidth\":0,\"ticks\":\"\"}},\"type\":\"parcoords\"}],\"pie\":[{\"automargin\":true,\"type\":\"pie\"}],\"scatter3d\":[{\"line\":{\"colorbar\":{\"outlinewidth\":0,\"ticks\":\"\"}},\"marker\":{\"colorbar\":{\"outlinewidth\":0,\"ticks\":\"\"}},\"type\":\"scatter3d\"}],\"scattercarpet\":[{\"marker\":{\"colorbar\":{\"outlinewidth\":0,\"ticks\":\"\"}},\"type\":\"scattercarpet\"}],\"scattergeo\":[{\"marker\":{\"colorbar\":{\"outlinewidth\":0,\"ticks\":\"\"}},\"type\":\"scattergeo\"}],\"scattergl\":[{\"marker\":{\"colorbar\":{\"outlinewidth\":0,\"ticks\":\"\"}},\"type\":\"scattergl\"}],\"scattermapbox\":[{\"marker\":{\"colorbar\":{\"outlinewidth\":0,\"ticks\":\"\"}},\"type\":\"scattermapbox\"}],\"scatterpolargl\":[{\"marker\":{\"colorbar\":{\"outlinewidth\":0,\"ticks\":\"\"}},\"type\":\"scatterpolargl\"}],\"scatterpolar\":[{\"marker\":{\"colorbar\":{\"outlinewidth\":0,\"ticks\":\"\"}},\"type\":\"scatterpolar\"}],\"scatter\":[{\"fillpattern\":{\"fillmode\":\"overlay\",\"size\":10,\"solidity\":0.2},\"type\":\"scatter\"}],\"scatterternary\":[{\"marker\":{\"colorbar\":{\"outlinewidth\":0,\"ticks\":\"\"}},\"type\":\"scatterternary\"}],\"surface\":[{\"colorbar\":{\"outlinewidth\":0,\"ticks\":\"\"},\"colorscale\":[[0.0,\"#0d0887\"],[0.1111111111111111,\"#46039f\"],[0.2222222222222222,\"#7201a8\"],[0.3333333333333333,\"#9c179e\"],[0.4444444444444444,\"#bd3786\"],[0.5555555555555556,\"#d8576b\"],[0.6666666666666666,\"#ed7953\"],[0.7777777777777778,\"#fb9f3a\"],[0.8888888888888888,\"#fdca26\"],[1.0,\"#f0f921\"]],\"type\":\"surface\"}],\"table\":[{\"cells\":{\"fill\":{\"color\":\"#EBF0F8\"},\"line\":{\"color\":\"white\"}},\"header\":{\"fill\":{\"color\":\"#C8D4E3\"},\"line\":{\"color\":\"white\"}},\"type\":\"table\"}]},\"layout\":{\"annotationdefaults\":{\"arrowcolor\":\"#2a3f5f\",\"arrowhead\":0,\"arrowwidth\":1},\"autotypenumbers\":\"strict\",\"coloraxis\":{\"colorbar\":{\"outlinewidth\":0,\"ticks\":\"\"}},\"colorscale\":{\"diverging\":[[0,\"#8e0152\"],[0.1,\"#c51b7d\"],[0.2,\"#de77ae\"],[0.3,\"#f1b6da\"],[0.4,\"#fde0ef\"],[0.5,\"#f7f7f7\"],[0.6,\"#e6f5d0\"],[0.7,\"#b8e186\"],[0.8,\"#7fbc41\"],[0.9,\"#4d9221\"],[1,\"#276419\"]],\"sequential\":[[0.0,\"#0d0887\"],[0.1111111111111111,\"#46039f\"],[0.2222222222222222,\"#7201a8\"],[0.3333333333333333,\"#9c179e\"],[0.4444444444444444,\"#bd3786\"],[0.5555555555555556,\"#d8576b\"],[0.6666666666666666,\"#ed7953\"],[0.7777777777777778,\"#fb9f3a\"],[0.8888888888888888,\"#fdca26\"],[1.0,\"#f0f921\"]],\"sequentialminus\":[[0.0,\"#0d0887\"],[0.1111111111111111,\"#46039f\"],[0.2222222222222222,\"#7201a8\"],[0.3333333333333333,\"#9c179e\"],[0.4444444444444444,\"#bd3786\"],[0.5555555555555556,\"#d8576b\"],[0.6666666666666666,\"#ed7953\"],[0.7777777777777778,\"#fb9f3a\"],[0.8888888888888888,\"#fdca26\"],[1.0,\"#f0f921\"]]},\"colorway\":[\"#636efa\",\"#EF553B\",\"#00cc96\",\"#ab63fa\",\"#FFA15A\",\"#19d3f3\",\"#FF6692\",\"#B6E880\",\"#FF97FF\",\"#FECB52\"],\"font\":{\"color\":\"#2a3f5f\"},\"geo\":{\"bgcolor\":\"white\",\"lakecolor\":\"white\",\"landcolor\":\"#E5ECF6\",\"showlakes\":true,\"showland\":true,\"subunitcolor\":\"white\"},\"hoverlabel\":{\"align\":\"left\"},\"hovermode\":\"closest\",\"mapbox\":{\"style\":\"light\"},\"paper_bgcolor\":\"white\",\"plot_bgcolor\":\"#E5ECF6\",\"polar\":{\"angularaxis\":{\"gridcolor\":\"white\",\"linecolor\":\"white\",\"ticks\":\"\"},\"bgcolor\":\"#E5ECF6\",\"radialaxis\":{\"gridcolor\":\"white\",\"linecolor\":\"white\",\"ticks\":\"\"}},\"scene\":{\"xaxis\":{\"backgroundcolor\":\"#E5ECF6\",\"gridcolor\":\"white\",\"gridwidth\":2,\"linecolor\":\"white\",\"showbackground\":true,\"ticks\":\"\",\"zerolinecolor\":\"white\"},\"yaxis\":{\"backgroundcolor\":\"#E5ECF6\",\"gridcolor\":\"white\",\"gridwidth\":2,\"linecolor\":\"white\",\"showbackground\":true,\"ticks\":\"\",\"zerolinecolor\":\"white\"},\"zaxis\":{\"backgroundcolor\":\"#E5ECF6\",\"gridcolor\":\"white\",\"gridwidth\":2,\"linecolor\":\"white\",\"showbackground\":true,\"ticks\":\"\",\"zerolinecolor\":\"white\"}},\"shapedefaults\":{\"line\":{\"color\":\"#2a3f5f\"}},\"ternary\":{\"aaxis\":{\"gridcolor\":\"white\",\"linecolor\":\"white\",\"ticks\":\"\"},\"baxis\":{\"gridcolor\":\"white\",\"linecolor\":\"white\",\"ticks\":\"\"},\"bgcolor\":\"#E5ECF6\",\"caxis\":{\"gridcolor\":\"white\",\"linecolor\":\"white\",\"ticks\":\"\"}},\"title\":{\"x\":0.05},\"xaxis\":{\"automargin\":true,\"gridcolor\":\"white\",\"linecolor\":\"white\",\"ticks\":\"\",\"title\":{\"standoff\":15},\"zerolinecolor\":\"white\",\"zerolinewidth\":2},\"yaxis\":{\"automargin\":true,\"gridcolor\":\"white\",\"linecolor\":\"white\",\"ticks\":\"\",\"title\":{\"standoff\":15},\"zerolinecolor\":\"white\",\"zerolinewidth\":2}}},\"title\":{\"font\":{\"color\":\"#4D5663\"}},\"xaxis\":{\"gridcolor\":\"#E1E5ED\",\"showgrid\":true,\"tickfont\":{\"color\":\"#4D5663\"},\"title\":{\"font\":{\"color\":\"#4D5663\"},\"text\":\"\"},\"zerolinecolor\":\"#E1E5ED\"},\"yaxis\":{\"gridcolor\":\"#E1E5ED\",\"showgrid\":true,\"tickfont\":{\"color\":\"#4D5663\"},\"title\":{\"font\":{\"color\":\"#4D5663\"},\"text\":\"\"},\"zerolinecolor\":\"#E1E5ED\"}},                        {\"showLink\": true, \"linkText\": \"Export to plot.ly\", \"plotlyServerURL\": \"https://plot.ly\", \"responsive\": true}                    ).then(function(){\n",
       "                            \n",
       "var gd = document.getElementById('53931a3f-f1c4-426f-935d-477679901580');\n",
       "var x = new MutationObserver(function (mutations, observer) {{\n",
       "        var display = window.getComputedStyle(gd).display;\n",
       "        if (!display || display === 'none') {{\n",
       "            console.log([gd, 'removed!']);\n",
       "            Plotly.purge(gd);\n",
       "            observer.disconnect();\n",
       "        }}\n",
       "}});\n",
       "\n",
       "// Listen for the removal of the full notebook cells\n",
       "var notebookContainer = gd.closest('#notebook-container');\n",
       "if (notebookContainer) {{\n",
       "    x.observe(notebookContainer, {childList: true});\n",
       "}}\n",
       "\n",
       "// Listen for the clearing of the current output cell\n",
       "var outputEl = gd.closest('.output');\n",
       "if (outputEl) {{\n",
       "    x.observe(outputEl, {childList: true});\n",
       "}}\n",
       "\n",
       "                        })                };                });            </script>        </div>"
      ]
     },
     "metadata": {},
     "output_type": "display_data"
    }
   ],
   "source": [
    "df3 = pd.DataFrame({'x':[1,2,3,4,5],'y':[10,20,30,20,10],'z':[5,4,3,2,1]})\n",
    "df3.iplot(kind='surface',colorscale='rdylbu')"
   ]
  },
  {
   "cell_type": "markdown",
   "metadata": {},
   "source": [
    "## Spread"
   ]
  },
  {
   "cell_type": "markdown",
   "metadata": {},
   "source": [
    "## histogram"
   ]
  },
  {
   "cell_type": "code",
   "execution_count": 43,
   "metadata": {
    "collapsed": false,
    "jupyter": {
     "outputs_hidden": false
    }
   },
   "outputs": [
    {
     "data": {
      "application/vnd.plotly.v1+json": {
       "config": {
        "linkText": "Export to plot.ly",
        "plotlyServerURL": "https://plot.ly",
        "showLink": true
       },
       "data": [
        {
         "histfunc": "count",
         "histnorm": "",
         "marker": {
          "color": "rgba(255, 153, 51, 1.0)",
          "line": {
           "color": "#4D5663",
           "width": 1.3
          }
         },
         "name": "A",
         "nbinsx": 25,
         "opacity": 0.8,
         "orientation": "v",
         "type": "histogram",
         "x": [
          0.8102783342500975,
          -0.6253496339817639,
          -2.1243974907659204,
          0.720743963340369,
          -0.36064835386640587,
          0.5759738002613626,
          -0.5408838512778968,
          0.9063815011325167,
          0.14367225921632368,
          0.00026148660293838066,
          0.8467757610440696,
          1.0618325092089878,
          0.6601824163443513,
          -0.48520520012482693,
          0.16871597616384307,
          1.9223052368503024,
          0.9388082883234752,
          0.5088942209079874,
          -0.04230165123367031,
          -0.7526132624711495,
          -0.415041342875489,
          -0.793150586675246,
          -1.3157120016215045,
          -0.3129688528150545,
          -0.33178453177328393,
          0.6738932217934391,
          -0.20852567734951294,
          -0.5355302645486091,
          0.31758960828690674,
          -1.0782016494131208,
          -0.4943059018241482,
          2.3595732177828745,
          -0.8784700471766782,
          -1.566200134991812,
          2.371764508822633,
          0.4656996839084545,
          -0.5979722939647736,
          1.2026987046903905,
          -0.5774282822965877,
          -1.1912118849000355,
          1.1985479855522592,
          0.2620589711638922,
          -0.13955147837889778,
          2.006276192685832,
          -3.0593131305730212,
          -0.3135204450592635,
          0.49172621192557314,
          0.05953014894188452,
          0.5365399611316989,
          0.4195142732653403,
          -0.6770591662178267,
          -0.2436721827521768,
          1.6485546212968694,
          1.0777191974521207,
          -0.8235713648686525,
          1.1428728019017498,
          -1.0679338620343783,
          0.24667409787800906,
          -1.7012725976148813,
          0.3900854386786318,
          -0.0690631840386189,
          2.4425043139920115,
          -1.1018934707019725,
          -1.0725826387263075,
          0.5906422575776665,
          0.9317450123551313,
          -1.1094945245226584,
          -0.13924398333838528,
          0.6423994151056848,
          0.9343018357089617,
          -0.12462754521955423,
          -0.4534461912534964,
          0.3736980081177701,
          0.17323250427614217,
          0.1366559450676414,
          -1.5033057674814936,
          -1.5672884375220335,
          -0.6571575852753471,
          -0.6395666738075189,
          -0.048474604736042155,
          -0.8283140638768075,
          0.5051085347510471,
          -0.07435138461353441,
          0.7054559130856934,
          -0.4452511251612592,
          -1.7403303648604576,
          -0.8504417681382134,
          0.10098301367735862,
          2.9622665316121757,
          1.0923483440863093,
          1.7927479468119651,
          -1.311470384073283,
          0.22374389200951048,
          -0.530987810356002,
          0.11747030791334216,
          -1.6590230098865948,
          0.5041533225812629,
          -0.12948004730523324,
          0.658166074407969,
          -1.0808986418415536
         ]
        }
       ],
       "layout": {
        "autosize": true,
        "barmode": "overlay",
        "legend": {
         "bgcolor": "#F5F6F9",
         "font": {
          "color": "#4D5663"
         }
        },
        "paper_bgcolor": "#F5F6F9",
        "plot_bgcolor": "#F5F6F9",
        "template": {
         "data": {
          "bar": [
           {
            "error_x": {
             "color": "#2a3f5f"
            },
            "error_y": {
             "color": "#2a3f5f"
            },
            "marker": {
             "line": {
              "color": "#E5ECF6",
              "width": 0.5
             },
             "pattern": {
              "fillmode": "overlay",
              "size": 10,
              "solidity": 0.2
             }
            },
            "type": "bar"
           }
          ],
          "barpolar": [
           {
            "marker": {
             "line": {
              "color": "#E5ECF6",
              "width": 0.5
             },
             "pattern": {
              "fillmode": "overlay",
              "size": 10,
              "solidity": 0.2
             }
            },
            "type": "barpolar"
           }
          ],
          "carpet": [
           {
            "aaxis": {
             "endlinecolor": "#2a3f5f",
             "gridcolor": "white",
             "linecolor": "white",
             "minorgridcolor": "white",
             "startlinecolor": "#2a3f5f"
            },
            "baxis": {
             "endlinecolor": "#2a3f5f",
             "gridcolor": "white",
             "linecolor": "white",
             "minorgridcolor": "white",
             "startlinecolor": "#2a3f5f"
            },
            "type": "carpet"
           }
          ],
          "choropleth": [
           {
            "colorbar": {
             "outlinewidth": 0,
             "ticks": ""
            },
            "type": "choropleth"
           }
          ],
          "contour": [
           {
            "colorbar": {
             "outlinewidth": 0,
             "ticks": ""
            },
            "colorscale": [
             [
              0,
              "#0d0887"
             ],
             [
              0.1111111111111111,
              "#46039f"
             ],
             [
              0.2222222222222222,
              "#7201a8"
             ],
             [
              0.3333333333333333,
              "#9c179e"
             ],
             [
              0.4444444444444444,
              "#bd3786"
             ],
             [
              0.5555555555555556,
              "#d8576b"
             ],
             [
              0.6666666666666666,
              "#ed7953"
             ],
             [
              0.7777777777777778,
              "#fb9f3a"
             ],
             [
              0.8888888888888888,
              "#fdca26"
             ],
             [
              1,
              "#f0f921"
             ]
            ],
            "type": "contour"
           }
          ],
          "contourcarpet": [
           {
            "colorbar": {
             "outlinewidth": 0,
             "ticks": ""
            },
            "type": "contourcarpet"
           }
          ],
          "heatmap": [
           {
            "colorbar": {
             "outlinewidth": 0,
             "ticks": ""
            },
            "colorscale": [
             [
              0,
              "#0d0887"
             ],
             [
              0.1111111111111111,
              "#46039f"
             ],
             [
              0.2222222222222222,
              "#7201a8"
             ],
             [
              0.3333333333333333,
              "#9c179e"
             ],
             [
              0.4444444444444444,
              "#bd3786"
             ],
             [
              0.5555555555555556,
              "#d8576b"
             ],
             [
              0.6666666666666666,
              "#ed7953"
             ],
             [
              0.7777777777777778,
              "#fb9f3a"
             ],
             [
              0.8888888888888888,
              "#fdca26"
             ],
             [
              1,
              "#f0f921"
             ]
            ],
            "type": "heatmap"
           }
          ],
          "heatmapgl": [
           {
            "colorbar": {
             "outlinewidth": 0,
             "ticks": ""
            },
            "colorscale": [
             [
              0,
              "#0d0887"
             ],
             [
              0.1111111111111111,
              "#46039f"
             ],
             [
              0.2222222222222222,
              "#7201a8"
             ],
             [
              0.3333333333333333,
              "#9c179e"
             ],
             [
              0.4444444444444444,
              "#bd3786"
             ],
             [
              0.5555555555555556,
              "#d8576b"
             ],
             [
              0.6666666666666666,
              "#ed7953"
             ],
             [
              0.7777777777777778,
              "#fb9f3a"
             ],
             [
              0.8888888888888888,
              "#fdca26"
             ],
             [
              1,
              "#f0f921"
             ]
            ],
            "type": "heatmapgl"
           }
          ],
          "histogram": [
           {
            "marker": {
             "pattern": {
              "fillmode": "overlay",
              "size": 10,
              "solidity": 0.2
             }
            },
            "type": "histogram"
           }
          ],
          "histogram2d": [
           {
            "colorbar": {
             "outlinewidth": 0,
             "ticks": ""
            },
            "colorscale": [
             [
              0,
              "#0d0887"
             ],
             [
              0.1111111111111111,
              "#46039f"
             ],
             [
              0.2222222222222222,
              "#7201a8"
             ],
             [
              0.3333333333333333,
              "#9c179e"
             ],
             [
              0.4444444444444444,
              "#bd3786"
             ],
             [
              0.5555555555555556,
              "#d8576b"
             ],
             [
              0.6666666666666666,
              "#ed7953"
             ],
             [
              0.7777777777777778,
              "#fb9f3a"
             ],
             [
              0.8888888888888888,
              "#fdca26"
             ],
             [
              1,
              "#f0f921"
             ]
            ],
            "type": "histogram2d"
           }
          ],
          "histogram2dcontour": [
           {
            "colorbar": {
             "outlinewidth": 0,
             "ticks": ""
            },
            "colorscale": [
             [
              0,
              "#0d0887"
             ],
             [
              0.1111111111111111,
              "#46039f"
             ],
             [
              0.2222222222222222,
              "#7201a8"
             ],
             [
              0.3333333333333333,
              "#9c179e"
             ],
             [
              0.4444444444444444,
              "#bd3786"
             ],
             [
              0.5555555555555556,
              "#d8576b"
             ],
             [
              0.6666666666666666,
              "#ed7953"
             ],
             [
              0.7777777777777778,
              "#fb9f3a"
             ],
             [
              0.8888888888888888,
              "#fdca26"
             ],
             [
              1,
              "#f0f921"
             ]
            ],
            "type": "histogram2dcontour"
           }
          ],
          "mesh3d": [
           {
            "colorbar": {
             "outlinewidth": 0,
             "ticks": ""
            },
            "type": "mesh3d"
           }
          ],
          "parcoords": [
           {
            "line": {
             "colorbar": {
              "outlinewidth": 0,
              "ticks": ""
             }
            },
            "type": "parcoords"
           }
          ],
          "pie": [
           {
            "automargin": true,
            "type": "pie"
           }
          ],
          "scatter": [
           {
            "fillpattern": {
             "fillmode": "overlay",
             "size": 10,
             "solidity": 0.2
            },
            "type": "scatter"
           }
          ],
          "scatter3d": [
           {
            "line": {
             "colorbar": {
              "outlinewidth": 0,
              "ticks": ""
             }
            },
            "marker": {
             "colorbar": {
              "outlinewidth": 0,
              "ticks": ""
             }
            },
            "type": "scatter3d"
           }
          ],
          "scattercarpet": [
           {
            "marker": {
             "colorbar": {
              "outlinewidth": 0,
              "ticks": ""
             }
            },
            "type": "scattercarpet"
           }
          ],
          "scattergeo": [
           {
            "marker": {
             "colorbar": {
              "outlinewidth": 0,
              "ticks": ""
             }
            },
            "type": "scattergeo"
           }
          ],
          "scattergl": [
           {
            "marker": {
             "colorbar": {
              "outlinewidth": 0,
              "ticks": ""
             }
            },
            "type": "scattergl"
           }
          ],
          "scattermapbox": [
           {
            "marker": {
             "colorbar": {
              "outlinewidth": 0,
              "ticks": ""
             }
            },
            "type": "scattermapbox"
           }
          ],
          "scatterpolar": [
           {
            "marker": {
             "colorbar": {
              "outlinewidth": 0,
              "ticks": ""
             }
            },
            "type": "scatterpolar"
           }
          ],
          "scatterpolargl": [
           {
            "marker": {
             "colorbar": {
              "outlinewidth": 0,
              "ticks": ""
             }
            },
            "type": "scatterpolargl"
           }
          ],
          "scatterternary": [
           {
            "marker": {
             "colorbar": {
              "outlinewidth": 0,
              "ticks": ""
             }
            },
            "type": "scatterternary"
           }
          ],
          "surface": [
           {
            "colorbar": {
             "outlinewidth": 0,
             "ticks": ""
            },
            "colorscale": [
             [
              0,
              "#0d0887"
             ],
             [
              0.1111111111111111,
              "#46039f"
             ],
             [
              0.2222222222222222,
              "#7201a8"
             ],
             [
              0.3333333333333333,
              "#9c179e"
             ],
             [
              0.4444444444444444,
              "#bd3786"
             ],
             [
              0.5555555555555556,
              "#d8576b"
             ],
             [
              0.6666666666666666,
              "#ed7953"
             ],
             [
              0.7777777777777778,
              "#fb9f3a"
             ],
             [
              0.8888888888888888,
              "#fdca26"
             ],
             [
              1,
              "#f0f921"
             ]
            ],
            "type": "surface"
           }
          ],
          "table": [
           {
            "cells": {
             "fill": {
              "color": "#EBF0F8"
             },
             "line": {
              "color": "white"
             }
            },
            "header": {
             "fill": {
              "color": "#C8D4E3"
             },
             "line": {
              "color": "white"
             }
            },
            "type": "table"
           }
          ]
         },
         "layout": {
          "annotationdefaults": {
           "arrowcolor": "#2a3f5f",
           "arrowhead": 0,
           "arrowwidth": 1
          },
          "autotypenumbers": "strict",
          "coloraxis": {
           "colorbar": {
            "outlinewidth": 0,
            "ticks": ""
           }
          },
          "colorscale": {
           "diverging": [
            [
             0,
             "#8e0152"
            ],
            [
             0.1,
             "#c51b7d"
            ],
            [
             0.2,
             "#de77ae"
            ],
            [
             0.3,
             "#f1b6da"
            ],
            [
             0.4,
             "#fde0ef"
            ],
            [
             0.5,
             "#f7f7f7"
            ],
            [
             0.6,
             "#e6f5d0"
            ],
            [
             0.7,
             "#b8e186"
            ],
            [
             0.8,
             "#7fbc41"
            ],
            [
             0.9,
             "#4d9221"
            ],
            [
             1,
             "#276419"
            ]
           ],
           "sequential": [
            [
             0,
             "#0d0887"
            ],
            [
             0.1111111111111111,
             "#46039f"
            ],
            [
             0.2222222222222222,
             "#7201a8"
            ],
            [
             0.3333333333333333,
             "#9c179e"
            ],
            [
             0.4444444444444444,
             "#bd3786"
            ],
            [
             0.5555555555555556,
             "#d8576b"
            ],
            [
             0.6666666666666666,
             "#ed7953"
            ],
            [
             0.7777777777777778,
             "#fb9f3a"
            ],
            [
             0.8888888888888888,
             "#fdca26"
            ],
            [
             1,
             "#f0f921"
            ]
           ],
           "sequentialminus": [
            [
             0,
             "#0d0887"
            ],
            [
             0.1111111111111111,
             "#46039f"
            ],
            [
             0.2222222222222222,
             "#7201a8"
            ],
            [
             0.3333333333333333,
             "#9c179e"
            ],
            [
             0.4444444444444444,
             "#bd3786"
            ],
            [
             0.5555555555555556,
             "#d8576b"
            ],
            [
             0.6666666666666666,
             "#ed7953"
            ],
            [
             0.7777777777777778,
             "#fb9f3a"
            ],
            [
             0.8888888888888888,
             "#fdca26"
            ],
            [
             1,
             "#f0f921"
            ]
           ]
          },
          "colorway": [
           "#636efa",
           "#EF553B",
           "#00cc96",
           "#ab63fa",
           "#FFA15A",
           "#19d3f3",
           "#FF6692",
           "#B6E880",
           "#FF97FF",
           "#FECB52"
          ],
          "font": {
           "color": "#2a3f5f"
          },
          "geo": {
           "bgcolor": "white",
           "lakecolor": "white",
           "landcolor": "#E5ECF6",
           "showlakes": true,
           "showland": true,
           "subunitcolor": "white"
          },
          "hoverlabel": {
           "align": "left"
          },
          "hovermode": "closest",
          "mapbox": {
           "style": "light"
          },
          "paper_bgcolor": "white",
          "plot_bgcolor": "#E5ECF6",
          "polar": {
           "angularaxis": {
            "gridcolor": "white",
            "linecolor": "white",
            "ticks": ""
           },
           "bgcolor": "#E5ECF6",
           "radialaxis": {
            "gridcolor": "white",
            "linecolor": "white",
            "ticks": ""
           }
          },
          "scene": {
           "xaxis": {
            "backgroundcolor": "#E5ECF6",
            "gridcolor": "white",
            "gridwidth": 2,
            "linecolor": "white",
            "showbackground": true,
            "ticks": "",
            "zerolinecolor": "white"
           },
           "yaxis": {
            "backgroundcolor": "#E5ECF6",
            "gridcolor": "white",
            "gridwidth": 2,
            "linecolor": "white",
            "showbackground": true,
            "ticks": "",
            "zerolinecolor": "white"
           },
           "zaxis": {
            "backgroundcolor": "#E5ECF6",
            "gridcolor": "white",
            "gridwidth": 2,
            "linecolor": "white",
            "showbackground": true,
            "ticks": "",
            "zerolinecolor": "white"
           }
          },
          "shapedefaults": {
           "line": {
            "color": "#2a3f5f"
           }
          },
          "ternary": {
           "aaxis": {
            "gridcolor": "white",
            "linecolor": "white",
            "ticks": ""
           },
           "baxis": {
            "gridcolor": "white",
            "linecolor": "white",
            "ticks": ""
           },
           "bgcolor": "#E5ECF6",
           "caxis": {
            "gridcolor": "white",
            "linecolor": "white",
            "ticks": ""
           }
          },
          "title": {
           "x": 0.05
          },
          "xaxis": {
           "automargin": true,
           "gridcolor": "white",
           "linecolor": "white",
           "ticks": "",
           "title": {
            "standoff": 15
           },
           "zerolinecolor": "white",
           "zerolinewidth": 2
          },
          "yaxis": {
           "automargin": true,
           "gridcolor": "white",
           "linecolor": "white",
           "ticks": "",
           "title": {
            "standoff": 15
           },
           "zerolinecolor": "white",
           "zerolinewidth": 2
          }
         }
        },
        "title": {
         "font": {
          "color": "#4D5663"
         }
        },
        "xaxis": {
         "autorange": true,
         "gridcolor": "#E1E5ED",
         "range": [
          -3.5,
          3
         ],
         "showgrid": true,
         "tickfont": {
          "color": "#4D5663"
         },
         "title": {
          "font": {
           "color": "#4D5663"
          },
          "text": ""
         },
         "type": "linear",
         "zerolinecolor": "#E1E5ED"
        },
        "yaxis": {
         "autorange": true,
         "gridcolor": "#E1E5ED",
         "range": [
          0,
          20
         ],
         "showgrid": true,
         "tickfont": {
          "color": "#4D5663"
         },
         "title": {
          "font": {
           "color": "#4D5663"
          },
          "text": ""
         },
         "zerolinecolor": "#E1E5ED"
        }
       }
      },
      "image/png": "[encoded data removed]",
      "text/html": [
       "<div>                            <div id=\"36ff4cf3-8ef5-4f28-acac-9b54ba32e4df\" class=\"plotly-graph-div\" style=\"height:525px; width:100%;\"></div>            <script type=\"text/javascript\">                require([\"plotly\"], function(Plotly) {                    window.PLOTLYENV=window.PLOTLYENV || {};\n",
       "                    window.PLOTLYENV.BASE_URL='https://plot.ly';                                    if (document.getElementById(\"36ff4cf3-8ef5-4f28-acac-9b54ba32e4df\")) {                    Plotly.newPlot(                        \"36ff4cf3-8ef5-4f28-acac-9b54ba32e4df\",                        [{\"histfunc\":\"count\",\"histnorm\":\"\",\"marker\":{\"color\":\"rgba(255, 153, 51, 1.0)\",\"line\":{\"color\":\"#4D5663\",\"width\":1.3}},\"name\":\"A\",\"nbinsx\":25,\"opacity\":0.8,\"orientation\":\"v\",\"x\":[0.8102783342500975,-0.6253496339817639,-2.1243974907659204,0.720743963340369,-0.36064835386640587,0.5759738002613626,-0.5408838512778968,0.9063815011325167,0.14367225921632368,0.00026148660293838066,0.8467757610440696,1.0618325092089878,0.6601824163443513,-0.48520520012482693,0.16871597616384307,1.9223052368503024,0.9388082883234752,0.5088942209079874,-0.04230165123367031,-0.7526132624711495,-0.415041342875489,-0.793150586675246,-1.3157120016215045,-0.3129688528150545,-0.33178453177328393,0.6738932217934391,-0.20852567734951294,-0.5355302645486091,0.31758960828690674,-1.0782016494131208,-0.4943059018241482,2.3595732177828745,-0.8784700471766782,-1.566200134991812,2.371764508822633,0.4656996839084545,-0.5979722939647736,1.2026987046903905,-0.5774282822965877,-1.1912118849000355,1.1985479855522592,0.2620589711638922,-0.13955147837889778,2.006276192685832,-3.0593131305730212,-0.3135204450592635,0.49172621192557314,0.05953014894188452,0.5365399611316989,0.4195142732653403,-0.6770591662178267,-0.2436721827521768,1.6485546212968694,1.0777191974521207,-0.8235713648686525,1.1428728019017498,-1.0679338620343783,0.24667409787800906,-1.7012725976148813,0.3900854386786318,-0.0690631840386189,2.4425043139920115,-1.1018934707019725,-1.0725826387263075,0.5906422575776665,0.9317450123551313,-1.1094945245226584,-0.13924398333838528,0.6423994151056848,0.9343018357089617,-0.12462754521955423,-0.4534461912534964,0.3736980081177701,0.17323250427614217,0.1366559450676414,-1.5033057674814936,-1.5672884375220335,-0.6571575852753471,-0.6395666738075189,-0.048474604736042155,-0.8283140638768075,0.5051085347510471,-0.07435138461353441,0.7054559130856934,-0.4452511251612592,-1.7403303648604576,-0.8504417681382134,0.10098301367735862,2.9622665316121757,1.0923483440863093,1.7927479468119651,-1.311470384073283,0.22374389200951048,-0.530987810356002,0.11747030791334216,-1.6590230098865948,0.5041533225812629,-0.12948004730523324,0.658166074407969,-1.0808986418415536],\"type\":\"histogram\"}],                        {\"barmode\":\"overlay\",\"legend\":{\"bgcolor\":\"#F5F6F9\",\"font\":{\"color\":\"#4D5663\"}},\"paper_bgcolor\":\"#F5F6F9\",\"plot_bgcolor\":\"#F5F6F9\",\"template\":{\"data\":{\"barpolar\":[{\"marker\":{\"line\":{\"color\":\"#E5ECF6\",\"width\":0.5},\"pattern\":{\"fillmode\":\"overlay\",\"size\":10,\"solidity\":0.2}},\"type\":\"barpolar\"}],\"bar\":[{\"error_x\":{\"color\":\"#2a3f5f\"},\"error_y\":{\"color\":\"#2a3f5f\"},\"marker\":{\"line\":{\"color\":\"#E5ECF6\",\"width\":0.5},\"pattern\":{\"fillmode\":\"overlay\",\"size\":10,\"solidity\":0.2}},\"type\":\"bar\"}],\"carpet\":[{\"aaxis\":{\"endlinecolor\":\"#2a3f5f\",\"gridcolor\":\"white\",\"linecolor\":\"white\",\"minorgridcolor\":\"white\",\"startlinecolor\":\"#2a3f5f\"},\"baxis\":{\"endlinecolor\":\"#2a3f5f\",\"gridcolor\":\"white\",\"linecolor\":\"white\",\"minorgridcolor\":\"white\",\"startlinecolor\":\"#2a3f5f\"},\"type\":\"carpet\"}],\"choropleth\":[{\"colorbar\":{\"outlinewidth\":0,\"ticks\":\"\"},\"type\":\"choropleth\"}],\"contourcarpet\":[{\"colorbar\":{\"outlinewidth\":0,\"ticks\":\"\"},\"type\":\"contourcarpet\"}],\"contour\":[{\"colorbar\":{\"outlinewidth\":0,\"ticks\":\"\"},\"colorscale\":[[0.0,\"#0d0887\"],[0.1111111111111111,\"#46039f\"],[0.2222222222222222,\"#7201a8\"],[0.3333333333333333,\"#9c179e\"],[0.4444444444444444,\"#bd3786\"],[0.5555555555555556,\"#d8576b\"],[0.6666666666666666,\"#ed7953\"],[0.7777777777777778,\"#fb9f3a\"],[0.8888888888888888,\"#fdca26\"],[1.0,\"#f0f921\"]],\"type\":\"contour\"}],\"heatmapgl\":[{\"colorbar\":{\"outlinewidth\":0,\"ticks\":\"\"},\"colorscale\":[[0.0,\"#0d0887\"],[0.1111111111111111,\"#46039f\"],[0.2222222222222222,\"#7201a8\"],[0.3333333333333333,\"#9c179e\"],[0.4444444444444444,\"#bd3786\"],[0.5555555555555556,\"#d8576b\"],[0.6666666666666666,\"#ed7953\"],[0.7777777777777778,\"#fb9f3a\"],[0.8888888888888888,\"#fdca26\"],[1.0,\"#f0f921\"]],\"type\":\"heatmapgl\"}],\"heatmap\":[{\"colorbar\":{\"outlinewidth\":0,\"ticks\":\"\"},\"colorscale\":[[0.0,\"#0d0887\"],[0.1111111111111111,\"#46039f\"],[0.2222222222222222,\"#7201a8\"],[0.3333333333333333,\"#9c179e\"],[0.4444444444444444,\"#bd3786\"],[0.5555555555555556,\"#d8576b\"],[0.6666666666666666,\"#ed7953\"],[0.7777777777777778,\"#fb9f3a\"],[0.8888888888888888,\"#fdca26\"],[1.0,\"#f0f921\"]],\"type\":\"heatmap\"}],\"histogram2dcontour\":[{\"colorbar\":{\"outlinewidth\":0,\"ticks\":\"\"},\"colorscale\":[[0.0,\"#0d0887\"],[0.1111111111111111,\"#46039f\"],[0.2222222222222222,\"#7201a8\"],[0.3333333333333333,\"#9c179e\"],[0.4444444444444444,\"#bd3786\"],[0.5555555555555556,\"#d8576b\"],[0.6666666666666666,\"#ed7953\"],[0.7777777777777778,\"#fb9f3a\"],[0.8888888888888888,\"#fdca26\"],[1.0,\"#f0f921\"]],\"type\":\"histogram2dcontour\"}],\"histogram2d\":[{\"colorbar\":{\"outlinewidth\":0,\"ticks\":\"\"},\"colorscale\":[[0.0,\"#0d0887\"],[0.1111111111111111,\"#46039f\"],[0.2222222222222222,\"#7201a8\"],[0.3333333333333333,\"#9c179e\"],[0.4444444444444444,\"#bd3786\"],[0.5555555555555556,\"#d8576b\"],[0.6666666666666666,\"#ed7953\"],[0.7777777777777778,\"#fb9f3a\"],[0.8888888888888888,\"#fdca26\"],[1.0,\"#f0f921\"]],\"type\":\"histogram2d\"}],\"histogram\":[{\"marker\":{\"pattern\":{\"fillmode\":\"overlay\",\"size\":10,\"solidity\":0.2}},\"type\":\"histogram\"}],\"mesh3d\":[{\"colorbar\":{\"outlinewidth\":0,\"ticks\":\"\"},\"type\":\"mesh3d\"}],\"parcoords\":[{\"line\":{\"colorbar\":{\"outlinewidth\":0,\"ticks\":\"\"}},\"type\":\"parcoords\"}],\"pie\":[{\"automargin\":true,\"type\":\"pie\"}],\"scatter3d\":[{\"line\":{\"colorbar\":{\"outlinewidth\":0,\"ticks\":\"\"}},\"marker\":{\"colorbar\":{\"outlinewidth\":0,\"ticks\":\"\"}},\"type\":\"scatter3d\"}],\"scattercarpet\":[{\"marker\":{\"colorbar\":{\"outlinewidth\":0,\"ticks\":\"\"}},\"type\":\"scattercarpet\"}],\"scattergeo\":[{\"marker\":{\"colorbar\":{\"outlinewidth\":0,\"ticks\":\"\"}},\"type\":\"scattergeo\"}],\"scattergl\":[{\"marker\":{\"colorbar\":{\"outlinewidth\":0,\"ticks\":\"\"}},\"type\":\"scattergl\"}],\"scattermapbox\":[{\"marker\":{\"colorbar\":{\"outlinewidth\":0,\"ticks\":\"\"}},\"type\":\"scattermapbox\"}],\"scatterpolargl\":[{\"marker\":{\"colorbar\":{\"outlinewidth\":0,\"ticks\":\"\"}},\"type\":\"scatterpolargl\"}],\"scatterpolar\":[{\"marker\":{\"colorbar\":{\"outlinewidth\":0,\"ticks\":\"\"}},\"type\":\"scatterpolar\"}],\"scatter\":[{\"fillpattern\":{\"fillmode\":\"overlay\",\"size\":10,\"solidity\":0.2},\"type\":\"scatter\"}],\"scatterternary\":[{\"marker\":{\"colorbar\":{\"outlinewidth\":0,\"ticks\":\"\"}},\"type\":\"scatterternary\"}],\"surface\":[{\"colorbar\":{\"outlinewidth\":0,\"ticks\":\"\"},\"colorscale\":[[0.0,\"#0d0887\"],[0.1111111111111111,\"#46039f\"],[0.2222222222222222,\"#7201a8\"],[0.3333333333333333,\"#9c179e\"],[0.4444444444444444,\"#bd3786\"],[0.5555555555555556,\"#d8576b\"],[0.6666666666666666,\"#ed7953\"],[0.7777777777777778,\"#fb9f3a\"],[0.8888888888888888,\"#fdca26\"],[1.0,\"#f0f921\"]],\"type\":\"surface\"}],\"table\":[{\"cells\":{\"fill\":{\"color\":\"#EBF0F8\"},\"line\":{\"color\":\"white\"}},\"header\":{\"fill\":{\"color\":\"#C8D4E3\"},\"line\":{\"color\":\"white\"}},\"type\":\"table\"}]},\"layout\":{\"annotationdefaults\":{\"arrowcolor\":\"#2a3f5f\",\"arrowhead\":0,\"arrowwidth\":1},\"autotypenumbers\":\"strict\",\"coloraxis\":{\"colorbar\":{\"outlinewidth\":0,\"ticks\":\"\"}},\"colorscale\":{\"diverging\":[[0,\"#8e0152\"],[0.1,\"#c51b7d\"],[0.2,\"#de77ae\"],[0.3,\"#f1b6da\"],[0.4,\"#fde0ef\"],[0.5,\"#f7f7f7\"],[0.6,\"#e6f5d0\"],[0.7,\"#b8e186\"],[0.8,\"#7fbc41\"],[0.9,\"#4d9221\"],[1,\"#276419\"]],\"sequential\":[[0.0,\"#0d0887\"],[0.1111111111111111,\"#46039f\"],[0.2222222222222222,\"#7201a8\"],[0.3333333333333333,\"#9c179e\"],[0.4444444444444444,\"#bd3786\"],[0.5555555555555556,\"#d8576b\"],[0.6666666666666666,\"#ed7953\"],[0.7777777777777778,\"#fb9f3a\"],[0.8888888888888888,\"#fdca26\"],[1.0,\"#f0f921\"]],\"sequentialminus\":[[0.0,\"#0d0887\"],[0.1111111111111111,\"#46039f\"],[0.2222222222222222,\"#7201a8\"],[0.3333333333333333,\"#9c179e\"],[0.4444444444444444,\"#bd3786\"],[0.5555555555555556,\"#d8576b\"],[0.6666666666666666,\"#ed7953\"],[0.7777777777777778,\"#fb9f3a\"],[0.8888888888888888,\"#fdca26\"],[1.0,\"#f0f921\"]]},\"colorway\":[\"#636efa\",\"#EF553B\",\"#00cc96\",\"#ab63fa\",\"#FFA15A\",\"#19d3f3\",\"#FF6692\",\"#B6E880\",\"#FF97FF\",\"#FECB52\"],\"font\":{\"color\":\"#2a3f5f\"},\"geo\":{\"bgcolor\":\"white\",\"lakecolor\":\"white\",\"landcolor\":\"#E5ECF6\",\"showlakes\":true,\"showland\":true,\"subunitcolor\":\"white\"},\"hoverlabel\":{\"align\":\"left\"},\"hovermode\":\"closest\",\"mapbox\":{\"style\":\"light\"},\"paper_bgcolor\":\"white\",\"plot_bgcolor\":\"#E5ECF6\",\"polar\":{\"angularaxis\":{\"gridcolor\":\"white\",\"linecolor\":\"white\",\"ticks\":\"\"},\"bgcolor\":\"#E5ECF6\",\"radialaxis\":{\"gridcolor\":\"white\",\"linecolor\":\"white\",\"ticks\":\"\"}},\"scene\":{\"xaxis\":{\"backgroundcolor\":\"#E5ECF6\",\"gridcolor\":\"white\",\"gridwidth\":2,\"linecolor\":\"white\",\"showbackground\":true,\"ticks\":\"\",\"zerolinecolor\":\"white\"},\"yaxis\":{\"backgroundcolor\":\"#E5ECF6\",\"gridcolor\":\"white\",\"gridwidth\":2,\"linecolor\":\"white\",\"showbackground\":true,\"ticks\":\"\",\"zerolinecolor\":\"white\"},\"zaxis\":{\"backgroundcolor\":\"#E5ECF6\",\"gridcolor\":\"white\",\"gridwidth\":2,\"linecolor\":\"white\",\"showbackground\":true,\"ticks\":\"\",\"zerolinecolor\":\"white\"}},\"shapedefaults\":{\"line\":{\"color\":\"#2a3f5f\"}},\"ternary\":{\"aaxis\":{\"gridcolor\":\"white\",\"linecolor\":\"white\",\"ticks\":\"\"},\"baxis\":{\"gridcolor\":\"white\",\"linecolor\":\"white\",\"ticks\":\"\"},\"bgcolor\":\"#E5ECF6\",\"caxis\":{\"gridcolor\":\"white\",\"linecolor\":\"white\",\"ticks\":\"\"}},\"title\":{\"x\":0.05},\"xaxis\":{\"automargin\":true,\"gridcolor\":\"white\",\"linecolor\":\"white\",\"ticks\":\"\",\"title\":{\"standoff\":15},\"zerolinecolor\":\"white\",\"zerolinewidth\":2},\"yaxis\":{\"automargin\":true,\"gridcolor\":\"white\",\"linecolor\":\"white\",\"ticks\":\"\",\"title\":{\"standoff\":15},\"zerolinecolor\":\"white\",\"zerolinewidth\":2}}},\"title\":{\"font\":{\"color\":\"#4D5663\"}},\"xaxis\":{\"gridcolor\":\"#E1E5ED\",\"showgrid\":true,\"tickfont\":{\"color\":\"#4D5663\"},\"title\":{\"font\":{\"color\":\"#4D5663\"},\"text\":\"\"},\"zerolinecolor\":\"#E1E5ED\"},\"yaxis\":{\"gridcolor\":\"#E1E5ED\",\"showgrid\":true,\"tickfont\":{\"color\":\"#4D5663\"},\"title\":{\"font\":{\"color\":\"#4D5663\"},\"text\":\"\"},\"zerolinecolor\":\"#E1E5ED\"}},                        {\"showLink\": true, \"linkText\": \"Export to plot.ly\", \"plotlyServerURL\": \"https://plot.ly\", \"responsive\": true}                    ).then(function(){\n",
       "                            \n",
       "var gd = document.getElementById('36ff4cf3-8ef5-4f28-acac-9b54ba32e4df');\n",
       "var x = new MutationObserver(function (mutations, observer) {{\n",
       "        var display = window.getComputedStyle(gd).display;\n",
       "        if (!display || display === 'none') {{\n",
       "            console.log([gd, 'removed!']);\n",
       "            Plotly.purge(gd);\n",
       "            observer.disconnect();\n",
       "        }}\n",
       "}});\n",
       "\n",
       "// Listen for the removal of the full notebook cells\n",
       "var notebookContainer = gd.closest('#notebook-container');\n",
       "if (notebookContainer) {{\n",
       "    x.observe(notebookContainer, {childList: true});\n",
       "}}\n",
       "\n",
       "// Listen for the clearing of the current output cell\n",
       "var outputEl = gd.closest('.output');\n",
       "if (outputEl) {{\n",
       "    x.observe(outputEl, {childList: true});\n",
       "}}\n",
       "\n",
       "                        })                };                });            </script>        </div>"
      ]
     },
     "metadata": {},
     "output_type": "display_data"
    }
   ],
   "source": [
    "df['A'].iplot(kind='hist',bins=25)"
   ]
  },
  {
   "cell_type": "code",
   "execution_count": null,
   "metadata": {},
   "outputs": [],
   "source": []
  },
  {
   "cell_type": "code",
   "execution_count": 46,
   "metadata": {
    "collapsed": false,
    "jupyter": {
     "outputs_hidden": false
    }
   },
   "outputs": [
    {
     "data": {
      "application/vnd.plotly.v1+json": {
       "config": {
        "linkText": "Export to plot.ly",
        "plotlyServerURL": "https://plot.ly",
        "showLink": true
       },
       "data": [
        {
         "marker": {
          "color": [
           "rgb(255, 153, 51)",
           "rgb(55, 128, 191)",
           "rgb(50, 171, 96)",
           "rgb(128, 0, 128)",
           "rgb(219, 64, 82)",
           "rgb(0, 128, 128)",
           "rgb(255, 255, 51)",
           "rgb(128, 128, 0)",
           "rgb(251, 128, 114)",
           "rgb(128, 177, 211)"
          ],
          "line": {
           "width": 1.3
          },
          "size": [
           69,
           84,
           105,
           57,
           95,
           107,
           80,
           12,
           62,
           106,
           62,
           83,
           72,
           75,
           58,
           91,
           62,
           32,
           79,
           68,
           52,
           79,
           62,
           56,
           74,
           69,
           55,
           58,
           54,
           42,
           30,
           100,
           31,
           71,
           79,
           78,
           67,
           61,
           100,
           95,
           77,
           32,
           76,
           68,
           69,
           69,
           64,
           73,
           67,
           53,
           62,
           70,
           72,
           72,
           72,
           45,
           101,
           97,
           59,
           50,
           65,
           76,
           57,
           87,
           63,
           94,
           75,
           56,
           57,
           69,
           90,
           66,
           61,
           34,
           79,
           70,
           51,
           63,
           43,
           48,
           66,
           96,
           63,
           21,
           71,
           50,
           58,
           69,
           50,
           80,
           73,
           81,
           79,
           41,
           52,
           91,
           112,
           40,
           52,
           83
          ],
          "symbol": "circle"
         },
         "mode": "markers",
         "text": "",
         "type": "scatter",
         "x": [
          0.8102783342500975,
          -0.6253496339817639,
          -2.1243974907659204,
          0.720743963340369,
          -0.36064835386640587,
          0.5759738002613626,
          -0.5408838512778968,
          0.9063815011325167,
          0.14367225921632368,
          0.00026148660293838066,
          0.8467757610440696,
          1.0618325092089878,
          0.6601824163443513,
          -0.48520520012482693,
          0.16871597616384307,
          1.9223052368503024,
          0.9388082883234752,
          0.5088942209079874,
          -0.04230165123367031,
          -0.7526132624711495,
          -0.415041342875489,
          -0.793150586675246,
          -1.3157120016215045,
          -0.3129688528150545,
          -0.33178453177328393,
          0.6738932217934391,
          -0.20852567734951294,
          -0.5355302645486091,
          0.31758960828690674,
          -1.0782016494131208,
          -0.4943059018241482,
          2.3595732177828745,
          -0.8784700471766782,
          -1.566200134991812,
          2.371764508822633,
          0.4656996839084545,
          -0.5979722939647736,
          1.2026987046903905,
          -0.5774282822965877,
          -1.1912118849000355,
          1.1985479855522592,
          0.2620589711638922,
          -0.13955147837889778,
          2.006276192685832,
          -3.0593131305730212,
          -0.3135204450592635,
          0.49172621192557314,
          0.05953014894188452,
          0.5365399611316989,
          0.4195142732653403,
          -0.6770591662178267,
          -0.2436721827521768,
          1.6485546212968694,
          1.0777191974521207,
          -0.8235713648686525,
          1.1428728019017498,
          -1.0679338620343783,
          0.24667409787800906,
          -1.7012725976148813,
          0.3900854386786318,
          -0.0690631840386189,
          2.4425043139920115,
          -1.1018934707019725,
          -1.0725826387263075,
          0.5906422575776665,
          0.9317450123551313,
          -1.1094945245226584,
          -0.13924398333838528,
          0.6423994151056848,
          0.9343018357089617,
          -0.12462754521955423,
          -0.4534461912534964,
          0.3736980081177701,
          0.17323250427614217,
          0.1366559450676414,
          -1.5033057674814936,
          -1.5672884375220335,
          -0.6571575852753471,
          -0.6395666738075189,
          -0.048474604736042155,
          -0.8283140638768075,
          0.5051085347510471,
          -0.07435138461353441,
          0.7054559130856934,
          -0.4452511251612592,
          -1.7403303648604576,
          -0.8504417681382134,
          0.10098301367735862,
          2.9622665316121757,
          1.0923483440863093,
          1.7927479468119651,
          -1.311470384073283,
          0.22374389200951048,
          -0.530987810356002,
          0.11747030791334216,
          -1.6590230098865948,
          0.5041533225812629,
          -0.12948004730523324,
          0.658166074407969,
          -1.0808986418415536
         ],
         "y": [
          -0.5867832721021545,
          -0.07652741634221236,
          0.2364293046163907,
          -0.6144816203385531,
          0.012973345926433438,
          0.140602345064779,
          -1.0030025953938253,
          -1.502643397426585,
          0.5896630453075187,
          -0.21859864301934573,
          2.5606146076852134,
          -0.18445397195904925,
          0.14404944732764993,
          -0.176190196082285,
          -0.1814650597022292,
          -0.6035618716856341,
          -0.2698398063907249,
          -1.3758116421192002,
          -0.2515990561051834,
          -0.1699255313315551,
          1.105332227997531,
          -0.2414537899145735,
          -0.43690638271891863,
          -0.5565581304346296,
          0.6843491271174079,
          1.1144617107002537,
          -0.06617478605366806,
          0.6171150057998764,
          0.161975916590861,
          -0.8025708642901519,
          -1.5703565393095944,
          0.0263166711734827,
          -1.3396342312495948,
          0.31922014067344723,
          0.26769759042412405,
          0.8362426707322204,
          -0.16595514184267424,
          -1.5533523988763758,
          0.9483515326864449,
          0.10852470942154041,
          0.32906720227944375,
          -1.3325573708112333,
          -1.9645959663511439,
          -0.16802540689860643,
          0.13804899488468952,
          0.7199032526152568,
          -0.21241232879081512,
          0.07330227748986475,
          1.0630669830149864,
          -0.3197084203991881,
          -1.1359500413622619,
          -0.9940157702582891,
          0.12171307375231409,
          0.4592175010615597,
          -1.6271043605590056,
          0.09926530472378069,
          -0.8497057898196344,
          -0.096366003868344,
          -0.29323986028178434,
          -1.018009352091211,
          -1.5515627050638126,
          -0.31734504259472124,
          -0.4122652479440936,
          -0.3275919864238932,
          1.8995716489365664,
          -1.150485762145562,
          0.8844241629491068,
          -0.2976620794221025,
          0.4561009509196521,
          2.0577189539348164,
          -1.702448142151754,
          2.341170674518494,
          0.21098368350967794,
          1.2154631421327593,
          -1.9577382001306542,
          0.17362248923315385,
          -0.003360407917770353,
          -0.1523412451921134,
          -0.2530497749244438,
          0.16256186797090352,
          1.9642697933484992,
          0.018391126687528722,
          0.46386388030333103,
          0.7217231778212309,
          -0.17967146823749583,
          -0.6188632969910778,
          0.49843235794522917,
          -2.2834075497398354,
          0.5075191162307787,
          -0.3979350596840527,
          1.808595380141962,
          1.4478435911085978,
          1.9847189806152126,
          -0.6006060868037226,
          -0.11305146669809568,
          -1.9931225359407287,
          1.1157025234863016,
          -1.4374819486724126,
          -0.5043842729131363,
          1.037573710316617
         ]
        }
       ],
       "layout": {
        "autosize": true,
        "legend": {
         "bgcolor": "#F5F6F9",
         "font": {
          "color": "#4D5663"
         }
        },
        "paper_bgcolor": "#F5F6F9",
        "plot_bgcolor": "#F5F6F9",
        "template": {
         "data": {
          "bar": [
           {
            "error_x": {
             "color": "#2a3f5f"
            },
            "error_y": {
             "color": "#2a3f5f"
            },
            "marker": {
             "line": {
              "color": "#E5ECF6",
              "width": 0.5
             },
             "pattern": {
              "fillmode": "overlay",
              "size": 10,
              "solidity": 0.2
             }
            },
            "type": "bar"
           }
          ],
          "barpolar": [
           {
            "marker": {
             "line": {
              "color": "#E5ECF6",
              "width": 0.5
             },
             "pattern": {
              "fillmode": "overlay",
              "size": 10,
              "solidity": 0.2
             }
            },
            "type": "barpolar"
           }
          ],
          "carpet": [
           {
            "aaxis": {
             "endlinecolor": "#2a3f5f",
             "gridcolor": "white",
             "linecolor": "white",
             "minorgridcolor": "white",
             "startlinecolor": "#2a3f5f"
            },
            "baxis": {
             "endlinecolor": "#2a3f5f",
             "gridcolor": "white",
             "linecolor": "white",
             "minorgridcolor": "white",
             "startlinecolor": "#2a3f5f"
            },
            "type": "carpet"
           }
          ],
          "choropleth": [
           {
            "colorbar": {
             "outlinewidth": 0,
             "ticks": ""
            },
            "type": "choropleth"
           }
          ],
          "contour": [
           {
            "colorbar": {
             "outlinewidth": 0,
             "ticks": ""
            },
            "colorscale": [
             [
              0,
              "#0d0887"
             ],
             [
              0.1111111111111111,
              "#46039f"
             ],
             [
              0.2222222222222222,
              "#7201a8"
             ],
             [
              0.3333333333333333,
              "#9c179e"
             ],
             [
              0.4444444444444444,
              "#bd3786"
             ],
             [
              0.5555555555555556,
              "#d8576b"
             ],
             [
              0.6666666666666666,
              "#ed7953"
             ],
             [
              0.7777777777777778,
              "#fb9f3a"
             ],
             [
              0.8888888888888888,
              "#fdca26"
             ],
             [
              1,
              "#f0f921"
             ]
            ],
            "type": "contour"
           }
          ],
          "contourcarpet": [
           {
            "colorbar": {
             "outlinewidth": 0,
             "ticks": ""
            },
            "type": "contourcarpet"
           }
          ],
          "heatmap": [
           {
            "colorbar": {
             "outlinewidth": 0,
             "ticks": ""
            },
            "colorscale": [
             [
              0,
              "#0d0887"
             ],
             [
              0.1111111111111111,
              "#46039f"
             ],
             [
              0.2222222222222222,
              "#7201a8"
             ],
             [
              0.3333333333333333,
              "#9c179e"
             ],
             [
              0.4444444444444444,
              "#bd3786"
             ],
             [
              0.5555555555555556,
              "#d8576b"
             ],
             [
              0.6666666666666666,
              "#ed7953"
             ],
             [
              0.7777777777777778,
              "#fb9f3a"
             ],
             [
              0.8888888888888888,
              "#fdca26"
             ],
             [
              1,
              "#f0f921"
             ]
            ],
            "type": "heatmap"
           }
          ],
          "heatmapgl": [
           {
            "colorbar": {
             "outlinewidth": 0,
             "ticks": ""
            },
            "colorscale": [
             [
              0,
              "#0d0887"
             ],
             [
              0.1111111111111111,
              "#46039f"
             ],
             [
              0.2222222222222222,
              "#7201a8"
             ],
             [
              0.3333333333333333,
              "#9c179e"
             ],
             [
              0.4444444444444444,
              "#bd3786"
             ],
             [
              0.5555555555555556,
              "#d8576b"
             ],
             [
              0.6666666666666666,
              "#ed7953"
             ],
             [
              0.7777777777777778,
              "#fb9f3a"
             ],
             [
              0.8888888888888888,
              "#fdca26"
             ],
             [
              1,
              "#f0f921"
             ]
            ],
            "type": "heatmapgl"
           }
          ],
          "histogram": [
           {
            "marker": {
             "pattern": {
              "fillmode": "overlay",
              "size": 10,
              "solidity": 0.2
             }
            },
            "type": "histogram"
           }
          ],
          "histogram2d": [
           {
            "colorbar": {
             "outlinewidth": 0,
             "ticks": ""
            },
            "colorscale": [
             [
              0,
              "#0d0887"
             ],
             [
              0.1111111111111111,
              "#46039f"
             ],
             [
              0.2222222222222222,
              "#7201a8"
             ],
             [
              0.3333333333333333,
              "#9c179e"
             ],
             [
              0.4444444444444444,
              "#bd3786"
             ],
             [
              0.5555555555555556,
              "#d8576b"
             ],
             [
              0.6666666666666666,
              "#ed7953"
             ],
             [
              0.7777777777777778,
              "#fb9f3a"
             ],
             [
              0.8888888888888888,
              "#fdca26"
             ],
             [
              1,
              "#f0f921"
             ]
            ],
            "type": "histogram2d"
           }
          ],
          "histogram2dcontour": [
           {
            "colorbar": {
             "outlinewidth": 0,
             "ticks": ""
            },
            "colorscale": [
             [
              0,
              "#0d0887"
             ],
             [
              0.1111111111111111,
              "#46039f"
             ],
             [
              0.2222222222222222,
              "#7201a8"
             ],
             [
              0.3333333333333333,
              "#9c179e"
             ],
             [
              0.4444444444444444,
              "#bd3786"
             ],
             [
              0.5555555555555556,
              "#d8576b"
             ],
             [
              0.6666666666666666,
              "#ed7953"
             ],
             [
              0.7777777777777778,
              "#fb9f3a"
             ],
             [
              0.8888888888888888,
              "#fdca26"
             ],
             [
              1,
              "#f0f921"
             ]
            ],
            "type": "histogram2dcontour"
           }
          ],
          "mesh3d": [
           {
            "colorbar": {
             "outlinewidth": 0,
             "ticks": ""
            },
            "type": "mesh3d"
           }
          ],
          "parcoords": [
           {
            "line": {
             "colorbar": {
              "outlinewidth": 0,
              "ticks": ""
             }
            },
            "type": "parcoords"
           }
          ],
          "pie": [
           {
            "automargin": true,
            "type": "pie"
           }
          ],
          "scatter": [
           {
            "fillpattern": {
             "fillmode": "overlay",
             "size": 10,
             "solidity": 0.2
            },
            "type": "scatter"
           }
          ],
          "scatter3d": [
           {
            "line": {
             "colorbar": {
              "outlinewidth": 0,
              "ticks": ""
             }
            },
            "marker": {
             "colorbar": {
              "outlinewidth": 0,
              "ticks": ""
             }
            },
            "type": "scatter3d"
           }
          ],
          "scattercarpet": [
           {
            "marker": {
             "colorbar": {
              "outlinewidth": 0,
              "ticks": ""
             }
            },
            "type": "scattercarpet"
           }
          ],
          "scattergeo": [
           {
            "marker": {
             "colorbar": {
              "outlinewidth": 0,
              "ticks": ""
             }
            },
            "type": "scattergeo"
           }
          ],
          "scattergl": [
           {
            "marker": {
             "colorbar": {
              "outlinewidth": 0,
              "ticks": ""
             }
            },
            "type": "scattergl"
           }
          ],
          "scattermapbox": [
           {
            "marker": {
             "colorbar": {
              "outlinewidth": 0,
              "ticks": ""
             }
            },
            "type": "scattermapbox"
           }
          ],
          "scatterpolar": [
           {
            "marker": {
             "colorbar": {
              "outlinewidth": 0,
              "ticks": ""
             }
            },
            "type": "scatterpolar"
           }
          ],
          "scatterpolargl": [
           {
            "marker": {
             "colorbar": {
              "outlinewidth": 0,
              "ticks": ""
             }
            },
            "type": "scatterpolargl"
           }
          ],
          "scatterternary": [
           {
            "marker": {
             "colorbar": {
              "outlinewidth": 0,
              "ticks": ""
             }
            },
            "type": "scatterternary"
           }
          ],
          "surface": [
           {
            "colorbar": {
             "outlinewidth": 0,
             "ticks": ""
            },
            "colorscale": [
             [
              0,
              "#0d0887"
             ],
             [
              0.1111111111111111,
              "#46039f"
             ],
             [
              0.2222222222222222,
              "#7201a8"
             ],
             [
              0.3333333333333333,
              "#9c179e"
             ],
             [
              0.4444444444444444,
              "#bd3786"
             ],
             [
              0.5555555555555556,
              "#d8576b"
             ],
             [
              0.6666666666666666,
              "#ed7953"
             ],
             [
              0.7777777777777778,
              "#fb9f3a"
             ],
             [
              0.8888888888888888,
              "#fdca26"
             ],
             [
              1,
              "#f0f921"
             ]
            ],
            "type": "surface"
           }
          ],
          "table": [
           {
            "cells": {
             "fill": {
              "color": "#EBF0F8"
             },
             "line": {
              "color": "white"
             }
            },
            "header": {
             "fill": {
              "color": "#C8D4E3"
             },
             "line": {
              "color": "white"
             }
            },
            "type": "table"
           }
          ]
         },
         "layout": {
          "annotationdefaults": {
           "arrowcolor": "#2a3f5f",
           "arrowhead": 0,
           "arrowwidth": 1
          },
          "autotypenumbers": "strict",
          "coloraxis": {
           "colorbar": {
            "outlinewidth": 0,
            "ticks": ""
           }
          },
          "colorscale": {
           "diverging": [
            [
             0,
             "#8e0152"
            ],
            [
             0.1,
             "#c51b7d"
            ],
            [
             0.2,
             "#de77ae"
            ],
            [
             0.3,
             "#f1b6da"
            ],
            [
             0.4,
             "#fde0ef"
            ],
            [
             0.5,
             "#f7f7f7"
            ],
            [
             0.6,
             "#e6f5d0"
            ],
            [
             0.7,
             "#b8e186"
            ],
            [
             0.8,
             "#7fbc41"
            ],
            [
             0.9,
             "#4d9221"
            ],
            [
             1,
             "#276419"
            ]
           ],
           "sequential": [
            [
             0,
             "#0d0887"
            ],
            [
             0.1111111111111111,
             "#46039f"
            ],
            [
             0.2222222222222222,
             "#7201a8"
            ],
            [
             0.3333333333333333,
             "#9c179e"
            ],
            [
             0.4444444444444444,
             "#bd3786"
            ],
            [
             0.5555555555555556,
             "#d8576b"
            ],
            [
             0.6666666666666666,
             "#ed7953"
            ],
            [
             0.7777777777777778,
             "#fb9f3a"
            ],
            [
             0.8888888888888888,
             "#fdca26"
            ],
            [
             1,
             "#f0f921"
            ]
           ],
           "sequentialminus": [
            [
             0,
             "#0d0887"
            ],
            [
             0.1111111111111111,
             "#46039f"
            ],
            [
             0.2222222222222222,
             "#7201a8"
            ],
            [
             0.3333333333333333,
             "#9c179e"
            ],
            [
             0.4444444444444444,
             "#bd3786"
            ],
            [
             0.5555555555555556,
             "#d8576b"
            ],
            [
             0.6666666666666666,
             "#ed7953"
            ],
            [
             0.7777777777777778,
             "#fb9f3a"
            ],
            [
             0.8888888888888888,
             "#fdca26"
            ],
            [
             1,
             "#f0f921"
            ]
           ]
          },
          "colorway": [
           "#636efa",
           "#EF553B",
           "#00cc96",
           "#ab63fa",
           "#FFA15A",
           "#19d3f3",
           "#FF6692",
           "#B6E880",
           "#FF97FF",
           "#FECB52"
          ],
          "font": {
           "color": "#2a3f5f"
          },
          "geo": {
           "bgcolor": "white",
           "lakecolor": "white",
           "landcolor": "#E5ECF6",
           "showlakes": true,
           "showland": true,
           "subunitcolor": "white"
          },
          "hoverlabel": {
           "align": "left"
          },
          "hovermode": "closest",
          "mapbox": {
           "style": "light"
          },
          "paper_bgcolor": "white",
          "plot_bgcolor": "#E5ECF6",
          "polar": {
           "angularaxis": {
            "gridcolor": "white",
            "linecolor": "white",
            "ticks": ""
           },
           "bgcolor": "#E5ECF6",
           "radialaxis": {
            "gridcolor": "white",
            "linecolor": "white",
            "ticks": ""
           }
          },
          "scene": {
           "xaxis": {
            "backgroundcolor": "#E5ECF6",
            "gridcolor": "white",
            "gridwidth": 2,
            "linecolor": "white",
            "showbackground": true,
            "ticks": "",
            "zerolinecolor": "white"
           },
           "yaxis": {
            "backgroundcolor": "#E5ECF6",
            "gridcolor": "white",
            "gridwidth": 2,
            "linecolor": "white",
            "showbackground": true,
            "ticks": "",
            "zerolinecolor": "white"
           },
           "zaxis": {
            "backgroundcolor": "#E5ECF6",
            "gridcolor": "white",
            "gridwidth": 2,
            "linecolor": "white",
            "showbackground": true,
            "ticks": "",
            "zerolinecolor": "white"
           }
          },
          "shapedefaults": {
           "line": {
            "color": "#2a3f5f"
           }
          },
          "ternary": {
           "aaxis": {
            "gridcolor": "white",
            "linecolor": "white",
            "ticks": ""
           },
           "baxis": {
            "gridcolor": "white",
            "linecolor": "white",
            "ticks": ""
           },
           "bgcolor": "#E5ECF6",
           "caxis": {
            "gridcolor": "white",
            "linecolor": "white",
            "ticks": ""
           }
          },
          "title": {
           "x": 0.05
          },
          "xaxis": {
           "automargin": true,
           "gridcolor": "white",
           "linecolor": "white",
           "ticks": "",
           "title": {
            "standoff": 15
           },
           "zerolinecolor": "white",
           "zerolinewidth": 2
          },
          "yaxis": {
           "automargin": true,
           "gridcolor": "white",
           "linecolor": "white",
           "ticks": "",
           "title": {
            "standoff": 15
           },
           "zerolinecolor": "white",
           "zerolinewidth": 2
          }
         }
        },
        "title": {
         "font": {
          "color": "#4D5663"
         }
        },
        "xaxis": {
         "autorange": true,
         "gridcolor": "#E1E5ED",
         "range": [
          -3.7613414830138807,
          3.571948313183634
         ],
         "showgrid": true,
         "tickfont": {
          "color": "#4D5663"
         },
         "title": {
          "font": {
           "color": "#4D5663"
          },
          "text": ""
         },
         "type": "linear",
         "zerolinecolor": "#E1E5ED"
        },
        "yaxis": {
         "autorange": true,
         "gridcolor": "#E1E5ED",
         "range": [
          -7.823552451663309,
          8.107793048603323
         ],
         "showgrid": true,
         "tickfont": {
          "color": "#4D5663"
         },
         "title": {
          "font": {
           "color": "#4D5663"
          },
          "text": ""
         },
         "type": "linear",
         "zerolinecolor": "#E1E5ED"
        }
       }
      },
      "image/png": "[encoded data removed]",
      "text/html": [
       "<div>                            <div id=\"1ded2792-3b4a-408c-825d-eb85456aee4a\" class=\"plotly-graph-div\" style=\"height:525px; width:100%;\"></div>            <script type=\"text/javascript\">                require([\"plotly\"], function(Plotly) {                    window.PLOTLYENV=window.PLOTLYENV || {};\n",
       "                    window.PLOTLYENV.BASE_URL='https://plot.ly';                                    if (document.getElementById(\"1ded2792-3b4a-408c-825d-eb85456aee4a\")) {                    Plotly.newPlot(                        \"1ded2792-3b4a-408c-825d-eb85456aee4a\",                        [{\"marker\":{\"color\":[\"rgb(255, 153, 51)\",\"rgb(55, 128, 191)\",\"rgb(50, 171, 96)\",\"rgb(128, 0, 128)\",\"rgb(219, 64, 82)\",\"rgb(0, 128, 128)\",\"rgb(255, 255, 51)\",\"rgb(128, 128, 0)\",\"rgb(251, 128, 114)\",\"rgb(128, 177, 211)\"],\"line\":{\"width\":1.3},\"size\":[69,84,105,57,95,107,80,12,62,106,62,83,72,75,58,91,62,32,79,68,52,79,62,56,74,69,55,58,54,42,30,100,31,71,79,78,67,61,100,95,77,32,76,68,69,69,64,73,67,53,62,70,72,72,72,45,101,97,59,50,65,76,57,87,63,94,75,56,57,69,90,66,61,34,79,70,51,63,43,48,66,96,63,21,71,50,58,69,50,80,73,81,79,41,52,91,112,40,52,83],\"symbol\":\"circle\"},\"mode\":\"markers\",\"text\":\"\",\"x\":[0.8102783342500975,-0.6253496339817639,-2.1243974907659204,0.720743963340369,-0.36064835386640587,0.5759738002613626,-0.5408838512778968,0.9063815011325167,0.14367225921632368,0.00026148660293838066,0.8467757610440696,1.0618325092089878,0.6601824163443513,-0.48520520012482693,0.16871597616384307,1.9223052368503024,0.9388082883234752,0.5088942209079874,-0.04230165123367031,-0.7526132624711495,-0.415041342875489,-0.793150586675246,-1.3157120016215045,-0.3129688528150545,-0.33178453177328393,0.6738932217934391,-0.20852567734951294,-0.5355302645486091,0.31758960828690674,-1.0782016494131208,-0.4943059018241482,2.3595732177828745,-0.8784700471766782,-1.566200134991812,2.371764508822633,0.4656996839084545,-0.5979722939647736,1.2026987046903905,-0.5774282822965877,-1.1912118849000355,1.1985479855522592,0.2620589711638922,-0.13955147837889778,2.006276192685832,-3.0593131305730212,-0.3135204450592635,0.49172621192557314,0.05953014894188452,0.5365399611316989,0.4195142732653403,-0.6770591662178267,-0.2436721827521768,1.6485546212968694,1.0777191974521207,-0.8235713648686525,1.1428728019017498,-1.0679338620343783,0.24667409787800906,-1.7012725976148813,0.3900854386786318,-0.0690631840386189,2.4425043139920115,-1.1018934707019725,-1.0725826387263075,0.5906422575776665,0.9317450123551313,-1.1094945245226584,-0.13924398333838528,0.6423994151056848,0.9343018357089617,-0.12462754521955423,-0.4534461912534964,0.3736980081177701,0.17323250427614217,0.1366559450676414,-1.5033057674814936,-1.5672884375220335,-0.6571575852753471,-0.6395666738075189,-0.048474604736042155,-0.8283140638768075,0.5051085347510471,-0.07435138461353441,0.7054559130856934,-0.4452511251612592,-1.7403303648604576,-0.8504417681382134,0.10098301367735862,2.9622665316121757,1.0923483440863093,1.7927479468119651,-1.311470384073283,0.22374389200951048,-0.530987810356002,0.11747030791334216,-1.6590230098865948,0.5041533225812629,-0.12948004730523324,0.658166074407969,-1.0808986418415536],\"y\":[-0.5867832721021545,-0.07652741634221236,0.2364293046163907,-0.6144816203385531,0.012973345926433438,0.140602345064779,-1.0030025953938253,-1.502643397426585,0.5896630453075187,-0.21859864301934573,2.5606146076852134,-0.18445397195904925,0.14404944732764993,-0.176190196082285,-0.1814650597022292,-0.6035618716856341,-0.2698398063907249,-1.3758116421192002,-0.2515990561051834,-0.1699255313315551,1.105332227997531,-0.2414537899145735,-0.43690638271891863,-0.5565581304346296,0.6843491271174079,1.1144617107002537,-0.06617478605366806,0.6171150057998764,0.161975916590861,-0.8025708642901519,-1.5703565393095944,0.0263166711734827,-1.3396342312495948,0.31922014067344723,0.26769759042412405,0.8362426707322204,-0.16595514184267424,-1.5533523988763758,0.9483515326864449,0.10852470942154041,0.32906720227944375,-1.3325573708112333,-1.9645959663511439,-0.16802540689860643,0.13804899488468952,0.7199032526152568,-0.21241232879081512,0.07330227748986475,1.0630669830149864,-0.3197084203991881,-1.1359500413622619,-0.9940157702582891,0.12171307375231409,0.4592175010615597,-1.6271043605590056,0.09926530472378069,-0.8497057898196344,-0.096366003868344,-0.29323986028178434,-1.018009352091211,-1.5515627050638126,-0.31734504259472124,-0.4122652479440936,-0.3275919864238932,1.8995716489365664,-1.150485762145562,0.8844241629491068,-0.2976620794221025,0.4561009509196521,2.0577189539348164,-1.702448142151754,2.341170674518494,0.21098368350967794,1.2154631421327593,-1.9577382001306542,0.17362248923315385,-0.003360407917770353,-0.1523412451921134,-0.2530497749244438,0.16256186797090352,1.9642697933484992,0.018391126687528722,0.46386388030333103,0.7217231778212309,-0.17967146823749583,-0.6188632969910778,0.49843235794522917,-2.2834075497398354,0.5075191162307787,-0.3979350596840527,1.808595380141962,1.4478435911085978,1.9847189806152126,-0.6006060868037226,-0.11305146669809568,-1.9931225359407287,1.1157025234863016,-1.4374819486724126,-0.5043842729131363,1.037573710316617],\"type\":\"scatter\"}],                        {\"legend\":{\"bgcolor\":\"#F5F6F9\",\"font\":{\"color\":\"#4D5663\"}},\"paper_bgcolor\":\"#F5F6F9\",\"plot_bgcolor\":\"#F5F6F9\",\"template\":{\"data\":{\"barpolar\":[{\"marker\":{\"line\":{\"color\":\"#E5ECF6\",\"width\":0.5},\"pattern\":{\"fillmode\":\"overlay\",\"size\":10,\"solidity\":0.2}},\"type\":\"barpolar\"}],\"bar\":[{\"error_x\":{\"color\":\"#2a3f5f\"},\"error_y\":{\"color\":\"#2a3f5f\"},\"marker\":{\"line\":{\"color\":\"#E5ECF6\",\"width\":0.5},\"pattern\":{\"fillmode\":\"overlay\",\"size\":10,\"solidity\":0.2}},\"type\":\"bar\"}],\"carpet\":[{\"aaxis\":{\"endlinecolor\":\"#2a3f5f\",\"gridcolor\":\"white\",\"linecolor\":\"white\",\"minorgridcolor\":\"white\",\"startlinecolor\":\"#2a3f5f\"},\"baxis\":{\"endlinecolor\":\"#2a3f5f\",\"gridcolor\":\"white\",\"linecolor\":\"white\",\"minorgridcolor\":\"white\",\"startlinecolor\":\"#2a3f5f\"},\"type\":\"carpet\"}],\"choropleth\":[{\"colorbar\":{\"outlinewidth\":0,\"ticks\":\"\"},\"type\":\"choropleth\"}],\"contourcarpet\":[{\"colorbar\":{\"outlinewidth\":0,\"ticks\":\"\"},\"type\":\"contourcarpet\"}],\"contour\":[{\"colorbar\":{\"outlinewidth\":0,\"ticks\":\"\"},\"colorscale\":[[0.0,\"#0d0887\"],[0.1111111111111111,\"#46039f\"],[0.2222222222222222,\"#7201a8\"],[0.3333333333333333,\"#9c179e\"],[0.4444444444444444,\"#bd3786\"],[0.5555555555555556,\"#d8576b\"],[0.6666666666666666,\"#ed7953\"],[0.7777777777777778,\"#fb9f3a\"],[0.8888888888888888,\"#fdca26\"],[1.0,\"#f0f921\"]],\"type\":\"contour\"}],\"heatmapgl\":[{\"colorbar\":{\"outlinewidth\":0,\"ticks\":\"\"},\"colorscale\":[[0.0,\"#0d0887\"],[0.1111111111111111,\"#46039f\"],[0.2222222222222222,\"#7201a8\"],[0.3333333333333333,\"#9c179e\"],[0.4444444444444444,\"#bd3786\"],[0.5555555555555556,\"#d8576b\"],[0.6666666666666666,\"#ed7953\"],[0.7777777777777778,\"#fb9f3a\"],[0.8888888888888888,\"#fdca26\"],[1.0,\"#f0f921\"]],\"type\":\"heatmapgl\"}],\"heatmap\":[{\"colorbar\":{\"outlinewidth\":0,\"ticks\":\"\"},\"colorscale\":[[0.0,\"#0d0887\"],[0.1111111111111111,\"#46039f\"],[0.2222222222222222,\"#7201a8\"],[0.3333333333333333,\"#9c179e\"],[0.4444444444444444,\"#bd3786\"],[0.5555555555555556,\"#d8576b\"],[0.6666666666666666,\"#ed7953\"],[0.7777777777777778,\"#fb9f3a\"],[0.8888888888888888,\"#fdca26\"],[1.0,\"#f0f921\"]],\"type\":\"heatmap\"}],\"histogram2dcontour\":[{\"colorbar\":{\"outlinewidth\":0,\"ticks\":\"\"},\"colorscale\":[[0.0,\"#0d0887\"],[0.1111111111111111,\"#46039f\"],[0.2222222222222222,\"#7201a8\"],[0.3333333333333333,\"#9c179e\"],[0.4444444444444444,\"#bd3786\"],[0.5555555555555556,\"#d8576b\"],[0.6666666666666666,\"#ed7953\"],[0.7777777777777778,\"#fb9f3a\"],[0.8888888888888888,\"#fdca26\"],[1.0,\"#f0f921\"]],\"type\":\"histogram2dcontour\"}],\"histogram2d\":[{\"colorbar\":{\"outlinewidth\":0,\"ticks\":\"\"},\"colorscale\":[[0.0,\"#0d0887\"],[0.1111111111111111,\"#46039f\"],[0.2222222222222222,\"#7201a8\"],[0.3333333333333333,\"#9c179e\"],[0.4444444444444444,\"#bd3786\"],[0.5555555555555556,\"#d8576b\"],[0.6666666666666666,\"#ed7953\"],[0.7777777777777778,\"#fb9f3a\"],[0.8888888888888888,\"#fdca26\"],[1.0,\"#f0f921\"]],\"type\":\"histogram2d\"}],\"histogram\":[{\"marker\":{\"pattern\":{\"fillmode\":\"overlay\",\"size\":10,\"solidity\":0.2}},\"type\":\"histogram\"}],\"mesh3d\":[{\"colorbar\":{\"outlinewidth\":0,\"ticks\":\"\"},\"type\":\"mesh3d\"}],\"parcoords\":[{\"line\":{\"colorbar\":{\"outlinewidth\":0,\"ticks\":\"\"}},\"type\":\"parcoords\"}],\"pie\":[{\"automargin\":true,\"type\":\"pie\"}],\"scatter3d\":[{\"line\":{\"colorbar\":{\"outlinewidth\":0,\"ticks\":\"\"}},\"marker\":{\"colorbar\":{\"outlinewidth\":0,\"ticks\":\"\"}},\"type\":\"scatter3d\"}],\"scattercarpet\":[{\"marker\":{\"colorbar\":{\"outlinewidth\":0,\"ticks\":\"\"}},\"type\":\"scattercarpet\"}],\"scattergeo\":[{\"marker\":{\"colorbar\":{\"outlinewidth\":0,\"ticks\":\"\"}},\"type\":\"scattergeo\"}],\"scattergl\":[{\"marker\":{\"colorbar\":{\"outlinewidth\":0,\"ticks\":\"\"}},\"type\":\"scattergl\"}],\"scattermapbox\":[{\"marker\":{\"colorbar\":{\"outlinewidth\":0,\"ticks\":\"\"}},\"type\":\"scattermapbox\"}],\"scatterpolargl\":[{\"marker\":{\"colorbar\":{\"outlinewidth\":0,\"ticks\":\"\"}},\"type\":\"scatterpolargl\"}],\"scatterpolar\":[{\"marker\":{\"colorbar\":{\"outlinewidth\":0,\"ticks\":\"\"}},\"type\":\"scatterpolar\"}],\"scatter\":[{\"fillpattern\":{\"fillmode\":\"overlay\",\"size\":10,\"solidity\":0.2},\"type\":\"scatter\"}],\"scatterternary\":[{\"marker\":{\"colorbar\":{\"outlinewidth\":0,\"ticks\":\"\"}},\"type\":\"scatterternary\"}],\"surface\":[{\"colorbar\":{\"outlinewidth\":0,\"ticks\":\"\"},\"colorscale\":[[0.0,\"#0d0887\"],[0.1111111111111111,\"#46039f\"],[0.2222222222222222,\"#7201a8\"],[0.3333333333333333,\"#9c179e\"],[0.4444444444444444,\"#bd3786\"],[0.5555555555555556,\"#d8576b\"],[0.6666666666666666,\"#ed7953\"],[0.7777777777777778,\"#fb9f3a\"],[0.8888888888888888,\"#fdca26\"],[1.0,\"#f0f921\"]],\"type\":\"surface\"}],\"table\":[{\"cells\":{\"fill\":{\"color\":\"#EBF0F8\"},\"line\":{\"color\":\"white\"}},\"header\":{\"fill\":{\"color\":\"#C8D4E3\"},\"line\":{\"color\":\"white\"}},\"type\":\"table\"}]},\"layout\":{\"annotationdefaults\":{\"arrowcolor\":\"#2a3f5f\",\"arrowhead\":0,\"arrowwidth\":1},\"autotypenumbers\":\"strict\",\"coloraxis\":{\"colorbar\":{\"outlinewidth\":0,\"ticks\":\"\"}},\"colorscale\":{\"diverging\":[[0,\"#8e0152\"],[0.1,\"#c51b7d\"],[0.2,\"#de77ae\"],[0.3,\"#f1b6da\"],[0.4,\"#fde0ef\"],[0.5,\"#f7f7f7\"],[0.6,\"#e6f5d0\"],[0.7,\"#b8e186\"],[0.8,\"#7fbc41\"],[0.9,\"#4d9221\"],[1,\"#276419\"]],\"sequential\":[[0.0,\"#0d0887\"],[0.1111111111111111,\"#46039f\"],[0.2222222222222222,\"#7201a8\"],[0.3333333333333333,\"#9c179e\"],[0.4444444444444444,\"#bd3786\"],[0.5555555555555556,\"#d8576b\"],[0.6666666666666666,\"#ed7953\"],[0.7777777777777778,\"#fb9f3a\"],[0.8888888888888888,\"#fdca26\"],[1.0,\"#f0f921\"]],\"sequentialminus\":[[0.0,\"#0d0887\"],[0.1111111111111111,\"#46039f\"],[0.2222222222222222,\"#7201a8\"],[0.3333333333333333,\"#9c179e\"],[0.4444444444444444,\"#bd3786\"],[0.5555555555555556,\"#d8576b\"],[0.6666666666666666,\"#ed7953\"],[0.7777777777777778,\"#fb9f3a\"],[0.8888888888888888,\"#fdca26\"],[1.0,\"#f0f921\"]]},\"colorway\":[\"#636efa\",\"#EF553B\",\"#00cc96\",\"#ab63fa\",\"#FFA15A\",\"#19d3f3\",\"#FF6692\",\"#B6E880\",\"#FF97FF\",\"#FECB52\"],\"font\":{\"color\":\"#2a3f5f\"},\"geo\":{\"bgcolor\":\"white\",\"lakecolor\":\"white\",\"landcolor\":\"#E5ECF6\",\"showlakes\":true,\"showland\":true,\"subunitcolor\":\"white\"},\"hoverlabel\":{\"align\":\"left\"},\"hovermode\":\"closest\",\"mapbox\":{\"style\":\"light\"},\"paper_bgcolor\":\"white\",\"plot_bgcolor\":\"#E5ECF6\",\"polar\":{\"angularaxis\":{\"gridcolor\":\"white\",\"linecolor\":\"white\",\"ticks\":\"\"},\"bgcolor\":\"#E5ECF6\",\"radialaxis\":{\"gridcolor\":\"white\",\"linecolor\":\"white\",\"ticks\":\"\"}},\"scene\":{\"xaxis\":{\"backgroundcolor\":\"#E5ECF6\",\"gridcolor\":\"white\",\"gridwidth\":2,\"linecolor\":\"white\",\"showbackground\":true,\"ticks\":\"\",\"zerolinecolor\":\"white\"},\"yaxis\":{\"backgroundcolor\":\"#E5ECF6\",\"gridcolor\":\"white\",\"gridwidth\":2,\"linecolor\":\"white\",\"showbackground\":true,\"ticks\":\"\",\"zerolinecolor\":\"white\"},\"zaxis\":{\"backgroundcolor\":\"#E5ECF6\",\"gridcolor\":\"white\",\"gridwidth\":2,\"linecolor\":\"white\",\"showbackground\":true,\"ticks\":\"\",\"zerolinecolor\":\"white\"}},\"shapedefaults\":{\"line\":{\"color\":\"#2a3f5f\"}},\"ternary\":{\"aaxis\":{\"gridcolor\":\"white\",\"linecolor\":\"white\",\"ticks\":\"\"},\"baxis\":{\"gridcolor\":\"white\",\"linecolor\":\"white\",\"ticks\":\"\"},\"bgcolor\":\"#E5ECF6\",\"caxis\":{\"gridcolor\":\"white\",\"linecolor\":\"white\",\"ticks\":\"\"}},\"title\":{\"x\":0.05},\"xaxis\":{\"automargin\":true,\"gridcolor\":\"white\",\"linecolor\":\"white\",\"ticks\":\"\",\"title\":{\"standoff\":15},\"zerolinecolor\":\"white\",\"zerolinewidth\":2},\"yaxis\":{\"automargin\":true,\"gridcolor\":\"white\",\"linecolor\":\"white\",\"ticks\":\"\",\"title\":{\"standoff\":15},\"zerolinecolor\":\"white\",\"zerolinewidth\":2}}},\"title\":{\"font\":{\"color\":\"#4D5663\"}},\"xaxis\":{\"gridcolor\":\"#E1E5ED\",\"showgrid\":true,\"tickfont\":{\"color\":\"#4D5663\"},\"title\":{\"font\":{\"color\":\"#4D5663\"},\"text\":\"\"},\"zerolinecolor\":\"#E1E5ED\"},\"yaxis\":{\"gridcolor\":\"#E1E5ED\",\"showgrid\":true,\"tickfont\":{\"color\":\"#4D5663\"},\"title\":{\"font\":{\"color\":\"#4D5663\"},\"text\":\"\"},\"zerolinecolor\":\"#E1E5ED\"}},                        {\"showLink\": true, \"linkText\": \"Export to plot.ly\", \"plotlyServerURL\": \"https://plot.ly\", \"responsive\": true}                    ).then(function(){\n",
       "                            \n",
       "var gd = document.getElementById('1ded2792-3b4a-408c-825d-eb85456aee4a');\n",
       "var x = new MutationObserver(function (mutations, observer) {{\n",
       "        var display = window.getComputedStyle(gd).display;\n",
       "        if (!display || display === 'none') {{\n",
       "            console.log([gd, 'removed!']);\n",
       "            Plotly.purge(gd);\n",
       "            observer.disconnect();\n",
       "        }}\n",
       "}});\n",
       "\n",
       "// Listen for the removal of the full notebook cells\n",
       "var notebookContainer = gd.closest('#notebook-container');\n",
       "if (notebookContainer) {{\n",
       "    x.observe(notebookContainer, {childList: true});\n",
       "}}\n",
       "\n",
       "// Listen for the clearing of the current output cell\n",
       "var outputEl = gd.closest('.output');\n",
       "if (outputEl) {{\n",
       "    x.observe(outputEl, {childList: true});\n",
       "}}\n",
       "\n",
       "                        })                };                });            </script>        </div>"
      ]
     },
     "metadata": {},
     "output_type": "display_data"
    }
   ],
   "source": [
    "df.iplot(kind='bubble',x='A',y='B',size='C')"
   ]
  },
  {
   "cell_type": "markdown",
   "metadata": {},
   "source": [
    "## scatter_matrix()\n",
    "\n",
    "Similar to sns.pairplot()"
   ]
  },
  {
   "cell_type": "code",
   "execution_count": 48,
   "metadata": {
    "collapsed": false,
    "jupyter": {
     "outputs_hidden": false
    }
   },
   "outputs": [
    {
     "data": {
      "application/vnd.plotly.v1+json": {
       "config": {
        "linkText": "Export to plot.ly",
        "plotlyServerURL": "https://plot.ly",
        "showLink": true
       },
       "data": [
        {
         "histfunc": "count",
         "histnorm": "",
         "marker": {
          "color": "rgba(255, 153, 51, 1.0)",
          "line": {
           "color": "#4D5663",
           "width": 1.3
          }
         },
         "name": "A",
         "nbinsx": 10,
         "opacity": 0.8,
         "orientation": "v",
         "type": "histogram",
         "x": [
          0.8102783342500975,
          -0.6253496339817639,
          -2.1243974907659204,
          0.720743963340369,
          -0.36064835386640587,
          0.5759738002613626,
          -0.5408838512778968,
          0.9063815011325167,
          0.14367225921632368,
          0.00026148660293838066,
          0.8467757610440696,
          1.0618325092089878,
          0.6601824163443513,
          -0.48520520012482693,
          0.16871597616384307,
          1.9223052368503024,
          0.9388082883234752,
          0.5088942209079874,
          -0.04230165123367031,
          -0.7526132624711495,
          -0.415041342875489,
          -0.793150586675246,
          -1.3157120016215045,
          -0.3129688528150545,
          -0.33178453177328393,
          0.6738932217934391,
          -0.20852567734951294,
          -0.5355302645486091,
          0.31758960828690674,
          -1.0782016494131208,
          -0.4943059018241482,
          2.3595732177828745,
          -0.8784700471766782,
          -1.566200134991812,
          2.371764508822633,
          0.4656996839084545,
          -0.5979722939647736,
          1.2026987046903905,
          -0.5774282822965877,
          -1.1912118849000355,
          1.1985479855522592,
          0.2620589711638922,
          -0.13955147837889778,
          2.006276192685832,
          -3.0593131305730212,
          -0.3135204450592635,
          0.49172621192557314,
          0.05953014894188452,
          0.5365399611316989,
          0.4195142732653403,
          -0.6770591662178267,
          -0.2436721827521768,
          1.6485546212968694,
          1.0777191974521207,
          -0.8235713648686525,
          1.1428728019017498,
          -1.0679338620343783,
          0.24667409787800906,
          -1.7012725976148813,
          0.3900854386786318,
          -0.0690631840386189,
          2.4425043139920115,
          -1.1018934707019725,
          -1.0725826387263075,
          0.5906422575776665,
          0.9317450123551313,
          -1.1094945245226584,
          -0.13924398333838528,
          0.6423994151056848,
          0.9343018357089617,
          -0.12462754521955423,
          -0.4534461912534964,
          0.3736980081177701,
          0.17323250427614217,
          0.1366559450676414,
          -1.5033057674814936,
          -1.5672884375220335,
          -0.6571575852753471,
          -0.6395666738075189,
          -0.048474604736042155,
          -0.8283140638768075,
          0.5051085347510471,
          -0.07435138461353441,
          0.7054559130856934,
          -0.4452511251612592,
          -1.7403303648604576,
          -0.8504417681382134,
          0.10098301367735862,
          2.9622665316121757,
          1.0923483440863093,
          1.7927479468119651,
          -1.311470384073283,
          0.22374389200951048,
          -0.530987810356002,
          0.11747030791334216,
          -1.6590230098865948,
          0.5041533225812629,
          -0.12948004730523324,
          0.658166074407969,
          -1.0808986418415536
         ],
         "xaxis": "x",
         "yaxis": "y"
        },
        {
         "line": {
          "color": "rgba(128, 128, 128, 1.0)",
          "dash": "solid",
          "shape": "linear",
          "width": 1.3
         },
         "marker": {
          "size": 2,
          "symbol": "circle"
         },
         "mode": "markers",
         "name": "A",
         "text": "",
         "type": "scatter",
         "x": [
          -0.5867832721021545,
          -0.07652741634221236,
          0.2364293046163907,
          -0.6144816203385531,
          0.012973345926433438,
          0.140602345064779,
          -1.0030025953938253,
          -1.502643397426585,
          0.5896630453075187,
          -0.21859864301934573,
          2.5606146076852134,
          -0.18445397195904925,
          0.14404944732764993,
          -0.176190196082285,
          -0.1814650597022292,
          -0.6035618716856341,
          -0.2698398063907249,
          -1.3758116421192002,
          -0.2515990561051834,
          -0.1699255313315551,
          1.105332227997531,
          -0.2414537899145735,
          -0.43690638271891863,
          -0.5565581304346296,
          0.6843491271174079,
          1.1144617107002537,
          -0.06617478605366806,
          0.6171150057998764,
          0.161975916590861,
          -0.8025708642901519,
          -1.5703565393095944,
          0.0263166711734827,
          -1.3396342312495948,
          0.31922014067344723,
          0.26769759042412405,
          0.8362426707322204,
          -0.16595514184267424,
          -1.5533523988763758,
          0.9483515326864449,
          0.10852470942154041,
          0.32906720227944375,
          -1.3325573708112333,
          -1.9645959663511439,
          -0.16802540689860643,
          0.13804899488468952,
          0.7199032526152568,
          -0.21241232879081512,
          0.07330227748986475,
          1.0630669830149864,
          -0.3197084203991881,
          -1.1359500413622619,
          -0.9940157702582891,
          0.12171307375231409,
          0.4592175010615597,
          -1.6271043605590056,
          0.09926530472378069,
          -0.8497057898196344,
          -0.096366003868344,
          -0.29323986028178434,
          -1.018009352091211,
          -1.5515627050638126,
          -0.31734504259472124,
          -0.4122652479440936,
          -0.3275919864238932,
          1.8995716489365664,
          -1.150485762145562,
          0.8844241629491068,
          -0.2976620794221025,
          0.4561009509196521,
          2.0577189539348164,
          -1.702448142151754,
          2.341170674518494,
          0.21098368350967794,
          1.2154631421327593,
          -1.9577382001306542,
          0.17362248923315385,
          -0.003360407917770353,
          -0.1523412451921134,
          -0.2530497749244438,
          0.16256186797090352,
          1.9642697933484992,
          0.018391126687528722,
          0.46386388030333103,
          0.7217231778212309,
          -0.17967146823749583,
          -0.6188632969910778,
          0.49843235794522917,
          -2.2834075497398354,
          0.5075191162307787,
          -0.3979350596840527,
          1.808595380141962,
          1.4478435911085978,
          1.9847189806152126,
          -0.6006060868037226,
          -0.11305146669809568,
          -1.9931225359407287,
          1.1157025234863016,
          -1.4374819486724126,
          -0.5043842729131363,
          1.037573710316617
         ],
         "xaxis": "x2",
         "y": [
          0.8102783342500975,
          -0.6253496339817639,
          -2.1243974907659204,
          0.720743963340369,
          -0.36064835386640587,
          0.5759738002613626,
          -0.5408838512778968,
          0.9063815011325167,
          0.14367225921632368,
          0.00026148660293838066,
          0.8467757610440696,
          1.0618325092089878,
          0.6601824163443513,
          -0.48520520012482693,
          0.16871597616384307,
          1.9223052368503024,
          0.9388082883234752,
          0.5088942209079874,
          -0.04230165123367031,
          -0.7526132624711495,
          -0.415041342875489,
          -0.793150586675246,
          -1.3157120016215045,
          -0.3129688528150545,
          -0.33178453177328393,
          0.6738932217934391,
          -0.20852567734951294,
          -0.5355302645486091,
          0.31758960828690674,
          -1.0782016494131208,
          -0.4943059018241482,
          2.3595732177828745,
          -0.8784700471766782,
          -1.566200134991812,
          2.371764508822633,
          0.4656996839084545,
          -0.5979722939647736,
          1.2026987046903905,
          -0.5774282822965877,
          -1.1912118849000355,
          1.1985479855522592,
          0.2620589711638922,
          -0.13955147837889778,
          2.006276192685832,
          -3.0593131305730212,
          -0.3135204450592635,
          0.49172621192557314,
          0.05953014894188452,
          0.5365399611316989,
          0.4195142732653403,
          -0.6770591662178267,
          -0.2436721827521768,
          1.6485546212968694,
          1.0777191974521207,
          -0.8235713648686525,
          1.1428728019017498,
          -1.0679338620343783,
          0.24667409787800906,
          -1.7012725976148813,
          0.3900854386786318,
          -0.0690631840386189,
          2.4425043139920115,
          -1.1018934707019725,
          -1.0725826387263075,
          0.5906422575776665,
          0.9317450123551313,
          -1.1094945245226584,
          -0.13924398333838528,
          0.6423994151056848,
          0.9343018357089617,
          -0.12462754521955423,
          -0.4534461912534964,
          0.3736980081177701,
          0.17323250427614217,
          0.1366559450676414,
          -1.5033057674814936,
          -1.5672884375220335,
          -0.6571575852753471,
          -0.6395666738075189,
          -0.048474604736042155,
          -0.8283140638768075,
          0.5051085347510471,
          -0.07435138461353441,
          0.7054559130856934,
          -0.4452511251612592,
          -1.7403303648604576,
          -0.8504417681382134,
          0.10098301367735862,
          2.9622665316121757,
          1.0923483440863093,
          1.7927479468119651,
          -1.311470384073283,
          0.22374389200951048,
          -0.530987810356002,
          0.11747030791334216,
          -1.6590230098865948,
          0.5041533225812629,
          -0.12948004730523324,
          0.658166074407969,
          -1.0808986418415536
         ],
         "yaxis": "y2"
        },
        {
         "line": {
          "color": "rgba(128, 128, 128, 1.0)",
          "dash": "solid",
          "shape": "linear",
          "width": 1.3
         },
         "marker": {
          "size": 2,
          "symbol": "circle"
         },
         "mode": "markers",
         "name": "A",
         "text": "",
         "type": "scatter",
         "x": [
          0.28351922773921484,
          1.046079338886153,
          2.0835449174959577,
          -0.2959837142159095,
          1.6046489938849664,
          2.195836604642892,
          0.8476703120127796,
          -2.547634863137372,
          -0.054712216396222174,
          2.1329888225258657,
          -0.059495471584225815,
          1.0027270533746517,
          0.46300835233025445,
          0.6187532585825445,
          -0.2570609512119834,
          1.4147212529008464,
          -0.062449210845311465,
          -1.510290511600925,
          0.7915514510460175,
          0.23950238405602578,
          -0.5557361756236054,
          0.8098609998351721,
          -0.0642606348908341,
          -0.3615179242381196,
          0.5436390375193604,
          0.3037806166888286,
          -0.40599365076255306,
          -0.23959034673875698,
          -0.4371248110233738,
          -1.0371496615510956,
          -1.623515091941615,
          1.8605635822483575,
          -1.5979290018774897,
          0.42438996847438776,
          0.807606192078492,
          0.7409034648080791,
          0.20019373318150901,
          -0.11429639960635761,
          1.8490774305091582,
          1.5763772367578217,
          0.6748751476562145,
          -1.518245752560392,
          0.6315619024258422,
          0.2611749777840262,
          0.28096625105031553,
          0.31577453740170214,
          0.05330631332221621,
          0.5170065923129699,
          0.21998424674059666,
          -0.48562509150146704,
          -0.04152686380702287,
          0.35336271123789803,
          0.43791241215896154,
          0.4634386398511038,
          0.4557592036672411,
          -0.8686612907647687,
          1.8954925814928667,
          1.6666710998220187,
          -0.19855340511356662,
          -0.6244916540652142,
          0.11233984574108362,
          0.6573799337069568,
          -0.27734125406271254,
          1.1970696482493897,
          -0.005662538042132438,
          1.5307851341353675,
          0.6149973143148547,
          -0.33701918074932347,
          -0.3108753143191812,
          0.289697682560031,
          1.3484456553144994,
          0.1298085780557541,
          -0.06992415209331283,
          -1.4199493782632415,
          0.815984765622038,
          0.327747728667979,
          -0.5902645821663245,
          -0.018765691119965087,
          -0.9683062677574454,
          -0.7425838324089256,
          0.14431852678860446,
          1.6422290164330002,
          0.01198419697002567,
          -2.0889120664528815,
          0.4131738258812024,
          -0.6361816130078658,
          -0.2571632252233618,
          0.3168497679233199,
          -0.6404558672207877,
          0.8338503060179236,
          0.4959482400434411,
          0.9037280611012579,
          0.8038194261550938,
          -1.0692955593268663,
          -0.5481924534934708,
          1.415618063415662,
          2.4096561073428333,
          -1.1275883694024578,
          -0.5422482986699697,
          1.019019392943807
         ],
         "xaxis": "x3",
         "y": [
          0.8102783342500975,
          -0.6253496339817639,
          -2.1243974907659204,
          0.720743963340369,
          -0.36064835386640587,
          0.5759738002613626,
          -0.5408838512778968,
          0.9063815011325167,
          0.14367225921632368,
          0.00026148660293838066,
          0.8467757610440696,
          1.0618325092089878,
          0.6601824163443513,
          -0.48520520012482693,
          0.16871597616384307,
          1.9223052368503024,
          0.9388082883234752,
          0.5088942209079874,
          -0.04230165123367031,
          -0.7526132624711495,
          -0.415041342875489,
          -0.793150586675246,
          -1.3157120016215045,
          -0.3129688528150545,
          -0.33178453177328393,
          0.6738932217934391,
          -0.20852567734951294,
          -0.5355302645486091,
          0.31758960828690674,
          -1.0782016494131208,
          -0.4943059018241482,
          2.3595732177828745,
          -0.8784700471766782,
          -1.566200134991812,
          2.371764508822633,
          0.4656996839084545,
          -0.5979722939647736,
          1.2026987046903905,
          -0.5774282822965877,
          -1.1912118849000355,
          1.1985479855522592,
          0.2620589711638922,
          -0.13955147837889778,
          2.006276192685832,
          -3.0593131305730212,
          -0.3135204450592635,
          0.49172621192557314,
          0.05953014894188452,
          0.5365399611316989,
          0.4195142732653403,
          -0.6770591662178267,
          -0.2436721827521768,
          1.6485546212968694,
          1.0777191974521207,
          -0.8235713648686525,
          1.1428728019017498,
          -1.0679338620343783,
          0.24667409787800906,
          -1.7012725976148813,
          0.3900854386786318,
          -0.0690631840386189,
          2.4425043139920115,
          -1.1018934707019725,
          -1.0725826387263075,
          0.5906422575776665,
          0.9317450123551313,
          -1.1094945245226584,
          -0.13924398333838528,
          0.6423994151056848,
          0.9343018357089617,
          -0.12462754521955423,
          -0.4534461912534964,
          0.3736980081177701,
          0.17323250427614217,
          0.1366559450676414,
          -1.5033057674814936,
          -1.5672884375220335,
          -0.6571575852753471,
          -0.6395666738075189,
          -0.048474604736042155,
          -0.8283140638768075,
          0.5051085347510471,
          -0.07435138461353441,
          0.7054559130856934,
          -0.4452511251612592,
          -1.7403303648604576,
          -0.8504417681382134,
          0.10098301367735862,
          2.9622665316121757,
          1.0923483440863093,
          1.7927479468119651,
          -1.311470384073283,
          0.22374389200951048,
          -0.530987810356002,
          0.11747030791334216,
          -1.6590230098865948,
          0.5041533225812629,
          -0.12948004730523324,
          0.658166074407969,
          -1.0808986418415536
         ],
         "yaxis": "y3"
        },
        {
         "line": {
          "color": "rgba(128, 128, 128, 1.0)",
          "dash": "solid",
          "shape": "linear",
          "width": 1.3
         },
         "marker": {
          "size": 2,
          "symbol": "circle"
         },
         "mode": "markers",
         "name": "A",
         "text": "",
         "type": "scatter",
         "x": [
          1.099922373835138,
          0.2626572007696351,
          0.6809920120680077,
          0.37568407155213374,
          -0.04864881787822194,
          -0.15963142619448523,
          1.8173178561527665,
          1.5041195694376848,
          2.05487800502223,
          -0.12444346809989125,
          -1.6307883976081554,
          -1.6464784995276835,
          1.4171575806942058,
          0.5639289745490836,
          1.7095359980145544,
          1.3602531934702955,
          0.3269527230867582,
          0.0962032854064902,
          -0.45256047949482786,
          -0.5281708916340596,
          0.4227948741861683,
          0.9280536909798838,
          -0.09479959883794437,
          -1.6608330524519894,
          -0.6502396062774366,
          1.6849774649383609,
          -0.23244221019765693,
          0.2412117981760023,
          0.26308115933206583,
          -0.05934572352369715,
          -0.9279862996400814,
          -0.45450798761106453,
          2.2239840681385092,
          -1.0204245595011332,
          -0.44008415350396585,
          -1.7332884312994834,
          1.2330866954107442,
          -1.755421872197194,
          2.3383790326210687,
          0.22412552553348905,
          0.7426698507509121,
          0.7991221908818573,
          -0.26933653499043236,
          0.42254507732436375,
          1.231213801855879,
          -1.627001480328027,
          -0.021531903646123327,
          -0.8089248875165332,
          0.048405150235370814,
          -1.4954076911569576,
          1.0611565413171433,
          0.9307030406188339,
          0.12610174945894356,
          0.19156395186408465,
          0.3259755708201364,
          1.9806336100085007,
          -0.31701502517410435,
          0.09801311213732218,
          -0.8820221079518904,
          -0.30193543751284246,
          0.12639965464310587,
          0.5823710345422258,
          1.2061216199301237,
          0.7745830379588147,
          1.331827185818298,
          1.5509431753167309,
          -0.568727003681773,
          -0.7256118493722932,
          1.7945026676551865,
          -0.7741373899581679,
          0.9454067577115647,
          1.451698489595251,
          -0.7641265768049319,
          -1.2493657381872179,
          1.39305373407263,
          0.8803628302029253,
          -0.11303504106680408,
          -0.12660893520742172,
          -0.27249779574034855,
          -0.10297221383786716,
          -0.02062883317220425,
          0.7200439778651814,
          0.13938792514308868,
          -1.2325145192835052,
          0.953490759422294,
          -2.0122315617481092,
          -0.4895342823299396,
          -1.3909466622535194,
          0.7380253108900534,
          0.6338021472951514,
          0.5938533715232079,
          0.24744804199013162,
          -0.23707522924646277,
          -0.3102068463632845,
          0.6565122117080727,
          2.4719111386502304,
          0.9428754947558217,
          0.36462123436155686,
          0.4890263356037747,
          0.4608907840779743
         ],
         "xaxis": "x4",
         "y": [
          0.8102783342500975,
          -0.6253496339817639,
          -2.1243974907659204,
          0.720743963340369,
          -0.36064835386640587,
          0.5759738002613626,
          -0.5408838512778968,
          0.9063815011325167,
          0.14367225921632368,
          0.00026148660293838066,
          0.8467757610440696,
          1.0618325092089878,
          0.6601824163443513,
          -0.48520520012482693,
          0.16871597616384307,
          1.9223052368503024,
          0.9388082883234752,
          0.5088942209079874,
          -0.04230165123367031,
          -0.7526132624711495,
          -0.415041342875489,
          -0.793150586675246,
          -1.3157120016215045,
          -0.3129688528150545,
          -0.33178453177328393,
          0.6738932217934391,
          -0.20852567734951294,
          -0.5355302645486091,
          0.31758960828690674,
          -1.0782016494131208,
          -0.4943059018241482,
          2.3595732177828745,
          -0.8784700471766782,
          -1.566200134991812,
          2.371764508822633,
          0.4656996839084545,
          -0.5979722939647736,
          1.2026987046903905,
          -0.5774282822965877,
          -1.1912118849000355,
          1.1985479855522592,
          0.2620589711638922,
          -0.13955147837889778,
          2.006276192685832,
          -3.0593131305730212,
          -0.3135204450592635,
          0.49172621192557314,
          0.05953014894188452,
          0.5365399611316989,
          0.4195142732653403,
          -0.6770591662178267,
          -0.2436721827521768,
          1.6485546212968694,
          1.0777191974521207,
          -0.8235713648686525,
          1.1428728019017498,
          -1.0679338620343783,
          0.24667409787800906,
          -1.7012725976148813,
          0.3900854386786318,
          -0.0690631840386189,
          2.4425043139920115,
          -1.1018934707019725,
          -1.0725826387263075,
          0.5906422575776665,
          0.9317450123551313,
          -1.1094945245226584,
          -0.13924398333838528,
          0.6423994151056848,
          0.9343018357089617,
          -0.12462754521955423,
          -0.4534461912534964,
          0.3736980081177701,
          0.17323250427614217,
          0.1366559450676414,
          -1.5033057674814936,
          -1.5672884375220335,
          -0.6571575852753471,
          -0.6395666738075189,
          -0.048474604736042155,
          -0.8283140638768075,
          0.5051085347510471,
          -0.07435138461353441,
          0.7054559130856934,
          -0.4452511251612592,
          -1.7403303648604576,
          -0.8504417681382134,
          0.10098301367735862,
          2.9622665316121757,
          1.0923483440863093,
          1.7927479468119651,
          -1.311470384073283,
          0.22374389200951048,
          -0.530987810356002,
          0.11747030791334216,
          -1.6590230098865948,
          0.5041533225812629,
          -0.12948004730523324,
          0.658166074407969,
          -1.0808986418415536
         ],
         "yaxis": "y4"
        },
        {
         "line": {
          "color": "rgba(128, 128, 128, 1.0)",
          "dash": "solid",
          "shape": "linear",
          "width": 1.3
         },
         "marker": {
          "size": 2,
          "symbol": "circle"
         },
         "mode": "markers",
         "name": "B",
         "text": "",
         "type": "scatter",
         "x": [
          0.8102783342500975,
          -0.6253496339817639,
          -2.1243974907659204,
          0.720743963340369,
          -0.36064835386640587,
          0.5759738002613626,
          -0.5408838512778968,
          0.9063815011325167,
          0.14367225921632368,
          0.00026148660293838066,
          0.8467757610440696,
          1.0618325092089878,
          0.6601824163443513,
          -0.48520520012482693,
          0.16871597616384307,
          1.9223052368503024,
          0.9388082883234752,
          0.5088942209079874,
          -0.04230165123367031,
          -0.7526132624711495,
          -0.415041342875489,
          -0.793150586675246,
          -1.3157120016215045,
          -0.3129688528150545,
          -0.33178453177328393,
          0.6738932217934391,
          -0.20852567734951294,
          -0.5355302645486091,
          0.31758960828690674,
          -1.0782016494131208,
          -0.4943059018241482,
          2.3595732177828745,
          -0.8784700471766782,
          -1.566200134991812,
          2.371764508822633,
          0.4656996839084545,
          -0.5979722939647736,
          1.2026987046903905,
          -0.5774282822965877,
          -1.1912118849000355,
          1.1985479855522592,
          0.2620589711638922,
          -0.13955147837889778,
          2.006276192685832,
          -3.0593131305730212,
          -0.3135204450592635,
          0.49172621192557314,
          0.05953014894188452,
          0.5365399611316989,
          0.4195142732653403,
          -0.6770591662178267,
          -0.2436721827521768,
          1.6485546212968694,
          1.0777191974521207,
          -0.8235713648686525,
          1.1428728019017498,
          -1.0679338620343783,
          0.24667409787800906,
          -1.7012725976148813,
          0.3900854386786318,
          -0.0690631840386189,
          2.4425043139920115,
          -1.1018934707019725,
          -1.0725826387263075,
          0.5906422575776665,
          0.9317450123551313,
          -1.1094945245226584,
          -0.13924398333838528,
          0.6423994151056848,
          0.9343018357089617,
          -0.12462754521955423,
          -0.4534461912534964,
          0.3736980081177701,
          0.17323250427614217,
          0.1366559450676414,
          -1.5033057674814936,
          -1.5672884375220335,
          -0.6571575852753471,
          -0.6395666738075189,
          -0.048474604736042155,
          -0.8283140638768075,
          0.5051085347510471,
          -0.07435138461353441,
          0.7054559130856934,
          -0.4452511251612592,
          -1.7403303648604576,
          -0.8504417681382134,
          0.10098301367735862,
          2.9622665316121757,
          1.0923483440863093,
          1.7927479468119651,
          -1.311470384073283,
          0.22374389200951048,
          -0.530987810356002,
          0.11747030791334216,
          -1.6590230098865948,
          0.5041533225812629,
          -0.12948004730523324,
          0.658166074407969,
          -1.0808986418415536
         ],
         "xaxis": "x5",
         "y": [
          -0.5867832721021545,
          -0.07652741634221236,
          0.2364293046163907,
          -0.6144816203385531,
          0.012973345926433438,
          0.140602345064779,
          -1.0030025953938253,
          -1.502643397426585,
          0.5896630453075187,
          -0.21859864301934573,
          2.5606146076852134,
          -0.18445397195904925,
          0.14404944732764993,
          -0.176190196082285,
          -0.1814650597022292,
          -0.6035618716856341,
          -0.2698398063907249,
          -1.3758116421192002,
          -0.2515990561051834,
          -0.1699255313315551,
          1.105332227997531,
          -0.2414537899145735,
          -0.43690638271891863,
          -0.5565581304346296,
          0.6843491271174079,
          1.1144617107002537,
          -0.06617478605366806,
          0.6171150057998764,
          0.161975916590861,
          -0.8025708642901519,
          -1.5703565393095944,
          0.0263166711734827,
          -1.3396342312495948,
          0.31922014067344723,
          0.26769759042412405,
          0.8362426707322204,
          -0.16595514184267424,
          -1.5533523988763758,
          0.9483515326864449,
          0.10852470942154041,
          0.32906720227944375,
          -1.3325573708112333,
          -1.9645959663511439,
          -0.16802540689860643,
          0.13804899488468952,
          0.7199032526152568,
          -0.21241232879081512,
          0.07330227748986475,
          1.0630669830149864,
          -0.3197084203991881,
          -1.1359500413622619,
          -0.9940157702582891,
          0.12171307375231409,
          0.4592175010615597,
          -1.6271043605590056,
          0.09926530472378069,
          -0.8497057898196344,
          -0.096366003868344,
          -0.29323986028178434,
          -1.018009352091211,
          -1.5515627050638126,
          -0.31734504259472124,
          -0.4122652479440936,
          -0.3275919864238932,
          1.8995716489365664,
          -1.150485762145562,
          0.8844241629491068,
          -0.2976620794221025,
          0.4561009509196521,
          2.0577189539348164,
          -1.702448142151754,
          2.341170674518494,
          0.21098368350967794,
          1.2154631421327593,
          -1.9577382001306542,
          0.17362248923315385,
          -0.003360407917770353,
          -0.1523412451921134,
          -0.2530497749244438,
          0.16256186797090352,
          1.9642697933484992,
          0.018391126687528722,
          0.46386388030333103,
          0.7217231778212309,
          -0.17967146823749583,
          -0.6188632969910778,
          0.49843235794522917,
          -2.2834075497398354,
          0.5075191162307787,
          -0.3979350596840527,
          1.808595380141962,
          1.4478435911085978,
          1.9847189806152126,
          -0.6006060868037226,
          -0.11305146669809568,
          -1.9931225359407287,
          1.1157025234863016,
          -1.4374819486724126,
          -0.5043842729131363,
          1.037573710316617
         ],
         "yaxis": "y5"
        },
        {
         "histfunc": "count",
         "histnorm": "",
         "marker": {
          "color": "rgba(55, 128, 191, 1.0)",
          "line": {
           "color": "#4D5663",
           "width": 1.3
          }
         },
         "name": "B",
         "nbinsx": 10,
         "opacity": 0.8,
         "orientation": "v",
         "type": "histogram",
         "x": [
          -0.5867832721021545,
          -0.07652741634221236,
          0.2364293046163907,
          -0.6144816203385531,
          0.012973345926433438,
          0.140602345064779,
          -1.0030025953938253,
          -1.502643397426585,
          0.5896630453075187,
          -0.21859864301934573,
          2.5606146076852134,
          -0.18445397195904925,
          0.14404944732764993,
          -0.176190196082285,
          -0.1814650597022292,
          -0.6035618716856341,
          -0.2698398063907249,
          -1.3758116421192002,
          -0.2515990561051834,
          -0.1699255313315551,
          1.105332227997531,
          -0.2414537899145735,
          -0.43690638271891863,
          -0.5565581304346296,
          0.6843491271174079,
          1.1144617107002537,
          -0.06617478605366806,
          0.6171150057998764,
          0.161975916590861,
          -0.8025708642901519,
          -1.5703565393095944,
          0.0263166711734827,
          -1.3396342312495948,
          0.31922014067344723,
          0.26769759042412405,
          0.8362426707322204,
          -0.16595514184267424,
          -1.5533523988763758,
          0.9483515326864449,
          0.10852470942154041,
          0.32906720227944375,
          -1.3325573708112333,
          -1.9645959663511439,
          -0.16802540689860643,
          0.13804899488468952,
          0.7199032526152568,
          -0.21241232879081512,
          0.07330227748986475,
          1.0630669830149864,
          -0.3197084203991881,
          -1.1359500413622619,
          -0.9940157702582891,
          0.12171307375231409,
          0.4592175010615597,
          -1.6271043605590056,
          0.09926530472378069,
          -0.8497057898196344,
          -0.096366003868344,
          -0.29323986028178434,
          -1.018009352091211,
          -1.5515627050638126,
          -0.31734504259472124,
          -0.4122652479440936,
          -0.3275919864238932,
          1.8995716489365664,
          -1.150485762145562,
          0.8844241629491068,
          -0.2976620794221025,
          0.4561009509196521,
          2.0577189539348164,
          -1.702448142151754,
          2.341170674518494,
          0.21098368350967794,
          1.2154631421327593,
          -1.9577382001306542,
          0.17362248923315385,
          -0.003360407917770353,
          -0.1523412451921134,
          -0.2530497749244438,
          0.16256186797090352,
          1.9642697933484992,
          0.018391126687528722,
          0.46386388030333103,
          0.7217231778212309,
          -0.17967146823749583,
          -0.6188632969910778,
          0.49843235794522917,
          -2.2834075497398354,
          0.5075191162307787,
          -0.3979350596840527,
          1.808595380141962,
          1.4478435911085978,
          1.9847189806152126,
          -0.6006060868037226,
          -0.11305146669809568,
          -1.9931225359407287,
          1.1157025234863016,
          -1.4374819486724126,
          -0.5043842729131363,
          1.037573710316617
         ],
         "xaxis": "x6",
         "yaxis": "y6"
        },
        {
         "line": {
          "color": "rgba(128, 128, 128, 1.0)",
          "dash": "solid",
          "shape": "linear",
          "width": 1.3
         },
         "marker": {
          "size": 2,
          "symbol": "circle"
         },
         "mode": "markers",
         "name": "B",
         "text": "",
         "type": "scatter",
         "x": [
          0.28351922773921484,
          1.046079338886153,
          2.0835449174959577,
          -0.2959837142159095,
          1.6046489938849664,
          2.195836604642892,
          0.8476703120127796,
          -2.547634863137372,
          -0.054712216396222174,
          2.1329888225258657,
          -0.059495471584225815,
          1.0027270533746517,
          0.46300835233025445,
          0.6187532585825445,
          -0.2570609512119834,
          1.4147212529008464,
          -0.062449210845311465,
          -1.510290511600925,
          0.7915514510460175,
          0.23950238405602578,
          -0.5557361756236054,
          0.8098609998351721,
          -0.0642606348908341,
          -0.3615179242381196,
          0.5436390375193604,
          0.3037806166888286,
          -0.40599365076255306,
          -0.23959034673875698,
          -0.4371248110233738,
          -1.0371496615510956,
          -1.623515091941615,
          1.8605635822483575,
          -1.5979290018774897,
          0.42438996847438776,
          0.807606192078492,
          0.7409034648080791,
          0.20019373318150901,
          -0.11429639960635761,
          1.8490774305091582,
          1.5763772367578217,
          0.6748751476562145,
          -1.518245752560392,
          0.6315619024258422,
          0.2611749777840262,
          0.28096625105031553,
          0.31577453740170214,
          0.05330631332221621,
          0.5170065923129699,
          0.21998424674059666,
          -0.48562509150146704,
          -0.04152686380702287,
          0.35336271123789803,
          0.43791241215896154,
          0.4634386398511038,
          0.4557592036672411,
          -0.8686612907647687,
          1.8954925814928667,
          1.6666710998220187,
          -0.19855340511356662,
          -0.6244916540652142,
          0.11233984574108362,
          0.6573799337069568,
          -0.27734125406271254,
          1.1970696482493897,
          -0.005662538042132438,
          1.5307851341353675,
          0.6149973143148547,
          -0.33701918074932347,
          -0.3108753143191812,
          0.289697682560031,
          1.3484456553144994,
          0.1298085780557541,
          -0.06992415209331283,
          -1.4199493782632415,
          0.815984765622038,
          0.327747728667979,
          -0.5902645821663245,
          -0.018765691119965087,
          -0.9683062677574454,
          -0.7425838324089256,
          0.14431852678860446,
          1.6422290164330002,
          0.01198419697002567,
          -2.0889120664528815,
          0.4131738258812024,
          -0.6361816130078658,
          -0.2571632252233618,
          0.3168497679233199,
          -0.6404558672207877,
          0.8338503060179236,
          0.4959482400434411,
          0.9037280611012579,
          0.8038194261550938,
          -1.0692955593268663,
          -0.5481924534934708,
          1.415618063415662,
          2.4096561073428333,
          -1.1275883694024578,
          -0.5422482986699697,
          1.019019392943807
         ],
         "xaxis": "x7",
         "y": [
          -0.5867832721021545,
          -0.07652741634221236,
          0.2364293046163907,
          -0.6144816203385531,
          0.012973345926433438,
          0.140602345064779,
          -1.0030025953938253,
          -1.502643397426585,
          0.5896630453075187,
          -0.21859864301934573,
          2.5606146076852134,
          -0.18445397195904925,
          0.14404944732764993,
          -0.176190196082285,
          -0.1814650597022292,
          -0.6035618716856341,
          -0.2698398063907249,
          -1.3758116421192002,
          -0.2515990561051834,
          -0.1699255313315551,
          1.105332227997531,
          -0.2414537899145735,
          -0.43690638271891863,
          -0.5565581304346296,
          0.6843491271174079,
          1.1144617107002537,
          -0.06617478605366806,
          0.6171150057998764,
          0.161975916590861,
          -0.8025708642901519,
          -1.5703565393095944,
          0.0263166711734827,
          -1.3396342312495948,
          0.31922014067344723,
          0.26769759042412405,
          0.8362426707322204,
          -0.16595514184267424,
          -1.5533523988763758,
          0.9483515326864449,
          0.10852470942154041,
          0.32906720227944375,
          -1.3325573708112333,
          -1.9645959663511439,
          -0.16802540689860643,
          0.13804899488468952,
          0.7199032526152568,
          -0.21241232879081512,
          0.07330227748986475,
          1.0630669830149864,
          -0.3197084203991881,
          -1.1359500413622619,
          -0.9940157702582891,
          0.12171307375231409,
          0.4592175010615597,
          -1.6271043605590056,
          0.09926530472378069,
          -0.8497057898196344,
          -0.096366003868344,
          -0.29323986028178434,
          -1.018009352091211,
          -1.5515627050638126,
          -0.31734504259472124,
          -0.4122652479440936,
          -0.3275919864238932,
          1.8995716489365664,
          -1.150485762145562,
          0.8844241629491068,
          -0.2976620794221025,
          0.4561009509196521,
          2.0577189539348164,
          -1.702448142151754,
          2.341170674518494,
          0.21098368350967794,
          1.2154631421327593,
          -1.9577382001306542,
          0.17362248923315385,
          -0.003360407917770353,
          -0.1523412451921134,
          -0.2530497749244438,
          0.16256186797090352,
          1.9642697933484992,
          0.018391126687528722,
          0.46386388030333103,
          0.7217231778212309,
          -0.17967146823749583,
          -0.6188632969910778,
          0.49843235794522917,
          -2.2834075497398354,
          0.5075191162307787,
          -0.3979350596840527,
          1.808595380141962,
          1.4478435911085978,
          1.9847189806152126,
          -0.6006060868037226,
          -0.11305146669809568,
          -1.9931225359407287,
          1.1157025234863016,
          -1.4374819486724126,
          -0.5043842729131363,
          1.037573710316617
         ],
         "yaxis": "y7"
        },
        {
         "line": {
          "color": "rgba(128, 128, 128, 1.0)",
          "dash": "solid",
          "shape": "linear",
          "width": 1.3
         },
         "marker": {
          "size": 2,
          "symbol": "circle"
         },
         "mode": "markers",
         "name": "B",
         "text": "",
         "type": "scatter",
         "x": [
          1.099922373835138,
          0.2626572007696351,
          0.6809920120680077,
          0.37568407155213374,
          -0.04864881787822194,
          -0.15963142619448523,
          1.8173178561527665,
          1.5041195694376848,
          2.05487800502223,
          -0.12444346809989125,
          -1.6307883976081554,
          -1.6464784995276835,
          1.4171575806942058,
          0.5639289745490836,
          1.7095359980145544,
          1.3602531934702955,
          0.3269527230867582,
          0.0962032854064902,
          -0.45256047949482786,
          -0.5281708916340596,
          0.4227948741861683,
          0.9280536909798838,
          -0.09479959883794437,
          -1.6608330524519894,
          -0.6502396062774366,
          1.6849774649383609,
          -0.23244221019765693,
          0.2412117981760023,
          0.26308115933206583,
          -0.05934572352369715,
          -0.9279862996400814,
          -0.45450798761106453,
          2.2239840681385092,
          -1.0204245595011332,
          -0.44008415350396585,
          -1.7332884312994834,
          1.2330866954107442,
          -1.755421872197194,
          2.3383790326210687,
          0.22412552553348905,
          0.7426698507509121,
          0.7991221908818573,
          -0.26933653499043236,
          0.42254507732436375,
          1.231213801855879,
          -1.627001480328027,
          -0.021531903646123327,
          -0.8089248875165332,
          0.048405150235370814,
          -1.4954076911569576,
          1.0611565413171433,
          0.9307030406188339,
          0.12610174945894356,
          0.19156395186408465,
          0.3259755708201364,
          1.9806336100085007,
          -0.31701502517410435,
          0.09801311213732218,
          -0.8820221079518904,
          -0.30193543751284246,
          0.12639965464310587,
          0.5823710345422258,
          1.2061216199301237,
          0.7745830379588147,
          1.331827185818298,
          1.5509431753167309,
          -0.568727003681773,
          -0.7256118493722932,
          1.7945026676551865,
          -0.7741373899581679,
          0.9454067577115647,
          1.451698489595251,
          -0.7641265768049319,
          -1.2493657381872179,
          1.39305373407263,
          0.8803628302029253,
          -0.11303504106680408,
          -0.12660893520742172,
          -0.27249779574034855,
          -0.10297221383786716,
          -0.02062883317220425,
          0.7200439778651814,
          0.13938792514308868,
          -1.2325145192835052,
          0.953490759422294,
          -2.0122315617481092,
          -0.4895342823299396,
          -1.3909466622535194,
          0.7380253108900534,
          0.6338021472951514,
          0.5938533715232079,
          0.24744804199013162,
          -0.23707522924646277,
          -0.3102068463632845,
          0.6565122117080727,
          2.4719111386502304,
          0.9428754947558217,
          0.36462123436155686,
          0.4890263356037747,
          0.4608907840779743
         ],
         "xaxis": "x8",
         "y": [
          -0.5867832721021545,
          -0.07652741634221236,
          0.2364293046163907,
          -0.6144816203385531,
          0.012973345926433438,
          0.140602345064779,
          -1.0030025953938253,
          -1.502643397426585,
          0.5896630453075187,
          -0.21859864301934573,
          2.5606146076852134,
          -0.18445397195904925,
          0.14404944732764993,
          -0.176190196082285,
          -0.1814650597022292,
          -0.6035618716856341,
          -0.2698398063907249,
          -1.3758116421192002,
          -0.2515990561051834,
          -0.1699255313315551,
          1.105332227997531,
          -0.2414537899145735,
          -0.43690638271891863,
          -0.5565581304346296,
          0.6843491271174079,
          1.1144617107002537,
          -0.06617478605366806,
          0.6171150057998764,
          0.161975916590861,
          -0.8025708642901519,
          -1.5703565393095944,
          0.0263166711734827,
          -1.3396342312495948,
          0.31922014067344723,
          0.26769759042412405,
          0.8362426707322204,
          -0.16595514184267424,
          -1.5533523988763758,
          0.9483515326864449,
          0.10852470942154041,
          0.32906720227944375,
          -1.3325573708112333,
          -1.9645959663511439,
          -0.16802540689860643,
          0.13804899488468952,
          0.7199032526152568,
          -0.21241232879081512,
          0.07330227748986475,
          1.0630669830149864,
          -0.3197084203991881,
          -1.1359500413622619,
          -0.9940157702582891,
          0.12171307375231409,
          0.4592175010615597,
          -1.6271043605590056,
          0.09926530472378069,
          -0.8497057898196344,
          -0.096366003868344,
          -0.29323986028178434,
          -1.018009352091211,
          -1.5515627050638126,
          -0.31734504259472124,
          -0.4122652479440936,
          -0.3275919864238932,
          1.8995716489365664,
          -1.150485762145562,
          0.8844241629491068,
          -0.2976620794221025,
          0.4561009509196521,
          2.0577189539348164,
          -1.702448142151754,
          2.341170674518494,
          0.21098368350967794,
          1.2154631421327593,
          -1.9577382001306542,
          0.17362248923315385,
          -0.003360407917770353,
          -0.1523412451921134,
          -0.2530497749244438,
          0.16256186797090352,
          1.9642697933484992,
          0.018391126687528722,
          0.46386388030333103,
          0.7217231778212309,
          -0.17967146823749583,
          -0.6188632969910778,
          0.49843235794522917,
          -2.2834075497398354,
          0.5075191162307787,
          -0.3979350596840527,
          1.808595380141962,
          1.4478435911085978,
          1.9847189806152126,
          -0.6006060868037226,
          -0.11305146669809568,
          -1.9931225359407287,
          1.1157025234863016,
          -1.4374819486724126,
          -0.5043842729131363,
          1.037573710316617
         ],
         "yaxis": "y8"
        },
        {
         "line": {
          "color": "rgba(128, 128, 128, 1.0)",
          "dash": "solid",
          "shape": "linear",
          "width": 1.3
         },
         "marker": {
          "size": 2,
          "symbol": "circle"
         },
         "mode": "markers",
         "name": "C",
         "text": "",
         "type": "scatter",
         "x": [
          0.8102783342500975,
          -0.6253496339817639,
          -2.1243974907659204,
          0.720743963340369,
          -0.36064835386640587,
          0.5759738002613626,
          -0.5408838512778968,
          0.9063815011325167,
          0.14367225921632368,
          0.00026148660293838066,
          0.8467757610440696,
          1.0618325092089878,
          0.6601824163443513,
          -0.48520520012482693,
          0.16871597616384307,
          1.9223052368503024,
          0.9388082883234752,
          0.5088942209079874,
          -0.04230165123367031,
          -0.7526132624711495,
          -0.415041342875489,
          -0.793150586675246,
          -1.3157120016215045,
          -0.3129688528150545,
          -0.33178453177328393,
          0.6738932217934391,
          -0.20852567734951294,
          -0.5355302645486091,
          0.31758960828690674,
          -1.0782016494131208,
          -0.4943059018241482,
          2.3595732177828745,
          -0.8784700471766782,
          -1.566200134991812,
          2.371764508822633,
          0.4656996839084545,
          -0.5979722939647736,
          1.2026987046903905,
          -0.5774282822965877,
          -1.1912118849000355,
          1.1985479855522592,
          0.2620589711638922,
          -0.13955147837889778,
          2.006276192685832,
          -3.0593131305730212,
          -0.3135204450592635,
          0.49172621192557314,
          0.05953014894188452,
          0.5365399611316989,
          0.4195142732653403,
          -0.6770591662178267,
          -0.2436721827521768,
          1.6485546212968694,
          1.0777191974521207,
          -0.8235713648686525,
          1.1428728019017498,
          -1.0679338620343783,
          0.24667409787800906,
          -1.7012725976148813,
          0.3900854386786318,
          -0.0690631840386189,
          2.4425043139920115,
          -1.1018934707019725,
          -1.0725826387263075,
          0.5906422575776665,
          0.9317450123551313,
          -1.1094945245226584,
          -0.13924398333838528,
          0.6423994151056848,
          0.9343018357089617,
          -0.12462754521955423,
          -0.4534461912534964,
          0.3736980081177701,
          0.17323250427614217,
          0.1366559450676414,
          -1.5033057674814936,
          -1.5672884375220335,
          -0.6571575852753471,
          -0.6395666738075189,
          -0.048474604736042155,
          -0.8283140638768075,
          0.5051085347510471,
          -0.07435138461353441,
          0.7054559130856934,
          -0.4452511251612592,
          -1.7403303648604576,
          -0.8504417681382134,
          0.10098301367735862,
          2.9622665316121757,
          1.0923483440863093,
          1.7927479468119651,
          -1.311470384073283,
          0.22374389200951048,
          -0.530987810356002,
          0.11747030791334216,
          -1.6590230098865948,
          0.5041533225812629,
          -0.12948004730523324,
          0.658166074407969,
          -1.0808986418415536
         ],
         "xaxis": "x9",
         "y": [
          0.28351922773921484,
          1.046079338886153,
          2.0835449174959577,
          -0.2959837142159095,
          1.6046489938849664,
          2.195836604642892,
          0.8476703120127796,
          -2.547634863137372,
          -0.054712216396222174,
          2.1329888225258657,
          -0.059495471584225815,
          1.0027270533746517,
          0.46300835233025445,
          0.6187532585825445,
          -0.2570609512119834,
          1.4147212529008464,
          -0.062449210845311465,
          -1.510290511600925,
          0.7915514510460175,
          0.23950238405602578,
          -0.5557361756236054,
          0.8098609998351721,
          -0.0642606348908341,
          -0.3615179242381196,
          0.5436390375193604,
          0.3037806166888286,
          -0.40599365076255306,
          -0.23959034673875698,
          -0.4371248110233738,
          -1.0371496615510956,
          -1.623515091941615,
          1.8605635822483575,
          -1.5979290018774897,
          0.42438996847438776,
          0.807606192078492,
          0.7409034648080791,
          0.20019373318150901,
          -0.11429639960635761,
          1.8490774305091582,
          1.5763772367578217,
          0.6748751476562145,
          -1.518245752560392,
          0.6315619024258422,
          0.2611749777840262,
          0.28096625105031553,
          0.31577453740170214,
          0.05330631332221621,
          0.5170065923129699,
          0.21998424674059666,
          -0.48562509150146704,
          -0.04152686380702287,
          0.35336271123789803,
          0.43791241215896154,
          0.4634386398511038,
          0.4557592036672411,
          -0.8686612907647687,
          1.8954925814928667,
          1.6666710998220187,
          -0.19855340511356662,
          -0.6244916540652142,
          0.11233984574108362,
          0.6573799337069568,
          -0.27734125406271254,
          1.1970696482493897,
          -0.005662538042132438,
          1.5307851341353675,
          0.6149973143148547,
          -0.33701918074932347,
          -0.3108753143191812,
          0.289697682560031,
          1.3484456553144994,
          0.1298085780557541,
          -0.06992415209331283,
          -1.4199493782632415,
          0.815984765622038,
          0.327747728667979,
          -0.5902645821663245,
          -0.018765691119965087,
          -0.9683062677574454,
          -0.7425838324089256,
          0.14431852678860446,
          1.6422290164330002,
          0.01198419697002567,
          -2.0889120664528815,
          0.4131738258812024,
          -0.6361816130078658,
          -0.2571632252233618,
          0.3168497679233199,
          -0.6404558672207877,
          0.8338503060179236,
          0.4959482400434411,
          0.9037280611012579,
          0.8038194261550938,
          -1.0692955593268663,
          -0.5481924534934708,
          1.415618063415662,
          2.4096561073428333,
          -1.1275883694024578,
          -0.5422482986699697,
          1.019019392943807
         ],
         "yaxis": "y9"
        },
        {
         "line": {
          "color": "rgba(128, 128, 128, 1.0)",
          "dash": "solid",
          "shape": "linear",
          "width": 1.3
         },
         "marker": {
          "size": 2,
          "symbol": "circle"
         },
         "mode": "markers",
         "name": "C",
         "text": "",
         "type": "scatter",
         "x": [
          -0.5867832721021545,
          -0.07652741634221236,
          0.2364293046163907,
          -0.6144816203385531,
          0.012973345926433438,
          0.140602345064779,
          -1.0030025953938253,
          -1.502643397426585,
          0.5896630453075187,
          -0.21859864301934573,
          2.5606146076852134,
          -0.18445397195904925,
          0.14404944732764993,
          -0.176190196082285,
          -0.1814650597022292,
          -0.6035618716856341,
          -0.2698398063907249,
          -1.3758116421192002,
          -0.2515990561051834,
          -0.1699255313315551,
          1.105332227997531,
          -0.2414537899145735,
          -0.43690638271891863,
          -0.5565581304346296,
          0.6843491271174079,
          1.1144617107002537,
          -0.06617478605366806,
          0.6171150057998764,
          0.161975916590861,
          -0.8025708642901519,
          -1.5703565393095944,
          0.0263166711734827,
          -1.3396342312495948,
          0.31922014067344723,
          0.26769759042412405,
          0.8362426707322204,
          -0.16595514184267424,
          -1.5533523988763758,
          0.9483515326864449,
          0.10852470942154041,
          0.32906720227944375,
          -1.3325573708112333,
          -1.9645959663511439,
          -0.16802540689860643,
          0.13804899488468952,
          0.7199032526152568,
          -0.21241232879081512,
          0.07330227748986475,
          1.0630669830149864,
          -0.3197084203991881,
          -1.1359500413622619,
          -0.9940157702582891,
          0.12171307375231409,
          0.4592175010615597,
          -1.6271043605590056,
          0.09926530472378069,
          -0.8497057898196344,
          -0.096366003868344,
          -0.29323986028178434,
          -1.018009352091211,
          -1.5515627050638126,
          -0.31734504259472124,
          -0.4122652479440936,
          -0.3275919864238932,
          1.8995716489365664,
          -1.150485762145562,
          0.8844241629491068,
          -0.2976620794221025,
          0.4561009509196521,
          2.0577189539348164,
          -1.702448142151754,
          2.341170674518494,
          0.21098368350967794,
          1.2154631421327593,
          -1.9577382001306542,
          0.17362248923315385,
          -0.003360407917770353,
          -0.1523412451921134,
          -0.2530497749244438,
          0.16256186797090352,
          1.9642697933484992,
          0.018391126687528722,
          0.46386388030333103,
          0.7217231778212309,
          -0.17967146823749583,
          -0.6188632969910778,
          0.49843235794522917,
          -2.2834075497398354,
          0.5075191162307787,
          -0.3979350596840527,
          1.808595380141962,
          1.4478435911085978,
          1.9847189806152126,
          -0.6006060868037226,
          -0.11305146669809568,
          -1.9931225359407287,
          1.1157025234863016,
          -1.4374819486724126,
          -0.5043842729131363,
          1.037573710316617
         ],
         "xaxis": "x10",
         "y": [
          0.28351922773921484,
          1.046079338886153,
          2.0835449174959577,
          -0.2959837142159095,
          1.6046489938849664,
          2.195836604642892,
          0.8476703120127796,
          -2.547634863137372,
          -0.054712216396222174,
          2.1329888225258657,
          -0.059495471584225815,
          1.0027270533746517,
          0.46300835233025445,
          0.6187532585825445,
          -0.2570609512119834,
          1.4147212529008464,
          -0.062449210845311465,
          -1.510290511600925,
          0.7915514510460175,
          0.23950238405602578,
          -0.5557361756236054,
          0.8098609998351721,
          -0.0642606348908341,
          -0.3615179242381196,
          0.5436390375193604,
          0.3037806166888286,
          -0.40599365076255306,
          -0.23959034673875698,
          -0.4371248110233738,
          -1.0371496615510956,
          -1.623515091941615,
          1.8605635822483575,
          -1.5979290018774897,
          0.42438996847438776,
          0.807606192078492,
          0.7409034648080791,
          0.20019373318150901,
          -0.11429639960635761,
          1.8490774305091582,
          1.5763772367578217,
          0.6748751476562145,
          -1.518245752560392,
          0.6315619024258422,
          0.2611749777840262,
          0.28096625105031553,
          0.31577453740170214,
          0.05330631332221621,
          0.5170065923129699,
          0.21998424674059666,
          -0.48562509150146704,
          -0.04152686380702287,
          0.35336271123789803,
          0.43791241215896154,
          0.4634386398511038,
          0.4557592036672411,
          -0.8686612907647687,
          1.8954925814928667,
          1.6666710998220187,
          -0.19855340511356662,
          -0.6244916540652142,
          0.11233984574108362,
          0.6573799337069568,
          -0.27734125406271254,
          1.1970696482493897,
          -0.005662538042132438,
          1.5307851341353675,
          0.6149973143148547,
          -0.33701918074932347,
          -0.3108753143191812,
          0.289697682560031,
          1.3484456553144994,
          0.1298085780557541,
          -0.06992415209331283,
          -1.4199493782632415,
          0.815984765622038,
          0.327747728667979,
          -0.5902645821663245,
          -0.018765691119965087,
          -0.9683062677574454,
          -0.7425838324089256,
          0.14431852678860446,
          1.6422290164330002,
          0.01198419697002567,
          -2.0889120664528815,
          0.4131738258812024,
          -0.6361816130078658,
          -0.2571632252233618,
          0.3168497679233199,
          -0.6404558672207877,
          0.8338503060179236,
          0.4959482400434411,
          0.9037280611012579,
          0.8038194261550938,
          -1.0692955593268663,
          -0.5481924534934708,
          1.415618063415662,
          2.4096561073428333,
          -1.1275883694024578,
          -0.5422482986699697,
          1.019019392943807
         ],
         "yaxis": "y10"
        },
        {
         "histfunc": "count",
         "histnorm": "",
         "marker": {
          "color": "rgba(50, 171, 96, 1.0)",
          "line": {
           "color": "#4D5663",
           "width": 1.3
          }
         },
         "name": "C",
         "nbinsx": 10,
         "opacity": 0.8,
         "orientation": "v",
         "type": "histogram",
         "x": [
          0.28351922773921484,
          1.046079338886153,
          2.0835449174959577,
          -0.2959837142159095,
          1.6046489938849664,
          2.195836604642892,
          0.8476703120127796,
          -2.547634863137372,
          -0.054712216396222174,
          2.1329888225258657,
          -0.059495471584225815,
          1.0027270533746517,
          0.46300835233025445,
          0.6187532585825445,
          -0.2570609512119834,
          1.4147212529008464,
          -0.062449210845311465,
          -1.510290511600925,
          0.7915514510460175,
          0.23950238405602578,
          -0.5557361756236054,
          0.8098609998351721,
          -0.0642606348908341,
          -0.3615179242381196,
          0.5436390375193604,
          0.3037806166888286,
          -0.40599365076255306,
          -0.23959034673875698,
          -0.4371248110233738,
          -1.0371496615510956,
          -1.623515091941615,
          1.8605635822483575,
          -1.5979290018774897,
          0.42438996847438776,
          0.807606192078492,
          0.7409034648080791,
          0.20019373318150901,
          -0.11429639960635761,
          1.8490774305091582,
          1.5763772367578217,
          0.6748751476562145,
          -1.518245752560392,
          0.6315619024258422,
          0.2611749777840262,
          0.28096625105031553,
          0.31577453740170214,
          0.05330631332221621,
          0.5170065923129699,
          0.21998424674059666,
          -0.48562509150146704,
          -0.04152686380702287,
          0.35336271123789803,
          0.43791241215896154,
          0.4634386398511038,
          0.4557592036672411,
          -0.8686612907647687,
          1.8954925814928667,
          1.6666710998220187,
          -0.19855340511356662,
          -0.6244916540652142,
          0.11233984574108362,
          0.6573799337069568,
          -0.27734125406271254,
          1.1970696482493897,
          -0.005662538042132438,
          1.5307851341353675,
          0.6149973143148547,
          -0.33701918074932347,
          -0.3108753143191812,
          0.289697682560031,
          1.3484456553144994,
          0.1298085780557541,
          -0.06992415209331283,
          -1.4199493782632415,
          0.815984765622038,
          0.327747728667979,
          -0.5902645821663245,
          -0.018765691119965087,
          -0.9683062677574454,
          -0.7425838324089256,
          0.14431852678860446,
          1.6422290164330002,
          0.01198419697002567,
          -2.0889120664528815,
          0.4131738258812024,
          -0.6361816130078658,
          -0.2571632252233618,
          0.3168497679233199,
          -0.6404558672207877,
          0.8338503060179236,
          0.4959482400434411,
          0.9037280611012579,
          0.8038194261550938,
          -1.0692955593268663,
          -0.5481924534934708,
          1.415618063415662,
          2.4096561073428333,
          -1.1275883694024578,
          -0.5422482986699697,
          1.019019392943807
         ],
         "xaxis": "x11",
         "yaxis": "y11"
        },
        {
         "line": {
          "color": "rgba(128, 128, 128, 1.0)",
          "dash": "solid",
          "shape": "linear",
          "width": 1.3
         },
         "marker": {
          "size": 2,
          "symbol": "circle"
         },
         "mode": "markers",
         "name": "C",
         "text": "",
         "type": "scatter",
         "x": [
          1.099922373835138,
          0.2626572007696351,
          0.6809920120680077,
          0.37568407155213374,
          -0.04864881787822194,
          -0.15963142619448523,
          1.8173178561527665,
          1.5041195694376848,
          2.05487800502223,
          -0.12444346809989125,
          -1.6307883976081554,
          -1.6464784995276835,
          1.4171575806942058,
          0.5639289745490836,
          1.7095359980145544,
          1.3602531934702955,
          0.3269527230867582,
          0.0962032854064902,
          -0.45256047949482786,
          -0.5281708916340596,
          0.4227948741861683,
          0.9280536909798838,
          -0.09479959883794437,
          -1.6608330524519894,
          -0.6502396062774366,
          1.6849774649383609,
          -0.23244221019765693,
          0.2412117981760023,
          0.26308115933206583,
          -0.05934572352369715,
          -0.9279862996400814,
          -0.45450798761106453,
          2.2239840681385092,
          -1.0204245595011332,
          -0.44008415350396585,
          -1.7332884312994834,
          1.2330866954107442,
          -1.755421872197194,
          2.3383790326210687,
          0.22412552553348905,
          0.7426698507509121,
          0.7991221908818573,
          -0.26933653499043236,
          0.42254507732436375,
          1.231213801855879,
          -1.627001480328027,
          -0.021531903646123327,
          -0.8089248875165332,
          0.048405150235370814,
          -1.4954076911569576,
          1.0611565413171433,
          0.9307030406188339,
          0.12610174945894356,
          0.19156395186408465,
          0.3259755708201364,
          1.9806336100085007,
          -0.31701502517410435,
          0.09801311213732218,
          -0.8820221079518904,
          -0.30193543751284246,
          0.12639965464310587,
          0.5823710345422258,
          1.2061216199301237,
          0.7745830379588147,
          1.331827185818298,
          1.5509431753167309,
          -0.568727003681773,
          -0.7256118493722932,
          1.7945026676551865,
          -0.7741373899581679,
          0.9454067577115647,
          1.451698489595251,
          -0.7641265768049319,
          -1.2493657381872179,
          1.39305373407263,
          0.8803628302029253,
          -0.11303504106680408,
          -0.12660893520742172,
          -0.27249779574034855,
          -0.10297221383786716,
          -0.02062883317220425,
          0.7200439778651814,
          0.13938792514308868,
          -1.2325145192835052,
          0.953490759422294,
          -2.0122315617481092,
          -0.4895342823299396,
          -1.3909466622535194,
          0.7380253108900534,
          0.6338021472951514,
          0.5938533715232079,
          0.24744804199013162,
          -0.23707522924646277,
          -0.3102068463632845,
          0.6565122117080727,
          2.4719111386502304,
          0.9428754947558217,
          0.36462123436155686,
          0.4890263356037747,
          0.4608907840779743
         ],
         "xaxis": "x12",
         "y": [
          0.28351922773921484,
          1.046079338886153,
          2.0835449174959577,
          -0.2959837142159095,
          1.6046489938849664,
          2.195836604642892,
          0.8476703120127796,
          -2.547634863137372,
          -0.054712216396222174,
          2.1329888225258657,
          -0.059495471584225815,
          1.0027270533746517,
          0.46300835233025445,
          0.6187532585825445,
          -0.2570609512119834,
          1.4147212529008464,
          -0.062449210845311465,
          -1.510290511600925,
          0.7915514510460175,
          0.23950238405602578,
          -0.5557361756236054,
          0.8098609998351721,
          -0.0642606348908341,
          -0.3615179242381196,
          0.5436390375193604,
          0.3037806166888286,
          -0.40599365076255306,
          -0.23959034673875698,
          -0.4371248110233738,
          -1.0371496615510956,
          -1.623515091941615,
          1.8605635822483575,
          -1.5979290018774897,
          0.42438996847438776,
          0.807606192078492,
          0.7409034648080791,
          0.20019373318150901,
          -0.11429639960635761,
          1.8490774305091582,
          1.5763772367578217,
          0.6748751476562145,
          -1.518245752560392,
          0.6315619024258422,
          0.2611749777840262,
          0.28096625105031553,
          0.31577453740170214,
          0.05330631332221621,
          0.5170065923129699,
          0.21998424674059666,
          -0.48562509150146704,
          -0.04152686380702287,
          0.35336271123789803,
          0.43791241215896154,
          0.4634386398511038,
          0.4557592036672411,
          -0.8686612907647687,
          1.8954925814928667,
          1.6666710998220187,
          -0.19855340511356662,
          -0.6244916540652142,
          0.11233984574108362,
          0.6573799337069568,
          -0.27734125406271254,
          1.1970696482493897,
          -0.005662538042132438,
          1.5307851341353675,
          0.6149973143148547,
          -0.33701918074932347,
          -0.3108753143191812,
          0.289697682560031,
          1.3484456553144994,
          0.1298085780557541,
          -0.06992415209331283,
          -1.4199493782632415,
          0.815984765622038,
          0.327747728667979,
          -0.5902645821663245,
          -0.018765691119965087,
          -0.9683062677574454,
          -0.7425838324089256,
          0.14431852678860446,
          1.6422290164330002,
          0.01198419697002567,
          -2.0889120664528815,
          0.4131738258812024,
          -0.6361816130078658,
          -0.2571632252233618,
          0.3168497679233199,
          -0.6404558672207877,
          0.8338503060179236,
          0.4959482400434411,
          0.9037280611012579,
          0.8038194261550938,
          -1.0692955593268663,
          -0.5481924534934708,
          1.415618063415662,
          2.4096561073428333,
          -1.1275883694024578,
          -0.5422482986699697,
          1.019019392943807
         ],
         "yaxis": "y12"
        },
        {
         "line": {
          "color": "rgba(128, 128, 128, 1.0)",
          "dash": "solid",
          "shape": "linear",
          "width": 1.3
         },
         "marker": {
          "size": 2,
          "symbol": "circle"
         },
         "mode": "markers",
         "name": "D",
         "text": "",
         "type": "scatter",
         "x": [
          0.8102783342500975,
          -0.6253496339817639,
          -2.1243974907659204,
          0.720743963340369,
          -0.36064835386640587,
          0.5759738002613626,
          -0.5408838512778968,
          0.9063815011325167,
          0.14367225921632368,
          0.00026148660293838066,
          0.8467757610440696,
          1.0618325092089878,
          0.6601824163443513,
          -0.48520520012482693,
          0.16871597616384307,
          1.9223052368503024,
          0.9388082883234752,
          0.5088942209079874,
          -0.04230165123367031,
          -0.7526132624711495,
          -0.415041342875489,
          -0.793150586675246,
          -1.3157120016215045,
          -0.3129688528150545,
          -0.33178453177328393,
          0.6738932217934391,
          -0.20852567734951294,
          -0.5355302645486091,
          0.31758960828690674,
          -1.0782016494131208,
          -0.4943059018241482,
          2.3595732177828745,
          -0.8784700471766782,
          -1.566200134991812,
          2.371764508822633,
          0.4656996839084545,
          -0.5979722939647736,
          1.2026987046903905,
          -0.5774282822965877,
          -1.1912118849000355,
          1.1985479855522592,
          0.2620589711638922,
          -0.13955147837889778,
          2.006276192685832,
          -3.0593131305730212,
          -0.3135204450592635,
          0.49172621192557314,
          0.05953014894188452,
          0.5365399611316989,
          0.4195142732653403,
          -0.6770591662178267,
          -0.2436721827521768,
          1.6485546212968694,
          1.0777191974521207,
          -0.8235713648686525,
          1.1428728019017498,
          -1.0679338620343783,
          0.24667409787800906,
          -1.7012725976148813,
          0.3900854386786318,
          -0.0690631840386189,
          2.4425043139920115,
          -1.1018934707019725,
          -1.0725826387263075,
          0.5906422575776665,
          0.9317450123551313,
          -1.1094945245226584,
          -0.13924398333838528,
          0.6423994151056848,
          0.9343018357089617,
          -0.12462754521955423,
          -0.4534461912534964,
          0.3736980081177701,
          0.17323250427614217,
          0.1366559450676414,
          -1.5033057674814936,
          -1.5672884375220335,
          -0.6571575852753471,
          -0.6395666738075189,
          -0.048474604736042155,
          -0.8283140638768075,
          0.5051085347510471,
          -0.07435138461353441,
          0.7054559130856934,
          -0.4452511251612592,
          -1.7403303648604576,
          -0.8504417681382134,
          0.10098301367735862,
          2.9622665316121757,
          1.0923483440863093,
          1.7927479468119651,
          -1.311470384073283,
          0.22374389200951048,
          -0.530987810356002,
          0.11747030791334216,
          -1.6590230098865948,
          0.5041533225812629,
          -0.12948004730523324,
          0.658166074407969,
          -1.0808986418415536
         ],
         "xaxis": "x13",
         "y": [
          1.099922373835138,
          0.2626572007696351,
          0.6809920120680077,
          0.37568407155213374,
          -0.04864881787822194,
          -0.15963142619448523,
          1.8173178561527665,
          1.5041195694376848,
          2.05487800502223,
          -0.12444346809989125,
          -1.6307883976081554,
          -1.6464784995276835,
          1.4171575806942058,
          0.5639289745490836,
          1.7095359980145544,
          1.3602531934702955,
          0.3269527230867582,
          0.0962032854064902,
          -0.45256047949482786,
          -0.5281708916340596,
          0.4227948741861683,
          0.9280536909798838,
          -0.09479959883794437,
          -1.6608330524519894,
          -0.6502396062774366,
          1.6849774649383609,
          -0.23244221019765693,
          0.2412117981760023,
          0.26308115933206583,
          -0.05934572352369715,
          -0.9279862996400814,
          -0.45450798761106453,
          2.2239840681385092,
          -1.0204245595011332,
          -0.44008415350396585,
          -1.7332884312994834,
          1.2330866954107442,
          -1.755421872197194,
          2.3383790326210687,
          0.22412552553348905,
          0.7426698507509121,
          0.7991221908818573,
          -0.26933653499043236,
          0.42254507732436375,
          1.231213801855879,
          -1.627001480328027,
          -0.021531903646123327,
          -0.8089248875165332,
          0.048405150235370814,
          -1.4954076911569576,
          1.0611565413171433,
          0.9307030406188339,
          0.12610174945894356,
          0.19156395186408465,
          0.3259755708201364,
          1.9806336100085007,
          -0.31701502517410435,
          0.09801311213732218,
          -0.8820221079518904,
          -0.30193543751284246,
          0.12639965464310587,
          0.5823710345422258,
          1.2061216199301237,
          0.7745830379588147,
          1.331827185818298,
          1.5509431753167309,
          -0.568727003681773,
          -0.7256118493722932,
          1.7945026676551865,
          -0.7741373899581679,
          0.9454067577115647,
          1.451698489595251,
          -0.7641265768049319,
          -1.2493657381872179,
          1.39305373407263,
          0.8803628302029253,
          -0.11303504106680408,
          -0.12660893520742172,
          -0.27249779574034855,
          -0.10297221383786716,
          -0.02062883317220425,
          0.7200439778651814,
          0.13938792514308868,
          -1.2325145192835052,
          0.953490759422294,
          -2.0122315617481092,
          -0.4895342823299396,
          -1.3909466622535194,
          0.7380253108900534,
          0.6338021472951514,
          0.5938533715232079,
          0.24744804199013162,
          -0.23707522924646277,
          -0.3102068463632845,
          0.6565122117080727,
          2.4719111386502304,
          0.9428754947558217,
          0.36462123436155686,
          0.4890263356037747,
          0.4608907840779743
         ],
         "yaxis": "y13"
        },
        {
         "line": {
          "color": "rgba(128, 128, 128, 1.0)",
          "dash": "solid",
          "shape": "linear",
          "width": 1.3
         },
         "marker": {
          "size": 2,
          "symbol": "circle"
         },
         "mode": "markers",
         "name": "D",
         "text": "",
         "type": "scatter",
         "x": [
          -0.5867832721021545,
          -0.07652741634221236,
          0.2364293046163907,
          -0.6144816203385531,
          0.012973345926433438,
          0.140602345064779,
          -1.0030025953938253,
          -1.502643397426585,
          0.5896630453075187,
          -0.21859864301934573,
          2.5606146076852134,
          -0.18445397195904925,
          0.14404944732764993,
          -0.176190196082285,
          -0.1814650597022292,
          -0.6035618716856341,
          -0.2698398063907249,
          -1.3758116421192002,
          -0.2515990561051834,
          -0.1699255313315551,
          1.105332227997531,
          -0.2414537899145735,
          -0.43690638271891863,
          -0.5565581304346296,
          0.6843491271174079,
          1.1144617107002537,
          -0.06617478605366806,
          0.6171150057998764,
          0.161975916590861,
          -0.8025708642901519,
          -1.5703565393095944,
          0.0263166711734827,
          -1.3396342312495948,
          0.31922014067344723,
          0.26769759042412405,
          0.8362426707322204,
          -0.16595514184267424,
          -1.5533523988763758,
          0.9483515326864449,
          0.10852470942154041,
          0.32906720227944375,
          -1.3325573708112333,
          -1.9645959663511439,
          -0.16802540689860643,
          0.13804899488468952,
          0.7199032526152568,
          -0.21241232879081512,
          0.07330227748986475,
          1.0630669830149864,
          -0.3197084203991881,
          -1.1359500413622619,
          -0.9940157702582891,
          0.12171307375231409,
          0.4592175010615597,
          -1.6271043605590056,
          0.09926530472378069,
          -0.8497057898196344,
          -0.096366003868344,
          -0.29323986028178434,
          -1.018009352091211,
          -1.5515627050638126,
          -0.31734504259472124,
          -0.4122652479440936,
          -0.3275919864238932,
          1.8995716489365664,
          -1.150485762145562,
          0.8844241629491068,
          -0.2976620794221025,
          0.4561009509196521,
          2.0577189539348164,
          -1.702448142151754,
          2.341170674518494,
          0.21098368350967794,
          1.2154631421327593,
          -1.9577382001306542,
          0.17362248923315385,
          -0.003360407917770353,
          -0.1523412451921134,
          -0.2530497749244438,
          0.16256186797090352,
          1.9642697933484992,
          0.018391126687528722,
          0.46386388030333103,
          0.7217231778212309,
          -0.17967146823749583,
          -0.6188632969910778,
          0.49843235794522917,
          -2.2834075497398354,
          0.5075191162307787,
          -0.3979350596840527,
          1.808595380141962,
          1.4478435911085978,
          1.9847189806152126,
          -0.6006060868037226,
          -0.11305146669809568,
          -1.9931225359407287,
          1.1157025234863016,
          -1.4374819486724126,
          -0.5043842729131363,
          1.037573710316617
         ],
         "xaxis": "x14",
         "y": [
          1.099922373835138,
          0.2626572007696351,
          0.6809920120680077,
          0.37568407155213374,
          -0.04864881787822194,
          -0.15963142619448523,
          1.8173178561527665,
          1.5041195694376848,
          2.05487800502223,
          -0.12444346809989125,
          -1.6307883976081554,
          -1.6464784995276835,
          1.4171575806942058,
          0.5639289745490836,
          1.7095359980145544,
          1.3602531934702955,
          0.3269527230867582,
          0.0962032854064902,
          -0.45256047949482786,
          -0.5281708916340596,
          0.4227948741861683,
          0.9280536909798838,
          -0.09479959883794437,
          -1.6608330524519894,
          -0.6502396062774366,
          1.6849774649383609,
          -0.23244221019765693,
          0.2412117981760023,
          0.26308115933206583,
          -0.05934572352369715,
          -0.9279862996400814,
          -0.45450798761106453,
          2.2239840681385092,
          -1.0204245595011332,
          -0.44008415350396585,
          -1.7332884312994834,
          1.2330866954107442,
          -1.755421872197194,
          2.3383790326210687,
          0.22412552553348905,
          0.7426698507509121,
          0.7991221908818573,
          -0.26933653499043236,
          0.42254507732436375,
          1.231213801855879,
          -1.627001480328027,
          -0.021531903646123327,
          -0.8089248875165332,
          0.048405150235370814,
          -1.4954076911569576,
          1.0611565413171433,
          0.9307030406188339,
          0.12610174945894356,
          0.19156395186408465,
          0.3259755708201364,
          1.9806336100085007,
          -0.31701502517410435,
          0.09801311213732218,
          -0.8820221079518904,
          -0.30193543751284246,
          0.12639965464310587,
          0.5823710345422258,
          1.2061216199301237,
          0.7745830379588147,
          1.331827185818298,
          1.5509431753167309,
          -0.568727003681773,
          -0.7256118493722932,
          1.7945026676551865,
          -0.7741373899581679,
          0.9454067577115647,
          1.451698489595251,
          -0.7641265768049319,
          -1.2493657381872179,
          1.39305373407263,
          0.8803628302029253,
          -0.11303504106680408,
          -0.12660893520742172,
          -0.27249779574034855,
          -0.10297221383786716,
          -0.02062883317220425,
          0.7200439778651814,
          0.13938792514308868,
          -1.2325145192835052,
          0.953490759422294,
          -2.0122315617481092,
          -0.4895342823299396,
          -1.3909466622535194,
          0.7380253108900534,
          0.6338021472951514,
          0.5938533715232079,
          0.24744804199013162,
          -0.23707522924646277,
          -0.3102068463632845,
          0.6565122117080727,
          2.4719111386502304,
          0.9428754947558217,
          0.36462123436155686,
          0.4890263356037747,
          0.4608907840779743
         ],
         "yaxis": "y14"
        },
        {
         "line": {
          "color": "rgba(128, 128, 128, 1.0)",
          "dash": "solid",
          "shape": "linear",
          "width": 1.3
         },
         "marker": {
          "size": 2,
          "symbol": "circle"
         },
         "mode": "markers",
         "name": "D",
         "text": "",
         "type": "scatter",
         "x": [
          0.28351922773921484,
          1.046079338886153,
          2.0835449174959577,
          -0.2959837142159095,
          1.6046489938849664,
          2.195836604642892,
          0.8476703120127796,
          -2.547634863137372,
          -0.054712216396222174,
          2.1329888225258657,
          -0.059495471584225815,
          1.0027270533746517,
          0.46300835233025445,
          0.6187532585825445,
          -0.2570609512119834,
          1.4147212529008464,
          -0.062449210845311465,
          -1.510290511600925,
          0.7915514510460175,
          0.23950238405602578,
          -0.5557361756236054,
          0.8098609998351721,
          -0.0642606348908341,
          -0.3615179242381196,
          0.5436390375193604,
          0.3037806166888286,
          -0.40599365076255306,
          -0.23959034673875698,
          -0.4371248110233738,
          -1.0371496615510956,
          -1.623515091941615,
          1.8605635822483575,
          -1.5979290018774897,
          0.42438996847438776,
          0.807606192078492,
          0.7409034648080791,
          0.20019373318150901,
          -0.11429639960635761,
          1.8490774305091582,
          1.5763772367578217,
          0.6748751476562145,
          -1.518245752560392,
          0.6315619024258422,
          0.2611749777840262,
          0.28096625105031553,
          0.31577453740170214,
          0.05330631332221621,
          0.5170065923129699,
          0.21998424674059666,
          -0.48562509150146704,
          -0.04152686380702287,
          0.35336271123789803,
          0.43791241215896154,
          0.4634386398511038,
          0.4557592036672411,
          -0.8686612907647687,
          1.8954925814928667,
          1.6666710998220187,
          -0.19855340511356662,
          -0.6244916540652142,
          0.11233984574108362,
          0.6573799337069568,
          -0.27734125406271254,
          1.1970696482493897,
          -0.005662538042132438,
          1.5307851341353675,
          0.6149973143148547,
          -0.33701918074932347,
          -0.3108753143191812,
          0.289697682560031,
          1.3484456553144994,
          0.1298085780557541,
          -0.06992415209331283,
          -1.4199493782632415,
          0.815984765622038,
          0.327747728667979,
          -0.5902645821663245,
          -0.018765691119965087,
          -0.9683062677574454,
          -0.7425838324089256,
          0.14431852678860446,
          1.6422290164330002,
          0.01198419697002567,
          -2.0889120664528815,
          0.4131738258812024,
          -0.6361816130078658,
          -0.2571632252233618,
          0.3168497679233199,
          -0.6404558672207877,
          0.8338503060179236,
          0.4959482400434411,
          0.9037280611012579,
          0.8038194261550938,
          -1.0692955593268663,
          -0.5481924534934708,
          1.415618063415662,
          2.4096561073428333,
          -1.1275883694024578,
          -0.5422482986699697,
          1.019019392943807
         ],
         "xaxis": "x15",
         "y": [
          1.099922373835138,
          0.2626572007696351,
          0.6809920120680077,
          0.37568407155213374,
          -0.04864881787822194,
          -0.15963142619448523,
          1.8173178561527665,
          1.5041195694376848,
          2.05487800502223,
          -0.12444346809989125,
          -1.6307883976081554,
          -1.6464784995276835,
          1.4171575806942058,
          0.5639289745490836,
          1.7095359980145544,
          1.3602531934702955,
          0.3269527230867582,
          0.0962032854064902,
          -0.45256047949482786,
          -0.5281708916340596,
          0.4227948741861683,
          0.9280536909798838,
          -0.09479959883794437,
          -1.6608330524519894,
          -0.6502396062774366,
          1.6849774649383609,
          -0.23244221019765693,
          0.2412117981760023,
          0.26308115933206583,
          -0.05934572352369715,
          -0.9279862996400814,
          -0.45450798761106453,
          2.2239840681385092,
          -1.0204245595011332,
          -0.44008415350396585,
          -1.7332884312994834,
          1.2330866954107442,
          -1.755421872197194,
          2.3383790326210687,
          0.22412552553348905,
          0.7426698507509121,
          0.7991221908818573,
          -0.26933653499043236,
          0.42254507732436375,
          1.231213801855879,
          -1.627001480328027,
          -0.021531903646123327,
          -0.8089248875165332,
          0.048405150235370814,
          -1.4954076911569576,
          1.0611565413171433,
          0.9307030406188339,
          0.12610174945894356,
          0.19156395186408465,
          0.3259755708201364,
          1.9806336100085007,
          -0.31701502517410435,
          0.09801311213732218,
          -0.8820221079518904,
          -0.30193543751284246,
          0.12639965464310587,
          0.5823710345422258,
          1.2061216199301237,
          0.7745830379588147,
          1.331827185818298,
          1.5509431753167309,
          -0.568727003681773,
          -0.7256118493722932,
          1.7945026676551865,
          -0.7741373899581679,
          0.9454067577115647,
          1.451698489595251,
          -0.7641265768049319,
          -1.2493657381872179,
          1.39305373407263,
          0.8803628302029253,
          -0.11303504106680408,
          -0.12660893520742172,
          -0.27249779574034855,
          -0.10297221383786716,
          -0.02062883317220425,
          0.7200439778651814,
          0.13938792514308868,
          -1.2325145192835052,
          0.953490759422294,
          -2.0122315617481092,
          -0.4895342823299396,
          -1.3909466622535194,
          0.7380253108900534,
          0.6338021472951514,
          0.5938533715232079,
          0.24744804199013162,
          -0.23707522924646277,
          -0.3102068463632845,
          0.6565122117080727,
          2.4719111386502304,
          0.9428754947558217,
          0.36462123436155686,
          0.4890263356037747,
          0.4608907840779743
         ],
         "yaxis": "y15"
        },
        {
         "histfunc": "count",
         "histnorm": "",
         "marker": {
          "color": "rgba(128, 0, 128, 1.0)",
          "line": {
           "color": "#4D5663",
           "width": 1.3
          }
         },
         "name": "D",
         "nbinsx": 10,
         "opacity": 0.8,
         "orientation": "v",
         "type": "histogram",
         "x": [
          1.099922373835138,
          0.2626572007696351,
          0.6809920120680077,
          0.37568407155213374,
          -0.04864881787822194,
          -0.15963142619448523,
          1.8173178561527665,
          1.5041195694376848,
          2.05487800502223,
          -0.12444346809989125,
          -1.6307883976081554,
          -1.6464784995276835,
          1.4171575806942058,
          0.5639289745490836,
          1.7095359980145544,
          1.3602531934702955,
          0.3269527230867582,
          0.0962032854064902,
          -0.45256047949482786,
          -0.5281708916340596,
          0.4227948741861683,
          0.9280536909798838,
          -0.09479959883794437,
          -1.6608330524519894,
          -0.6502396062774366,
          1.6849774649383609,
          -0.23244221019765693,
          0.2412117981760023,
          0.26308115933206583,
          -0.05934572352369715,
          -0.9279862996400814,
          -0.45450798761106453,
          2.2239840681385092,
          -1.0204245595011332,
          -0.44008415350396585,
          -1.7332884312994834,
          1.2330866954107442,
          -1.755421872197194,
          2.3383790326210687,
          0.22412552553348905,
          0.7426698507509121,
          0.7991221908818573,
          -0.26933653499043236,
          0.42254507732436375,
          1.231213801855879,
          -1.627001480328027,
          -0.021531903646123327,
          -0.8089248875165332,
          0.048405150235370814,
          -1.4954076911569576,
          1.0611565413171433,
          0.9307030406188339,
          0.12610174945894356,
          0.19156395186408465,
          0.3259755708201364,
          1.9806336100085007,
          -0.31701502517410435,
          0.09801311213732218,
          -0.8820221079518904,
          -0.30193543751284246,
          0.12639965464310587,
          0.5823710345422258,
          1.2061216199301237,
          0.7745830379588147,
          1.331827185818298,
          1.5509431753167309,
          -0.568727003681773,
          -0.7256118493722932,
          1.7945026676551865,
          -0.7741373899581679,
          0.9454067577115647,
          1.451698489595251,
          -0.7641265768049319,
          -1.2493657381872179,
          1.39305373407263,
          0.8803628302029253,
          -0.11303504106680408,
          -0.12660893520742172,
          -0.27249779574034855,
          -0.10297221383786716,
          -0.02062883317220425,
          0.7200439778651814,
          0.13938792514308868,
          -1.2325145192835052,
          0.953490759422294,
          -2.0122315617481092,
          -0.4895342823299396,
          -1.3909466622535194,
          0.7380253108900534,
          0.6338021472951514,
          0.5938533715232079,
          0.24744804199013162,
          -0.23707522924646277,
          -0.3102068463632845,
          0.6565122117080727,
          2.4719111386502304,
          0.9428754947558217,
          0.36462123436155686,
          0.4890263356037747,
          0.4608907840779743
         ],
         "xaxis": "x16",
         "yaxis": "y16"
        }
       ],
       "layout": {
        "autosize": true,
        "bargap": 0.02,
        "legend": {
         "bgcolor": "#F5F6F9",
         "font": {
          "color": "#4D5663"
         }
        },
        "paper_bgcolor": "#F5F6F9",
        "plot_bgcolor": "#F5F6F9",
        "showlegend": false,
        "template": {
         "data": {
          "bar": [
           {
            "error_x": {
             "color": "#2a3f5f"
            },
            "error_y": {
             "color": "#2a3f5f"
            },
            "marker": {
             "line": {
              "color": "#E5ECF6",
              "width": 0.5
             },
             "pattern": {
              "fillmode": "overlay",
              "size": 10,
              "solidity": 0.2
             }
            },
            "type": "bar"
           }
          ],
          "barpolar": [
           {
            "marker": {
             "line": {
              "color": "#E5ECF6",
              "width": 0.5
             },
             "pattern": {
              "fillmode": "overlay",
              "size": 10,
              "solidity": 0.2
             }
            },
            "type": "barpolar"
           }
          ],
          "carpet": [
           {
            "aaxis": {
             "endlinecolor": "#2a3f5f",
             "gridcolor": "white",
             "linecolor": "white",
             "minorgridcolor": "white",
             "startlinecolor": "#2a3f5f"
            },
            "baxis": {
             "endlinecolor": "#2a3f5f",
             "gridcolor": "white",
             "linecolor": "white",
             "minorgridcolor": "white",
             "startlinecolor": "#2a3f5f"
            },
            "type": "carpet"
           }
          ],
          "choropleth": [
           {
            "colorbar": {
             "outlinewidth": 0,
             "ticks": ""
            },
            "type": "choropleth"
           }
          ],
          "contour": [
           {
            "colorbar": {
             "outlinewidth": 0,
             "ticks": ""
            },
            "colorscale": [
             [
              0,
              "#0d0887"
             ],
             [
              0.1111111111111111,
              "#46039f"
             ],
             [
              0.2222222222222222,
              "#7201a8"
             ],
             [
              0.3333333333333333,
              "#9c179e"
             ],
             [
              0.4444444444444444,
              "#bd3786"
             ],
             [
              0.5555555555555556,
              "#d8576b"
             ],
             [
              0.6666666666666666,
              "#ed7953"
             ],
             [
              0.7777777777777778,
              "#fb9f3a"
             ],
             [
              0.8888888888888888,
              "#fdca26"
             ],
             [
              1,
              "#f0f921"
             ]
            ],
            "type": "contour"
           }
          ],
          "contourcarpet": [
           {
            "colorbar": {
             "outlinewidth": 0,
             "ticks": ""
            },
            "type": "contourcarpet"
           }
          ],
          "heatmap": [
           {
            "colorbar": {
             "outlinewidth": 0,
             "ticks": ""
            },
            "colorscale": [
             [
              0,
              "#0d0887"
             ],
             [
              0.1111111111111111,
              "#46039f"
             ],
             [
              0.2222222222222222,
              "#7201a8"
             ],
             [
              0.3333333333333333,
              "#9c179e"
             ],
             [
              0.4444444444444444,
              "#bd3786"
             ],
             [
              0.5555555555555556,
              "#d8576b"
             ],
             [
              0.6666666666666666,
              "#ed7953"
             ],
             [
              0.7777777777777778,
              "#fb9f3a"
             ],
             [
              0.8888888888888888,
              "#fdca26"
             ],
             [
              1,
              "#f0f921"
             ]
            ],
            "type": "heatmap"
           }
          ],
          "heatmapgl": [
           {
            "colorbar": {
             "outlinewidth": 0,
             "ticks": ""
            },
            "colorscale": [
             [
              0,
              "#0d0887"
             ],
             [
              0.1111111111111111,
              "#46039f"
             ],
             [
              0.2222222222222222,
              "#7201a8"
             ],
             [
              0.3333333333333333,
              "#9c179e"
             ],
             [
              0.4444444444444444,
              "#bd3786"
             ],
             [
              0.5555555555555556,
              "#d8576b"
             ],
             [
              0.6666666666666666,
              "#ed7953"
             ],
             [
              0.7777777777777778,
              "#fb9f3a"
             ],
             [
              0.8888888888888888,
              "#fdca26"
             ],
             [
              1,
              "#f0f921"
             ]
            ],
            "type": "heatmapgl"
           }
          ],
          "histogram": [
           {
            "marker": {
             "pattern": {
              "fillmode": "overlay",
              "size": 10,
              "solidity": 0.2
             }
            },
            "type": "histogram"
           }
          ],
          "histogram2d": [
           {
            "colorbar": {
             "outlinewidth": 0,
             "ticks": ""
            },
            "colorscale": [
             [
              0,
              "#0d0887"
             ],
             [
              0.1111111111111111,
              "#46039f"
             ],
             [
              0.2222222222222222,
              "#7201a8"
             ],
             [
              0.3333333333333333,
              "#9c179e"
             ],
             [
              0.4444444444444444,
              "#bd3786"
             ],
             [
              0.5555555555555556,
              "#d8576b"
             ],
             [
              0.6666666666666666,
              "#ed7953"
             ],
             [
              0.7777777777777778,
              "#fb9f3a"
             ],
             [
              0.8888888888888888,
              "#fdca26"
             ],
             [
              1,
              "#f0f921"
             ]
            ],
            "type": "histogram2d"
           }
          ],
          "histogram2dcontour": [
           {
            "colorbar": {
             "outlinewidth": 0,
             "ticks": ""
            },
            "colorscale": [
             [
              0,
              "#0d0887"
             ],
             [
              0.1111111111111111,
              "#46039f"
             ],
             [
              0.2222222222222222,
              "#7201a8"
             ],
             [
              0.3333333333333333,
              "#9c179e"
             ],
             [
              0.4444444444444444,
              "#bd3786"
             ],
             [
              0.5555555555555556,
              "#d8576b"
             ],
             [
              0.6666666666666666,
              "#ed7953"
             ],
             [
              0.7777777777777778,
              "#fb9f3a"
             ],
             [
              0.8888888888888888,
              "#fdca26"
             ],
             [
              1,
              "#f0f921"
             ]
            ],
            "type": "histogram2dcontour"
           }
          ],
          "mesh3d": [
           {
            "colorbar": {
             "outlinewidth": 0,
             "ticks": ""
            },
            "type": "mesh3d"
           }
          ],
          "parcoords": [
           {
            "line": {
             "colorbar": {
              "outlinewidth": 0,
              "ticks": ""
             }
            },
            "type": "parcoords"
           }
          ],
          "pie": [
           {
            "automargin": true,
            "type": "pie"
           }
          ],
          "scatter": [
           {
            "fillpattern": {
             "fillmode": "overlay",
             "size": 10,
             "solidity": 0.2
            },
            "type": "scatter"
           }
          ],
          "scatter3d": [
           {
            "line": {
             "colorbar": {
              "outlinewidth": 0,
              "ticks": ""
             }
            },
            "marker": {
             "colorbar": {
              "outlinewidth": 0,
              "ticks": ""
             }
            },
            "type": "scatter3d"
           }
          ],
          "scattercarpet": [
           {
            "marker": {
             "colorbar": {
              "outlinewidth": 0,
              "ticks": ""
             }
            },
            "type": "scattercarpet"
           }
          ],
          "scattergeo": [
           {
            "marker": {
             "colorbar": {
              "outlinewidth": 0,
              "ticks": ""
             }
            },
            "type": "scattergeo"
           }
          ],
          "scattergl": [
           {
            "marker": {
             "colorbar": {
              "outlinewidth": 0,
              "ticks": ""
             }
            },
            "type": "scattergl"
           }
          ],
          "scattermapbox": [
           {
            "marker": {
             "colorbar": {
              "outlinewidth": 0,
              "ticks": ""
             }
            },
            "type": "scattermapbox"
           }
          ],
          "scatterpolar": [
           {
            "marker": {
             "colorbar": {
              "outlinewidth": 0,
              "ticks": ""
             }
            },
            "type": "scatterpolar"
           }
          ],
          "scatterpolargl": [
           {
            "marker": {
             "colorbar": {
              "outlinewidth": 0,
              "ticks": ""
             }
            },
            "type": "scatterpolargl"
           }
          ],
          "scatterternary": [
           {
            "marker": {
             "colorbar": {
              "outlinewidth": 0,
              "ticks": ""
             }
            },
            "type": "scatterternary"
           }
          ],
          "surface": [
           {
            "colorbar": {
             "outlinewidth": 0,
             "ticks": ""
            },
            "colorscale": [
             [
              0,
              "#0d0887"
             ],
             [
              0.1111111111111111,
              "#46039f"
             ],
             [
              0.2222222222222222,
              "#7201a8"
             ],
             [
              0.3333333333333333,
              "#9c179e"
             ],
             [
              0.4444444444444444,
              "#bd3786"
             ],
             [
              0.5555555555555556,
              "#d8576b"
             ],
             [
              0.6666666666666666,
              "#ed7953"
             ],
             [
              0.7777777777777778,
              "#fb9f3a"
             ],
             [
              0.8888888888888888,
              "#fdca26"
             ],
             [
              1,
              "#f0f921"
             ]
            ],
            "type": "surface"
           }
          ],
          "table": [
           {
            "cells": {
             "fill": {
              "color": "#EBF0F8"
             },
             "line": {
              "color": "white"
             }
            },
            "header": {
             "fill": {
              "color": "#C8D4E3"
             },
             "line": {
              "color": "white"
             }
            },
            "type": "table"
           }
          ]
         },
         "layout": {
          "annotationdefaults": {
           "arrowcolor": "#2a3f5f",
           "arrowhead": 0,
           "arrowwidth": 1
          },
          "autotypenumbers": "strict",
          "coloraxis": {
           "colorbar": {
            "outlinewidth": 0,
            "ticks": ""
           }
          },
          "colorscale": {
           "diverging": [
            [
             0,
             "#8e0152"
            ],
            [
             0.1,
             "#c51b7d"
            ],
            [
             0.2,
             "#de77ae"
            ],
            [
             0.3,
             "#f1b6da"
            ],
            [
             0.4,
             "#fde0ef"
            ],
            [
             0.5,
             "#f7f7f7"
            ],
            [
             0.6,
             "#e6f5d0"
            ],
            [
             0.7,
             "#b8e186"
            ],
            [
             0.8,
             "#7fbc41"
            ],
            [
             0.9,
             "#4d9221"
            ],
            [
             1,
             "#276419"
            ]
           ],
           "sequential": [
            [
             0,
             "#0d0887"
            ],
            [
             0.1111111111111111,
             "#46039f"
            ],
            [
             0.2222222222222222,
             "#7201a8"
            ],
            [
             0.3333333333333333,
             "#9c179e"
            ],
            [
             0.4444444444444444,
             "#bd3786"
            ],
            [
             0.5555555555555556,
             "#d8576b"
            ],
            [
             0.6666666666666666,
             "#ed7953"
            ],
            [
             0.7777777777777778,
             "#fb9f3a"
            ],
            [
             0.8888888888888888,
             "#fdca26"
            ],
            [
             1,
             "#f0f921"
            ]
           ],
           "sequentialminus": [
            [
             0,
             "#0d0887"
            ],
            [
             0.1111111111111111,
             "#46039f"
            ],
            [
             0.2222222222222222,
             "#7201a8"
            ],
            [
             0.3333333333333333,
             "#9c179e"
            ],
            [
             0.4444444444444444,
             "#bd3786"
            ],
            [
             0.5555555555555556,
             "#d8576b"
            ],
            [
             0.6666666666666666,
             "#ed7953"
            ],
            [
             0.7777777777777778,
             "#fb9f3a"
            ],
            [
             0.8888888888888888,
             "#fdca26"
            ],
            [
             1,
             "#f0f921"
            ]
           ]
          },
          "colorway": [
           "#636efa",
           "#EF553B",
           "#00cc96",
           "#ab63fa",
           "#FFA15A",
           "#19d3f3",
           "#FF6692",
           "#B6E880",
           "#FF97FF",
           "#FECB52"
          ],
          "font": {
           "color": "#2a3f5f"
          },
          "geo": {
           "bgcolor": "white",
           "lakecolor": "white",
           "landcolor": "#E5ECF6",
           "showlakes": true,
           "showland": true,
           "subunitcolor": "white"
          },
          "hoverlabel": {
           "align": "left"
          },
          "hovermode": "closest",
          "mapbox": {
           "style": "light"
          },
          "paper_bgcolor": "white",
          "plot_bgcolor": "#E5ECF6",
          "polar": {
           "angularaxis": {
            "gridcolor": "white",
            "linecolor": "white",
            "ticks": ""
           },
           "bgcolor": "#E5ECF6",
           "radialaxis": {
            "gridcolor": "white",
            "linecolor": "white",
            "ticks": ""
           }
          },
          "scene": {
           "xaxis": {
            "backgroundcolor": "#E5ECF6",
            "gridcolor": "white",
            "gridwidth": 2,
            "linecolor": "white",
            "showbackground": true,
            "ticks": "",
            "zerolinecolor": "white"
           },
           "yaxis": {
            "backgroundcolor": "#E5ECF6",
            "gridcolor": "white",
            "gridwidth": 2,
            "linecolor": "white",
            "showbackground": true,
            "ticks": "",
            "zerolinecolor": "white"
           },
           "zaxis": {
            "backgroundcolor": "#E5ECF6",
            "gridcolor": "white",
            "gridwidth": 2,
            "linecolor": "white",
            "showbackground": true,
            "ticks": "",
            "zerolinecolor": "white"
           }
          },
          "shapedefaults": {
           "line": {
            "color": "#2a3f5f"
           }
          },
          "ternary": {
           "aaxis": {
            "gridcolor": "white",
            "linecolor": "white",
            "ticks": ""
           },
           "baxis": {
            "gridcolor": "white",
            "linecolor": "white",
            "ticks": ""
           },
           "bgcolor": "#E5ECF6",
           "caxis": {
            "gridcolor": "white",
            "linecolor": "white",
            "ticks": ""
           }
          },
          "title": {
           "x": 0.05
          },
          "xaxis": {
           "automargin": true,
           "gridcolor": "white",
           "linecolor": "white",
           "ticks": "",
           "title": {
            "standoff": 15
           },
           "zerolinecolor": "white",
           "zerolinewidth": 2
          },
          "yaxis": {
           "automargin": true,
           "gridcolor": "white",
           "linecolor": "white",
           "ticks": "",
           "title": {
            "standoff": 15
           },
           "zerolinecolor": "white",
           "zerolinewidth": 2
          }
         }
        },
        "title": {
         "font": {
          "color": "#4D5663"
         }
        },
        "xaxis": {
         "anchor": "y",
         "autorange": true,
         "domain": [
          0,
          0.2125
         ],
         "gridcolor": "#E1E5ED",
         "range": [
          -4,
          3
         ],
         "showgrid": false,
         "tickfont": {
          "color": "#4D5663"
         },
         "title": {
          "font": {
           "color": "#4D5663"
          },
          "text": ""
         },
         "type": "linear",
         "zerolinecolor": "#E1E5ED"
        },
        "xaxis10": {
         "anchor": "y10",
         "autorange": true,
         "domain": [
          0.2625,
          0.475
         ],
         "gridcolor": "#E1E5ED",
         "range": [
          -2.6451316284947777,
          2.9223386864401557
         ],
         "showgrid": false,
         "tickfont": {
          "color": "#4D5663"
         },
         "title": {
          "font": {
           "color": "#4D5663"
          },
          "text": ""
         },
         "type": "linear",
         "zerolinecolor": "#E1E5ED"
        },
        "xaxis11": {
         "anchor": "y11",
         "autorange": true,
         "domain": [
          0.525,
          0.7375
         ],
         "gridcolor": "#E1E5ED",
         "range": [
          -3,
          2.5
         ],
         "showgrid": false,
         "tickfont": {
          "color": "#4D5663"
         },
         "title": {
          "font": {
           "color": "#4D5663"
          },
          "text": ""
         },
         "type": "linear",
         "zerolinecolor": "#E1E5ED"
        },
        "xaxis12": {
         "anchor": "y12",
         "autorange": true,
         "domain": [
          0.7875,
          1
         ],
         "gridcolor": "#E1E5ED",
         "range": [
          -2.347081885424067,
          2.8067614623261883
         ],
         "showgrid": false,
         "tickfont": {
          "color": "#4D5663"
         },
         "title": {
          "font": {
           "color": "#4D5663"
          },
          "text": ""
         },
         "type": "linear",
         "zerolinecolor": "#E1E5ED"
        },
        "xaxis13": {
         "anchor": "y13",
         "autorange": true,
         "domain": [
          0,
          0.2125
         ],
         "gridcolor": "#E1E5ED",
         "range": [
          -3.5089705196530256,
          3.41192392069218
         ],
         "showgrid": false,
         "tickfont": {
          "color": "#4D5663"
         },
         "title": {
          "font": {
           "color": "#4D5663"
          },
          "text": ""
         },
         "type": "linear",
         "zerolinecolor": "#E1E5ED"
        },
        "xaxis14": {
         "anchor": "y14",
         "autorange": true,
         "domain": [
          0.2625,
          0.475
         ],
         "gridcolor": "#E1E5ED",
         "range": [
          -2.6451316284947777,
          2.9223386864401557
         ],
         "showgrid": false,
         "tickfont": {
          "color": "#4D5663"
         },
         "title": {
          "font": {
           "color": "#4D5663"
          },
          "text": ""
         },
         "type": "linear",
         "zerolinecolor": "#E1E5ED"
        },
        "xaxis15": {
         "anchor": "y15",
         "autorange": true,
         "domain": [
          0.525,
          0.7375
         ],
         "gridcolor": "#E1E5ED",
         "range": [
          -2.917817213907284,
          2.7798384581127453
         ],
         "showgrid": false,
         "tickfont": {
          "color": "#4D5663"
         },
         "title": {
          "font": {
           "color": "#4D5663"
          },
          "text": ""
         },
         "type": "linear",
         "zerolinecolor": "#E1E5ED"
        },
        "xaxis16": {
         "anchor": "y16",
         "autorange": true,
         "domain": [
          0.7875,
          1
         ],
         "gridcolor": "#E1E5ED",
         "range": [
          -2.5,
          2.5
         ],
         "showgrid": false,
         "tickfont": {
          "color": "#4D5663"
         },
         "title": {
          "font": {
           "color": "#4D5663"
          },
          "text": ""
         },
         "type": "linear",
         "zerolinecolor": "#E1E5ED"
        },
        "xaxis2": {
         "anchor": "y2",
         "autorange": true,
         "domain": [
          0.2625,
          0.475
         ],
         "gridcolor": "#E1E5ED",
         "range": [
          -2.6451316284947777,
          2.9223386864401557
         ],
         "showgrid": false,
         "tickfont": {
          "color": "#4D5663"
         },
         "title": {
          "font": {
           "color": "#4D5663"
          },
          "text": ""
         },
         "type": "linear",
         "zerolinecolor": "#E1E5ED"
        },
        "xaxis3": {
         "anchor": "y3",
         "autorange": true,
         "domain": [
          0.525,
          0.7375
         ],
         "gridcolor": "#E1E5ED",
         "range": [
          -2.917817213907284,
          2.7798384581127453
         ],
         "showgrid": false,
         "tickfont": {
          "color": "#4D5663"
         },
         "title": {
          "font": {
           "color": "#4D5663"
          },
          "text": ""
         },
         "type": "linear",
         "zerolinecolor": "#E1E5ED"
        },
        "xaxis4": {
         "anchor": "y4",
         "autorange": true,
         "domain": [
          0.7875,
          1
         ],
         "gridcolor": "#E1E5ED",
         "range": [
          -2.347081885424067,
          2.8067614623261883
         ],
         "showgrid": false,
         "tickfont": {
          "color": "#4D5663"
         },
         "title": {
          "font": {
           "color": "#4D5663"
          },
          "text": ""
         },
         "type": "linear",
         "zerolinecolor": "#E1E5ED"
        },
        "xaxis5": {
         "anchor": "y5",
         "autorange": true,
         "domain": [
          0,
          0.2125
         ],
         "gridcolor": "#E1E5ED",
         "range": [
          -3.5089705196530256,
          3.41192392069218
         ],
         "showgrid": false,
         "tickfont": {
          "color": "#4D5663"
         },
         "title": {
          "font": {
           "color": "#4D5663"
          },
          "text": ""
         },
         "type": "linear",
         "zerolinecolor": "#E1E5ED"
        },
        "xaxis6": {
         "anchor": "y6",
         "autorange": true,
         "domain": [
          0.2625,
          0.475
         ],
         "gridcolor": "#E1E5ED",
         "range": [
          -2.5,
          3
         ],
         "showgrid": false,
         "tickfont": {
          "color": "#4D5663"
         },
         "title": {
          "font": {
           "color": "#4D5663"
          },
          "text": ""
         },
         "type": "linear",
         "zerolinecolor": "#E1E5ED"
        },
        "xaxis7": {
         "anchor": "y7",
         "autorange": true,
         "domain": [
          0.525,
          0.7375
         ],
         "gridcolor": "#E1E5ED",
         "range": [
          -2.917817213907284,
          2.7798384581127453
         ],
         "showgrid": false,
         "tickfont": {
          "color": "#4D5663"
         },
         "title": {
          "font": {
           "color": "#4D5663"
          },
          "text": ""
         },
         "type": "linear",
         "zerolinecolor": "#E1E5ED"
        },
        "xaxis8": {
         "anchor": "y8",
         "autorange": true,
         "domain": [
          0.7875,
          1
         ],
         "gridcolor": "#E1E5ED",
         "range": [
          -2.347081885424067,
          2.8067614623261883
         ],
         "showgrid": false,
         "tickfont": {
          "color": "#4D5663"
         },
         "title": {
          "font": {
           "color": "#4D5663"
          },
          "text": ""
         },
         "type": "linear",
         "zerolinecolor": "#E1E5ED"
        },
        "xaxis9": {
         "anchor": "y9",
         "autorange": true,
         "domain": [
          0,
          0.2125
         ],
         "gridcolor": "#E1E5ED",
         "range": [
          -3.5089705196530256,
          3.41192392069218
         ],
         "showgrid": false,
         "tickfont": {
          "color": "#4D5663"
         },
         "title": {
          "font": {
           "color": "#4D5663"
          },
          "text": ""
         },
         "type": "linear",
         "zerolinecolor": "#E1E5ED"
        },
        "yaxis": {
         "anchor": "x",
         "autorange": true,
         "domain": [
          0.8025,
          1
         ],
         "gridcolor": "#E1E5ED",
         "range": [
          0,
          36.8421052631579
         ],
         "showgrid": false,
         "tickfont": {
          "color": "#4D5663"
         },
         "title": {
          "font": {
           "color": "#4D5663"
          },
          "text": ""
         },
         "zerolinecolor": "#E1E5ED"
        },
        "yaxis10": {
         "anchor": "x10",
         "autorange": true,
         "domain": [
          0.2675,
          0.465
         ],
         "gridcolor": "#E1E5ED",
         "range": [
          -3.4587122861598445,
          3.320733530365306
         ],
         "showgrid": false,
         "tickfont": {
          "color": "#4D5663"
         },
         "title": {
          "font": {
           "color": "#4D5663"
          },
          "text": ""
         },
         "type": "linear",
         "zerolinecolor": "#E1E5ED"
        },
        "yaxis11": {
         "anchor": "x11",
         "autorange": true,
         "domain": [
          0.2675,
          0.465
         ],
         "gridcolor": "#E1E5ED",
         "range": [
          0,
          25.263157894736842
         ],
         "showgrid": false,
         "tickfont": {
          "color": "#4D5663"
         },
         "title": {
          "font": {
           "color": "#4D5663"
          },
          "text": ""
         },
         "zerolinecolor": "#E1E5ED"
        },
        "yaxis12": {
         "anchor": "x12",
         "autorange": true,
         "domain": [
          0.2675,
          0.465
         ],
         "gridcolor": "#E1E5ED",
         "range": [
          -3.4587122861598445,
          3.320733530365306
         ],
         "showgrid": false,
         "tickfont": {
          "color": "#4D5663"
         },
         "title": {
          "font": {
           "color": "#4D5663"
          },
          "text": ""
         },
         "type": "linear",
         "zerolinecolor": "#E1E5ED"
        },
        "yaxis13": {
         "anchor": "x13",
         "autorange": true,
         "domain": [
          0,
          0.1975
         ],
         "gridcolor": "#E1E5ED",
         "range": [
          -2.8363512675051035,
          3.2960308444072246
         ],
         "showgrid": false,
         "tickfont": {
          "color": "#4D5663"
         },
         "title": {
          "font": {
           "color": "#4D5663"
          },
          "text": ""
         },
         "type": "linear",
         "zerolinecolor": "#E1E5ED"
        },
        "yaxis14": {
         "anchor": "x14",
         "autorange": true,
         "domain": [
          0,
          0.1975
         ],
         "gridcolor": "#E1E5ED",
         "range": [
          -2.8363512675051035,
          3.2960308444072246
         ],
         "showgrid": false,
         "tickfont": {
          "color": "#4D5663"
         },
         "title": {
          "font": {
           "color": "#4D5663"
          },
          "text": ""
         },
         "type": "linear",
         "zerolinecolor": "#E1E5ED"
        },
        "yaxis15": {
         "anchor": "x15",
         "autorange": true,
         "domain": [
          0,
          0.1975
         ],
         "gridcolor": "#E1E5ED",
         "range": [
          -2.8363512675051035,
          3.2960308444072246
         ],
         "showgrid": false,
         "tickfont": {
          "color": "#4D5663"
         },
         "title": {
          "font": {
           "color": "#4D5663"
          },
          "text": ""
         },
         "type": "linear",
         "zerolinecolor": "#E1E5ED"
        },
        "yaxis16": {
         "anchor": "x16",
         "autorange": true,
         "domain": [
          0,
          0.1975
         ],
         "gridcolor": "#E1E5ED",
         "range": [
          0,
          22.105263157894736
         ],
         "showgrid": false,
         "tickfont": {
          "color": "#4D5663"
         },
         "title": {
          "font": {
           "color": "#4D5663"
          },
          "text": ""
         },
         "zerolinecolor": "#E1E5ED"
        },
        "yaxis2": {
         "anchor": "x2",
         "autorange": true,
         "domain": [
          0.8025,
          1
         ],
         "gridcolor": "#E1E5ED",
         "range": [
          -4.165991216208327,
          4.068944617247482
         ],
         "showgrid": false,
         "tickfont": {
          "color": "#4D5663"
         },
         "title": {
          "font": {
           "color": "#4D5663"
          },
          "text": ""
         },
         "type": "linear",
         "zerolinecolor": "#E1E5ED"
        },
        "yaxis3": {
         "anchor": "x3",
         "autorange": true,
         "domain": [
          0.8025,
          1
         ],
         "gridcolor": "#E1E5ED",
         "range": [
          -4.165991216208327,
          4.068944617247482
         ],
         "showgrid": false,
         "tickfont": {
          "color": "#4D5663"
         },
         "title": {
          "font": {
           "color": "#4D5663"
          },
          "text": ""
         },
         "type": "linear",
         "zerolinecolor": "#E1E5ED"
        },
        "yaxis4": {
         "anchor": "x4",
         "autorange": true,
         "domain": [
          0.8025,
          1
         ],
         "gridcolor": "#E1E5ED",
         "range": [
          -4.165991216208327,
          4.068944617247482
         ],
         "showgrid": false,
         "tickfont": {
          "color": "#4D5663"
         },
         "title": {
          "font": {
           "color": "#4D5663"
          },
          "text": ""
         },
         "type": "linear",
         "zerolinecolor": "#E1E5ED"
        },
        "yaxis5": {
         "anchor": "x5",
         "autorange": true,
         "domain": [
          0.535,
          0.7325
         ],
         "gridcolor": "#E1E5ED",
         "range": [
          -3.173667825065789,
          3.450874883011167
         ],
         "showgrid": false,
         "tickfont": {
          "color": "#4D5663"
         },
         "title": {
          "font": {
           "color": "#4D5663"
          },
          "text": ""
         },
         "type": "linear",
         "zerolinecolor": "#E1E5ED"
        },
        "yaxis6": {
         "anchor": "x6",
         "autorange": true,
         "domain": [
          0.535,
          0.7325
         ],
         "gridcolor": "#E1E5ED",
         "range": [
          0,
          28.42105263157895
         ],
         "showgrid": false,
         "tickfont": {
          "color": "#4D5663"
         },
         "title": {
          "font": {
           "color": "#4D5663"
          },
          "text": ""
         },
         "zerolinecolor": "#E1E5ED"
        },
        "yaxis7": {
         "anchor": "x7",
         "autorange": true,
         "domain": [
          0.535,
          0.7325
         ],
         "gridcolor": "#E1E5ED",
         "range": [
          -3.173667825065789,
          3.450874883011167
         ],
         "showgrid": false,
         "tickfont": {
          "color": "#4D5663"
         },
         "title": {
          "font": {
           "color": "#4D5663"
          },
          "text": ""
         },
         "type": "linear",
         "zerolinecolor": "#E1E5ED"
        },
        "yaxis8": {
         "anchor": "x8",
         "autorange": true,
         "domain": [
          0.535,
          0.7325
         ],
         "gridcolor": "#E1E5ED",
         "range": [
          -3.173667825065789,
          3.450874883011167
         ],
         "showgrid": false,
         "tickfont": {
          "color": "#4D5663"
         },
         "title": {
          "font": {
           "color": "#4D5663"
          },
          "text": ""
         },
         "type": "linear",
         "zerolinecolor": "#E1E5ED"
        },
        "yaxis9": {
         "anchor": "x9",
         "autorange": true,
         "domain": [
          0.2675,
          0.465
         ],
         "gridcolor": "#E1E5ED",
         "range": [
          -3.4587122861598445,
          3.320733530365306
         ],
         "showgrid": false,
         "tickfont": {
          "color": "#4D5663"
         },
         "title": {
          "font": {
           "color": "#4D5663"
          },
          "text": ""
         },
         "type": "linear",
         "zerolinecolor": "#E1E5ED"
        }
       }
      },
      "image/png": "[encoded data removed]",
      "text/html": [
       "<div>                            <div id=\"de93f8a4-a14e-438f-8fb7-5171715223bc\" class=\"plotly-graph-div\" style=\"height:525px; width:100%;\"></div>            <script type=\"text/javascript\">                require([\"plotly\"], function(Plotly) {                    window.PLOTLYENV=window.PLOTLYENV || {};\n",
       "                    window.PLOTLYENV.BASE_URL='https://plot.ly';                                    if (document.getElementById(\"de93f8a4-a14e-438f-8fb7-5171715223bc\")) {                    Plotly.newPlot(                        \"de93f8a4-a14e-438f-8fb7-5171715223bc\",                        [{\"histfunc\":\"count\",\"histnorm\":\"\",\"marker\":{\"color\":\"rgba(255, 153, 51, 1.0)\",\"line\":{\"color\":\"#4D5663\",\"width\":1.3}},\"name\":\"A\",\"nbinsx\":10,\"opacity\":0.8,\"orientation\":\"v\",\"x\":[0.8102783342500975,-0.6253496339817639,-2.1243974907659204,0.720743963340369,-0.36064835386640587,0.5759738002613626,-0.5408838512778968,0.9063815011325167,0.14367225921632368,0.00026148660293838066,0.8467757610440696,1.0618325092089878,0.6601824163443513,-0.48520520012482693,0.16871597616384307,1.9223052368503024,0.9388082883234752,0.5088942209079874,-0.04230165123367031,-0.7526132624711495,-0.415041342875489,-0.793150586675246,-1.3157120016215045,-0.3129688528150545,-0.33178453177328393,0.6738932217934391,-0.20852567734951294,-0.5355302645486091,0.31758960828690674,-1.0782016494131208,-0.4943059018241482,2.3595732177828745,-0.8784700471766782,-1.566200134991812,2.371764508822633,0.4656996839084545,-0.5979722939647736,1.2026987046903905,-0.5774282822965877,-1.1912118849000355,1.1985479855522592,0.2620589711638922,-0.13955147837889778,2.006276192685832,-3.0593131305730212,-0.3135204450592635,0.49172621192557314,0.05953014894188452,0.5365399611316989,0.4195142732653403,-0.6770591662178267,-0.2436721827521768,1.6485546212968694,1.0777191974521207,-0.8235713648686525,1.1428728019017498,-1.0679338620343783,0.24667409787800906,-1.7012725976148813,0.3900854386786318,-0.0690631840386189,2.4425043139920115,-1.1018934707019725,-1.0725826387263075,0.5906422575776665,0.9317450123551313,-1.1094945245226584,-0.13924398333838528,0.6423994151056848,0.9343018357089617,-0.12462754521955423,-0.4534461912534964,0.3736980081177701,0.17323250427614217,0.1366559450676414,-1.5033057674814936,-1.5672884375220335,-0.6571575852753471,-0.6395666738075189,-0.048474604736042155,-0.8283140638768075,0.5051085347510471,-0.07435138461353441,0.7054559130856934,-0.4452511251612592,-1.7403303648604576,-0.8504417681382134,0.10098301367735862,2.9622665316121757,1.0923483440863093,1.7927479468119651,-1.311470384073283,0.22374389200951048,-0.530987810356002,0.11747030791334216,-1.6590230098865948,0.5041533225812629,-0.12948004730523324,0.658166074407969,-1.0808986418415536],\"xaxis\":\"x\",\"yaxis\":\"y\",\"type\":\"histogram\"},{\"line\":{\"color\":\"rgba(128, 128, 128, 1.0)\",\"dash\":\"solid\",\"shape\":\"linear\",\"width\":1.3},\"marker\":{\"size\":2,\"symbol\":\"circle\"},\"mode\":\"markers\",\"name\":\"A\",\"text\":\"\",\"x\":[-0.5867832721021545,-0.07652741634221236,0.2364293046163907,-0.6144816203385531,0.012973345926433438,0.140602345064779,-1.0030025953938253,-1.502643397426585,0.5896630453075187,-0.21859864301934573,2.5606146076852134,-0.18445397195904925,0.14404944732764993,-0.176190196082285,-0.1814650597022292,-0.6035618716856341,-0.2698398063907249,-1.3758116421192002,-0.2515990561051834,-0.1699255313315551,1.105332227997531,-0.2414537899145735,-0.43690638271891863,-0.5565581304346296,0.6843491271174079,1.1144617107002537,-0.06617478605366806,0.6171150057998764,0.161975916590861,-0.8025708642901519,-1.5703565393095944,0.0263166711734827,-1.3396342312495948,0.31922014067344723,0.26769759042412405,0.8362426707322204,-0.16595514184267424,-1.5533523988763758,0.9483515326864449,0.10852470942154041,0.32906720227944375,-1.3325573708112333,-1.9645959663511439,-0.16802540689860643,0.13804899488468952,0.7199032526152568,-0.21241232879081512,0.07330227748986475,1.0630669830149864,-0.3197084203991881,-1.1359500413622619,-0.9940157702582891,0.12171307375231409,0.4592175010615597,-1.6271043605590056,0.09926530472378069,-0.8497057898196344,-0.096366003868344,-0.29323986028178434,-1.018009352091211,-1.5515627050638126,-0.31734504259472124,-0.4122652479440936,-0.3275919864238932,1.8995716489365664,-1.150485762145562,0.8844241629491068,-0.2976620794221025,0.4561009509196521,2.0577189539348164,-1.702448142151754,2.341170674518494,0.21098368350967794,1.2154631421327593,-1.9577382001306542,0.17362248923315385,-0.003360407917770353,-0.1523412451921134,-0.2530497749244438,0.16256186797090352,1.9642697933484992,0.018391126687528722,0.46386388030333103,0.7217231778212309,-0.17967146823749583,-0.6188632969910778,0.49843235794522917,-2.2834075497398354,0.5075191162307787,-0.3979350596840527,1.808595380141962,1.4478435911085978,1.9847189806152126,-0.6006060868037226,-0.11305146669809568,-1.9931225359407287,1.1157025234863016,-1.4374819486724126,-0.5043842729131363,1.037573710316617],\"xaxis\":\"x2\",\"y\":[0.8102783342500975,-0.6253496339817639,-2.1243974907659204,0.720743963340369,-0.36064835386640587,0.5759738002613626,-0.5408838512778968,0.9063815011325167,0.14367225921632368,0.00026148660293838066,0.8467757610440696,1.0618325092089878,0.6601824163443513,-0.48520520012482693,0.16871597616384307,1.9223052368503024,0.9388082883234752,0.5088942209079874,-0.04230165123367031,-0.7526132624711495,-0.415041342875489,-0.793150586675246,-1.3157120016215045,-0.3129688528150545,-0.33178453177328393,0.6738932217934391,-0.20852567734951294,-0.5355302645486091,0.31758960828690674,-1.0782016494131208,-0.4943059018241482,2.3595732177828745,-0.8784700471766782,-1.566200134991812,2.371764508822633,0.4656996839084545,-0.5979722939647736,1.2026987046903905,-0.5774282822965877,-1.1912118849000355,1.1985479855522592,0.2620589711638922,-0.13955147837889778,2.006276192685832,-3.0593131305730212,-0.3135204450592635,0.49172621192557314,0.05953014894188452,0.5365399611316989,0.4195142732653403,-0.6770591662178267,-0.2436721827521768,1.6485546212968694,1.0777191974521207,-0.8235713648686525,1.1428728019017498,-1.0679338620343783,0.24667409787800906,-1.7012725976148813,0.3900854386786318,-0.0690631840386189,2.4425043139920115,-1.1018934707019725,-1.0725826387263075,0.5906422575776665,0.9317450123551313,-1.1094945245226584,-0.13924398333838528,0.6423994151056848,0.9343018357089617,-0.12462754521955423,-0.4534461912534964,0.3736980081177701,0.17323250427614217,0.1366559450676414,-1.5033057674814936,-1.5672884375220335,-0.6571575852753471,-0.6395666738075189,-0.048474604736042155,-0.8283140638768075,0.5051085347510471,-0.07435138461353441,0.7054559130856934,-0.4452511251612592,-1.7403303648604576,-0.8504417681382134,0.10098301367735862,2.9622665316121757,1.0923483440863093,1.7927479468119651,-1.311470384073283,0.22374389200951048,-0.530987810356002,0.11747030791334216,-1.6590230098865948,0.5041533225812629,-0.12948004730523324,0.658166074407969,-1.0808986418415536],\"yaxis\":\"y2\",\"type\":\"scatter\"},{\"line\":{\"color\":\"rgba(128, 128, 128, 1.0)\",\"dash\":\"solid\",\"shape\":\"linear\",\"width\":1.3},\"marker\":{\"size\":2,\"symbol\":\"circle\"},\"mode\":\"markers\",\"name\":\"A\",\"text\":\"\",\"x\":[0.28351922773921484,1.046079338886153,2.0835449174959577,-0.2959837142159095,1.6046489938849664,2.195836604642892,0.8476703120127796,-2.547634863137372,-0.054712216396222174,2.1329888225258657,-0.059495471584225815,1.0027270533746517,0.46300835233025445,0.6187532585825445,-0.2570609512119834,1.4147212529008464,-0.062449210845311465,-1.510290511600925,0.7915514510460175,0.23950238405602578,-0.5557361756236054,0.8098609998351721,-0.0642606348908341,-0.3615179242381196,0.5436390375193604,0.3037806166888286,-0.40599365076255306,-0.23959034673875698,-0.4371248110233738,-1.0371496615510956,-1.623515091941615,1.8605635822483575,-1.5979290018774897,0.42438996847438776,0.807606192078492,0.7409034648080791,0.20019373318150901,-0.11429639960635761,1.8490774305091582,1.5763772367578217,0.6748751476562145,-1.518245752560392,0.6315619024258422,0.2611749777840262,0.28096625105031553,0.31577453740170214,0.05330631332221621,0.5170065923129699,0.21998424674059666,-0.48562509150146704,-0.04152686380702287,0.35336271123789803,0.43791241215896154,0.4634386398511038,0.4557592036672411,-0.8686612907647687,1.8954925814928667,1.6666710998220187,-0.19855340511356662,-0.6244916540652142,0.11233984574108362,0.6573799337069568,-0.27734125406271254,1.1970696482493897,-0.005662538042132438,1.5307851341353675,0.6149973143148547,-0.33701918074932347,-0.3108753143191812,0.289697682560031,1.3484456553144994,0.1298085780557541,-0.06992415209331283,-1.4199493782632415,0.815984765622038,0.327747728667979,-0.5902645821663245,-0.018765691119965087,-0.9683062677574454,-0.7425838324089256,0.14431852678860446,1.6422290164330002,0.01198419697002567,-2.0889120664528815,0.4131738258812024,-0.6361816130078658,-0.2571632252233618,0.3168497679233199,-0.6404558672207877,0.8338503060179236,0.4959482400434411,0.9037280611012579,0.8038194261550938,-1.0692955593268663,-0.5481924534934708,1.415618063415662,2.4096561073428333,-1.1275883694024578,-0.5422482986699697,1.019019392943807],\"xaxis\":\"x3\",\"y\":[0.8102783342500975,-0.6253496339817639,-2.1243974907659204,0.720743963340369,-0.36064835386640587,0.5759738002613626,-0.5408838512778968,0.9063815011325167,0.14367225921632368,0.00026148660293838066,0.8467757610440696,1.0618325092089878,0.6601824163443513,-0.48520520012482693,0.16871597616384307,1.9223052368503024,0.9388082883234752,0.5088942209079874,-0.04230165123367031,-0.7526132624711495,-0.415041342875489,-0.793150586675246,-1.3157120016215045,-0.3129688528150545,-0.33178453177328393,0.6738932217934391,-0.20852567734951294,-0.5355302645486091,0.31758960828690674,-1.0782016494131208,-0.4943059018241482,2.3595732177828745,-0.8784700471766782,-1.566200134991812,2.371764508822633,0.4656996839084545,-0.5979722939647736,1.2026987046903905,-0.5774282822965877,-1.1912118849000355,1.1985479855522592,0.2620589711638922,-0.13955147837889778,2.006276192685832,-3.0593131305730212,-0.3135204450592635,0.49172621192557314,0.05953014894188452,0.5365399611316989,0.4195142732653403,-0.6770591662178267,-0.2436721827521768,1.6485546212968694,1.0777191974521207,-0.8235713648686525,1.1428728019017498,-1.0679338620343783,0.24667409787800906,-1.7012725976148813,0.3900854386786318,-0.0690631840386189,2.4425043139920115,-1.1018934707019725,-1.0725826387263075,0.5906422575776665,0.9317450123551313,-1.1094945245226584,-0.13924398333838528,0.6423994151056848,0.9343018357089617,-0.12462754521955423,-0.4534461912534964,0.3736980081177701,0.17323250427614217,0.1366559450676414,-1.5033057674814936,-1.5672884375220335,-0.6571575852753471,-0.6395666738075189,-0.048474604736042155,-0.8283140638768075,0.5051085347510471,-0.07435138461353441,0.7054559130856934,-0.4452511251612592,-1.7403303648604576,-0.8504417681382134,0.10098301367735862,2.9622665316121757,1.0923483440863093,1.7927479468119651,-1.311470384073283,0.22374389200951048,-0.530987810356002,0.11747030791334216,-1.6590230098865948,0.5041533225812629,-0.12948004730523324,0.658166074407969,-1.0808986418415536],\"yaxis\":\"y3\",\"type\":\"scatter\"},{\"line\":{\"color\":\"rgba(128, 128, 128, 1.0)\",\"dash\":\"solid\",\"shape\":\"linear\",\"width\":1.3},\"marker\":{\"size\":2,\"symbol\":\"circle\"},\"mode\":\"markers\",\"name\":\"A\",\"text\":\"\",\"x\":[1.099922373835138,0.2626572007696351,0.6809920120680077,0.37568407155213374,-0.04864881787822194,-0.15963142619448523,1.8173178561527665,1.5041195694376848,2.05487800502223,-0.12444346809989125,-1.6307883976081554,-1.6464784995276835,1.4171575806942058,0.5639289745490836,1.7095359980145544,1.3602531934702955,0.3269527230867582,0.0962032854064902,-0.45256047949482786,-0.5281708916340596,0.4227948741861683,0.9280536909798838,-0.09479959883794437,-1.6608330524519894,-0.6502396062774366,1.6849774649383609,-0.23244221019765693,0.2412117981760023,0.26308115933206583,-0.05934572352369715,-0.9279862996400814,-0.45450798761106453,2.2239840681385092,-1.0204245595011332,-0.44008415350396585,-1.7332884312994834,1.2330866954107442,-1.755421872197194,2.3383790326210687,0.22412552553348905,0.7426698507509121,0.7991221908818573,-0.26933653499043236,0.42254507732436375,1.231213801855879,-1.627001480328027,-0.021531903646123327,-0.8089248875165332,0.048405150235370814,-1.4954076911569576,1.0611565413171433,0.9307030406188339,0.12610174945894356,0.19156395186408465,0.3259755708201364,1.9806336100085007,-0.31701502517410435,0.09801311213732218,-0.8820221079518904,-0.30193543751284246,0.12639965464310587,0.5823710345422258,1.2061216199301237,0.7745830379588147,1.331827185818298,1.5509431753167309,-0.568727003681773,-0.7256118493722932,1.7945026676551865,-0.7741373899581679,0.9454067577115647,1.451698489595251,-0.7641265768049319,-1.2493657381872179,1.39305373407263,0.8803628302029253,-0.11303504106680408,-0.12660893520742172,-0.27249779574034855,-0.10297221383786716,-0.02062883317220425,0.7200439778651814,0.13938792514308868,-1.2325145192835052,0.953490759422294,-2.0122315617481092,-0.4895342823299396,-1.3909466622535194,0.7380253108900534,0.6338021472951514,0.5938533715232079,0.24744804199013162,-0.23707522924646277,-0.3102068463632845,0.6565122117080727,2.4719111386502304,0.9428754947558217,0.36462123436155686,0.4890263356037747,0.4608907840779743],\"xaxis\":\"x4\",\"y\":[0.8102783342500975,-0.6253496339817639,-2.1243974907659204,0.720743963340369,-0.36064835386640587,0.5759738002613626,-0.5408838512778968,0.9063815011325167,0.14367225921632368,0.00026148660293838066,0.8467757610440696,1.0618325092089878,0.6601824163443513,-0.48520520012482693,0.16871597616384307,1.9223052368503024,0.9388082883234752,0.5088942209079874,-0.04230165123367031,-0.7526132624711495,-0.415041342875489,-0.793150586675246,-1.3157120016215045,-0.3129688528150545,-0.33178453177328393,0.6738932217934391,-0.20852567734951294,-0.5355302645486091,0.31758960828690674,-1.0782016494131208,-0.4943059018241482,2.3595732177828745,-0.8784700471766782,-1.566200134991812,2.371764508822633,0.4656996839084545,-0.5979722939647736,1.2026987046903905,-0.5774282822965877,-1.1912118849000355,1.1985479855522592,0.2620589711638922,-0.13955147837889778,2.006276192685832,-3.0593131305730212,-0.3135204450592635,0.49172621192557314,0.05953014894188452,0.5365399611316989,0.4195142732653403,-0.6770591662178267,-0.2436721827521768,1.6485546212968694,1.0777191974521207,-0.8235713648686525,1.1428728019017498,-1.0679338620343783,0.24667409787800906,-1.7012725976148813,0.3900854386786318,-0.0690631840386189,2.4425043139920115,-1.1018934707019725,-1.0725826387263075,0.5906422575776665,0.9317450123551313,-1.1094945245226584,-0.13924398333838528,0.6423994151056848,0.9343018357089617,-0.12462754521955423,-0.4534461912534964,0.3736980081177701,0.17323250427614217,0.1366559450676414,-1.5033057674814936,-1.5672884375220335,-0.6571575852753471,-0.6395666738075189,-0.048474604736042155,-0.8283140638768075,0.5051085347510471,-0.07435138461353441,0.7054559130856934,-0.4452511251612592,-1.7403303648604576,-0.8504417681382134,0.10098301367735862,2.9622665316121757,1.0923483440863093,1.7927479468119651,-1.311470384073283,0.22374389200951048,-0.530987810356002,0.11747030791334216,-1.6590230098865948,0.5041533225812629,-0.12948004730523324,0.658166074407969,-1.0808986418415536],\"yaxis\":\"y4\",\"type\":\"scatter\"},{\"line\":{\"color\":\"rgba(128, 128, 128, 1.0)\",\"dash\":\"solid\",\"shape\":\"linear\",\"width\":1.3},\"marker\":{\"size\":2,\"symbol\":\"circle\"},\"mode\":\"markers\",\"name\":\"B\",\"text\":\"\",\"x\":[0.8102783342500975,-0.6253496339817639,-2.1243974907659204,0.720743963340369,-0.36064835386640587,0.5759738002613626,-0.5408838512778968,0.9063815011325167,0.14367225921632368,0.00026148660293838066,0.8467757610440696,1.0618325092089878,0.6601824163443513,-0.48520520012482693,0.16871597616384307,1.9223052368503024,0.9388082883234752,0.5088942209079874,-0.04230165123367031,-0.7526132624711495,-0.415041342875489,-0.793150586675246,-1.3157120016215045,-0.3129688528150545,-0.33178453177328393,0.6738932217934391,-0.20852567734951294,-0.5355302645486091,0.31758960828690674,-1.0782016494131208,-0.4943059018241482,2.3595732177828745,-0.8784700471766782,-1.566200134991812,2.371764508822633,0.4656996839084545,-0.5979722939647736,1.2026987046903905,-0.5774282822965877,-1.1912118849000355,1.1985479855522592,0.2620589711638922,-0.13955147837889778,2.006276192685832,-3.0593131305730212,-0.3135204450592635,0.49172621192557314,0.05953014894188452,0.5365399611316989,0.4195142732653403,-0.6770591662178267,-0.2436721827521768,1.6485546212968694,1.0777191974521207,-0.8235713648686525,1.1428728019017498,-1.0679338620343783,0.24667409787800906,-1.7012725976148813,0.3900854386786318,-0.0690631840386189,2.4425043139920115,-1.1018934707019725,-1.0725826387263075,0.5906422575776665,0.9317450123551313,-1.1094945245226584,-0.13924398333838528,0.6423994151056848,0.9343018357089617,-0.12462754521955423,-0.4534461912534964,0.3736980081177701,0.17323250427614217,0.1366559450676414,-1.5033057674814936,-1.5672884375220335,-0.6571575852753471,-0.6395666738075189,-0.048474604736042155,-0.8283140638768075,0.5051085347510471,-0.07435138461353441,0.7054559130856934,-0.4452511251612592,-1.7403303648604576,-0.8504417681382134,0.10098301367735862,2.9622665316121757,1.0923483440863093,1.7927479468119651,-1.311470384073283,0.22374389200951048,-0.530987810356002,0.11747030791334216,-1.6590230098865948,0.5041533225812629,-0.12948004730523324,0.658166074407969,-1.0808986418415536],\"xaxis\":\"x5\",\"y\":[-0.5867832721021545,-0.07652741634221236,0.2364293046163907,-0.6144816203385531,0.012973345926433438,0.140602345064779,-1.0030025953938253,-1.502643397426585,0.5896630453075187,-0.21859864301934573,2.5606146076852134,-0.18445397195904925,0.14404944732764993,-0.176190196082285,-0.1814650597022292,-0.6035618716856341,-0.2698398063907249,-1.3758116421192002,-0.2515990561051834,-0.1699255313315551,1.105332227997531,-0.2414537899145735,-0.43690638271891863,-0.5565581304346296,0.6843491271174079,1.1144617107002537,-0.06617478605366806,0.6171150057998764,0.161975916590861,-0.8025708642901519,-1.5703565393095944,0.0263166711734827,-1.3396342312495948,0.31922014067344723,0.26769759042412405,0.8362426707322204,-0.16595514184267424,-1.5533523988763758,0.9483515326864449,0.10852470942154041,0.32906720227944375,-1.3325573708112333,-1.9645959663511439,-0.16802540689860643,0.13804899488468952,0.7199032526152568,-0.21241232879081512,0.07330227748986475,1.0630669830149864,-0.3197084203991881,-1.1359500413622619,-0.9940157702582891,0.12171307375231409,0.4592175010615597,-1.6271043605590056,0.09926530472378069,-0.8497057898196344,-0.096366003868344,-0.29323986028178434,-1.018009352091211,-1.5515627050638126,-0.31734504259472124,-0.4122652479440936,-0.3275919864238932,1.8995716489365664,-1.150485762145562,0.8844241629491068,-0.2976620794221025,0.4561009509196521,2.0577189539348164,-1.702448142151754,2.341170674518494,0.21098368350967794,1.2154631421327593,-1.9577382001306542,0.17362248923315385,-0.003360407917770353,-0.1523412451921134,-0.2530497749244438,0.16256186797090352,1.9642697933484992,0.018391126687528722,0.46386388030333103,0.7217231778212309,-0.17967146823749583,-0.6188632969910778,0.49843235794522917,-2.2834075497398354,0.5075191162307787,-0.3979350596840527,1.808595380141962,1.4478435911085978,1.9847189806152126,-0.6006060868037226,-0.11305146669809568,-1.9931225359407287,1.1157025234863016,-1.4374819486724126,-0.5043842729131363,1.037573710316617],\"yaxis\":\"y5\",\"type\":\"scatter\"},{\"histfunc\":\"count\",\"histnorm\":\"\",\"marker\":{\"color\":\"rgba(55, 128, 191, 1.0)\",\"line\":{\"color\":\"#4D5663\",\"width\":1.3}},\"name\":\"B\",\"nbinsx\":10,\"opacity\":0.8,\"orientation\":\"v\",\"x\":[-0.5867832721021545,-0.07652741634221236,0.2364293046163907,-0.6144816203385531,0.012973345926433438,0.140602345064779,-1.0030025953938253,-1.502643397426585,0.5896630453075187,-0.21859864301934573,2.5606146076852134,-0.18445397195904925,0.14404944732764993,-0.176190196082285,-0.1814650597022292,-0.6035618716856341,-0.2698398063907249,-1.3758116421192002,-0.2515990561051834,-0.1699255313315551,1.105332227997531,-0.2414537899145735,-0.43690638271891863,-0.5565581304346296,0.6843491271174079,1.1144617107002537,-0.06617478605366806,0.6171150057998764,0.161975916590861,-0.8025708642901519,-1.5703565393095944,0.0263166711734827,-1.3396342312495948,0.31922014067344723,0.26769759042412405,0.8362426707322204,-0.16595514184267424,-1.5533523988763758,0.9483515326864449,0.10852470942154041,0.32906720227944375,-1.3325573708112333,-1.9645959663511439,-0.16802540689860643,0.13804899488468952,0.7199032526152568,-0.21241232879081512,0.07330227748986475,1.0630669830149864,-0.3197084203991881,-1.1359500413622619,-0.9940157702582891,0.12171307375231409,0.4592175010615597,-1.6271043605590056,0.09926530472378069,-0.8497057898196344,-0.096366003868344,-0.29323986028178434,-1.018009352091211,-1.5515627050638126,-0.31734504259472124,-0.4122652479440936,-0.3275919864238932,1.8995716489365664,-1.150485762145562,0.8844241629491068,-0.2976620794221025,0.4561009509196521,2.0577189539348164,-1.702448142151754,2.341170674518494,0.21098368350967794,1.2154631421327593,-1.9577382001306542,0.17362248923315385,-0.003360407917770353,-0.1523412451921134,-0.2530497749244438,0.16256186797090352,1.9642697933484992,0.018391126687528722,0.46386388030333103,0.7217231778212309,-0.17967146823749583,-0.6188632969910778,0.49843235794522917,-2.2834075497398354,0.5075191162307787,-0.3979350596840527,1.808595380141962,1.4478435911085978,1.9847189806152126,-0.6006060868037226,-0.11305146669809568,-1.9931225359407287,1.1157025234863016,-1.4374819486724126,-0.5043842729131363,1.037573710316617],\"xaxis\":\"x6\",\"yaxis\":\"y6\",\"type\":\"histogram\"},{\"line\":{\"color\":\"rgba(128, 128, 128, 1.0)\",\"dash\":\"solid\",\"shape\":\"linear\",\"width\":1.3},\"marker\":{\"size\":2,\"symbol\":\"circle\"},\"mode\":\"markers\",\"name\":\"B\",\"text\":\"\",\"x\":[0.28351922773921484,1.046079338886153,2.0835449174959577,-0.2959837142159095,1.6046489938849664,2.195836604642892,0.8476703120127796,-2.547634863137372,-0.054712216396222174,2.1329888225258657,-0.059495471584225815,1.0027270533746517,0.46300835233025445,0.6187532585825445,-0.2570609512119834,1.4147212529008464,-0.062449210845311465,-1.510290511600925,0.7915514510460175,0.23950238405602578,-0.5557361756236054,0.8098609998351721,-0.0642606348908341,-0.3615179242381196,0.5436390375193604,0.3037806166888286,-0.40599365076255306,-0.23959034673875698,-0.4371248110233738,-1.0371496615510956,-1.623515091941615,1.8605635822483575,-1.5979290018774897,0.42438996847438776,0.807606192078492,0.7409034648080791,0.20019373318150901,-0.11429639960635761,1.8490774305091582,1.5763772367578217,0.6748751476562145,-1.518245752560392,0.6315619024258422,0.2611749777840262,0.28096625105031553,0.31577453740170214,0.05330631332221621,0.5170065923129699,0.21998424674059666,-0.48562509150146704,-0.04152686380702287,0.35336271123789803,0.43791241215896154,0.4634386398511038,0.4557592036672411,-0.8686612907647687,1.8954925814928667,1.6666710998220187,-0.19855340511356662,-0.6244916540652142,0.11233984574108362,0.6573799337069568,-0.27734125406271254,1.1970696482493897,-0.005662538042132438,1.5307851341353675,0.6149973143148547,-0.33701918074932347,-0.3108753143191812,0.289697682560031,1.3484456553144994,0.1298085780557541,-0.06992415209331283,-1.4199493782632415,0.815984765622038,0.327747728667979,-0.5902645821663245,-0.018765691119965087,-0.9683062677574454,-0.7425838324089256,0.14431852678860446,1.6422290164330002,0.01198419697002567,-2.0889120664528815,0.4131738258812024,-0.6361816130078658,-0.2571632252233618,0.3168497679233199,-0.6404558672207877,0.8338503060179236,0.4959482400434411,0.9037280611012579,0.8038194261550938,-1.0692955593268663,-0.5481924534934708,1.415618063415662,2.4096561073428333,-1.1275883694024578,-0.5422482986699697,1.019019392943807],\"xaxis\":\"x7\",\"y\":[-0.5867832721021545,-0.07652741634221236,0.2364293046163907,-0.6144816203385531,0.012973345926433438,0.140602345064779,-1.0030025953938253,-1.502643397426585,0.5896630453075187,-0.21859864301934573,2.5606146076852134,-0.18445397195904925,0.14404944732764993,-0.176190196082285,-0.1814650597022292,-0.6035618716856341,-0.2698398063907249,-1.3758116421192002,-0.2515990561051834,-0.1699255313315551,1.105332227997531,-0.2414537899145735,-0.43690638271891863,-0.5565581304346296,0.6843491271174079,1.1144617107002537,-0.06617478605366806,0.6171150057998764,0.161975916590861,-0.8025708642901519,-1.5703565393095944,0.0263166711734827,-1.3396342312495948,0.31922014067344723,0.26769759042412405,0.8362426707322204,-0.16595514184267424,-1.5533523988763758,0.9483515326864449,0.10852470942154041,0.32906720227944375,-1.3325573708112333,-1.9645959663511439,-0.16802540689860643,0.13804899488468952,0.7199032526152568,-0.21241232879081512,0.07330227748986475,1.0630669830149864,-0.3197084203991881,-1.1359500413622619,-0.9940157702582891,0.12171307375231409,0.4592175010615597,-1.6271043605590056,0.09926530472378069,-0.8497057898196344,-0.096366003868344,-0.29323986028178434,-1.018009352091211,-1.5515627050638126,-0.31734504259472124,-0.4122652479440936,-0.3275919864238932,1.8995716489365664,-1.150485762145562,0.8844241629491068,-0.2976620794221025,0.4561009509196521,2.0577189539348164,-1.702448142151754,2.341170674518494,0.21098368350967794,1.2154631421327593,-1.9577382001306542,0.17362248923315385,-0.003360407917770353,-0.1523412451921134,-0.2530497749244438,0.16256186797090352,1.9642697933484992,0.018391126687528722,0.46386388030333103,0.7217231778212309,-0.17967146823749583,-0.6188632969910778,0.49843235794522917,-2.2834075497398354,0.5075191162307787,-0.3979350596840527,1.808595380141962,1.4478435911085978,1.9847189806152126,-0.6006060868037226,-0.11305146669809568,-1.9931225359407287,1.1157025234863016,-1.4374819486724126,-0.5043842729131363,1.037573710316617],\"yaxis\":\"y7\",\"type\":\"scatter\"},{\"line\":{\"color\":\"rgba(128, 128, 128, 1.0)\",\"dash\":\"solid\",\"shape\":\"linear\",\"width\":1.3},\"marker\":{\"size\":2,\"symbol\":\"circle\"},\"mode\":\"markers\",\"name\":\"B\",\"text\":\"\",\"x\":[1.099922373835138,0.2626572007696351,0.6809920120680077,0.37568407155213374,-0.04864881787822194,-0.15963142619448523,1.8173178561527665,1.5041195694376848,2.05487800502223,-0.12444346809989125,-1.6307883976081554,-1.6464784995276835,1.4171575806942058,0.5639289745490836,1.7095359980145544,1.3602531934702955,0.3269527230867582,0.0962032854064902,-0.45256047949482786,-0.5281708916340596,0.4227948741861683,0.9280536909798838,-0.09479959883794437,-1.6608330524519894,-0.6502396062774366,1.6849774649383609,-0.23244221019765693,0.2412117981760023,0.26308115933206583,-0.05934572352369715,-0.9279862996400814,-0.45450798761106453,2.2239840681385092,-1.0204245595011332,-0.44008415350396585,-1.7332884312994834,1.2330866954107442,-1.755421872197194,2.3383790326210687,0.22412552553348905,0.7426698507509121,0.7991221908818573,-0.26933653499043236,0.42254507732436375,1.231213801855879,-1.627001480328027,-0.021531903646123327,-0.8089248875165332,0.048405150235370814,-1.4954076911569576,1.0611565413171433,0.9307030406188339,0.12610174945894356,0.19156395186408465,0.3259755708201364,1.9806336100085007,-0.31701502517410435,0.09801311213732218,-0.8820221079518904,-0.30193543751284246,0.12639965464310587,0.5823710345422258,1.2061216199301237,0.7745830379588147,1.331827185818298,1.5509431753167309,-0.568727003681773,-0.7256118493722932,1.7945026676551865,-0.7741373899581679,0.9454067577115647,1.451698489595251,-0.7641265768049319,-1.2493657381872179,1.39305373407263,0.8803628302029253,-0.11303504106680408,-0.12660893520742172,-0.27249779574034855,-0.10297221383786716,-0.02062883317220425,0.7200439778651814,0.13938792514308868,-1.2325145192835052,0.953490759422294,-2.0122315617481092,-0.4895342823299396,-1.3909466622535194,0.7380253108900534,0.6338021472951514,0.5938533715232079,0.24744804199013162,-0.23707522924646277,-0.3102068463632845,0.6565122117080727,2.4719111386502304,0.9428754947558217,0.36462123436155686,0.4890263356037747,0.4608907840779743],\"xaxis\":\"x8\",\"y\":[-0.5867832721021545,-0.07652741634221236,0.2364293046163907,-0.6144816203385531,0.012973345926433438,0.140602345064779,-1.0030025953938253,-1.502643397426585,0.5896630453075187,-0.21859864301934573,2.5606146076852134,-0.18445397195904925,0.14404944732764993,-0.176190196082285,-0.1814650597022292,-0.6035618716856341,-0.2698398063907249,-1.3758116421192002,-0.2515990561051834,-0.1699255313315551,1.105332227997531,-0.2414537899145735,-0.43690638271891863,-0.5565581304346296,0.6843491271174079,1.1144617107002537,-0.06617478605366806,0.6171150057998764,0.161975916590861,-0.8025708642901519,-1.5703565393095944,0.0263166711734827,-1.3396342312495948,0.31922014067344723,0.26769759042412405,0.8362426707322204,-0.16595514184267424,-1.5533523988763758,0.9483515326864449,0.10852470942154041,0.32906720227944375,-1.3325573708112333,-1.9645959663511439,-0.16802540689860643,0.13804899488468952,0.7199032526152568,-0.21241232879081512,0.07330227748986475,1.0630669830149864,-0.3197084203991881,-1.1359500413622619,-0.9940157702582891,0.12171307375231409,0.4592175010615597,-1.6271043605590056,0.09926530472378069,-0.8497057898196344,-0.096366003868344,-0.29323986028178434,-1.018009352091211,-1.5515627050638126,-0.31734504259472124,-0.4122652479440936,-0.3275919864238932,1.8995716489365664,-1.150485762145562,0.8844241629491068,-0.2976620794221025,0.4561009509196521,2.0577189539348164,-1.702448142151754,2.341170674518494,0.21098368350967794,1.2154631421327593,-1.9577382001306542,0.17362248923315385,-0.003360407917770353,-0.1523412451921134,-0.2530497749244438,0.16256186797090352,1.9642697933484992,0.018391126687528722,0.46386388030333103,0.7217231778212309,-0.17967146823749583,-0.6188632969910778,0.49843235794522917,-2.2834075497398354,0.5075191162307787,-0.3979350596840527,1.808595380141962,1.4478435911085978,1.9847189806152126,-0.6006060868037226,-0.11305146669809568,-1.9931225359407287,1.1157025234863016,-1.4374819486724126,-0.5043842729131363,1.037573710316617],\"yaxis\":\"y8\",\"type\":\"scatter\"},{\"line\":{\"color\":\"rgba(128, 128, 128, 1.0)\",\"dash\":\"solid\",\"shape\":\"linear\",\"width\":1.3},\"marker\":{\"size\":2,\"symbol\":\"circle\"},\"mode\":\"markers\",\"name\":\"C\",\"text\":\"\",\"x\":[0.8102783342500975,-0.6253496339817639,-2.1243974907659204,0.720743963340369,-0.36064835386640587,0.5759738002613626,-0.5408838512778968,0.9063815011325167,0.14367225921632368,0.00026148660293838066,0.8467757610440696,1.0618325092089878,0.6601824163443513,-0.48520520012482693,0.16871597616384307,1.9223052368503024,0.9388082883234752,0.5088942209079874,-0.04230165123367031,-0.7526132624711495,-0.415041342875489,-0.793150586675246,-1.3157120016215045,-0.3129688528150545,-0.33178453177328393,0.6738932217934391,-0.20852567734951294,-0.5355302645486091,0.31758960828690674,-1.0782016494131208,-0.4943059018241482,2.3595732177828745,-0.8784700471766782,-1.566200134991812,2.371764508822633,0.4656996839084545,-0.5979722939647736,1.2026987046903905,-0.5774282822965877,-1.1912118849000355,1.1985479855522592,0.2620589711638922,-0.13955147837889778,2.006276192685832,-3.0593131305730212,-0.3135204450592635,0.49172621192557314,0.05953014894188452,0.5365399611316989,0.4195142732653403,-0.6770591662178267,-0.2436721827521768,1.6485546212968694,1.0777191974521207,-0.8235713648686525,1.1428728019017498,-1.0679338620343783,0.24667409787800906,-1.7012725976148813,0.3900854386786318,-0.0690631840386189,2.4425043139920115,-1.1018934707019725,-1.0725826387263075,0.5906422575776665,0.9317450123551313,-1.1094945245226584,-0.13924398333838528,0.6423994151056848,0.9343018357089617,-0.12462754521955423,-0.4534461912534964,0.3736980081177701,0.17323250427614217,0.1366559450676414,-1.5033057674814936,-1.5672884375220335,-0.6571575852753471,-0.6395666738075189,-0.048474604736042155,-0.8283140638768075,0.5051085347510471,-0.07435138461353441,0.7054559130856934,-0.4452511251612592,-1.7403303648604576,-0.8504417681382134,0.10098301367735862,2.9622665316121757,1.0923483440863093,1.7927479468119651,-1.311470384073283,0.22374389200951048,-0.530987810356002,0.11747030791334216,-1.6590230098865948,0.5041533225812629,-0.12948004730523324,0.658166074407969,-1.0808986418415536],\"xaxis\":\"x9\",\"y\":[0.28351922773921484,1.046079338886153,2.0835449174959577,-0.2959837142159095,1.6046489938849664,2.195836604642892,0.8476703120127796,-2.547634863137372,-0.054712216396222174,2.1329888225258657,-0.059495471584225815,1.0027270533746517,0.46300835233025445,0.6187532585825445,-0.2570609512119834,1.4147212529008464,-0.062449210845311465,-1.510290511600925,0.7915514510460175,0.23950238405602578,-0.5557361756236054,0.8098609998351721,-0.0642606348908341,-0.3615179242381196,0.5436390375193604,0.3037806166888286,-0.40599365076255306,-0.23959034673875698,-0.4371248110233738,-1.0371496615510956,-1.623515091941615,1.8605635822483575,-1.5979290018774897,0.42438996847438776,0.807606192078492,0.7409034648080791,0.20019373318150901,-0.11429639960635761,1.8490774305091582,1.5763772367578217,0.6748751476562145,-1.518245752560392,0.6315619024258422,0.2611749777840262,0.28096625105031553,0.31577453740170214,0.05330631332221621,0.5170065923129699,0.21998424674059666,-0.48562509150146704,-0.04152686380702287,0.35336271123789803,0.43791241215896154,0.4634386398511038,0.4557592036672411,-0.8686612907647687,1.8954925814928667,1.6666710998220187,-0.19855340511356662,-0.6244916540652142,0.11233984574108362,0.6573799337069568,-0.27734125406271254,1.1970696482493897,-0.005662538042132438,1.5307851341353675,0.6149973143148547,-0.33701918074932347,-0.3108753143191812,0.289697682560031,1.3484456553144994,0.1298085780557541,-0.06992415209331283,-1.4199493782632415,0.815984765622038,0.327747728667979,-0.5902645821663245,-0.018765691119965087,-0.9683062677574454,-0.7425838324089256,0.14431852678860446,1.6422290164330002,0.01198419697002567,-2.0889120664528815,0.4131738258812024,-0.6361816130078658,-0.2571632252233618,0.3168497679233199,-0.6404558672207877,0.8338503060179236,0.4959482400434411,0.9037280611012579,0.8038194261550938,-1.0692955593268663,-0.5481924534934708,1.415618063415662,2.4096561073428333,-1.1275883694024578,-0.5422482986699697,1.019019392943807],\"yaxis\":\"y9\",\"type\":\"scatter\"},{\"line\":{\"color\":\"rgba(128, 128, 128, 1.0)\",\"dash\":\"solid\",\"shape\":\"linear\",\"width\":1.3},\"marker\":{\"size\":2,\"symbol\":\"circle\"},\"mode\":\"markers\",\"name\":\"C\",\"text\":\"\",\"x\":[-0.5867832721021545,-0.07652741634221236,0.2364293046163907,-0.6144816203385531,0.012973345926433438,0.140602345064779,-1.0030025953938253,-1.502643397426585,0.5896630453075187,-0.21859864301934573,2.5606146076852134,-0.18445397195904925,0.14404944732764993,-0.176190196082285,-0.1814650597022292,-0.6035618716856341,-0.2698398063907249,-1.3758116421192002,-0.2515990561051834,-0.1699255313315551,1.105332227997531,-0.2414537899145735,-0.43690638271891863,-0.5565581304346296,0.6843491271174079,1.1144617107002537,-0.06617478605366806,0.6171150057998764,0.161975916590861,-0.8025708642901519,-1.5703565393095944,0.0263166711734827,-1.3396342312495948,0.31922014067344723,0.26769759042412405,0.8362426707322204,-0.16595514184267424,-1.5533523988763758,0.9483515326864449,0.10852470942154041,0.32906720227944375,-1.3325573708112333,-1.9645959663511439,-0.16802540689860643,0.13804899488468952,0.7199032526152568,-0.21241232879081512,0.07330227748986475,1.0630669830149864,-0.3197084203991881,-1.1359500413622619,-0.9940157702582891,0.12171307375231409,0.4592175010615597,-1.6271043605590056,0.09926530472378069,-0.8497057898196344,-0.096366003868344,-0.29323986028178434,-1.018009352091211,-1.5515627050638126,-0.31734504259472124,-0.4122652479440936,-0.3275919864238932,1.8995716489365664,-1.150485762145562,0.8844241629491068,-0.2976620794221025,0.4561009509196521,2.0577189539348164,-1.702448142151754,2.341170674518494,0.21098368350967794,1.2154631421327593,-1.9577382001306542,0.17362248923315385,-0.003360407917770353,-0.1523412451921134,-0.2530497749244438,0.16256186797090352,1.9642697933484992,0.018391126687528722,0.46386388030333103,0.7217231778212309,-0.17967146823749583,-0.6188632969910778,0.49843235794522917,-2.2834075497398354,0.5075191162307787,-0.3979350596840527,1.808595380141962,1.4478435911085978,1.9847189806152126,-0.6006060868037226,-0.11305146669809568,-1.9931225359407287,1.1157025234863016,-1.4374819486724126,-0.5043842729131363,1.037573710316617],\"xaxis\":\"x10\",\"y\":[0.28351922773921484,1.046079338886153,2.0835449174959577,-0.2959837142159095,1.6046489938849664,2.195836604642892,0.8476703120127796,-2.547634863137372,-0.054712216396222174,2.1329888225258657,-0.059495471584225815,1.0027270533746517,0.46300835233025445,0.6187532585825445,-0.2570609512119834,1.4147212529008464,-0.062449210845311465,-1.510290511600925,0.7915514510460175,0.23950238405602578,-0.5557361756236054,0.8098609998351721,-0.0642606348908341,-0.3615179242381196,0.5436390375193604,0.3037806166888286,-0.40599365076255306,-0.23959034673875698,-0.4371248110233738,-1.0371496615510956,-1.623515091941615,1.8605635822483575,-1.5979290018774897,0.42438996847438776,0.807606192078492,0.7409034648080791,0.20019373318150901,-0.11429639960635761,1.8490774305091582,1.5763772367578217,0.6748751476562145,-1.518245752560392,0.6315619024258422,0.2611749777840262,0.28096625105031553,0.31577453740170214,0.05330631332221621,0.5170065923129699,0.21998424674059666,-0.48562509150146704,-0.04152686380702287,0.35336271123789803,0.43791241215896154,0.4634386398511038,0.4557592036672411,-0.8686612907647687,1.8954925814928667,1.6666710998220187,-0.19855340511356662,-0.6244916540652142,0.11233984574108362,0.6573799337069568,-0.27734125406271254,1.1970696482493897,-0.005662538042132438,1.5307851341353675,0.6149973143148547,-0.33701918074932347,-0.3108753143191812,0.289697682560031,1.3484456553144994,0.1298085780557541,-0.06992415209331283,-1.4199493782632415,0.815984765622038,0.327747728667979,-0.5902645821663245,-0.018765691119965087,-0.9683062677574454,-0.7425838324089256,0.14431852678860446,1.6422290164330002,0.01198419697002567,-2.0889120664528815,0.4131738258812024,-0.6361816130078658,-0.2571632252233618,0.3168497679233199,-0.6404558672207877,0.8338503060179236,0.4959482400434411,0.9037280611012579,0.8038194261550938,-1.0692955593268663,-0.5481924534934708,1.415618063415662,2.4096561073428333,-1.1275883694024578,-0.5422482986699697,1.019019392943807],\"yaxis\":\"y10\",\"type\":\"scatter\"},{\"histfunc\":\"count\",\"histnorm\":\"\",\"marker\":{\"color\":\"rgba(50, 171, 96, 1.0)\",\"line\":{\"color\":\"#4D5663\",\"width\":1.3}},\"name\":\"C\",\"nbinsx\":10,\"opacity\":0.8,\"orientation\":\"v\",\"x\":[0.28351922773921484,1.046079338886153,2.0835449174959577,-0.2959837142159095,1.6046489938849664,2.195836604642892,0.8476703120127796,-2.547634863137372,-0.054712216396222174,2.1329888225258657,-0.059495471584225815,1.0027270533746517,0.46300835233025445,0.6187532585825445,-0.2570609512119834,1.4147212529008464,-0.062449210845311465,-1.510290511600925,0.7915514510460175,0.23950238405602578,-0.5557361756236054,0.8098609998351721,-0.0642606348908341,-0.3615179242381196,0.5436390375193604,0.3037806166888286,-0.40599365076255306,-0.23959034673875698,-0.4371248110233738,-1.0371496615510956,-1.623515091941615,1.8605635822483575,-1.5979290018774897,0.42438996847438776,0.807606192078492,0.7409034648080791,0.20019373318150901,-0.11429639960635761,1.8490774305091582,1.5763772367578217,0.6748751476562145,-1.518245752560392,0.6315619024258422,0.2611749777840262,0.28096625105031553,0.31577453740170214,0.05330631332221621,0.5170065923129699,0.21998424674059666,-0.48562509150146704,-0.04152686380702287,0.35336271123789803,0.43791241215896154,0.4634386398511038,0.4557592036672411,-0.8686612907647687,1.8954925814928667,1.6666710998220187,-0.19855340511356662,-0.6244916540652142,0.11233984574108362,0.6573799337069568,-0.27734125406271254,1.1970696482493897,-0.005662538042132438,1.5307851341353675,0.6149973143148547,-0.33701918074932347,-0.3108753143191812,0.289697682560031,1.3484456553144994,0.1298085780557541,-0.06992415209331283,-1.4199493782632415,0.815984765622038,0.327747728667979,-0.5902645821663245,-0.018765691119965087,-0.9683062677574454,-0.7425838324089256,0.14431852678860446,1.6422290164330002,0.01198419697002567,-2.0889120664528815,0.4131738258812024,-0.6361816130078658,-0.2571632252233618,0.3168497679233199,-0.6404558672207877,0.8338503060179236,0.4959482400434411,0.9037280611012579,0.8038194261550938,-1.0692955593268663,-0.5481924534934708,1.415618063415662,2.4096561073428333,-1.1275883694024578,-0.5422482986699697,1.019019392943807],\"xaxis\":\"x11\",\"yaxis\":\"y11\",\"type\":\"histogram\"},{\"line\":{\"color\":\"rgba(128, 128, 128, 1.0)\",\"dash\":\"solid\",\"shape\":\"linear\",\"width\":1.3},\"marker\":{\"size\":2,\"symbol\":\"circle\"},\"mode\":\"markers\",\"name\":\"C\",\"text\":\"\",\"x\":[1.099922373835138,0.2626572007696351,0.6809920120680077,0.37568407155213374,-0.04864881787822194,-0.15963142619448523,1.8173178561527665,1.5041195694376848,2.05487800502223,-0.12444346809989125,-1.6307883976081554,-1.6464784995276835,1.4171575806942058,0.5639289745490836,1.7095359980145544,1.3602531934702955,0.3269527230867582,0.0962032854064902,-0.45256047949482786,-0.5281708916340596,0.4227948741861683,0.9280536909798838,-0.09479959883794437,-1.6608330524519894,-0.6502396062774366,1.6849774649383609,-0.23244221019765693,0.2412117981760023,0.26308115933206583,-0.05934572352369715,-0.9279862996400814,-0.45450798761106453,2.2239840681385092,-1.0204245595011332,-0.44008415350396585,-1.7332884312994834,1.2330866954107442,-1.755421872197194,2.3383790326210687,0.22412552553348905,0.7426698507509121,0.7991221908818573,-0.26933653499043236,0.42254507732436375,1.231213801855879,-1.627001480328027,-0.021531903646123327,-0.8089248875165332,0.048405150235370814,-1.4954076911569576,1.0611565413171433,0.9307030406188339,0.12610174945894356,0.19156395186408465,0.3259755708201364,1.9806336100085007,-0.31701502517410435,0.09801311213732218,-0.8820221079518904,-0.30193543751284246,0.12639965464310587,0.5823710345422258,1.2061216199301237,0.7745830379588147,1.331827185818298,1.5509431753167309,-0.568727003681773,-0.7256118493722932,1.7945026676551865,-0.7741373899581679,0.9454067577115647,1.451698489595251,-0.7641265768049319,-1.2493657381872179,1.39305373407263,0.8803628302029253,-0.11303504106680408,-0.12660893520742172,-0.27249779574034855,-0.10297221383786716,-0.02062883317220425,0.7200439778651814,0.13938792514308868,-1.2325145192835052,0.953490759422294,-2.0122315617481092,-0.4895342823299396,-1.3909466622535194,0.7380253108900534,0.6338021472951514,0.5938533715232079,0.24744804199013162,-0.23707522924646277,-0.3102068463632845,0.6565122117080727,2.4719111386502304,0.9428754947558217,0.36462123436155686,0.4890263356037747,0.4608907840779743],\"xaxis\":\"x12\",\"y\":[0.28351922773921484,1.046079338886153,2.0835449174959577,-0.2959837142159095,1.6046489938849664,2.195836604642892,0.8476703120127796,-2.547634863137372,-0.054712216396222174,2.1329888225258657,-0.059495471584225815,1.0027270533746517,0.46300835233025445,0.6187532585825445,-0.2570609512119834,1.4147212529008464,-0.062449210845311465,-1.510290511600925,0.7915514510460175,0.23950238405602578,-0.5557361756236054,0.8098609998351721,-0.0642606348908341,-0.3615179242381196,0.5436390375193604,0.3037806166888286,-0.40599365076255306,-0.23959034673875698,-0.4371248110233738,-1.0371496615510956,-1.623515091941615,1.8605635822483575,-1.5979290018774897,0.42438996847438776,0.807606192078492,0.7409034648080791,0.20019373318150901,-0.11429639960635761,1.8490774305091582,1.5763772367578217,0.6748751476562145,-1.518245752560392,0.6315619024258422,0.2611749777840262,0.28096625105031553,0.31577453740170214,0.05330631332221621,0.5170065923129699,0.21998424674059666,-0.48562509150146704,-0.04152686380702287,0.35336271123789803,0.43791241215896154,0.4634386398511038,0.4557592036672411,-0.8686612907647687,1.8954925814928667,1.6666710998220187,-0.19855340511356662,-0.6244916540652142,0.11233984574108362,0.6573799337069568,-0.27734125406271254,1.1970696482493897,-0.005662538042132438,1.5307851341353675,0.6149973143148547,-0.33701918074932347,-0.3108753143191812,0.289697682560031,1.3484456553144994,0.1298085780557541,-0.06992415209331283,-1.4199493782632415,0.815984765622038,0.327747728667979,-0.5902645821663245,-0.018765691119965087,-0.9683062677574454,-0.7425838324089256,0.14431852678860446,1.6422290164330002,0.01198419697002567,-2.0889120664528815,0.4131738258812024,-0.6361816130078658,-0.2571632252233618,0.3168497679233199,-0.6404558672207877,0.8338503060179236,0.4959482400434411,0.9037280611012579,0.8038194261550938,-1.0692955593268663,-0.5481924534934708,1.415618063415662,2.4096561073428333,-1.1275883694024578,-0.5422482986699697,1.019019392943807],\"yaxis\":\"y12\",\"type\":\"scatter\"},{\"line\":{\"color\":\"rgba(128, 128, 128, 1.0)\",\"dash\":\"solid\",\"shape\":\"linear\",\"width\":1.3},\"marker\":{\"size\":2,\"symbol\":\"circle\"},\"mode\":\"markers\",\"name\":\"D\",\"text\":\"\",\"x\":[0.8102783342500975,-0.6253496339817639,-2.1243974907659204,0.720743963340369,-0.36064835386640587,0.5759738002613626,-0.5408838512778968,0.9063815011325167,0.14367225921632368,0.00026148660293838066,0.8467757610440696,1.0618325092089878,0.6601824163443513,-0.48520520012482693,0.16871597616384307,1.9223052368503024,0.9388082883234752,0.5088942209079874,-0.04230165123367031,-0.7526132624711495,-0.415041342875489,-0.793150586675246,-1.3157120016215045,-0.3129688528150545,-0.33178453177328393,0.6738932217934391,-0.20852567734951294,-0.5355302645486091,0.31758960828690674,-1.0782016494131208,-0.4943059018241482,2.3595732177828745,-0.8784700471766782,-1.566200134991812,2.371764508822633,0.4656996839084545,-0.5979722939647736,1.2026987046903905,-0.5774282822965877,-1.1912118849000355,1.1985479855522592,0.2620589711638922,-0.13955147837889778,2.006276192685832,-3.0593131305730212,-0.3135204450592635,0.49172621192557314,0.05953014894188452,0.5365399611316989,0.4195142732653403,-0.6770591662178267,-0.2436721827521768,1.6485546212968694,1.0777191974521207,-0.8235713648686525,1.1428728019017498,-1.0679338620343783,0.24667409787800906,-1.7012725976148813,0.3900854386786318,-0.0690631840386189,2.4425043139920115,-1.1018934707019725,-1.0725826387263075,0.5906422575776665,0.9317450123551313,-1.1094945245226584,-0.13924398333838528,0.6423994151056848,0.9343018357089617,-0.12462754521955423,-0.4534461912534964,0.3736980081177701,0.17323250427614217,0.1366559450676414,-1.5033057674814936,-1.5672884375220335,-0.6571575852753471,-0.6395666738075189,-0.048474604736042155,-0.8283140638768075,0.5051085347510471,-0.07435138461353441,0.7054559130856934,-0.4452511251612592,-1.7403303648604576,-0.8504417681382134,0.10098301367735862,2.9622665316121757,1.0923483440863093,1.7927479468119651,-1.311470384073283,0.22374389200951048,-0.530987810356002,0.11747030791334216,-1.6590230098865948,0.5041533225812629,-0.12948004730523324,0.658166074407969,-1.0808986418415536],\"xaxis\":\"x13\",\"y\":[1.099922373835138,0.2626572007696351,0.6809920120680077,0.37568407155213374,-0.04864881787822194,-0.15963142619448523,1.8173178561527665,1.5041195694376848,2.05487800502223,-0.12444346809989125,-1.6307883976081554,-1.6464784995276835,1.4171575806942058,0.5639289745490836,1.7095359980145544,1.3602531934702955,0.3269527230867582,0.0962032854064902,-0.45256047949482786,-0.5281708916340596,0.4227948741861683,0.9280536909798838,-0.09479959883794437,-1.6608330524519894,-0.6502396062774366,1.6849774649383609,-0.23244221019765693,0.2412117981760023,0.26308115933206583,-0.05934572352369715,-0.9279862996400814,-0.45450798761106453,2.2239840681385092,-1.0204245595011332,-0.44008415350396585,-1.7332884312994834,1.2330866954107442,-1.755421872197194,2.3383790326210687,0.22412552553348905,0.7426698507509121,0.7991221908818573,-0.26933653499043236,0.42254507732436375,1.231213801855879,-1.627001480328027,-0.021531903646123327,-0.8089248875165332,0.048405150235370814,-1.4954076911569576,1.0611565413171433,0.9307030406188339,0.12610174945894356,0.19156395186408465,0.3259755708201364,1.9806336100085007,-0.31701502517410435,0.09801311213732218,-0.8820221079518904,-0.30193543751284246,0.12639965464310587,0.5823710345422258,1.2061216199301237,0.7745830379588147,1.331827185818298,1.5509431753167309,-0.568727003681773,-0.7256118493722932,1.7945026676551865,-0.7741373899581679,0.9454067577115647,1.451698489595251,-0.7641265768049319,-1.2493657381872179,1.39305373407263,0.8803628302029253,-0.11303504106680408,-0.12660893520742172,-0.27249779574034855,-0.10297221383786716,-0.02062883317220425,0.7200439778651814,0.13938792514308868,-1.2325145192835052,0.953490759422294,-2.0122315617481092,-0.4895342823299396,-1.3909466622535194,0.7380253108900534,0.6338021472951514,0.5938533715232079,0.24744804199013162,-0.23707522924646277,-0.3102068463632845,0.6565122117080727,2.4719111386502304,0.9428754947558217,0.36462123436155686,0.4890263356037747,0.4608907840779743],\"yaxis\":\"y13\",\"type\":\"scatter\"},{\"line\":{\"color\":\"rgba(128, 128, 128, 1.0)\",\"dash\":\"solid\",\"shape\":\"linear\",\"width\":1.3},\"marker\":{\"size\":2,\"symbol\":\"circle\"},\"mode\":\"markers\",\"name\":\"D\",\"text\":\"\",\"x\":[-0.5867832721021545,-0.07652741634221236,0.2364293046163907,-0.6144816203385531,0.012973345926433438,0.140602345064779,-1.0030025953938253,-1.502643397426585,0.5896630453075187,-0.21859864301934573,2.5606146076852134,-0.18445397195904925,0.14404944732764993,-0.176190196082285,-0.1814650597022292,-0.6035618716856341,-0.2698398063907249,-1.3758116421192002,-0.2515990561051834,-0.1699255313315551,1.105332227997531,-0.2414537899145735,-0.43690638271891863,-0.5565581304346296,0.6843491271174079,1.1144617107002537,-0.06617478605366806,0.6171150057998764,0.161975916590861,-0.8025708642901519,-1.5703565393095944,0.0263166711734827,-1.3396342312495948,0.31922014067344723,0.26769759042412405,0.8362426707322204,-0.16595514184267424,-1.5533523988763758,0.9483515326864449,0.10852470942154041,0.32906720227944375,-1.3325573708112333,-1.9645959663511439,-0.16802540689860643,0.13804899488468952,0.7199032526152568,-0.21241232879081512,0.07330227748986475,1.0630669830149864,-0.3197084203991881,-1.1359500413622619,-0.9940157702582891,0.12171307375231409,0.4592175010615597,-1.6271043605590056,0.09926530472378069,-0.8497057898196344,-0.096366003868344,-0.29323986028178434,-1.018009352091211,-1.5515627050638126,-0.31734504259472124,-0.4122652479440936,-0.3275919864238932,1.8995716489365664,-1.150485762145562,0.8844241629491068,-0.2976620794221025,0.4561009509196521,2.0577189539348164,-1.702448142151754,2.341170674518494,0.21098368350967794,1.2154631421327593,-1.9577382001306542,0.17362248923315385,-0.003360407917770353,-0.1523412451921134,-0.2530497749244438,0.16256186797090352,1.9642697933484992,0.018391126687528722,0.46386388030333103,0.7217231778212309,-0.17967146823749583,-0.6188632969910778,0.49843235794522917,-2.2834075497398354,0.5075191162307787,-0.3979350596840527,1.808595380141962,1.4478435911085978,1.9847189806152126,-0.6006060868037226,-0.11305146669809568,-1.9931225359407287,1.1157025234863016,-1.4374819486724126,-0.5043842729131363,1.037573710316617],\"xaxis\":\"x14\",\"y\":[1.099922373835138,0.2626572007696351,0.6809920120680077,0.37568407155213374,-0.04864881787822194,-0.15963142619448523,1.8173178561527665,1.5041195694376848,2.05487800502223,-0.12444346809989125,-1.6307883976081554,-1.6464784995276835,1.4171575806942058,0.5639289745490836,1.7095359980145544,1.3602531934702955,0.3269527230867582,0.0962032854064902,-0.45256047949482786,-0.5281708916340596,0.4227948741861683,0.9280536909798838,-0.09479959883794437,-1.6608330524519894,-0.6502396062774366,1.6849774649383609,-0.23244221019765693,0.2412117981760023,0.26308115933206583,-0.05934572352369715,-0.9279862996400814,-0.45450798761106453,2.2239840681385092,-1.0204245595011332,-0.44008415350396585,-1.7332884312994834,1.2330866954107442,-1.755421872197194,2.3383790326210687,0.22412552553348905,0.7426698507509121,0.7991221908818573,-0.26933653499043236,0.42254507732436375,1.231213801855879,-1.627001480328027,-0.021531903646123327,-0.8089248875165332,0.048405150235370814,-1.4954076911569576,1.0611565413171433,0.9307030406188339,0.12610174945894356,0.19156395186408465,0.3259755708201364,1.9806336100085007,-0.31701502517410435,0.09801311213732218,-0.8820221079518904,-0.30193543751284246,0.12639965464310587,0.5823710345422258,1.2061216199301237,0.7745830379588147,1.331827185818298,1.5509431753167309,-0.568727003681773,-0.7256118493722932,1.7945026676551865,-0.7741373899581679,0.9454067577115647,1.451698489595251,-0.7641265768049319,-1.2493657381872179,1.39305373407263,0.8803628302029253,-0.11303504106680408,-0.12660893520742172,-0.27249779574034855,-0.10297221383786716,-0.02062883317220425,0.7200439778651814,0.13938792514308868,-1.2325145192835052,0.953490759422294,-2.0122315617481092,-0.4895342823299396,-1.3909466622535194,0.7380253108900534,0.6338021472951514,0.5938533715232079,0.24744804199013162,-0.23707522924646277,-0.3102068463632845,0.6565122117080727,2.4719111386502304,0.9428754947558217,0.36462123436155686,0.4890263356037747,0.4608907840779743],\"yaxis\":\"y14\",\"type\":\"scatter\"},{\"line\":{\"color\":\"rgba(128, 128, 128, 1.0)\",\"dash\":\"solid\",\"shape\":\"linear\",\"width\":1.3},\"marker\":{\"size\":2,\"symbol\":\"circle\"},\"mode\":\"markers\",\"name\":\"D\",\"text\":\"\",\"x\":[0.28351922773921484,1.046079338886153,2.0835449174959577,-0.2959837142159095,1.6046489938849664,2.195836604642892,0.8476703120127796,-2.547634863137372,-0.054712216396222174,2.1329888225258657,-0.059495471584225815,1.0027270533746517,0.46300835233025445,0.6187532585825445,-0.2570609512119834,1.4147212529008464,-0.062449210845311465,-1.510290511600925,0.7915514510460175,0.23950238405602578,-0.5557361756236054,0.8098609998351721,-0.0642606348908341,-0.3615179242381196,0.5436390375193604,0.3037806166888286,-0.40599365076255306,-0.23959034673875698,-0.4371248110233738,-1.0371496615510956,-1.623515091941615,1.8605635822483575,-1.5979290018774897,0.42438996847438776,0.807606192078492,0.7409034648080791,0.20019373318150901,-0.11429639960635761,1.8490774305091582,1.5763772367578217,0.6748751476562145,-1.518245752560392,0.6315619024258422,0.2611749777840262,0.28096625105031553,0.31577453740170214,0.05330631332221621,0.5170065923129699,0.21998424674059666,-0.48562509150146704,-0.04152686380702287,0.35336271123789803,0.43791241215896154,0.4634386398511038,0.4557592036672411,-0.8686612907647687,1.8954925814928667,1.6666710998220187,-0.19855340511356662,-0.6244916540652142,0.11233984574108362,0.6573799337069568,-0.27734125406271254,1.1970696482493897,-0.005662538042132438,1.5307851341353675,0.6149973143148547,-0.33701918074932347,-0.3108753143191812,0.289697682560031,1.3484456553144994,0.1298085780557541,-0.06992415209331283,-1.4199493782632415,0.815984765622038,0.327747728667979,-0.5902645821663245,-0.018765691119965087,-0.9683062677574454,-0.7425838324089256,0.14431852678860446,1.6422290164330002,0.01198419697002567,-2.0889120664528815,0.4131738258812024,-0.6361816130078658,-0.2571632252233618,0.3168497679233199,-0.6404558672207877,0.8338503060179236,0.4959482400434411,0.9037280611012579,0.8038194261550938,-1.0692955593268663,-0.5481924534934708,1.415618063415662,2.4096561073428333,-1.1275883694024578,-0.5422482986699697,1.019019392943807],\"xaxis\":\"x15\",\"y\":[1.099922373835138,0.2626572007696351,0.6809920120680077,0.37568407155213374,-0.04864881787822194,-0.15963142619448523,1.8173178561527665,1.5041195694376848,2.05487800502223,-0.12444346809989125,-1.6307883976081554,-1.6464784995276835,1.4171575806942058,0.5639289745490836,1.7095359980145544,1.3602531934702955,0.3269527230867582,0.0962032854064902,-0.45256047949482786,-0.5281708916340596,0.4227948741861683,0.9280536909798838,-0.09479959883794437,-1.6608330524519894,-0.6502396062774366,1.6849774649383609,-0.23244221019765693,0.2412117981760023,0.26308115933206583,-0.05934572352369715,-0.9279862996400814,-0.45450798761106453,2.2239840681385092,-1.0204245595011332,-0.44008415350396585,-1.7332884312994834,1.2330866954107442,-1.755421872197194,2.3383790326210687,0.22412552553348905,0.7426698507509121,0.7991221908818573,-0.26933653499043236,0.42254507732436375,1.231213801855879,-1.627001480328027,-0.021531903646123327,-0.8089248875165332,0.048405150235370814,-1.4954076911569576,1.0611565413171433,0.9307030406188339,0.12610174945894356,0.19156395186408465,0.3259755708201364,1.9806336100085007,-0.31701502517410435,0.09801311213732218,-0.8820221079518904,-0.30193543751284246,0.12639965464310587,0.5823710345422258,1.2061216199301237,0.7745830379588147,1.331827185818298,1.5509431753167309,-0.568727003681773,-0.7256118493722932,1.7945026676551865,-0.7741373899581679,0.9454067577115647,1.451698489595251,-0.7641265768049319,-1.2493657381872179,1.39305373407263,0.8803628302029253,-0.11303504106680408,-0.12660893520742172,-0.27249779574034855,-0.10297221383786716,-0.02062883317220425,0.7200439778651814,0.13938792514308868,-1.2325145192835052,0.953490759422294,-2.0122315617481092,-0.4895342823299396,-1.3909466622535194,0.7380253108900534,0.6338021472951514,0.5938533715232079,0.24744804199013162,-0.23707522924646277,-0.3102068463632845,0.6565122117080727,2.4719111386502304,0.9428754947558217,0.36462123436155686,0.4890263356037747,0.4608907840779743],\"yaxis\":\"y15\",\"type\":\"scatter\"},{\"histfunc\":\"count\",\"histnorm\":\"\",\"marker\":{\"color\":\"rgba(128, 0, 128, 1.0)\",\"line\":{\"color\":\"#4D5663\",\"width\":1.3}},\"name\":\"D\",\"nbinsx\":10,\"opacity\":0.8,\"orientation\":\"v\",\"x\":[1.099922373835138,0.2626572007696351,0.6809920120680077,0.37568407155213374,-0.04864881787822194,-0.15963142619448523,1.8173178561527665,1.5041195694376848,2.05487800502223,-0.12444346809989125,-1.6307883976081554,-1.6464784995276835,1.4171575806942058,0.5639289745490836,1.7095359980145544,1.3602531934702955,0.3269527230867582,0.0962032854064902,-0.45256047949482786,-0.5281708916340596,0.4227948741861683,0.9280536909798838,-0.09479959883794437,-1.6608330524519894,-0.6502396062774366,1.6849774649383609,-0.23244221019765693,0.2412117981760023,0.26308115933206583,-0.05934572352369715,-0.9279862996400814,-0.45450798761106453,2.2239840681385092,-1.0204245595011332,-0.44008415350396585,-1.7332884312994834,1.2330866954107442,-1.755421872197194,2.3383790326210687,0.22412552553348905,0.7426698507509121,0.7991221908818573,-0.26933653499043236,0.42254507732436375,1.231213801855879,-1.627001480328027,-0.021531903646123327,-0.8089248875165332,0.048405150235370814,-1.4954076911569576,1.0611565413171433,0.9307030406188339,0.12610174945894356,0.19156395186408465,0.3259755708201364,1.9806336100085007,-0.31701502517410435,0.09801311213732218,-0.8820221079518904,-0.30193543751284246,0.12639965464310587,0.5823710345422258,1.2061216199301237,0.7745830379588147,1.331827185818298,1.5509431753167309,-0.568727003681773,-0.7256118493722932,1.7945026676551865,-0.7741373899581679,0.9454067577115647,1.451698489595251,-0.7641265768049319,-1.2493657381872179,1.39305373407263,0.8803628302029253,-0.11303504106680408,-0.12660893520742172,-0.27249779574034855,-0.10297221383786716,-0.02062883317220425,0.7200439778651814,0.13938792514308868,-1.2325145192835052,0.953490759422294,-2.0122315617481092,-0.4895342823299396,-1.3909466622535194,0.7380253108900534,0.6338021472951514,0.5938533715232079,0.24744804199013162,-0.23707522924646277,-0.3102068463632845,0.6565122117080727,2.4719111386502304,0.9428754947558217,0.36462123436155686,0.4890263356037747,0.4608907840779743],\"xaxis\":\"x16\",\"yaxis\":\"y16\",\"type\":\"histogram\"}],                        {\"bargap\":0.02,\"legend\":{\"bgcolor\":\"#F5F6F9\",\"font\":{\"color\":\"#4D5663\"}},\"paper_bgcolor\":\"#F5F6F9\",\"plot_bgcolor\":\"#F5F6F9\",\"showlegend\":false,\"template\":{\"data\":{\"barpolar\":[{\"marker\":{\"line\":{\"color\":\"#E5ECF6\",\"width\":0.5},\"pattern\":{\"fillmode\":\"overlay\",\"size\":10,\"solidity\":0.2}},\"type\":\"barpolar\"}],\"bar\":[{\"error_x\":{\"color\":\"#2a3f5f\"},\"error_y\":{\"color\":\"#2a3f5f\"},\"marker\":{\"line\":{\"color\":\"#E5ECF6\",\"width\":0.5},\"pattern\":{\"fillmode\":\"overlay\",\"size\":10,\"solidity\":0.2}},\"type\":\"bar\"}],\"carpet\":[{\"aaxis\":{\"endlinecolor\":\"#2a3f5f\",\"gridcolor\":\"white\",\"linecolor\":\"white\",\"minorgridcolor\":\"white\",\"startlinecolor\":\"#2a3f5f\"},\"baxis\":{\"endlinecolor\":\"#2a3f5f\",\"gridcolor\":\"white\",\"linecolor\":\"white\",\"minorgridcolor\":\"white\",\"startlinecolor\":\"#2a3f5f\"},\"type\":\"carpet\"}],\"choropleth\":[{\"colorbar\":{\"outlinewidth\":0,\"ticks\":\"\"},\"type\":\"choropleth\"}],\"contourcarpet\":[{\"colorbar\":{\"outlinewidth\":0,\"ticks\":\"\"},\"type\":\"contourcarpet\"}],\"contour\":[{\"colorbar\":{\"outlinewidth\":0,\"ticks\":\"\"},\"colorscale\":[[0.0,\"#0d0887\"],[0.1111111111111111,\"#46039f\"],[0.2222222222222222,\"#7201a8\"],[0.3333333333333333,\"#9c179e\"],[0.4444444444444444,\"#bd3786\"],[0.5555555555555556,\"#d8576b\"],[0.6666666666666666,\"#ed7953\"],[0.7777777777777778,\"#fb9f3a\"],[0.8888888888888888,\"#fdca26\"],[1.0,\"#f0f921\"]],\"type\":\"contour\"}],\"heatmapgl\":[{\"colorbar\":{\"outlinewidth\":0,\"ticks\":\"\"},\"colorscale\":[[0.0,\"#0d0887\"],[0.1111111111111111,\"#46039f\"],[0.2222222222222222,\"#7201a8\"],[0.3333333333333333,\"#9c179e\"],[0.4444444444444444,\"#bd3786\"],[0.5555555555555556,\"#d8576b\"],[0.6666666666666666,\"#ed7953\"],[0.7777777777777778,\"#fb9f3a\"],[0.8888888888888888,\"#fdca26\"],[1.0,\"#f0f921\"]],\"type\":\"heatmapgl\"}],\"heatmap\":[{\"colorbar\":{\"outlinewidth\":0,\"ticks\":\"\"},\"colorscale\":[[0.0,\"#0d0887\"],[0.1111111111111111,\"#46039f\"],[0.2222222222222222,\"#7201a8\"],[0.3333333333333333,\"#9c179e\"],[0.4444444444444444,\"#bd3786\"],[0.5555555555555556,\"#d8576b\"],[0.6666666666666666,\"#ed7953\"],[0.7777777777777778,\"#fb9f3a\"],[0.8888888888888888,\"#fdca26\"],[1.0,\"#f0f921\"]],\"type\":\"heatmap\"}],\"histogram2dcontour\":[{\"colorbar\":{\"outlinewidth\":0,\"ticks\":\"\"},\"colorscale\":[[0.0,\"#0d0887\"],[0.1111111111111111,\"#46039f\"],[0.2222222222222222,\"#7201a8\"],[0.3333333333333333,\"#9c179e\"],[0.4444444444444444,\"#bd3786\"],[0.5555555555555556,\"#d8576b\"],[0.6666666666666666,\"#ed7953\"],[0.7777777777777778,\"#fb9f3a\"],[0.8888888888888888,\"#fdca26\"],[1.0,\"#f0f921\"]],\"type\":\"histogram2dcontour\"}],\"histogram2d\":[{\"colorbar\":{\"outlinewidth\":0,\"ticks\":\"\"},\"colorscale\":[[0.0,\"#0d0887\"],[0.1111111111111111,\"#46039f\"],[0.2222222222222222,\"#7201a8\"],[0.3333333333333333,\"#9c179e\"],[0.4444444444444444,\"#bd3786\"],[0.5555555555555556,\"#d8576b\"],[0.6666666666666666,\"#ed7953\"],[0.7777777777777778,\"#fb9f3a\"],[0.8888888888888888,\"#fdca26\"],[1.0,\"#f0f921\"]],\"type\":\"histogram2d\"}],\"histogram\":[{\"marker\":{\"pattern\":{\"fillmode\":\"overlay\",\"size\":10,\"solidity\":0.2}},\"type\":\"histogram\"}],\"mesh3d\":[{\"colorbar\":{\"outlinewidth\":0,\"ticks\":\"\"},\"type\":\"mesh3d\"}],\"parcoords\":[{\"line\":{\"colorbar\":{\"outlinewidth\":0,\"ticks\":\"\"}},\"type\":\"parcoords\"}],\"pie\":[{\"automargin\":true,\"type\":\"pie\"}],\"scatter3d\":[{\"line\":{\"colorbar\":{\"outlinewidth\":0,\"ticks\":\"\"}},\"marker\":{\"colorbar\":{\"outlinewidth\":0,\"ticks\":\"\"}},\"type\":\"scatter3d\"}],\"scattercarpet\":[{\"marker\":{\"colorbar\":{\"outlinewidth\":0,\"ticks\":\"\"}},\"type\":\"scattercarpet\"}],\"scattergeo\":[{\"marker\":{\"colorbar\":{\"outlinewidth\":0,\"ticks\":\"\"}},\"type\":\"scattergeo\"}],\"scattergl\":[{\"marker\":{\"colorbar\":{\"outlinewidth\":0,\"ticks\":\"\"}},\"type\":\"scattergl\"}],\"scattermapbox\":[{\"marker\":{\"colorbar\":{\"outlinewidth\":0,\"ticks\":\"\"}},\"type\":\"scattermapbox\"}],\"scatterpolargl\":[{\"marker\":{\"colorbar\":{\"outlinewidth\":0,\"ticks\":\"\"}},\"type\":\"scatterpolargl\"}],\"scatterpolar\":[{\"marker\":{\"colorbar\":{\"outlinewidth\":0,\"ticks\":\"\"}},\"type\":\"scatterpolar\"}],\"scatter\":[{\"fillpattern\":{\"fillmode\":\"overlay\",\"size\":10,\"solidity\":0.2},\"type\":\"scatter\"}],\"scatterternary\":[{\"marker\":{\"colorbar\":{\"outlinewidth\":0,\"ticks\":\"\"}},\"type\":\"scatterternary\"}],\"surface\":[{\"colorbar\":{\"outlinewidth\":0,\"ticks\":\"\"},\"colorscale\":[[0.0,\"#0d0887\"],[0.1111111111111111,\"#46039f\"],[0.2222222222222222,\"#7201a8\"],[0.3333333333333333,\"#9c179e\"],[0.4444444444444444,\"#bd3786\"],[0.5555555555555556,\"#d8576b\"],[0.6666666666666666,\"#ed7953\"],[0.7777777777777778,\"#fb9f3a\"],[0.8888888888888888,\"#fdca26\"],[1.0,\"#f0f921\"]],\"type\":\"surface\"}],\"table\":[{\"cells\":{\"fill\":{\"color\":\"#EBF0F8\"},\"line\":{\"color\":\"white\"}},\"header\":{\"fill\":{\"color\":\"#C8D4E3\"},\"line\":{\"color\":\"white\"}},\"type\":\"table\"}]},\"layout\":{\"annotationdefaults\":{\"arrowcolor\":\"#2a3f5f\",\"arrowhead\":0,\"arrowwidth\":1},\"autotypenumbers\":\"strict\",\"coloraxis\":{\"colorbar\":{\"outlinewidth\":0,\"ticks\":\"\"}},\"colorscale\":{\"diverging\":[[0,\"#8e0152\"],[0.1,\"#c51b7d\"],[0.2,\"#de77ae\"],[0.3,\"#f1b6da\"],[0.4,\"#fde0ef\"],[0.5,\"#f7f7f7\"],[0.6,\"#e6f5d0\"],[0.7,\"#b8e186\"],[0.8,\"#7fbc41\"],[0.9,\"#4d9221\"],[1,\"#276419\"]],\"sequential\":[[0.0,\"#0d0887\"],[0.1111111111111111,\"#46039f\"],[0.2222222222222222,\"#7201a8\"],[0.3333333333333333,\"#9c179e\"],[0.4444444444444444,\"#bd3786\"],[0.5555555555555556,\"#d8576b\"],[0.6666666666666666,\"#ed7953\"],[0.7777777777777778,\"#fb9f3a\"],[0.8888888888888888,\"#fdca26\"],[1.0,\"#f0f921\"]],\"sequentialminus\":[[0.0,\"#0d0887\"],[0.1111111111111111,\"#46039f\"],[0.2222222222222222,\"#7201a8\"],[0.3333333333333333,\"#9c179e\"],[0.4444444444444444,\"#bd3786\"],[0.5555555555555556,\"#d8576b\"],[0.6666666666666666,\"#ed7953\"],[0.7777777777777778,\"#fb9f3a\"],[0.8888888888888888,\"#fdca26\"],[1.0,\"#f0f921\"]]},\"colorway\":[\"#636efa\",\"#EF553B\",\"#00cc96\",\"#ab63fa\",\"#FFA15A\",\"#19d3f3\",\"#FF6692\",\"#B6E880\",\"#FF97FF\",\"#FECB52\"],\"font\":{\"color\":\"#2a3f5f\"},\"geo\":{\"bgcolor\":\"white\",\"lakecolor\":\"white\",\"landcolor\":\"#E5ECF6\",\"showlakes\":true,\"showland\":true,\"subunitcolor\":\"white\"},\"hoverlabel\":{\"align\":\"left\"},\"hovermode\":\"closest\",\"mapbox\":{\"style\":\"light\"},\"paper_bgcolor\":\"white\",\"plot_bgcolor\":\"#E5ECF6\",\"polar\":{\"angularaxis\":{\"gridcolor\":\"white\",\"linecolor\":\"white\",\"ticks\":\"\"},\"bgcolor\":\"#E5ECF6\",\"radialaxis\":{\"gridcolor\":\"white\",\"linecolor\":\"white\",\"ticks\":\"\"}},\"scene\":{\"xaxis\":{\"backgroundcolor\":\"#E5ECF6\",\"gridcolor\":\"white\",\"gridwidth\":2,\"linecolor\":\"white\",\"showbackground\":true,\"ticks\":\"\",\"zerolinecolor\":\"white\"},\"yaxis\":{\"backgroundcolor\":\"#E5ECF6\",\"gridcolor\":\"white\",\"gridwidth\":2,\"linecolor\":\"white\",\"showbackground\":true,\"ticks\":\"\",\"zerolinecolor\":\"white\"},\"zaxis\":{\"backgroundcolor\":\"#E5ECF6\",\"gridcolor\":\"white\",\"gridwidth\":2,\"linecolor\":\"white\",\"showbackground\":true,\"ticks\":\"\",\"zerolinecolor\":\"white\"}},\"shapedefaults\":{\"line\":{\"color\":\"#2a3f5f\"}},\"ternary\":{\"aaxis\":{\"gridcolor\":\"white\",\"linecolor\":\"white\",\"ticks\":\"\"},\"baxis\":{\"gridcolor\":\"white\",\"linecolor\":\"white\",\"ticks\":\"\"},\"bgcolor\":\"#E5ECF6\",\"caxis\":{\"gridcolor\":\"white\",\"linecolor\":\"white\",\"ticks\":\"\"}},\"title\":{\"x\":0.05},\"xaxis\":{\"automargin\":true,\"gridcolor\":\"white\",\"linecolor\":\"white\",\"ticks\":\"\",\"title\":{\"standoff\":15},\"zerolinecolor\":\"white\",\"zerolinewidth\":2},\"yaxis\":{\"automargin\":true,\"gridcolor\":\"white\",\"linecolor\":\"white\",\"ticks\":\"\",\"title\":{\"standoff\":15},\"zerolinecolor\":\"white\",\"zerolinewidth\":2}}},\"title\":{\"font\":{\"color\":\"#4D5663\"}},\"xaxis\":{\"anchor\":\"y\",\"domain\":[0.0,0.2125],\"gridcolor\":\"#E1E5ED\",\"showgrid\":false,\"tickfont\":{\"color\":\"#4D5663\"},\"title\":{\"font\":{\"color\":\"#4D5663\"},\"text\":\"\"},\"zerolinecolor\":\"#E1E5ED\"},\"yaxis\":{\"anchor\":\"x\",\"domain\":[0.8025,1.0],\"gridcolor\":\"#E1E5ED\",\"showgrid\":false,\"tickfont\":{\"color\":\"#4D5663\"},\"title\":{\"font\":{\"color\":\"#4D5663\"},\"text\":\"\"},\"zerolinecolor\":\"#E1E5ED\"},\"xaxis2\":{\"anchor\":\"y2\",\"domain\":[0.2625,0.475],\"gridcolor\":\"#E1E5ED\",\"showgrid\":false,\"tickfont\":{\"color\":\"#4D5663\"},\"title\":{\"font\":{\"color\":\"#4D5663\"},\"text\":\"\"},\"zerolinecolor\":\"#E1E5ED\"},\"yaxis2\":{\"anchor\":\"x2\",\"domain\":[0.8025,1.0],\"gridcolor\":\"#E1E5ED\",\"showgrid\":false,\"tickfont\":{\"color\":\"#4D5663\"},\"title\":{\"font\":{\"color\":\"#4D5663\"},\"text\":\"\"},\"zerolinecolor\":\"#E1E5ED\"},\"xaxis3\":{\"anchor\":\"y3\",\"domain\":[0.525,0.7375],\"gridcolor\":\"#E1E5ED\",\"showgrid\":false,\"tickfont\":{\"color\":\"#4D5663\"},\"title\":{\"font\":{\"color\":\"#4D5663\"},\"text\":\"\"},\"zerolinecolor\":\"#E1E5ED\"},\"yaxis3\":{\"anchor\":\"x3\",\"domain\":[0.8025,1.0],\"gridcolor\":\"#E1E5ED\",\"showgrid\":false,\"tickfont\":{\"color\":\"#4D5663\"},\"title\":{\"font\":{\"color\":\"#4D5663\"},\"text\":\"\"},\"zerolinecolor\":\"#E1E5ED\"},\"xaxis4\":{\"anchor\":\"y4\",\"domain\":[0.7875,1.0],\"gridcolor\":\"#E1E5ED\",\"showgrid\":false,\"tickfont\":{\"color\":\"#4D5663\"},\"title\":{\"font\":{\"color\":\"#4D5663\"},\"text\":\"\"},\"zerolinecolor\":\"#E1E5ED\"},\"yaxis4\":{\"anchor\":\"x4\",\"domain\":[0.8025,1.0],\"gridcolor\":\"#E1E5ED\",\"showgrid\":false,\"tickfont\":{\"color\":\"#4D5663\"},\"title\":{\"font\":{\"color\":\"#4D5663\"},\"text\":\"\"},\"zerolinecolor\":\"#E1E5ED\"},\"xaxis5\":{\"anchor\":\"y5\",\"domain\":[0.0,0.2125],\"gridcolor\":\"#E1E5ED\",\"showgrid\":false,\"tickfont\":{\"color\":\"#4D5663\"},\"title\":{\"font\":{\"color\":\"#4D5663\"},\"text\":\"\"},\"zerolinecolor\":\"#E1E5ED\"},\"yaxis5\":{\"anchor\":\"x5\",\"domain\":[0.535,0.7325],\"gridcolor\":\"#E1E5ED\",\"showgrid\":false,\"tickfont\":{\"color\":\"#4D5663\"},\"title\":{\"font\":{\"color\":\"#4D5663\"},\"text\":\"\"},\"zerolinecolor\":\"#E1E5ED\"},\"xaxis6\":{\"anchor\":\"y6\",\"domain\":[0.2625,0.475],\"gridcolor\":\"#E1E5ED\",\"showgrid\":false,\"tickfont\":{\"color\":\"#4D5663\"},\"title\":{\"font\":{\"color\":\"#4D5663\"},\"text\":\"\"},\"zerolinecolor\":\"#E1E5ED\"},\"yaxis6\":{\"anchor\":\"x6\",\"domain\":[0.535,0.7325],\"gridcolor\":\"#E1E5ED\",\"showgrid\":false,\"tickfont\":{\"color\":\"#4D5663\"},\"title\":{\"font\":{\"color\":\"#4D5663\"},\"text\":\"\"},\"zerolinecolor\":\"#E1E5ED\"},\"xaxis7\":{\"anchor\":\"y7\",\"domain\":[0.525,0.7375],\"gridcolor\":\"#E1E5ED\",\"showgrid\":false,\"tickfont\":{\"color\":\"#4D5663\"},\"title\":{\"font\":{\"color\":\"#4D5663\"},\"text\":\"\"},\"zerolinecolor\":\"#E1E5ED\"},\"yaxis7\":{\"anchor\":\"x7\",\"domain\":[0.535,0.7325],\"gridcolor\":\"#E1E5ED\",\"showgrid\":false,\"tickfont\":{\"color\":\"#4D5663\"},\"title\":{\"font\":{\"color\":\"#4D5663\"},\"text\":\"\"},\"zerolinecolor\":\"#E1E5ED\"},\"xaxis8\":{\"anchor\":\"y8\",\"domain\":[0.7875,1.0],\"gridcolor\":\"#E1E5ED\",\"showgrid\":false,\"tickfont\":{\"color\":\"#4D5663\"},\"title\":{\"font\":{\"color\":\"#4D5663\"},\"text\":\"\"},\"zerolinecolor\":\"#E1E5ED\"},\"yaxis8\":{\"anchor\":\"x8\",\"domain\":[0.535,0.7325],\"gridcolor\":\"#E1E5ED\",\"showgrid\":false,\"tickfont\":{\"color\":\"#4D5663\"},\"title\":{\"font\":{\"color\":\"#4D5663\"},\"text\":\"\"},\"zerolinecolor\":\"#E1E5ED\"},\"xaxis9\":{\"anchor\":\"y9\",\"domain\":[0.0,0.2125],\"gridcolor\":\"#E1E5ED\",\"showgrid\":false,\"tickfont\":{\"color\":\"#4D5663\"},\"title\":{\"font\":{\"color\":\"#4D5663\"},\"text\":\"\"},\"zerolinecolor\":\"#E1E5ED\"},\"yaxis9\":{\"anchor\":\"x9\",\"domain\":[0.2675,0.465],\"gridcolor\":\"#E1E5ED\",\"showgrid\":false,\"tickfont\":{\"color\":\"#4D5663\"},\"title\":{\"font\":{\"color\":\"#4D5663\"},\"text\":\"\"},\"zerolinecolor\":\"#E1E5ED\"},\"xaxis10\":{\"anchor\":\"y10\",\"domain\":[0.2625,0.475],\"gridcolor\":\"#E1E5ED\",\"showgrid\":false,\"tickfont\":{\"color\":\"#4D5663\"},\"title\":{\"font\":{\"color\":\"#4D5663\"},\"text\":\"\"},\"zerolinecolor\":\"#E1E5ED\"},\"yaxis10\":{\"anchor\":\"x10\",\"domain\":[0.2675,0.465],\"gridcolor\":\"#E1E5ED\",\"showgrid\":false,\"tickfont\":{\"color\":\"#4D5663\"},\"title\":{\"font\":{\"color\":\"#4D5663\"},\"text\":\"\"},\"zerolinecolor\":\"#E1E5ED\"},\"xaxis11\":{\"anchor\":\"y11\",\"domain\":[0.525,0.7375],\"gridcolor\":\"#E1E5ED\",\"showgrid\":false,\"tickfont\":{\"color\":\"#4D5663\"},\"title\":{\"font\":{\"color\":\"#4D5663\"},\"text\":\"\"},\"zerolinecolor\":\"#E1E5ED\"},\"yaxis11\":{\"anchor\":\"x11\",\"domain\":[0.2675,0.465],\"gridcolor\":\"#E1E5ED\",\"showgrid\":false,\"tickfont\":{\"color\":\"#4D5663\"},\"title\":{\"font\":{\"color\":\"#4D5663\"},\"text\":\"\"},\"zerolinecolor\":\"#E1E5ED\"},\"xaxis12\":{\"anchor\":\"y12\",\"domain\":[0.7875,1.0],\"gridcolor\":\"#E1E5ED\",\"showgrid\":false,\"tickfont\":{\"color\":\"#4D5663\"},\"title\":{\"font\":{\"color\":\"#4D5663\"},\"text\":\"\"},\"zerolinecolor\":\"#E1E5ED\"},\"yaxis12\":{\"anchor\":\"x12\",\"domain\":[0.2675,0.465],\"gridcolor\":\"#E1E5ED\",\"showgrid\":false,\"tickfont\":{\"color\":\"#4D5663\"},\"title\":{\"font\":{\"color\":\"#4D5663\"},\"text\":\"\"},\"zerolinecolor\":\"#E1E5ED\"},\"xaxis13\":{\"anchor\":\"y13\",\"domain\":[0.0,0.2125],\"gridcolor\":\"#E1E5ED\",\"showgrid\":false,\"tickfont\":{\"color\":\"#4D5663\"},\"title\":{\"font\":{\"color\":\"#4D5663\"},\"text\":\"\"},\"zerolinecolor\":\"#E1E5ED\"},\"yaxis13\":{\"anchor\":\"x13\",\"domain\":[0.0,0.1975],\"gridcolor\":\"#E1E5ED\",\"showgrid\":false,\"tickfont\":{\"color\":\"#4D5663\"},\"title\":{\"font\":{\"color\":\"#4D5663\"},\"text\":\"\"},\"zerolinecolor\":\"#E1E5ED\"},\"xaxis14\":{\"anchor\":\"y14\",\"domain\":[0.2625,0.475],\"gridcolor\":\"#E1E5ED\",\"showgrid\":false,\"tickfont\":{\"color\":\"#4D5663\"},\"title\":{\"font\":{\"color\":\"#4D5663\"},\"text\":\"\"},\"zerolinecolor\":\"#E1E5ED\"},\"yaxis14\":{\"anchor\":\"x14\",\"domain\":[0.0,0.1975],\"gridcolor\":\"#E1E5ED\",\"showgrid\":false,\"tickfont\":{\"color\":\"#4D5663\"},\"title\":{\"font\":{\"color\":\"#4D5663\"},\"text\":\"\"},\"zerolinecolor\":\"#E1E5ED\"},\"xaxis15\":{\"anchor\":\"y15\",\"domain\":[0.525,0.7375],\"gridcolor\":\"#E1E5ED\",\"showgrid\":false,\"tickfont\":{\"color\":\"#4D5663\"},\"title\":{\"font\":{\"color\":\"#4D5663\"},\"text\":\"\"},\"zerolinecolor\":\"#E1E5ED\"},\"yaxis15\":{\"anchor\":\"x15\",\"domain\":[0.0,0.1975],\"gridcolor\":\"#E1E5ED\",\"showgrid\":false,\"tickfont\":{\"color\":\"#4D5663\"},\"title\":{\"font\":{\"color\":\"#4D5663\"},\"text\":\"\"},\"zerolinecolor\":\"#E1E5ED\"},\"xaxis16\":{\"anchor\":\"y16\",\"domain\":[0.7875,1.0],\"gridcolor\":\"#E1E5ED\",\"showgrid\":false,\"tickfont\":{\"color\":\"#4D5663\"},\"title\":{\"font\":{\"color\":\"#4D5663\"},\"text\":\"\"},\"zerolinecolor\":\"#E1E5ED\"},\"yaxis16\":{\"anchor\":\"x16\",\"domain\":[0.0,0.1975],\"gridcolor\":\"#E1E5ED\",\"showgrid\":false,\"tickfont\":{\"color\":\"#4D5663\"},\"title\":{\"font\":{\"color\":\"#4D5663\"},\"text\":\"\"},\"zerolinecolor\":\"#E1E5ED\"}},                        {\"showLink\": true, \"linkText\": \"Export to plot.ly\", \"plotlyServerURL\": \"https://plot.ly\", \"responsive\": true}                    ).then(function(){\n",
       "                            \n",
       "var gd = document.getElementById('de93f8a4-a14e-438f-8fb7-5171715223bc');\n",
       "var x = new MutationObserver(function (mutations, observer) {{\n",
       "        var display = window.getComputedStyle(gd).display;\n",
       "        if (!display || display === 'none') {{\n",
       "            console.log([gd, 'removed!']);\n",
       "            Plotly.purge(gd);\n",
       "            observer.disconnect();\n",
       "        }}\n",
       "}});\n",
       "\n",
       "// Listen for the removal of the full notebook cells\n",
       "var notebookContainer = gd.closest('#notebook-container');\n",
       "if (notebookContainer) {{\n",
       "    x.observe(notebookContainer, {childList: true});\n",
       "}}\n",
       "\n",
       "// Listen for the clearing of the current output cell\n",
       "var outputEl = gd.closest('.output');\n",
       "if (outputEl) {{\n",
       "    x.observe(outputEl, {childList: true});\n",
       "}}\n",
       "\n",
       "                        })                };                });            </script>        </div>"
      ]
     },
     "metadata": {},
     "output_type": "display_data"
    }
   ],
   "source": [
    "df.scatter_matrix()"
   ]
  },
  {
   "cell_type": "markdown",
   "metadata": {
    "collapsed": true,
    "jupyter": {
     "outputs_hidden": true
    }
   },
   "source": [
    "# Great Job!"
   ]
  }
 ],
 "metadata": {
  "kernelspec": {
   "display_name": "Python 3 (ipykernel)",
   "language": "python",
   "name": "python3"
  },
  "language_info": {
   "codemirror_mode": {
    "name": "ipython",
    "version": 3
   },
   "file_extension": ".py",
   "mimetype": "text/x-python",
   "name": "python",
   "nbconvert_exporter": "python",
   "pygments_lexer": "ipython3",
   "version": "3.11.7"
  }
 },
 "nbformat": 4,
 "nbformat_minor": 4
}
